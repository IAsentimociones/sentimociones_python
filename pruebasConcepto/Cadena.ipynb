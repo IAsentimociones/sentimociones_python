{
 "cells": [
  {
   "cell_type": "code",
   "execution_count": 9,
   "metadata": {},
   "outputs": [],
   "source": [
    "from re import search\n",
    "\n",
    "def contieneCadena(cadena, cadena_completa):\n",
    "    \"\"\"\n",
    "    Función que compara cadena de textos  \n",
    "    Argumentos:\n",
    "        cadena: cadena simple\n",
    "        cadena_completa: cadena completa\n",
    "    Retorna: True (si la cadena completa contiene la cadena simple)\n",
    "    \"\"\"\n",
    "    # transforma para discriminar minúsculas y mayúsculas\n",
    "    simple = cadena.casefold()\n",
    "    completa = cadena_completa.casefold()\n",
    "\n",
    "    # compara si la cadena completa contiene la cadena simple\n",
    "    if search(simple, completa):\n",
    "        return True\n",
    "    else:\n",
    "        return False"
   ]
  },
  {
   "cell_type": "code",
   "execution_count": 10,
   "metadata": {},
   "outputs": [
    {
     "name": "stdout",
     "output_type": "stream",
     "text": [
      "True\n"
     ]
    }
   ],
   "source": [
    "cadena = 'Rauw Alejandro'\n",
    "cadena_completa = 'RAUW ALEJANDRO / CHENCHO CORLEONE'\n",
    "\n",
    "print(contieneCadena(cadena, cadena_completa))\n",
    "\n"
   ]
  }
 ],
 "metadata": {
  "kernelspec": {
   "display_name": "Python 3.8.8 ('base')",
   "language": "python",
   "name": "python3"
  },
  "language_info": {
   "codemirror_mode": {
    "name": "ipython",
    "version": 3
   },
   "file_extension": ".py",
   "mimetype": "text/x-python",
   "name": "python",
   "nbconvert_exporter": "python",
   "pygments_lexer": "ipython3",
   "version": "3.8.8"
  },
  "orig_nbformat": 4,
  "vscode": {
   "interpreter": {
    "hash": "9fac946d9c0eb1f76fc9de25cb0eafd13a52357fa3f8932e2ba5f0f9ec74d10d"
   }
  }
 },
 "nbformat": 4,
 "nbformat_minor": 2
}
