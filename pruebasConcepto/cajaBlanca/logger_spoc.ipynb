{
 "cells": [
  {
   "cell_type": "code",
   "execution_count": 2,
   "metadata": {},
   "outputs": [],
   "source": [
    "import logging\n",
    "\n",
    "def configurarLog(nombreArchivo, nombreClase):\n",
    "    \"\"\"\n",
    "    Función que obtiene colección de canciones por estado\n",
    "    Argumentos:\n",
    "        estado: estado de la canción\n",
    "    Retorna: colección de canciones\n",
    "    \"\"\"\n",
    "    logging.basicConfig(filename=nombreArchivo, format='%(asctime)s - %(name)s - %(levelname)s - %(message)s', datefmt='%m/%d/%Y %I:%M:%S %p')\n",
    "    logger = logging.getLogger(nombreClase)\n",
    "    logger.setLevel(logging.DEBUG)\n",
    "       \n",
    "    return logger\n",
    "\n",
    "log = configurarLog('archivo.log', 'logger_spoc')\n",
    "log.debug('prueba debug')\n",
    "log.info('prueba info')"
   ]
  }
 ],
 "metadata": {
  "kernelspec": {
   "display_name": "Python 3.8.10 ('entorno_prueba')",
   "language": "python",
   "name": "python3"
  },
  "language_info": {
   "name": "python",
   "version": "3.8.10"
  },
  "orig_nbformat": 4,
  "vscode": {
   "interpreter": {
    "hash": "df928c92915a6e295095bb07de7b84624befc7d196e01c26e318bdc14196d6a4"
   }
  }
 },
 "nbformat": 4,
 "nbformat_minor": 2
}
