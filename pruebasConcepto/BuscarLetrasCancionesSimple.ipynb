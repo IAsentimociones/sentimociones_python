{
 "cells": [
  {
   "cell_type": "code",
   "execution_count": null,
   "metadata": {},
   "outputs": [],
   "source": [
    "# obtener autor-canción de la base de datos\n"
   ]
  },
  {
   "cell_type": "code",
   "execution_count": null,
   "metadata": {},
   "outputs": [],
   "source": [
    "''' \n",
    "Prepara URL para búsqueda de canciones\n",
    "url_busqueda = WEB_LETRAS + CANCION + AUTOR\n",
    "'''\n",
    "# pelele morad https://www.lyrics.com/lyrics/pelele%20morad \n",
    "# HAWÁI Maluma  https://www.lyrics.com/lyrics/hawai%20maluma\n",
    "# SIN FRENOS ELADIO CARRIÓN / BIZARRAP / DUKI https://www.lyrics.com/lyrics/BUSCATE%20OTRO%20JC\n",
    "# BUSCATE OTRO JC LA NEVULA / ATOMIC OTRO WAY\n",
    "WEB_LYRICS = \"https://www.lyrics.com/lyrics/\"\n",
    "cancion = \"hawai\" # utilizar %20 cuando hay espacios. Utilizar un método que traiga con %20 el nombre de la cancion \n",
    "autor = \"%20\" + \"maluma\" # utilizar %20 cuando hay espacios. Utilizar un método que codifique con %20 el nombre del autor\n",
    "url_busqueda = '%s%s%s' % (WEB_LYRICS, cancion, autor) #\"https://www.lyrics.com/lyrics/sin%20frenos%20BIZARRAP\"\n",
    "print(url_busqueda)"
   ]
  },
  {
   "cell_type": "code",
   "execution_count": null,
   "metadata": {},
   "outputs": [],
   "source": [
    "import requests\n",
    "from bs4 import BeautifulSoup\n",
    "\n",
    "# Obtiene el contenido web del resultado de búsqueda\n",
    "page = requests.get(url_busqueda)\n",
    "soup = BeautifulSoup(page.content, \"html.parser\")\n",
    "print(soup)"
   ]
  },
  {
   "cell_type": "code",
   "execution_count": null,
   "metadata": {},
   "outputs": [],
   "source": [
    "#obtiene el cuerpo del contenido autor - canción\n",
    "results = soup.find(id=\"content-body\")\n",
    "print(results.prettify())"
   ]
  },
  {
   "cell_type": "code",
   "execution_count": null,
   "metadata": {},
   "outputs": [],
   "source": [
    "#obtiene los elementos del cuerpo letra del autor - canción y parte de la letra\n",
    "job_elements = results.find_all(\"div\", class_=\"sec-lyric clearfix\")\n",
    "print(job_elements)"
   ]
  },
  {
   "cell_type": "code",
   "execution_count": null,
   "metadata": {},
   "outputs": [],
   "source": [
    "# obtiene elementos del autor, cancion y enlace donde está la letra de la canción\n",
    "for job_element in job_elements:\n",
    "    cancion = job_element.find(\"p\", class_=\"lyric-meta-title\")\n",
    "    autor = job_element.find(\"p\", class_=\"lyric-meta-album-artist\")\n",
    "    \n",
    "    if autor == None:\n",
    "        print (\"no tiene autor\")\n",
    "    else:\n",
    "        print(\"autor cancion: \", autor.text)\n",
    "\n",
    "    print(\"titulo cancion: \", cancion.text)\n",
    "    ref = job_element.find(\"pre\", class_=\"lyric-body\")\n",
    "    print(\"url cancion: \", ref.attrs['onclick'])\n",
    "    print('-----------------')"
   ]
  },
  {
   "cell_type": "code",
   "execution_count": null,
   "metadata": {},
   "outputs": [],
   "source": [
    "'''\n",
    "Crear método: Validar autor, canción y retornar el enlace o url de la canción\n",
    "'''\n",
    "url_letra_cancion = \"https://www.lyrics.com/lyric-lf/1843281/Maluma/Haw%C3%A1i\""
   ]
  },
  {
   "cell_type": "code",
   "execution_count": null,
   "metadata": {},
   "outputs": [],
   "source": [
    "# obtiene contenido de la página web de la letra de la canción\n",
    "page_letra_cancion = requests.get(url_letra_cancion)\n",
    "soup_letra_cancion = BeautifulSoup(page_letra_cancion.content, \"html.parser\")\n",
    "print(soup_letra_cancion)"
   ]
  },
  {
   "cell_type": "code",
   "execution_count": null,
   "metadata": {},
   "outputs": [],
   "source": [
    "# obtiene el cuerpo del contenido web de la letra de la canción\n",
    "results_letra_cancion = soup_letra_cancion.find(id=\"content-body\")\n",
    "print(results_letra_cancion.prettify())\n"
   ]
  },
  {
   "cell_type": "code",
   "execution_count": null,
   "metadata": {},
   "outputs": [],
   "source": [
    "# obtiene el contenedor principal donde está la letra de la canción\n",
    "job_elements_letra = results_letra_cancion.find_all(\"div\", class_=\"lyric clearfix\")\n",
    "print(job_elements_letra)"
   ]
  },
  {
   "cell_type": "code",
   "execution_count": null,
   "metadata": {},
   "outputs": [],
   "source": [
    "# obtiene la letra de la canción\n",
    "for job_element in job_elements_letra:\n",
    "    letra = job_element.find(\"pre\", id=\"lyric-body-text\")\n",
    "print(letra.text)"
   ]
  }
 ],
 "metadata": {
  "kernelspec": {
   "display_name": "Python 3.8.10 ('entorno_prueba')",
   "language": "python",
   "name": "python3"
  },
  "language_info": {
   "codemirror_mode": {
    "name": "ipython",
    "version": 3
   },
   "file_extension": ".py",
   "mimetype": "text/x-python",
   "name": "python",
   "nbconvert_exporter": "python",
   "pygments_lexer": "ipython3",
   "version": "3.8.10"
  },
  "orig_nbformat": 4,
  "vscode": {
   "interpreter": {
    "hash": "df928c92915a6e295095bb07de7b84624befc7d196e01c26e318bdc14196d6a4"
   }
  }
 },
 "nbformat": 4,
 "nbformat_minor": 2
}
