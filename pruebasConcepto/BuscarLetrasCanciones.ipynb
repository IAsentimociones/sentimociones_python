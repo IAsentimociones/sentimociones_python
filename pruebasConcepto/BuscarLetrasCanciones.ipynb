{
 "cells": [
  {
   "cell_type": "code",
   "execution_count": 1,
   "metadata": {},
   "outputs": [],
   "source": [
    "import requests\n",
    "from bs4 import BeautifulSoup\n",
    "# pelele morad https://www.lyrics.com/lyrics/pelele%20morad \n",
    "# HAWÁI Maluma  https://www.lyrics.com/lyrics/hawai%20maluma\n",
    "# SIN FRENOS ELADIO CARRIÓN / BIZARRAP / DUKI https://www.lyrics.com/lyrics/BUSCATE%20OTRO%20JC\n",
    "# BUSCATE OTRO JC LA NEVULA / ATOMIC OTRO WAY\n",
    "URL = \"https://www.lyrics.com/lyrics/sin%20frenos%20BIZARRAP\"\n",
    "\n",
    "page = requests.get(URL)\n",
    "soup = BeautifulSoup(page.content, \"html.parser\")\n",
    "#print(soup)"
   ]
  },
  {
   "cell_type": "code",
   "execution_count": 2,
   "metadata": {},
   "outputs": [],
   "source": [
    "results = soup.find(id=\"content-body\")\n",
    "#print(results.prettify())"
   ]
  },
  {
   "cell_type": "code",
   "execution_count": 3,
   "metadata": {},
   "outputs": [],
   "source": [
    "job_elements = results.find_all(\"div\", class_=\"sec-lyric clearfix\")\n",
    "#print(job_elements)"
   ]
  },
  {
   "cell_type": "code",
   "execution_count": 4,
   "metadata": {},
   "outputs": [],
   "source": [
    "for job_element in job_elements:\n",
    "    cancion = job_element.find(\"p\", class_=\"lyric-meta-title\")\n",
    "    autor = job_element.find(\"p\", class_=\"lyric-meta-album-artist\")\n",
    "    \n",
    "    if autor == None:\n",
    "        print (\"no tiene autor\")\n",
    "    else:\n",
    "        print(\"autor cancion: \", autor.text)\n",
    "\n",
    "    print(\"titulo cancion: \", cancion.text)\n",
    "    ref = job_element.find(\"pre\", class_=\"lyric-body\")\n",
    "    print(\"url cancion: \", ref.attrs['onclick'])\n",
    "    print('-----------------')"
   ]
  },
  {
   "cell_type": "code",
   "execution_count": 5,
   "metadata": {},
   "outputs": [],
   "source": [
    "url_letra_cancion = \"https://www.lyrics.com/lyric-lf/6744754/Duki/Sin+Frenos\"\n",
    "#https://www.lyrics.com/lyric-lf/6852059/Morad/Pelele\n",
    "#https://www.lyrics.com/lyric-lf/1843281/Maluma/Haw%C3%A1i\n",
    "#https://www.lyrics.com/lyric-lf/6744754/Duki/Sin+Frenos\n",
    "page = requests.get(url_letra_cancion)\n",
    "soup = BeautifulSoup(page.content, \"html.parser\")\n",
    "#print(soup)"
   ]
  },
  {
   "cell_type": "code",
   "execution_count": 6,
   "metadata": {},
   "outputs": [],
   "source": [
    "results = soup.find(id=\"content-body\")\n",
    "#print(results.prettify())\n"
   ]
  },
  {
   "cell_type": "code",
   "execution_count": 7,
   "metadata": {},
   "outputs": [],
   "source": [
    "job_elements = results.find_all(\"div\", class_=\"lyric clearfix\")\n",
    "#print(job_elements)"
   ]
  },
  {
   "cell_type": "code",
   "execution_count": 8,
   "metadata": {},
   "outputs": [
    {
     "name": "stdout",
     "output_type": "stream",
     "text": [
      "Yo sigo esperándote como el primer día\n",
      "Solo avísame si quiere' volver\n",
      "Tú nunca sale' de mi cabeza\n",
      "Esperándote por si regresa'\n",
      "\n",
      "Skrrt, skrrt\n",
      "Acelerao', yo voy sin freno' (prr, prr)\n",
      "Tú me llama' y nos vemo' (pew, pew)\n",
      "Si aquel quiere problema, tú ere' mi nena, yeah\n",
      "Skrrt, skrrt\n",
      "Acelerao', yo voy sin freno' (prr, prr)\n",
      "Tú me llama' y nos vemo' (pew, pew)\n",
      "Si aquel quiere problema, tú ere' mi nena, yeah\n",
      "\n",
      "Hielo en tu cuello, pero ante' de eso tú brillaba'\n",
      "Real nigga, tú lo viste en mi mirada\n",
      "Tu corazón como nieve yo esquiaba\n",
      "Y se derretía cuando en cuatro yo te daba\n",
      "Sabiendo que ni me ama', tú viraba'\n",
      "Cogió el celu y me dijo: \"Papi, graba\"\n",
      "Todavía están tu' olore' en mi almohada\n",
      "'Toy aquí esperando tu llegada\n",
      "\n",
      "Skrrt, skrrt\n",
      "Acelerao', yo voy sin freno' (prr, prr)\n",
      "Tú me llama' y nos vemo' (pew, pew)\n",
      "Si aquel quiere problema, tú ere' mi nena, yeah\n",
      "\n",
      "La conocí en la H, pero no de Humacao\n",
      "Desde el high school que me tiene enamora'o \n",
      "Adicto a ella como Jordan a ganar\n",
      "Adicto a ella y a los peso'\n",
      "Y a los cuero', y al Gelato\n",
      "Los diamante', las prenda' pa' comprar\n",
      "Y para no pensarte, baby\n",
      "Me puse a gastar\n",
      "Parece que lo hago de siempre, sale natural\n",
      "Que lo hago de to'a la vida con cheque' que nunca expiran\n",
      "Más dineros, más movida', muchos cero', noche y día\n",
      "Las entradas agotada', los conciertos explotado'\n",
      "Mis gorilas agitados, arco, flecha, Sagitario\n",
      "De tanto pisar la luna me ensucié los Ferragamo\n",
      "La agenda ocupada y eso que ni que tengo agenda\n",
      "El pecho lastimado, el buzo Prada es una venda\n",
      "Los mío' pidiéndome que yo no me venda\n",
      "Y yo no sé cómo hacer algo que no venda (Duko)\n",
      "Pago al contado, no quiero interés\n",
      "En tener deuda no tengo interés\n",
      "En el party con Biza y ya saben quién es\n",
      "Tendrían que darle el empleado del mes\n",
      "Si estoy con Eladio, mami, no frenamos\n",
      "Es un vuelo bajito con sendo cabrón\n",
      "Frenamo' y te explotamo' el mall\n",
      "Y lo pagamo' con esta canción\n",
      "¡Duko!\n",
      "\n",
      "Skrrt, skrrt\n",
      "Acelerao', yo voy sin freno' (prr, prr)\n",
      "Tú me llama' y nos vemo' (pew, pew)\n",
      "Si aquel quiere problema, tú ere' mi nena, yeah\n",
      "Skrrt, skrrt\n",
      "Acelerado, voy sin freno' (prr, prr)\n",
      "Tú me llama' y nos vemo' (pew, pew)\n",
      "Si ese bobo quiere problema, tú ere' mi nena, yeah\n",
      "\n",
      "¡Biza!\n",
      "¡Biza!\n",
      "Eladio Carrión\n",
      "¡Sendo cabrón!\n",
      "¡Duko!\n",
      "Bizarrap\n",
      "-----------------\n"
     ]
    }
   ],
   "source": [
    "for job_element in job_elements:\n",
    "    letra = job_element.find(\"pre\", id=\"lyric-body-text\")\n",
    "    print(letra.text)\n",
    "    print('-----------------')"
   ]
  }
 ],
 "metadata": {
  "kernelspec": {
   "display_name": "Python 3.8.8 ('base')",
   "language": "python",
   "name": "python3"
  },
  "language_info": {
   "codemirror_mode": {
    "name": "ipython",
    "version": 3
   },
   "file_extension": ".py",
   "mimetype": "text/x-python",
   "name": "python",
   "nbconvert_exporter": "python",
   "pygments_lexer": "ipython3",
   "version": "3.8.8"
  },
  "orig_nbformat": 4,
  "vscode": {
   "interpreter": {
    "hash": "9fac946d9c0eb1f76fc9de25cb0eafd13a52357fa3f8932e2ba5f0f9ec74d10d"
   }
  }
 },
 "nbformat": 4,
 "nbformat_minor": 2
}
