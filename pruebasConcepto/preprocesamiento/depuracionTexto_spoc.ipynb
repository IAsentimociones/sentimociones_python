{
 "cells": [
  {
   "cell_type": "code",
   "execution_count": null,
   "metadata": {},
   "outputs": [],
   "source": [
    "contenido = ['Hombre', 'no', 'te', 'sale', 'sale', 'Tr', 'Fact', 'Hombre', 'no', 'te', 'sale', 'sale', 'sale', 'sale', 'Morad', 'no', 'te', 'Morad', 'cómo', 'te', 'sales', \"sale'\", 'sale', 'sale', 'sale', 'Si', 'entras', 'aquí', 'no', 'ah', \"sale'\", 'sale', \"sale'\", \"sale'\", \"sale'\", 'Morad', 'cómo', 'te', 'sales', 'sales', 'si', 'entras', 'aquí', 'no', 'sales', 'sales', 'Sabes', 'que', 'tú', 'no', 'vales', \"vale'\", 'como', 'sueno', 'yo', 'en', 'instrumentales', \"ale'\", 'Hablando', 'de', 'los', \"mundo'\", 'de', \"ilegale'\", \"ale'\", 'Pegadizo', 'como', 'Dale', 'Don', 'Dale', 'ale', 'Yo', 'sonando', 'siempre', 'en', 'la', 'calle', 'tú', 'Principales', \"ale'\", 'Cuatro', \"guitarrista'\", \"ista'\", 'que', 'tienen', 'orquesta', 'orquesta', 'Para', 'hacer', 'un', 'tema', 'ala', 'que', 'no', 'suena', 'ni', 'en', 'la', 'fiesta', 'no', 'no', 'no', 'Yo', 'hago', 'mi', 'escritura', 'fumando', 'uno', 'de', 'verdura', 'ah', 'Tú', 'dos', 'meses', 'duras', 'tú', \"está'\", 'fuera', 'cobertura', 'jaja', 'La', 'calle', 'está', 'loca', 'loca', 'eso', \"e'\", 'lo', 'que', 'pica', 'pica', 'Pagamos', 'Toca', 'tú', 'pidiéndole', 'tu', 'chica', 'chica', 'El', 'capo', 'González', 'lez', 'puede', 'que', 'te', 'cale', 'cale', 'Tu', 'coche', 'se', 'cala', \"acaba'\", 'luego', 'en', 'la', 'tele', \"cuidao'\", 'Mira', 'que', 'ya', \"e'\", 'fácil', \"cuidao'\", 'en', 'cinco', \"minuto'\", \"cuidao'\", 'Lo', 'hago', 'ya', 'duro', 'rápido', 'también', 'impoluto', 'Más', 'duro', 'que', 'yeso', 'más', 'de', 'uno', 'lo', 'discuto', 'Yo', 'solo', 'no', 'no', 'no', 'no', 'no', 'no', 'no', 'no', 'Oye', 'oye', 'oye', 'para', 'para', 'para', 'para', 'para', 'Espera', 'espera', 'espera', 'espera', 'espera', 'que', 'lo', 'cambie', 'Dice', 'dice', 'Dime', 'dónde', \"para'\", 'para', 'ir', 'buscarte', 'cogerte', 'aparte', 'Dónde', \"está'\", \"escondí'o\", 'mí', 'no', 'interesa', 'Tener', 'que', 'grabarte', 'si', 'eres', 'un', 'desastre', 'Dónde', \"está'\", \"escondí'o\", 'quién', 'es', 'tu', 'colega', 'El', 'que', 'te', 'lo', 'brega', 'el', 'que', 'por', 'ti', 'se', 'pega', 'Dónde', \"está'\", \"escondí'o\", 'Dónde', \"e'\", 'tu', 'grupo', \"Pa'\", 'ver', 'cómo', 'lo', 'escupo', 'luego', 'ni', 'me', 'preocupo', 'Dónde', \"está'\", \"escondí'o\", 'Pa', 'pa', 'para', 'para', 'para', 'para', 'Tú', \"tiene'\", 'una', 'pistola', 'pero', 'no', \"dispara'\", \"para'\", \"para'\", \"para'\", 'Eladio', 'dijo', 'No', 'hay', 'chaleco', \"pa'\", 'la', 'cara', 'cara', 'cara', 'cara', \"Entonce'\", 'te', \"haremo'\", 'la', 'de', 'los', 'amara', 'la', 'de', 'los', 'amara', 'te', 'raja', 'Espera', 'espera', 'Ahora', 'veo', 'que', 'toy', 'haciendo', 'lo', 'que', 'quiera', 'lo', 'que', 'quiera', 'quiera', 'tú', 'apretado', 'con', 'interés', 'de', 'disquera', 'de', 'disquera', 'quera', 'yo', 'tranquilo', 'hasta', 'el', 'día', 'que', 'me', 'muera', 'Hasta', 'que', 'me', 'pe', 'oye', 'oye', 'oye', 'Pe', 'pe', 'pelele', 'Te', 'crees', 'que', 'es', 'muy', 'fácil', 'nombrar', 'la', 'Si', 'sabemos', 'que', 'tú', 'no', \"llega'\", 'los', \"nivele'\", 'nosotros', 'os', 'pusimos', \"vosotro'\", 'los', \"chele'\", 'los', \"primero'\", \"chele'\", 'Pe', 'pe', 'pelele', 'Te', 'crees', 'que', 'es', 'muy', 'fácil', 'nombrar', 'la', 'Si', 'sabemos', 'que', 'tú', 'no', \"llega'\", 'los', \"nivele'\", 'nosotros', 'os', \"pusimo'\", \"vosotro'\", 'los', \"chele'\", 'los', 'primeros', \"chele'\", 'Pa', 'pa', 'para', 'Cuando', 'me', 'ven', 'de', 'frente', 'ya', 'me', 'dicen', 'Para', 'para', 'para', 'para', 'Cuando', 'me', 'ven', 'de', 'frente', 'ya', 'me', 'dicen', 'Para', 'para', 'para', 'Cuando', 'me', 'ven', 'de', 'frente', 'ya', 'me', 'dicen', 'Para', 'para', 'para', 'para', 'Ya', 'me', 'dicen', 'Para', 'Pe', 'pe', 'pelele', 'Pelele', 'Pelele', 'Pelele', 'Pe', 'pe', 'pelele', 'Veo', 'veo', 'veo', 'tu', 'grupo', 'jaja', 'si', 'yo', 'los', 'veo', 'jaja', 'pe', 'pe', 'pelele', 'Grupo', 'Jaja', 'si', 'yo', 'los', 'veo', 'jaja', 'pelele', 'Grupo', 'Jaja', 'si', 'yo', 'los', 'veo', 'jaja', 'pelele', 'Veo', 'tu', 'grupo', 'solo', 'me', 'sale', 'Jajajaja', 'pelele', 'Veo', 'tu', 'grupo', 'solo', 'jajajaja', 'pe', 'pe', 'pelele', 'Veo', 'tu', 'grupo', 'solo', 'jajajaja', 'pelele', 'Jajaja', 'jajaja', 'pelele', 'Tu', 'mama', 'de', 'teta', 'jajajaja', 'pelele', 'Pe', 'pe', 'pelele']\n",
    "print(contenido)"
   ]
  },
  {
   "cell_type": "code",
   "execution_count": null,
   "metadata": {},
   "outputs": [],
   "source": [
    "from nltk.corpus import stopwords\n",
    "from nltk.tokenize import word_tokenize\n",
    "   \n",
    "palabras_vacias_ingles = set(stopwords.words('english'))\n",
    "palabras_vacias_espanol = set(stopwords.words('spanish'))\n",
    "palabras_vacias_general = ['tr', 'fact', 'morad', \"ale\\'\", \"ilegale\\'\", \"ista\\'\", 'ja', 'jaja', 'jajaja', 'jajajaja', 'ah', 'lez', 'pa', \"pa\\'\"\n",
    ", \"e\\'\", 'pe', 'ale']\n",
    "#print(palabras_vacias_ingles)\n",
    "#print(palabras_vacias_espanol)\n",
    "     \n",
    "contenido_depurado = []\n",
    "for palabra in contenido:\n",
    "    palabra = palabra.lower()\n",
    "    if (palabra not in palabras_vacias_ingles) and (palabra not in palabras_vacias_espanol) and (palabra not in palabras_vacias_general):\n",
    "        contenido_depurado.append(palabra)\n",
    "  \n",
    "print(contenido_depurado)"
   ]
  }
 ],
 "metadata": {
  "kernelspec": {
   "display_name": "Python 3.8.10 ('entorno_prueba')",
   "language": "python",
   "name": "python3"
  },
  "language_info": {
   "codemirror_mode": {
    "name": "ipython",
    "version": 3
   },
   "file_extension": ".py",
   "mimetype": "text/x-python",
   "name": "python",
   "nbconvert_exporter": "python",
   "pygments_lexer": "ipython3",
   "version": "3.8.10"
  },
  "orig_nbformat": 4,
  "vscode": {
   "interpreter": {
    "hash": "df928c92915a6e295095bb07de7b84624befc7d196e01c26e318bdc14196d6a4"
   }
  }
 },
 "nbformat": 4,
 "nbformat_minor": 2
}
