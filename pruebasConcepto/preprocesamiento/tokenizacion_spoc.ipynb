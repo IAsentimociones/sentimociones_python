{
 "cells": [
  {
   "cell_type": "code",
   "execution_count": 1,
   "metadata": {},
   "outputs": [
    {
     "name": "stdout",
     "output_type": "stream",
     "text": [
      "Hombre, no te sale (sale) (Tr. Fact)\n",
      "Hombre, no te sale (sale, sale, sale)\n",
      "Morad, no te, Morad cómo te sales (sale', sale, sale, sale)\n",
      "Si entras aquí no, ah (sale', sale, sale', sale', sale')\n",
      "\n",
      "Morad cómo te sales (sales), si entras aquí no sales (sales)\n",
      "Sabes que tú no vales (vale'), como sueno yo en instrumentales (-ale')\n",
      "Hablando de los mundo' de ilegale' (-ale')\n",
      "Pegadizo como Dale Don Dale (-ale)\n",
      "Yo sonando siempre en la calle, tú 40 Principales (-ale')\n",
      "\n",
      "Cuatro guitarrista' (-ista'), 17 que tienen orquesta (orquesta)\n",
      "Para hacer un tema (ala) que no suena ni en la fiesta (no, no, no)\n",
      "Yo hago mi escritura fumando uno de verdura (¿ah?)\n",
      "Tú dos meses duras, tú está' fuera 'e cobertura (jaja)\n",
      "\n",
      "La calle está loca (loca), eso e' lo que pica (pica)\n",
      "Pagamos a Toca y tú pidiéndole a tu chica (chica)\n",
      "El capo González (-ález) puede que te cale (cale)\n",
      "Tu coche se cala, y acaba' luego en la tele (cuidao')\n",
      "\n",
      "Mira que ya e' fácil (cuidao'), en cinco minuto' (cuidao')\n",
      "Lo hago ya duro, rápido y también impoluto\n",
      "Más duro que yeso, más de uno lo discuto\n",
      "Yo solo no-no-no-no-no-no-no-no\n",
      "Oye, oye, oye, para, para, para, para, para\n",
      "Espera, espera, espera, espera, espera que lo cambie\n",
      "Dice, dice\n",
      "\n",
      "Dime dónde para', para ir a buscarte y cogerte aparte\n",
      "¿Dónde está' escondí'o? A mí no interesa\n",
      "Tener que grabarte, si eres un desastre\n",
      "¿Dónde está' escondí'o? ¿Y quién es tu colega?\n",
      "\n",
      "El que te lo brega o el que por ti se pega\n",
      "¿Dónde está' escondí'o? ¿Dónde e' tu grupo?\n",
      "Pa' ver cómo lo escupo y luego ni me preocupo\n",
      "¿Dónde está' escondí'o?\n",
      "\n",
      "Pa-pa-, para (para, para, para)\n",
      "Tú tiene' una pistola pero no dispara' (-para', -para', -para')\n",
      "Eladio dijo \"No hay chaleco pa' la cara\" (cara, cara, cara)\n",
      "Entonce' te haremo' la de los 9amara, la de los 9amara (te raja)\n",
      "\n",
      "Espera (espera)\n",
      "Ahora veo que 'toy haciendo lo que quiera (lo que quiera, quiera)\n",
      "Y tú apretado con interés de disquera (de disquera-quera)\n",
      "Y yo tranquilo hasta el día que me muera\n",
      "Hasta que me pe-, oye, oye, oye\n",
      "\n",
      "Pe-pe-, pelele\n",
      "Te crees que es muy fácil nombrar a la L\n",
      "Si sabemos que tú no llega' a los nivele'\n",
      "Y nosotros os pusimos a vosotro' los chele', los primero' chele'\n",
      "\n",
      "Pe-pe-, pelele\n",
      "Te crees que es muy fácil nombrar a la L\n",
      "Si sabemos que tú no llega' a los nivele'\n",
      "Y nosotros os pusimo' a vosotro' los chele', los primeros chele'\n",
      "\n",
      "Pa-pa-para\n",
      "Cuando me ven de frente ya me dicen \"Para\" (para, para, para)\n",
      "Cuando me ven de frente ya me dicen \"Para\" (para, para)\n",
      "Cuando me ven de frente ya me dicen \"Para\" (para, para, para)\n",
      "Ya me dicen \"Para\"\n",
      "\n",
      "Pe-pe-pelele\n",
      "Pelele\n",
      "Pelele\n",
      "Pelele\n",
      "Pe-pe-pelele\n",
      "\n",
      "Veo-veo-veo a tu grupo, jaja, si yo los veo, jaja (pe-pe-pelele)\n",
      "¿Grupo? Jaja, si yo los veo, jaja (pelele)\n",
      "¿Grupo? Jaja, si yo los veo, jaja (pelele)\n",
      "Veo a tu grupo y solo me sale \"Jajajaja\" (pelele)\n",
      "\n",
      "Veo a tu grupo y solo jajajaja (pe-pe-pelele)\n",
      "Veo a tu grupo y solo jajajaja (pelele)\n",
      "Jajaja, jajaja (pelele)\n",
      "Tu mama de teta, jajajaja (pelele)\n",
      "Pe-pe-pelele\n"
     ]
    }
   ],
   "source": [
    " # obtener autor-canción de la base de datos\n",
    "import pymongo\n",
    "    \n",
    "myclient = pymongo.MongoClient('localhost', 27017)\n",
    "mydb = myclient[\"test\"]\n",
    "cancion_col = mydb[\"CANCIONES\"]\n",
    "\n",
    "# obtiene las canciones sin letras\n",
    "canciones_con_letra = cancion_col.find({'estado': 'CON LETRA'}).limit(1) # quitar el limite para obtener todas las canciones sin letras\n",
    "\n",
    "cancion = canciones_con_letra[0]\n",
    "letra = cancion['letra']\n",
    "print(letra)"
   ]
  },
  {
   "cell_type": "code",
   "execution_count": null,
   "metadata": {},
   "outputs": [],
   "source": [
    "from nltk.tokenize import sent_tokenize  \n",
    "  \n",
    "texto_tokenize = sent_tokenize(letra)\n",
    "for texto in texto_tokenize:\n",
    "    print('\\n', texto)"
   ]
  },
  {
   "cell_type": "code",
   "execution_count": null,
   "metadata": {},
   "outputs": [],
   "source": [
    "from nltk.tokenize import word_tokenize  \n",
    "  \n",
    "palabra_tokenize = word_tokenize(letra)\n",
    "for palabra in palabra_tokenize:\n",
    "    print('\\n', palabra)"
   ]
  },
  {
   "cell_type": "code",
   "execution_count": null,
   "metadata": {},
   "outputs": [],
   "source": [
    "from nltk.tokenize import TreebankWordTokenizer   \n",
    "\n",
    "tokenizer = TreebankWordTokenizer()  \n",
    "tokenizer.tokenize(letra)"
   ]
  },
  {
   "cell_type": "code",
   "execution_count": null,
   "metadata": {},
   "outputs": [],
   "source": [
    "from nltk.tokenize import RegexpTokenizer \n",
    "  \n",
    "tokenizer = RegexpTokenizer(\"[\\w']+\") \n",
    "tokenizer.tokenize(letra)"
   ]
  },
  {
   "cell_type": "code",
   "execution_count": null,
   "metadata": {},
   "outputs": [],
   "source": [
    "from nltk.tokenize import regexp_tokenize \n",
    "  \n",
    "regexp_tokenize(letra, \"[\\w']+\") "
   ]
  }
 ],
 "metadata": {
  "kernelspec": {
   "display_name": "Python 3.8.10 ('entorno_prueba')",
   "language": "python",
   "name": "python3"
  },
  "language_info": {
   "codemirror_mode": {
    "name": "ipython",
    "version": 3
   },
   "file_extension": ".py",
   "mimetype": "text/x-python",
   "name": "python",
   "nbconvert_exporter": "python",
   "pygments_lexer": "ipython3",
   "version": "3.8.10"
  },
  "orig_nbformat": 4,
  "vscode": {
   "interpreter": {
    "hash": "df928c92915a6e295095bb07de7b84624befc7d196e01c26e318bdc14196d6a4"
   }
  }
 },
 "nbformat": 4,
 "nbformat_minor": 2
}
