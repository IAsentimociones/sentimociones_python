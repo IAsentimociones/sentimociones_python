{
 "cells": [
  {
   "cell_type": "code",
   "execution_count": null,
   "metadata": {},
   "outputs": [],
   "source": [
    " # obtener autor-canción de la base de datos\n",
    "import pymongo\n",
    "    \n",
    "myclient = pymongo.MongoClient('localhost', 27017)\n",
    "mydb = myclient[\"test\"]\n",
    "cancion_col = mydb[\"CANCIONES\"]\n",
    "\n",
    "# obtiene las canciones sin letras\n",
    "canciones_con_letra = cancion_col.find({'estado': 'CON LETRA'}).limit(1) # quitar el limite para obtener todas las canciones sin letras\n",
    "\n",
    "cancion = canciones_con_letra[0]\n",
    "letra = cancion['letra']\n",
    "print(letra)"
   ]
  },
  {
   "cell_type": "code",
   "execution_count": null,
   "metadata": {},
   "outputs": [],
   "source": [
    "from nltk.tokenize import sent_tokenize  \n",
    "  \n",
    "texto_tokenize = sent_tokenize(letra)\n",
    "for texto in texto_tokenize:\n",
    "    print('\\n', texto)"
   ]
  },
  {
   "cell_type": "code",
   "execution_count": null,
   "metadata": {},
   "outputs": [],
   "source": [
    "from nltk.tokenize import word_tokenize  \n",
    "  \n",
    "palabra_tokenize = word_tokenize(letra)\n",
    "for palabra in palabra_tokenize:\n",
    "    print('\\n', palabra)"
   ]
  },
  {
   "cell_type": "code",
   "execution_count": null,
   "metadata": {},
   "outputs": [],
   "source": [
    "from nltk.tokenize import TreebankWordTokenizer   \n",
    "\n",
    "tokenizer = TreebankWordTokenizer()  \n",
    "tokenizer.tokenize(letra)"
   ]
  },
  {
   "cell_type": "code",
   "execution_count": null,
   "metadata": {},
   "outputs": [],
   "source": [
    "from nltk.tokenize import RegexpTokenizer \n",
    "  \n",
    "tokenizer = RegexpTokenizer(\"[\\w']+\") \n",
    "tokenizer.tokenize(letra)"
   ]
  },
  {
   "cell_type": "code",
   "execution_count": null,
   "metadata": {},
   "outputs": [],
   "source": [
    "from nltk.tokenize import regexp_tokenize \n",
    "\n",
    "alphabets= \"([A-Za-z][.])\"\n",
    "prefixes = \"(Mr|St|Mrs|Ms|Dr)[.]\"\n",
    "suffixes = \"(Inc|Ltd|Jr|Sr|Co)\"\n",
    "starters = \"(Mr|Mrs|Ms|Dr|He\\s|She\\s|It\\s|They\\s|Their\\s|Our\\s|We\\s|But\\s|However\\s|That\\s|This\\s|Wherever)\"\n",
    "acronyms = \"([A-Z][.][A-Z][.](?:[A-Z][.])?)\"\n",
    "websites = \"[.](com|net|org|io|gov)\"\n",
    "digits = \"([0-9])\"\n",
    "\n",
    "regexp_tokenize(letra, \"[A-Za-z][\\w']+\") \n",
    "#[\\w']+"
   ]
  }
 ],
 "metadata": {
  "kernelspec": {
   "display_name": "Python 3.8.10 ('entorno_prueba')",
   "language": "python",
   "name": "python3"
  },
  "language_info": {
   "codemirror_mode": {
    "name": "ipython",
    "version": 3
   },
   "file_extension": ".py",
   "mimetype": "text/x-python",
   "name": "python",
   "nbconvert_exporter": "python",
   "pygments_lexer": "ipython3",
   "version": "3.8.10"
  },
  "orig_nbformat": 4,
  "vscode": {
   "interpreter": {
    "hash": "df928c92915a6e295095bb07de7b84624befc7d196e01c26e318bdc14196d6a4"
   }
  }
 },
 "nbformat": 4,
 "nbformat_minor": 2
}
