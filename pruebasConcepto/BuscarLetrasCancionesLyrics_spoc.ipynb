{
 "cells": [
  {
   "cell_type": "code",
   "execution_count": null,
   "metadata": {},
   "outputs": [],
   "source": [
    "# obtener autor-canción de la base de datos\n",
    "import pymongo\n",
    "    \n",
    "myclient = pymongo.MongoClient('localhost', 27017)\n",
    "mydb = myclient[\"test\"]\n",
    "cancion_col = mydb[\"CANCIONES\"]\n",
    "\n",
    "# obtiene las canciones sin letras\n",
    "canciones_sin_letra = cancion_col.find({'estado': 'SIN LETRA'}).limit(1) # quitar el limite para obtener todas las canciones sin letras\n",
    "\n",
    "for cancion_pendiente in canciones_sin_letra:\n",
    "    print(cancion_pendiente)"
   ]
  },
  {
   "cell_type": "code",
   "execution_count": null,
   "metadata": {},
   "outputs": [],
   "source": [
    "# obtiene la cancion y autor\n",
    "cancion = cancion_pendiente['cancion']\n",
    "cantante = cancion_pendiente['cantante'] \n",
    "print('cancion: ' + cancion)\n",
    "print('cantante: ' + cantante)"
   ]
  },
  {
   "cell_type": "code",
   "execution_count": null,
   "metadata": {},
   "outputs": [],
   "source": [
    "import urllib.parse\n",
    "\n",
    "# codifica cadena para URL\n",
    "prueba1 = 'TIAGO PZK'\n",
    "result = urllib.parse.quote(prueba1)\n",
    "print(result)\n",
    "\n",
    "# decodifica cadena URL\n",
    "prueba2 = 'TIAGO%2520PZK%253A%2520BZRP%2520MUSIC%2520SESSIONS%252C%2520VOL.%252048%20BIZARRAP%2520/%2520TIAGO%2520PZK'\n",
    "result2 = urllib.parse.unquote(prueba1)\n",
    "print(result2)"
   ]
  },
  {
   "cell_type": "code",
   "execution_count": null,
   "metadata": {},
   "outputs": [],
   "source": [
    "cancion_code_url = urllib.parse.quote(cancion)\n",
    "cantante_code_url = urllib.parse.quote(cantante)\n",
    "print('cancion codificado para url: ' + cancion_code_url)\n",
    "print('cantante codificado para url: ' + cantante_code_url)"
   ]
  },
  {
   "cell_type": "code",
   "execution_count": null,
   "metadata": {},
   "outputs": [],
   "source": [
    "# prepara URL de Lyrics para buscar letras por cancion y autor\n",
    "import urllib.parse\n",
    "WEB_LYRICS = \"https://www.lyrics.com/lyrics/\"\n",
    "cancion_code_url = 'morad'\n",
    "cantante_code_url = 'pelele'\n",
    "cancion_autor_code_url = urllib.parse.quote(cancion_code_url + ' ' + cantante_code_url)\n",
    "print(cancion_autor_code_url)\n",
    "\n",
    "url_busqueda_lyrics = '%s%s' % (WEB_LYRICS, cancion_autor_code_url) \n",
    "print(url_busqueda_lyrics)"
   ]
  },
  {
   "cell_type": "code",
   "execution_count": null,
   "metadata": {},
   "outputs": [],
   "source": [
    "import requests\n",
    "from bs4 import BeautifulSoup\n",
    "\n",
    "# Obtiene el contenido web del resultado de búsqueda\n",
    "page = requests.get(url_busqueda_lyrics)\n",
    "soup = BeautifulSoup(page.content, \"html.parser\")\n",
    "print(soup)"
   ]
  },
  {
   "cell_type": "code",
   "execution_count": null,
   "metadata": {},
   "outputs": [],
   "source": [
    "#obtiene el cuerpo del contenido autor - canción\n",
    "results = soup.find(id=\"content-body\")\n",
    "print(results.prettify())"
   ]
  },
  {
   "cell_type": "code",
   "execution_count": null,
   "metadata": {},
   "outputs": [],
   "source": [
    "#obtiene los elementos del cuerpo letra del autor - canción y parte de la letra\n",
    "job_elements = results.find_all(\"div\", class_=\"sec-lyric clearfix\")\n",
    "print(job_elements)"
   ]
  },
  {
   "cell_type": "code",
   "execution_count": null,
   "metadata": {},
   "outputs": [],
   "source": [
    "# obtiene elementos del autor, cancion y enlace donde está la letra de la canción\n",
    "url_letra_cancion = ''\n",
    "for job_element in job_elements:\n",
    "    cancion_elem = job_element.find(\"p\", class_=\"lyric-meta-title\")\n",
    "    autor_elem = job_element.find(\"p\", class_=\"lyric-meta-album-artist\")\n",
    "    \n",
    "    if autor_elem == None:\n",
    "        autor_lyrics = ''\n",
    "    else:\n",
    "        autor_lyrics = autor_elem.text\n",
    "\n",
    "    cancion_lyrics = cancion_elem.text\n",
    "    ref = job_element.find(\"pre\", class_=\"lyric-body\")\n",
    "\n",
    "    print(\"cancion lyrics: \", cancion_lyrics)\n",
    "    print(\"autor lyrics: \", autor_lyrics)\n",
    "    print(\"url letra lyrics: \", ref.attrs['onclick'])\n",
    "    print(\"cancion bdd: \" + cancion)\n",
    "    print(\"autor bdd: \" + cantante)\n",
    "    print('-----------------')\n",
    "\n",
    "    # valida autor y canción para obtenr el enlace a la letra de la canción\n",
    "    if cancion_lyrics.casefold() == cancion.casefold() and autor_lyrics.casefold() == cantante.casefold():\n",
    "        url_letra_cancion =  ref.attrs['onclick']\n",
    "        print (url_letra_cancion)\n",
    "       \n",
    "\n",
    "if url_letra_cancion == '':\n",
    "    print ('NO ENCONTRO LETRA')\n",
    "else:\n",
    "    url_letra_cancion = url_letra_cancion.split('=')[1].replace('\\'','')\n",
    "    print(url_letra_cancion)\n",
    "\n",
    "    "
   ]
  },
  {
   "cell_type": "code",
   "execution_count": null,
   "metadata": {},
   "outputs": [],
   "source": [
    "# obtiene contenido de la página web de la letra de la canción\n",
    "page_letra_cancion = requests.get(url_letra_cancion)\n",
    "soup_letra_cancion = BeautifulSoup(page_letra_cancion.content, \"html.parser\")\n",
    "print(soup_letra_cancion)"
   ]
  },
  {
   "cell_type": "code",
   "execution_count": null,
   "metadata": {},
   "outputs": [],
   "source": [
    "# obtiene el cuerpo del contenido web de la letra de la canción\n",
    "results_letra_cancion = soup_letra_cancion.find(id=\"content-body\")\n",
    "print(results_letra_cancion.prettify())\n"
   ]
  },
  {
   "cell_type": "code",
   "execution_count": null,
   "metadata": {},
   "outputs": [],
   "source": [
    "# obtiene el contenedor principal donde está la letra de la canción\n",
    "job_elements_letra = results_letra_cancion.find_all(\"div\", class_=\"lyric clearfix\")\n",
    "print(job_elements_letra)"
   ]
  },
  {
   "cell_type": "code",
   "execution_count": null,
   "metadata": {},
   "outputs": [],
   "source": [
    "# obtiene la letra de la canción\n",
    "for job_element in job_elements_letra:\n",
    "    letra = job_element.find(\"pre\", id=\"lyric-body-text\")\n",
    "print(letra.text)"
   ]
  }
 ],
 "metadata": {
  "kernelspec": {
   "display_name": "Python 3.8.10 ('entorno_prueba')",
   "language": "python",
   "name": "python3"
  },
  "language_info": {
   "codemirror_mode": {
    "name": "ipython",
    "version": 3
   },
   "file_extension": ".py",
   "mimetype": "text/x-python",
   "name": "python",
   "nbconvert_exporter": "python",
   "pygments_lexer": "ipython3",
   "version": "3.8.10"
  },
  "orig_nbformat": 4,
  "vscode": {
   "interpreter": {
    "hash": "df928c92915a6e295095bb07de7b84624befc7d196e01c26e318bdc14196d6a4"
   }
  }
 },
 "nbformat": 4,
 "nbformat_minor": 2
}
