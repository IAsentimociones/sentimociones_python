{
 "cells": [
  {
   "cell_type": "code",
   "execution_count": null,
   "metadata": {},
   "outputs": [],
   "source": [
    "import requests\n",
    "from bs4 import BeautifulSoup\n",
    "\n",
    "# Obtiene el contenido web del resultado de búsqueda\n",
    "url_busqueda = \"https://www.google.com/search?q=letra+Cold+Heart+Pnau+Remix+Elton+John+Dua+Lipa\"\n",
    "page = requests.get(url_busqueda)\n",
    "print (page.content)\n",
    "soup = BeautifulSoup(page.content, \"html.parser\")\n",
    "print(soup)\n",
    "\n"
   ]
  },
  {
   "cell_type": "code",
   "execution_count": null,
   "metadata": {},
   "outputs": [],
   "source": [
    "a_main = soup.findAll(\"a\")\n",
    "print(a_main)"
   ]
  },
  {
   "cell_type": "code",
   "execution_count": null,
   "metadata": {},
   "outputs": [],
   "source": [
    "# obtiene elementos del autor, cancion y enlace donde está la letra de la canción\n",
    "from re import search\n",
    "\n",
    "\n",
    "url_letra_cancion = ''\n",
    "for a in a_main:\n",
    "    href = a.get(\"href\") \n",
    "    if search ('https', href) and search ('letra', href) and not search('google', href) and search ('Cold', href) and search ('Elton', href):\n",
    "        print(href.replace('/url?q=', ''))\n",
    "    \n",
    "    \n",
    "       "
   ]
  },
  {
   "cell_type": "code",
   "execution_count": 6,
   "metadata": {},
   "outputs": [
    {
     "name": "stdout",
     "output_type": "stream",
     "text": [
      "<Response [404]>\n",
      "<html><body><p>Not Allowed</p></body></html>\n"
     ]
    }
   ],
   "source": [
    "import requests\n",
    "from bs4 import BeautifulSoup\n",
    "\n",
    "# obtiene contenido de la página web de la letra de la canción\n",
    "url_letra_cancion = 'https://www.musixmatch.com/es/letras/Beny-Jr-El-Guincho/Combo-la-L' \n",
    "page_letra_cancion = requests.get(url_letra_cancion)\n",
    "print(page_letra_cancion)\n",
    "soup_letra_cancion = BeautifulSoup(page_letra_cancion.content, \"html.parser\")\n",
    "print(soup_letra_cancion)\n"
   ]
  },
  {
   "cell_type": "code",
   "execution_count": null,
   "metadata": {},
   "outputs": [],
   "source": [
    "# obtiene el cuerpo del contenido web de la letra de la canción\n",
    "p_main = soup_letra_cancion.find_all(\"p\")\n",
    "print(p_main)"
   ]
  },
  {
   "cell_type": "code",
   "execution_count": null,
   "metadata": {},
   "outputs": [],
   "source": [
    "from queue import Empty\n",
    "\n",
    "letra_cancion = ''\n",
    "aux = 0\n",
    "for p in p_main:\n",
    "    #print(p.text)\n",
    "    #if (es_letras_com):\n",
    "    spans = p.findAll(\"span\")\n",
    "    if (not spans):\n",
    "        if hasattr(p, 'text'):\n",
    "            letra_cancion = letra_cancion + p.text + ' '\n",
    "            print(p.text)\n",
    "    else:\n",
    "        for span in spans:\n",
    "            if hasattr(span, 'text'):\n",
    "                letra_cancion = letra_cancion + span.text + ' '\n",
    "        \n",
    "#print(letra_cancion)    \n",
    "        \n"
   ]
  }
 ],
 "metadata": {
  "kernelspec": {
   "display_name": "Python 3.8.10 ('entorno_prueba')",
   "language": "python",
   "name": "python3"
  },
  "language_info": {
   "codemirror_mode": {
    "name": "ipython",
    "version": 3
   },
   "file_extension": ".py",
   "mimetype": "text/x-python",
   "name": "python",
   "nbconvert_exporter": "python",
   "pygments_lexer": "ipython3",
   "version": "3.8.10"
  },
  "orig_nbformat": 4,
  "vscode": {
   "interpreter": {
    "hash": "df928c92915a6e295095bb07de7b84624befc7d196e01c26e318bdc14196d6a4"
   }
  }
 },
 "nbformat": 4,
 "nbformat_minor": 2
}
