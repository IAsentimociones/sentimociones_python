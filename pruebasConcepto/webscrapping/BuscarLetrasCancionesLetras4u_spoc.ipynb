{
 "cells": [
  {
   "cell_type": "code",
   "execution_count": null,
   "metadata": {},
   "outputs": [],
   "source": [
    "import requests\n",
    "from bs4 import BeautifulSoup\n",
    "\n",
    "# Obtiene el contenido web del resultado de búsqueda\n",
    "url_busqueda_lyrics = \"https://www.letras4u.com/buscar.php?letrade=TIAGO+PZK+BZRP+MUSIC+SESSIONS+VOL+48+BIZARRAP+TIAGO+PZK&Submit=Buscar\"\n",
    "page = requests.get(url_busqueda_lyrics)\n",
    "print (page.content)\n",
    "soup = BeautifulSoup(page.content, \"html.parser\")\n",
    "#html.parser, lxml, lxml-xml, xml, html5lib\n",
    "#print(soup)\n",
    "\n"
   ]
  },
  {
   "cell_type": "code",
   "execution_count": null,
   "metadata": {},
   "outputs": [],
   "source": [
    "#obtiene el cuerpo del contenido autor - canción\n",
    "results = soup.find(id=\"main\")\n",
    "#print(results.prettify())"
   ]
  },
  {
   "cell_type": "code",
   "execution_count": null,
   "metadata": {},
   "outputs": [],
   "source": [
    "#obtiene los elementos del cuerpo letra del autor - canción y parte de la letra\n",
    "job_elements = results.find_all(\"span\")\n",
    "print(job_elements)"
   ]
  },
  {
   "cell_type": "code",
   "execution_count": null,
   "metadata": {},
   "outputs": [],
   "source": [
    "# obtiene elementos del autor, cancion y enlace donde está la letra de la canción\n",
    "url_letra_cancion = ''\n",
    "for job_element in job_elements:\n",
    "    cancion_elem = job_element.find(\"a\")\n",
    "    print(cancion_elem.text)\n",
    "    print(cancion_elem.get(\"href\"))\n",
    "    \n",
    "    \n",
    "       "
   ]
  },
  {
   "cell_type": "code",
   "execution_count": null,
   "metadata": {},
   "outputs": [],
   "source": [
    "# obtiene contenido de la página web de la letra de la canción\n",
    "url_letra_cancion = 'https://www.letras4u.com/bizarrap/tiago_pzk:_bzrp_music_sessions_vol_48.htm'\n",
    "page_letra_cancion = requests.get(url_letra_cancion)\n",
    "soup_letra_cancion = BeautifulSoup(page_letra_cancion.content, \"html.parser\")\n",
    "#print(soup_letra_cancion)"
   ]
  },
  {
   "cell_type": "code",
   "execution_count": null,
   "metadata": {},
   "outputs": [],
   "source": [
    "# obtiene el cuerpo del contenido web de la letra de la canción\n",
    "results_letra_cancion = soup_letra_cancion.find(\"div\", class_=\"grid-container\")\n",
    "#print(results_letra_cancion.prettify())"
   ]
  },
  {
   "cell_type": "code",
   "execution_count": null,
   "metadata": {},
   "outputs": [],
   "source": [
    "# obtiene el contenedor principal donde está la letra de la canción\n",
    "job_elements_letra = results_letra_cancion.find_all(\"table\")\n",
    "#print(job_elements_letra)"
   ]
  },
  {
   "cell_type": "code",
   "execution_count": null,
   "metadata": {},
   "outputs": [],
   "source": [
    "# obtiene la letra de la canción\n",
    "letra_cancion = ''\n",
    "for job_element in job_elements_letra:\n",
    "    letra = job_element.find(\"td\")\n",
    "    if (hasattr(letra, 'text')):\n",
    "        letra_cancion = letra_cancion + letra.text.replace('\\n\\n\\n', '')\n",
    "print(letra_cancion)\n",
    "        \n",
    "    \n",
    "        \n"
   ]
  }
 ],
 "metadata": {
  "kernelspec": {
   "display_name": "Python 3.8.10 ('entorno_prueba')",
   "language": "python",
   "name": "python3"
  },
  "language_info": {
   "codemirror_mode": {
    "name": "ipython",
    "version": 3
   },
   "file_extension": ".py",
   "mimetype": "text/x-python",
   "name": "python",
   "nbconvert_exporter": "python",
   "pygments_lexer": "ipython3",
   "version": "3.8.10"
  },
  "orig_nbformat": 4,
  "vscode": {
   "interpreter": {
    "hash": "df928c92915a6e295095bb07de7b84624befc7d196e01c26e318bdc14196d6a4"
   }
  }
 },
 "nbformat": 4,
 "nbformat_minor": 2
}
