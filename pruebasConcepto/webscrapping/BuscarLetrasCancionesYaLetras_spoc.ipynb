{
 "cells": [
  {
   "cell_type": "code",
   "execution_count": null,
   "metadata": {},
   "outputs": [],
   "source": [
    "import requests\n",
    "from bs4 import BeautifulSoup\n",
    "\n",
    "# Obtiene el contenido web del resultado de búsqueda\n",
    "url_busqueda = \"https://www.yaletras.com/search?q=Tacones+Rojos+Sebasti%C3%A1n+Yatra\" \n",
    "#'https://www.yaletras.com/search?q=Sebasti%C3%A1n+Yatra'\n",
    "#\"https://www.yaletras.com/search?q=Tacones+Rojos+Sebasti%C3%A1n+Yatra\"\n",
    "page = requests.get(url_busqueda)\n",
    "soup = BeautifulSoup(page.content, \"html.parser\")\n",
    "#print(soup)"
   ]
  },
  {
   "cell_type": "code",
   "execution_count": null,
   "metadata": {},
   "outputs": [],
   "source": [
    "#obtiene el cuerpo del contenido autor - canción\n",
    "results = soup.find(id=\"page_body\")\n",
    "#print(results.prettify())"
   ]
  },
  {
   "cell_type": "code",
   "execution_count": null,
   "metadata": {},
   "outputs": [],
   "source": [
    "#obtiene los elementos del cuerpo letra del autor - canción y parte de la letra\n",
    "job_elements = results.find_all(\"article\")\n",
    "#print(job_elements)"
   ]
  },
  {
   "cell_type": "code",
   "execution_count": null,
   "metadata": {},
   "outputs": [],
   "source": [
    "# obtiene elementos del autor, cancion y enlace donde está la letra de la canción\n",
    "url_letra_cancion = ''\n",
    "for job_element in job_elements:\n",
    "    div = job_element.find(\"div\", class_=\"post-title-container\")\n",
    "    h3 = div.find(\"h3\")\n",
    "    a = h3.find(\"a\")\n",
    "    print(a.text.replace('\\n', ''))\n",
    "    print(a.get(\"href\")) \n",
    "    \n",
    "    \n",
    "       "
   ]
  },
  {
   "cell_type": "code",
   "execution_count": null,
   "metadata": {},
   "outputs": [],
   "source": [
    "# obtiene contenido de la página web de la letra de la canción\n",
    "url_letra_cancion = 'https://www.yaletras.com/2022/03/letra-sebastian-yatra-ft-john-legend-tacones-rojos-remix.html'\n",
    "page_letra_cancion = requests.get(url_letra_cancion)\n",
    "soup_letra_cancion = BeautifulSoup(page_letra_cancion.content, \"html.parser\")\n",
    "print(soup_letra_cancion)"
   ]
  },
  {
   "cell_type": "code",
   "execution_count": null,
   "metadata": {},
   "outputs": [],
   "source": [
    "# obtiene el cuerpo del contenido web de la letra de la canción\n",
    "results_letra_cancion = soup_letra_cancion.find(\"div\", class_=\"post-body\")\n",
    "print(results_letra_cancion.prettify())"
   ]
  },
  {
   "cell_type": "code",
   "execution_count": null,
   "metadata": {},
   "outputs": [],
   "source": [
    "divs = results_letra_cancion.find('div', attrs={'style': 'text-align: center;'})\n",
    "\n",
    "letra_cancion = ''\n",
    "cont = 0\n",
    "for div in divs:\n",
    "    cont = cont + 1\n",
    "    if (hasattr(div, 'text')):\n",
    "       letra_cancion = letra_cancion + div.text + ' '\n",
    "        \n",
    "print(letra_cancion)"
   ]
  }
 ],
 "metadata": {
  "kernelspec": {
   "display_name": "Python 3.8.10 ('entorno_prueba')",
   "language": "python",
   "name": "python3"
  },
  "language_info": {
   "codemirror_mode": {
    "name": "ipython",
    "version": 3
   },
   "file_extension": ".py",
   "mimetype": "text/x-python",
   "name": "python",
   "nbconvert_exporter": "python",
   "pygments_lexer": "ipython3",
   "version": "3.8.10"
  },
  "orig_nbformat": 4,
  "vscode": {
   "interpreter": {
    "hash": "df928c92915a6e295095bb07de7b84624befc7d196e01c26e318bdc14196d6a4"
   }
  }
 },
 "nbformat": 4,
 "nbformat_minor": 2
}
