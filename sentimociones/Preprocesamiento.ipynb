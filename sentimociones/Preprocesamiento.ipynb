{
 "cells": [
  {
   "cell_type": "code",
   "execution_count": null,
   "id": "8234753e",
   "metadata": {},
   "outputs": [],
   "source": [
    "'''\n",
    "Preprocesamiento de letras de canciones\n",
    "'''\n",
    "import cancion_logica\n",
    "from preprocesamiento import tokenizacion, depuracion\n",
    "import time\n",
    "from cajaBlanca import auditoria\n",
    "\n",
    "PROCESO_PRINCIPAL = 'Preprocesamiento General'\n",
    "\n",
    "tiempo_inicial = time.time()\n",
    "\n",
    "# obtiene canciones con letras para su preprocesamiento de texto\n",
    "canciones = cancion_logica.obtenerCancionesPorEstado(cancion_logica.ESTADO_CON_LETRA)\n",
    "\n",
    "for cancion in canciones:\n",
    "   letra = cancion['letra']\n",
    "   letra_tokenizado = tokenizacion.tokenizarConExpresionesRegulares(letra)\n",
    "   letra_depurada = depuracion.eliminarPalabrasVacias(letra_tokenizado)\n",
    "   resultado_final = cancion_logica.actualizarCancionPreprocesado(cancion, letra_depurada)\n",
    "   print('Depuración: ', resultado_final) \n",
    "               \n",
    "auditoria.registrarPistaProceso([PROCESO_PRINCIPAL, tiempo_inicial, ['EXITO', 'total procesando: 25 letras']])\n",
    "  "
   ]
  }
 ],
 "metadata": {
  "kernelspec": {
   "display_name": "Python 3.8.10 ('entorno_prueba')",
   "language": "python",
   "name": "python3"
  },
  "language_info": {
   "codemirror_mode": {
    "name": "ipython",
    "version": 3
   },
   "file_extension": ".py",
   "mimetype": "text/x-python",
   "name": "python",
   "nbconvert_exporter": "python",
   "pygments_lexer": "ipython3",
   "version": "3.8.10"
  },
  "vscode": {
   "interpreter": {
    "hash": "df928c92915a6e295095bb07de7b84624befc7d196e01c26e318bdc14196d6a4"
   }
  }
 },
 "nbformat": 4,
 "nbformat_minor": 5
}
