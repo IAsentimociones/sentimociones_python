{
 "cells": [
  {
   "cell_type": "code",
   "execution_count": 1,
   "id": "8234753e",
   "metadata": {},
   "outputs": [
    {
     "name": "stdout",
     "output_type": "stream",
     "text": [
      "['hombre', 'sale', 'sale', 'hombre', 'sale', 'sale', 'sale', 'sale', 'cómo', 'sales', \"sale'\", 'sale', 'sale', 'sale', 'si', 'entras', 'aquí', \"sale'\", 'sale', \"sale'\", \"sale'\", \"sale'\", 'cómo', 'sales', 'sales', 'si', 'entras', 'aquí', 'sales', 'sales', 'sabes', 'vales', \"vale'\", 'sueno', 'instrumentales', 'hablando', \"mundo'\", 'pegadizo', 'dale', 'dale', 'sonando', 'siempre', 'calle', 'principales', 'cuatro', \"guitarrista'\", 'orquesta', 'orquesta', 'hacer', 'tema', 'ala', 'suena', 'fiesta', 'hago', 'escritura', 'fumando', 'verdura', 'dos', 'meses', 'duras', \"está'\", 'cobertura', 'calle', 'loca', 'loca', 'pica', 'pica', 'pagamos', 'toca', 'pidiéndole', 'chica', 'chica', 'capo', 'gonzález', 'puede', 'cale', 'cale', 'coche', 'cala', \"acaba'\", 'luego', 'tele', \"cuidao'\", 'mira', 'fácil', \"cuidao'\", 'cinco', \"minuto'\", \"cuidao'\", 'hago', 'duro', 'rápido', 'impoluto', 'duro', 'yeso', 'discuto', 'solo', 'oye', 'oye', 'oye', 'espera', 'espera', 'espera', 'espera', 'espera', 'cambie', 'dice', 'dice', 'dime', 'dónde', \"para'\", 'ir', 'buscarte', 'cogerte', 'aparte', 'dónde', \"está'\", \"escondí'o\", 'interesa', 'tener', 'grabarte', 'si', 'desastre', 'dónde', \"está'\", \"escondí'o\", 'quién', 'colega', 'brega', 'pega', 'dónde', \"está'\", \"escondí'o\", 'dónde', 'grupo', 'ver', 'cómo', 'escupo', 'luego', 'preocupo', 'dónde', \"está'\", \"escondí'o\", \"tiene'\", 'pistola', \"dispara'\", \"para'\", \"para'\", \"para'\", 'eladio', 'dijo', 'chaleco', 'cara', 'cara', 'cara', 'cara', \"entonce'\", \"haremo'\", 'amara', 'amara', 'raja', 'espera', 'espera', 'ahora', 'veo', 'toy', 'haciendo', 'quiera', 'quiera', 'quiera', 'apretado', 'interés', 'disquera', 'disquera', 'quera', 'tranquilo', 'día', 'muera', 'oye', 'oye', 'oye', 'pelele', 'crees', 'fácil', 'nombrar', 'si', 'sabemos', \"llega'\", \"nivele'\", 'pusimos', \"vosotro'\", \"chele'\", \"primero'\", \"chele'\", 'pelele', 'crees', 'fácil', 'nombrar', 'si', 'sabemos', \"llega'\", \"nivele'\", \"pusimo'\", \"vosotro'\", \"chele'\", 'primeros', \"chele'\", 'ven', 'frente', 'dicen', 'ven', 'frente', 'dicen', 'ven', 'frente', 'dicen', 'dicen', 'pelele', 'pelele', 'pelele', 'pelele', 'pelele', 'veo', 'veo', 'veo', 'grupo', 'si', 'veo', 'pelele', 'grupo', 'si', 'veo', 'pelele', 'grupo', 'si', 'veo', 'pelele', 'veo', 'grupo', 'solo', 'sale', 'pelele', 'veo', 'grupo', 'solo', 'pelele', 'veo', 'grupo', 'solo', 'pelele', 'pelele', 'mama', 'teta', 'pelele', 'pelele']\n"
     ]
    }
   ],
   "source": [
    "'''\n",
    "Preprocesamiento de letras de canciones\n",
    "'''\n",
    "import cancion_logica\n",
    "from preprocesamiento import tokenizacion, depuracion\n",
    "\n",
    "# obtiene canciones con letras para su preprocesamiento de texto\n",
    "canciones = cancion_logica.obtenerCancionesPorEstado(cancion_logica.ESTADO_CON_LETRA)\n",
    "\n",
    "for cancion in canciones:\n",
    "   letra = cancion['letra']\n",
    "   letra_tokenizado = tokenizacion.tokenizarConExpresionesRegulares(letra)\n",
    "   letra_depurado = depuracion.eliminarPalabrasVacias(letra_tokenizado)\n",
    "   print(letra_depurado)\n",
    "   \n",
    "               \n",
    "   "
   ]
  }
 ],
 "metadata": {
  "kernelspec": {
   "display_name": "Python 3.8.10 ('entorno_prueba')",
   "language": "python",
   "name": "python3"
  },
  "language_info": {
   "codemirror_mode": {
    "name": "ipython",
    "version": 3
   },
   "file_extension": ".py",
   "mimetype": "text/x-python",
   "name": "python",
   "nbconvert_exporter": "python",
   "pygments_lexer": "ipython3",
   "version": "3.8.10"
  },
  "vscode": {
   "interpreter": {
    "hash": "df928c92915a6e295095bb07de7b84624befc7d196e01c26e318bdc14196d6a4"
   }
  }
 },
 "nbformat": 4,
 "nbformat_minor": 5
}
