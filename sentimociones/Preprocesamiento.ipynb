{
 "cells": [
  {
   "cell_type": "markdown",
   "id": "f767ccdc",
   "metadata": {},
   "source": [
    "## Proceso 3: Preprocesamiento de las letras extraidas con webscrapping"
   ]
  },
  {
   "cell_type": "code",
   "execution_count": 1,
   "id": "86fc7bae",
   "metadata": {},
   "outputs": [],
   "source": [
    "'''\n",
    "Preprocesamiento de letras de canciones\n",
    "'''\n",
    "from logica import cancion_logica\n",
    "from preprocesamiento import tokenizacion, depuracion\n",
    "import time\n",
    "from cajaBlanca import auditoria, logger\n",
    "from bdd import mongoDB_cliente\n",
    "\n",
    "PROCESO_PRINCIPAL = 'Preprocesamiento General'\n",
    "\n",
    "tiempo_inicial = time.time()\n",
    "\n",
    "# obtiene canciones con letras para su preprocesamiento de texto\n",
    "#canciones = cancion_logica.obtenerCancionesPorEstado(cancion_logica.ESTADO_CON_LETRA)\n",
    "\n",
    "# solo para pruebas individuales\n",
    "cantante = 'Glass Animals'\n",
    "cancion = 'Heat Waves'\n",
    "\n",
    "canciones = mongoDB_cliente.obtenerColeccion('CANCIONES', {'cantante': cantante, 'cancion': cancion}) \n",
    "            \n",
    "total = 0\n",
    "for cancion in canciones:\n",
    "   total = total + 1\n",
    "   letra = cancion['letra']\n",
    "   letra_tokenizado = tokenizacion.tokenizarConExpresionesRegulares(letra)\n",
    "   letra_depurada = depuracion.eliminarPalabrasVacias(letra_tokenizado)\n",
    "   cancion_logica.actualizarCancionPreprocesado(cancion, letra_depurada)\n",
    "               \n",
    "auditoria.registrarPistaProceso([PROCESO_PRINCIPAL, tiempo_inicial, [auditoria.ESTADO_COMPLETADO, 'total letras procesadas: ' + str(total)]])\n",
    "  "
   ]
  }
 ],
 "metadata": {
  "kernelspec": {
   "display_name": "Python 3.8.10 ('entorno_prueba')",
   "language": "python",
   "name": "python3"
  },
  "language_info": {
   "codemirror_mode": {
    "name": "ipython",
    "version": 3
   },
   "file_extension": ".py",
   "mimetype": "text/x-python",
   "name": "python",
   "nbconvert_exporter": "python",
   "pygments_lexer": "ipython3",
   "version": "3.8.10"
  },
  "vscode": {
   "interpreter": {
    "hash": "df928c92915a6e295095bb07de7b84624befc7d196e01c26e318bdc14196d6a4"
   }
  }
 },
 "nbformat": 4,
 "nbformat_minor": 5
}
