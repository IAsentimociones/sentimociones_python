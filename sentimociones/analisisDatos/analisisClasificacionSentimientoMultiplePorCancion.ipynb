{
 "cells": [
  {
   "cell_type": "markdown",
   "metadata": {},
   "source": [
    "## Analizando la clasificación de sentimientos múltiples por canción y cantante"
   ]
  },
  {
   "cell_type": "code",
   "execution_count": 1,
   "metadata": {},
   "outputs": [],
   "source": [
    "import sys\n",
    "sys.path.append(sys.path[0] + '/..')\n",
    "from bdd import mongoDB_cliente"
   ]
  },
  {
   "cell_type": "code",
   "execution_count": 2,
   "metadata": {},
   "outputs": [
    {
     "name": "stdout",
     "output_type": "stream",
     "text": [
      "Canción - Cantante:  HAWÁI  -  Maluma\n",
      "Modelo                    Predicción      Precisión entrenamiento   Precisión pruebas        \n",
      "-----------------------   --------------  -----------------------   ------------------       \n",
      "SVC                       ira             0.911                     0.477                    \n",
      "LinearSVC                 alegría         0.999                     0.559                    \n",
      "RandomForestClassifier    alegría         0.999                     0.529                    \n",
      "DecisionTreeClassifier    alegría         0.999                     0.433                    \n"
     ]
    }
   ],
   "source": [
    "cantante = 'Maluma'\n",
    "cancion = 'HAWÁI'\n",
    "auditoria = mongoDB_cliente.obtenerColeccion('AUDITORIA', {'tipo auditoria': 'Modelos Aprendizaje Automático', \n",
    "'proceso': 'Clasifiación Sentimientos Múltiples', 'cantante': cantante, 'canción': cancion})   \n",
    "print('Canción - Cantante: ', cancion, ' - ', cantante)\n",
    "print (\"{:<25} {:<15} {:<25} {:<25}\".format('Modelo', 'Predicción', 'Precisión entrenamiento', 'Precisión pruebas'))\n",
    "print (\"{:<25} {:<15} {:<25} {:<25}\".format('-----------------------', '--------------', '-----------------------', '------------------'))\n",
    "for pista in auditoria:\n",
    "    modelo = pista['modelo']\n",
    "    prediccion = pista['parametros y resultados'][2]['prediccion']\n",
    "    precision_entrenamiento = round(pista['parametros y resultados'][1]['Precisión entrenamiento'], 3)\n",
    "    precision_pruebas = round(pista['parametros y resultados'][1]['Precisión pruebas'], 3)\n",
    "    print (\"{:<25} {:<15} {:<25} {:<25}\".format(modelo, prediccion, precision_entrenamiento, precision_pruebas))"
   ]
  },
  {
   "cell_type": "code",
   "execution_count": 3,
   "metadata": {},
   "outputs": [
    {
     "name": "stdout",
     "output_type": "stream",
     "text": [
      "Canción - Cantante:  ELLA  -  EL BOBE / ALPEDUE\n",
      "Modelo                    Predicción      Precisión entrenamiento   Precisión pruebas        \n",
      "-----------------------   --------------  -----------------------   ------------------       \n",
      "SVC                       ira             0.911                     0.477                    \n",
      "LinearSVC                 tristeza        0.999                     0.559                    \n",
      "RandomForestClassifier    miedo           0.999                     0.529                    \n",
      "DecisionTreeClassifier    miedo           0.999                     0.433                    \n",
      "SVC                       ira             0.911                     0.477                    \n",
      "LinearSVC                 tristeza        0.999                     0.559                    \n",
      "RandomForestClassifier    miedo           0.999                     0.529                    \n",
      "DecisionTreeClassifier    miedo           0.999                     0.433                    \n"
     ]
    }
   ],
   "source": [
    "cantante = 'EL BOBE / ALPEDUE'\n",
    "cancion = 'ELLA'\n",
    "auditoria = mongoDB_cliente.obtenerColeccion('AUDITORIA', {'tipo auditoria': 'Modelos Aprendizaje Automático', \n",
    "'proceso': 'Clasifiación Sentimientos Múltiples', 'cantante': cantante, 'canción': cancion})   \n",
    "print('Canción - Cantante: ', cancion, ' - ', cantante)\n",
    "print (\"{:<25} {:<15} {:<25} {:<25}\".format('Modelo', 'Predicción', 'Precisión entrenamiento', 'Precisión pruebas'))\n",
    "print (\"{:<25} {:<15} {:<25} {:<25}\".format('-----------------------', '--------------', '-----------------------', '------------------'))\n",
    "for pista in auditoria:\n",
    "    modelo = pista['modelo']\n",
    "    prediccion = pista['parametros y resultados'][2]['prediccion']\n",
    "    precision_entrenamiento = round(pista['parametros y resultados'][1]['Precisión entrenamiento'], 3)\n",
    "    precision_pruebas = round(pista['parametros y resultados'][1]['Precisión pruebas'], 3)\n",
    "    print (\"{:<25} {:<15} {:<25} {:<25}\".format(modelo, prediccion, precision_entrenamiento, precision_pruebas))"
   ]
  },
  {
   "cell_type": "code",
   "execution_count": 4,
   "metadata": {},
   "outputs": [
    {
     "name": "stdout",
     "output_type": "stream",
     "text": [
      "Canción - Cantante:  BUSCATE OTRO  -  JC LA NEVULA / ATOMIC OTRO WAY\n",
      "Modelo                    Predicción      Precisión entrenamiento   Precisión pruebas        \n",
      "-----------------------   --------------  -----------------------   ------------------       \n",
      "SVC                       ira             0.911                     0.477                    \n",
      "LinearSVC                 vergüenza       0.999                     0.559                    \n",
      "RandomForestClassifier    tristeza        0.999                     0.529                    \n",
      "DecisionTreeClassifier    tristeza        0.999                     0.433                    \n"
     ]
    }
   ],
   "source": [
    "cantante = 'JC LA NEVULA / ATOMIC OTRO WAY'\n",
    "cancion = 'BUSCATE OTRO'\n",
    "auditoria = mongoDB_cliente.obtenerColeccion('AUDITORIA', {'tipo auditoria': 'Modelos Aprendizaje Automático', \n",
    "'proceso': 'Clasifiación Sentimientos Múltiples', 'cantante': cantante, 'canción': cancion})   \n",
    "print('Canción - Cantante: ', cancion, ' - ', cantante)\n",
    "print (\"{:<25} {:<15} {:<25} {:<25}\".format('Modelo', 'Predicción', 'Precisión entrenamiento', 'Precisión pruebas'))\n",
    "print (\"{:<25} {:<15} {:<25} {:<25}\".format('-----------------------', '--------------', '-----------------------', '------------------'))\n",
    "for pista in auditoria:\n",
    "    modelo = pista['modelo']\n",
    "    prediccion = pista['parametros y resultados'][2]['prediccion']\n",
    "    precision_entrenamiento = round(pista['parametros y resultados'][1]['Precisión entrenamiento'], 3)\n",
    "    precision_pruebas = round(pista['parametros y resultados'][1]['Precisión pruebas'], 3)\n",
    "    print (\"{:<25} {:<15} {:<25} {:<25}\".format(modelo, prediccion, precision_entrenamiento, precision_pruebas))"
   ]
  },
  {
   "cell_type": "code",
   "execution_count": 5,
   "metadata": {},
   "outputs": [
    {
     "name": "stdout",
     "output_type": "stream",
     "text": [
      "Canción - Cantante:  ALMAS GEMELAS  -  MYKE TOWERS\n",
      "Modelo                    Predicción      Precisión entrenamiento   Precisión pruebas        \n",
      "-----------------------   --------------  -----------------------   ------------------       \n",
      "SVC                       ira             0.911                     0.477                    \n",
      "LinearSVC                 vergüenza       0.999                     0.559                    \n",
      "RandomForestClassifier    culpa           0.999                     0.529                    \n",
      "DecisionTreeClassifier    culpa           0.999                     0.424                    \n"
     ]
    }
   ],
   "source": [
    "cantante = 'MYKE TOWERS'\n",
    "cancion = 'ALMAS GEMELAS'\n",
    "auditoria = mongoDB_cliente.obtenerColeccion('AUDITORIA', {'tipo auditoria': 'Modelos Aprendizaje Automático', \n",
    "'proceso': 'Clasifiación Sentimientos Múltiples', 'cantante': cantante, 'canción': cancion})   \n",
    "print('Canción - Cantante: ', cancion, ' - ', cantante)\n",
    "print (\"{:<25} {:<15} {:<25} {:<25}\".format('Modelo', 'Predicción', 'Precisión entrenamiento', 'Precisión pruebas'))\n",
    "print (\"{:<25} {:<15} {:<25} {:<25}\".format('-----------------------', '--------------', '-----------------------', '------------------'))\n",
    "for pista in auditoria:\n",
    "    modelo = pista['modelo']\n",
    "    prediccion = pista['parametros y resultados'][2]['prediccion']\n",
    "    precision_entrenamiento = round(pista['parametros y resultados'][1]['Precisión entrenamiento'], 3)\n",
    "    precision_pruebas = round(pista['parametros y resultados'][1]['Precisión pruebas'], 3)\n",
    "    print (\"{:<25} {:<15} {:<25} {:<25}\".format(modelo, prediccion, precision_entrenamiento, precision_pruebas))"
   ]
  },
  {
   "cell_type": "code",
   "execution_count": 6,
   "metadata": {},
   "outputs": [
    {
     "name": "stdout",
     "output_type": "stream",
     "text": [
      "Canción - Cantante:  My Universe  -  Coldplay, BTS\n",
      "Modelo                    Predicción      Precisión entrenamiento   Precisión pruebas        \n",
      "-----------------------   --------------  -----------------------   ------------------       \n",
      "SVC                       anger           0.911                     0.479                    \n",
      "LinearSVC                 anger           0.999                     0.562                    \n",
      "RandomForestClassifier    fear            0.999                     0.551                    \n",
      "DecisionTreeClassifier    shame           0.999                     0.456                    \n"
     ]
    }
   ],
   "source": [
    "cantante = 'Coldplay, BTS'\n",
    "cancion = 'My Universe'\n",
    "\n",
    "auditoria = mongoDB_cliente.obtenerColeccion('AUDITORIA', {'tipo auditoria': 'Modelos Aprendizaje Automático', \n",
    "'proceso': 'Clasifiación Sentimientos Múltiples', 'cantante': cantante, 'canción': cancion})   \n",
    "print('Canción - Cantante: ', cancion, ' - ', cantante)\n",
    "print (\"{:<25} {:<15} {:<25} {:<25}\".format('Modelo', 'Predicción', 'Precisión entrenamiento', 'Precisión pruebas'))\n",
    "print (\"{:<25} {:<15} {:<25} {:<25}\".format('-----------------------', '--------------', '-----------------------', '------------------'))\n",
    "for pista in auditoria:\n",
    "    modelo = pista['modelo']\n",
    "    prediccion = pista['parametros y resultados'][2]['prediccion']\n",
    "    precision_entrenamiento = round(pista['parametros y resultados'][1]['Precisión entrenamiento'], 3)\n",
    "    precision_pruebas = round(pista['parametros y resultados'][1]['Precisión pruebas'], 3)\n",
    "    print (\"{:<25} {:<15} {:<25} {:<25}\".format(modelo, prediccion, precision_entrenamiento, precision_pruebas))"
   ]
  },
  {
   "cell_type": "code",
   "execution_count": 7,
   "metadata": {},
   "outputs": [
    {
     "name": "stdout",
     "output_type": "stream",
     "text": [
      "Canción - Cantante:  Clima Tropical  -  Dani Fernandez\n",
      "Modelo                    Predicción      Precisión entrenamiento   Precisión pruebas        \n",
      "-----------------------   --------------  -----------------------   ------------------       \n",
      "SVC                       anger           0.911                     0.479                    \n",
      "LinearSVC                 guilt           0.999                     0.562                    \n",
      "RandomForestClassifier    joy             0.999                     0.551                    \n",
      "DecisionTreeClassifier    joy             0.999                     0.456                    \n"
     ]
    }
   ],
   "source": [
    "cantante = 'Dani Fernandez'\n",
    "cancion = 'Clima Tropical'\n",
    "\n",
    "auditoria = mongoDB_cliente.obtenerColeccion('AUDITORIA', {'tipo auditoria': 'Modelos Aprendizaje Automático', \n",
    "'proceso': 'Clasifiación Sentimientos Múltiples', 'cantante': cantante, 'canción': cancion})   \n",
    "print('Canción - Cantante: ', cancion, ' - ', cantante)\n",
    "print (\"{:<25} {:<15} {:<25} {:<25}\".format('Modelo', 'Predicción', 'Precisión entrenamiento', 'Precisión pruebas'))\n",
    "print (\"{:<25} {:<15} {:<25} {:<25}\".format('-----------------------', '--------------', '-----------------------', '------------------'))\n",
    "for pista in auditoria:\n",
    "    modelo = pista['modelo']\n",
    "    prediccion = pista['parametros y resultados'][2]['prediccion']\n",
    "    precision_entrenamiento = round(pista['parametros y resultados'][1]['Precisión entrenamiento'], 3)\n",
    "    precision_pruebas = round(pista['parametros y resultados'][1]['Precisión pruebas'], 3)\n",
    "    print (\"{:<25} {:<15} {:<25} {:<25}\".format(modelo, prediccion, precision_entrenamiento, precision_pruebas))"
   ]
  },
  {
   "cell_type": "code",
   "execution_count": 8,
   "metadata": {},
   "outputs": [
    {
     "name": "stdout",
     "output_type": "stream",
     "text": [
      "Canción - Cantante:  Blinding Lights  -  The Weeknd\n",
      "Modelo                    Predicción      Precisión entrenamiento   Precisión pruebas        \n",
      "-----------------------   --------------  -----------------------   ------------------       \n",
      "SVC                       anger           0.911                     0.479                    \n",
      "LinearSVC                 fear            0.999                     0.562                    \n",
      "RandomForestClassifier    fear            0.999                     0.551                    \n",
      "DecisionTreeClassifier    fear            0.999                     0.456                    \n"
     ]
    }
   ],
   "source": [
    "cantante = 'The Weeknd'\n",
    "cancion = 'Blinding Lights'\n",
    "\n",
    "auditoria = mongoDB_cliente.obtenerColeccion('AUDITORIA', {'tipo auditoria': 'Modelos Aprendizaje Automático', \n",
    "'proceso': 'Clasifiación Sentimientos Múltiples', 'cantante': cantante, 'canción': cancion})   \n",
    "print('Canción - Cantante: ', cancion, ' - ', cantante)\n",
    "print (\"{:<25} {:<15} {:<25} {:<25}\".format('Modelo', 'Predicción', 'Precisión entrenamiento', 'Precisión pruebas'))\n",
    "print (\"{:<25} {:<15} {:<25} {:<25}\".format('-----------------------', '--------------', '-----------------------', '------------------'))\n",
    "for pista in auditoria:\n",
    "    modelo = pista['modelo']\n",
    "    prediccion = pista['parametros y resultados'][2]['prediccion']\n",
    "    precision_entrenamiento = round(pista['parametros y resultados'][1]['Precisión entrenamiento'], 3)\n",
    "    precision_pruebas = round(pista['parametros y resultados'][1]['Precisión pruebas'], 3)\n",
    "    print (\"{:<25} {:<15} {:<25} {:<25}\".format(modelo, prediccion, precision_entrenamiento, precision_pruebas))"
   ]
  }
 ],
 "metadata": {
  "kernelspec": {
   "display_name": "Python 3.8.10 ('entorno_prueba')",
   "language": "python",
   "name": "python3"
  },
  "language_info": {
   "codemirror_mode": {
    "name": "ipython",
    "version": 3
   },
   "file_extension": ".py",
   "mimetype": "text/x-python",
   "name": "python",
   "nbconvert_exporter": "python",
   "pygments_lexer": "ipython3",
   "version": "3.8.10"
  },
  "orig_nbformat": 4,
  "vscode": {
   "interpreter": {
    "hash": "df928c92915a6e295095bb07de7b84624befc7d196e01c26e318bdc14196d6a4"
   }
  }
 },
 "nbformat": 4,
 "nbformat_minor": 2
}
