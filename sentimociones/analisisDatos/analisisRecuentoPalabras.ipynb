{
 "cells": [
  {
   "cell_type": "markdown",
   "metadata": {},
   "source": [
    "## Analizando letras\n",
    "Analiza palabras de las letras de canciones"
   ]
  },
  {
   "cell_type": "code",
   "execution_count": 4,
   "metadata": {},
   "outputs": [
    {
     "name": "stdout",
     "output_type": "stream",
     "text": [
      "['universe', 'want', 'want', 'put', 'first', 'universe', 'night', 'lie', 'look', 'morning', 'comes', 'watch', 'rise', \"there's\", 'paradise', 'capture', 'bright', 'infinity', 'inside', 'eyes', 'never', 'ending', 'forever', 'baby', 'universe', 'want', 'want', 'put', 'first', 'put', 'first', 'universe', 'make', 'heart', 'light', 'inside', 'eyes', 'said', \"can't\", 'together', 'come', 'different', 'sides', 'universe', 'want', 'want', 'put', 'first', 'put', 'first', 'universe', 'make', 'heart', 'light', 'inside', 'universe', 'universe', 'universe', 'make', 'world', 'make', 'world', 'light', 'inside', 'make', 'world', 'light', 'inside', \"i'm\", 'without', \"i'm\", 'crazy', 'made', 'baby', 'universe', 'want', 'want', 'put', 'first', 'put', 'first', 'universe', 'make', 'world', 'light', 'inside', 'universe', 'universe', 'want', 'universe', 'universe', 'universe']\n"
     ]
    }
   ],
   "source": [
    "import sys\n",
    "sys.path.append(sys.path[0] + '/..')\n",
    "from bdd import mongoDB_cliente\n",
    "# Maluma                HAWÁI\n",
    "# EL BOBE / ALPEDUE     ELLA\n",
    "canciones = mongoDB_cliente.obtenerColeccion('CANCIONES', {'cantante': 'Coldplay, BTS', 'cancion': 'My Universe'})   \n",
    "letra_preprocesada = canciones[0]['letra_preprocesada']\n",
    "print(letra_preprocesada)"
   ]
  },
  {
   "cell_type": "code",
   "execution_count": 5,
   "metadata": {},
   "outputs": [],
   "source": [
    "# función que cuenta palabras más comunes\n",
    "def obtener_total_palabras(lista_palabras):\n",
    "    contador_palabras = {}\n",
    "    for palabra in lista_palabras:\n",
    "        if palabra not in contador_palabras:\n",
    "            contador_palabras[palabra] = 1\n",
    "        else:\n",
    "            contador_palabras[palabra] += 1\n",
    "    return contador_palabras"
   ]
  },
  {
   "cell_type": "code",
   "execution_count": 6,
   "metadata": {},
   "outputs": [
    {
     "name": "stdout",
     "output_type": "stream",
     "text": [
      "Palabra      Total\n",
      "---------  -------\n",
      "universe        16\n",
      "want             9\n",
      "put              7\n",
      "first            7\n",
      "inside           6\n",
      "make             6\n",
      "light            5\n",
      "world            4\n",
      "eyes             2\n",
      "baby             2\n",
      "heart            2\n",
      "i'm              2\n",
      "night            1\n",
      "lie              1\n",
      "look             1\n",
      "morning          1\n",
      "comes            1\n",
      "watch            1\n",
      "rise             1\n",
      "there's          1\n",
      "paradise         1\n",
      "capture          1\n",
      "bright           1\n",
      "infinity         1\n",
      "never            1\n",
      "ending           1\n",
      "forever          1\n",
      "said             1\n",
      "can't            1\n",
      "together         1\n",
      "come             1\n",
      "different        1\n",
      "sides            1\n",
      "without          1\n",
      "crazy            1\n",
      "made             1\n"
     ]
    }
   ],
   "source": [
    "from collections import Counter\n",
    "from tabulate import tabulate\n",
    "\n",
    "palabras_contador = obtener_total_palabras(letra_preprocesada)\n",
    "palabras_contador = Counter(palabras_contador)\n",
    "lista_palabras_contadas = palabras_contador.most_common()\n",
    "print(tabulate(lista_palabras_contadas, headers=['Palabra', 'Total']))"
   ]
  }
 ],
 "metadata": {
  "kernelspec": {
   "display_name": "Python 3.8.10 ('entorno_prueba')",
   "language": "python",
   "name": "python3"
  },
  "language_info": {
   "codemirror_mode": {
    "name": "ipython",
    "version": 3
   },
   "file_extension": ".py",
   "mimetype": "text/x-python",
   "name": "python",
   "nbconvert_exporter": "python",
   "pygments_lexer": "ipython3",
   "version": "3.8.10"
  },
  "orig_nbformat": 4,
  "vscode": {
   "interpreter": {
    "hash": "df928c92915a6e295095bb07de7b84624befc7d196e01c26e318bdc14196d6a4"
   }
  }
 },
 "nbformat": 4,
 "nbformat_minor": 2
}
