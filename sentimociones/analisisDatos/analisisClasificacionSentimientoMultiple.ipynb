{
 "cells": [
  {
   "cell_type": "markdown",
   "metadata": {},
   "source": [
    "## Analizando la clasificación de sentimientos múltiples con los modelos:\n",
    "1. SVC\n",
    "2. LinearSVC\n",
    "3. RandomForestClassifier\n",
    "4. DecisionTreeClassifier"
   ]
  },
  {
   "cell_type": "code",
   "execution_count": 1,
   "metadata": {},
   "outputs": [],
   "source": [
    "import sys\n",
    "sys.path.append(sys.path[0] + '/..')\n",
    "from bdd import mongoDB_cliente\n",
    "\n",
    "auditoria_ml_sentimientos_multiple = mongoDB_cliente.obtenerColeccion('AUDITORIA', {'tipo auditoria': 'Modelos Aprendizaje Automático', \n",
    "'proceso': 'Clasifiación Sentimientos Múltiples', 'cantante': '', 'canción':''})   \n",
    "\n",
    "modelos_duracion = {}\n",
    "modelos_resultado = {}\n",
    "modelos_parametros = {}\n",
    "for pista in auditoria_ml_sentimientos_multiple:\n",
    "    modelos_duracion[pista['modelo']] = [pista['modelo'], pista['duración']]\n",
    "    modelos_resultado[pista['modelo']] = [pista['modelo'], pista['parametros y resultados'][1]] \n",
    "    modelos_parametros[pista['modelo']] = [pista['modelo'], pista['parametros y resultados'][0]] "
   ]
  },
  {
   "cell_type": "markdown",
   "metadata": {},
   "source": [
    "## Análisis del tiempo de entrenamiento"
   ]
  },
  {
   "cell_type": "code",
   "execution_count": 2,
   "metadata": {},
   "outputs": [
    {
     "name": "stdout",
     "output_type": "stream",
     "text": [
      "-------------  ------------  ----------------------  ----------------------\n",
      "SVC            LinearSVC     RandomForestClassifier  DecisionTreeClassifier\n",
      "55.0 segundos  5.0 segundos  49.0 segundos           17.0 segundos\n",
      "-------------  ------------  ----------------------  ----------------------\n"
     ]
    },
    {
     "data": {
      "image/png": "[encoded data removed]",
      "text/plain": [
       "<Figure size 640x480 with 1 Axes>"
      ]
     },
     "metadata": {},
     "output_type": "display_data"
    }
   ],
   "source": [
    "from tabulate import tabulate\n",
    "import matplotlib.pyplot as plt\n",
    "\n",
    "print(tabulate(modelos_duracion))\n",
    "\n",
    "modeloSVC = modelos_duracion['SVC'][0]\n",
    "duracionSVC = int(float(modelos_duracion['SVC'][1].split(' ')[0]))\n",
    "modeloLSVC = modelos_duracion['LinearSVC'][0]\n",
    "duracionLSVC = int(float(modelos_duracion['LinearSVC'][1].split(' ')[0]))\n",
    "modeloLRForest = modelos_duracion['RandomForestClassifier'][0]\n",
    "duracionRForest = int(float(modelos_duracion['RandomForestClassifier'][1].split(' ')[0]))\n",
    "modeloDTree = modelos_duracion['DecisionTreeClassifier'][0]\n",
    "duracionDTree = int(float(modelos_duracion['DecisionTreeClassifier'][1].split(' ')[0]))\n",
    "\n",
    "fig = plt.figure()\n",
    "ax = fig.add_axes([0,0,1,1])\n",
    "langs = [modeloSVC, modeloLSVC, modeloLRForest, modeloDTree]\n",
    "students = [duracionSVC,duracionLSVC,duracionRForest,duracionDTree]\n",
    "ax.bar(langs,students)\n",
    "plt.show()"
   ]
  },
  {
   "cell_type": "code",
   "execution_count": 3,
   "metadata": {},
   "outputs": [
    {
     "name": "stdout",
     "output_type": "stream",
     "text": [
      "Modelo                    Precisión entrenamiento   Precisión pruebas        \n",
      "-----------------------   -----------------------   -----------------------  \n",
      "SVC                       0.911096256684492         0.4772727272727273       \n",
      "LinearSVC                 0.9991644385026738        0.5588235294117647       \n",
      "RandomForestClassifier    0.9991644385026738        0.5294117647058824       \n",
      "DecisionTreeClassifier    0.9991644385026738        0.4244652406417112       \n"
     ]
    }
   ],
   "source": [
    "print (\"{:<25} {:<25} {:<25}\".format('Modelo', 'Precisión entrenamiento', 'Precisión pruebas'))\n",
    "print (\"{:<25} {:<25} {:<25}\".format('-----------------------', '-----------------------', '-----------------------'))\n",
    "for r in modelos_resultado:\n",
    "    resultado = modelos_resultado[r][1]\n",
    "    print (\"{:<25} {:<25} {:<25}\".format(r, resultado['Precisión entrenamiento'], resultado['Precisión pruebas']))"
   ]
  },
  {
   "cell_type": "code",
   "execution_count": 4,
   "metadata": {},
   "outputs": [
    {
     "name": "stdout",
     "output_type": "stream",
     "text": [
      "\n",
      "Modelo:  SVC\n",
      "Parámetro                           Valor          \n",
      "-------------                       ---------------\n",
      "C                                   1.0            \n",
      "break_ties                          False          \n",
      "cache_size                          200            \n",
      "class_weight                        None           \n",
      "coef0                               0.0            \n",
      "decision_function_shape             ovr            \n",
      "degree                              3              \n",
      "gamma                               scale          \n",
      "kernel                              rbf            \n",
      "max_iter                            -1             \n",
      "probability                         False          \n",
      "random_state                        None           \n",
      "shrinking                           True           \n",
      "tol                                 0.001          \n",
      "verbose                             False          \n",
      "\n",
      "Modelo:  LinearSVC\n",
      "Parámetro                           Valor          \n",
      "-------------                       ---------------\n",
      "C                                   1.0            \n",
      "class_weight                        None           \n",
      "dual                                True           \n",
      "fit_intercept                       True           \n",
      "intercept_scaling                   1              \n",
      "loss                                squared_hinge  \n",
      "max_iter                            1000           \n",
      "multi_class                         ovr            \n",
      "penalty                             l2             \n",
      "random_state                        100            \n",
      "tol                                 0.0001         \n",
      "verbose                             0              \n",
      "\n",
      "Modelo:  RandomForestClassifier\n",
      "Parámetro                           Valor          \n",
      "-------------                       ---------------\n",
      "bootstrap                           True           \n",
      "ccp_alpha                           0.0            \n",
      "class_weight                        None           \n",
      "criterion                           gini           \n",
      "max_depth                           None           \n",
      "max_features                        auto           \n",
      "max_leaf_nodes                      None           \n",
      "max_samples                         None           \n",
      "min_impurity_decrease               0.0            \n",
      "min_impurity_split                  None           \n",
      "min_samples_leaf                    1              \n",
      "min_samples_split                   2              \n",
      "min_weight_fraction_leaf            0.0            \n",
      "n_estimators                        100            \n",
      "n_jobs                              None           \n",
      "oob_score                           False          \n",
      "random_state                        100            \n",
      "verbose                             0              \n",
      "warm_start                          False          \n",
      "\n",
      "Modelo:  DecisionTreeClassifier\n",
      "Parámetro                           Valor          \n",
      "-------------                       ---------------\n",
      "ccp_alpha                           0.0            \n",
      "class_weight                        None           \n",
      "criterion                           gini           \n",
      "max_depth                           None           \n",
      "max_features                        None           \n",
      "max_leaf_nodes                      None           \n",
      "min_impurity_decrease               0.0            \n",
      "min_impurity_split                  None           \n",
      "min_samples_leaf                    1              \n",
      "min_samples_split                   2              \n",
      "min_weight_fraction_leaf            0.0            \n",
      "random_state                        None           \n",
      "splitter                            best           \n"
     ]
    }
   ],
   "source": [
    "for p in modelos_parametros:\n",
    "    print('\\nModelo: ', p)\n",
    "    print (\"{:<35} {:<15}\".format('Parámetro', 'Valor'))\n",
    "    print (\"{:<35} {:<15}\".format('-------------', '---------------'))\n",
    "    parametros = modelos_parametros[p][1]\n",
    "    for pp in parametros:\n",
    "        #print(pp)\n",
    "        #print(parametros[pp])\n",
    "        print (\"{:<35} {:<15}\".format(pp, str(parametros[pp])))\n",
    "    #print (\"{:<25} {:<400}\".format(p, ''))\n",
    "    #print(parametros)\n",
    "    "
   ]
  }
 ],
 "metadata": {
  "kernelspec": {
   "display_name": "Python 3.8.10 ('entorno_prueba')",
   "language": "python",
   "name": "python3"
  },
  "language_info": {
   "codemirror_mode": {
    "name": "ipython",
    "version": 3
   },
   "file_extension": ".py",
   "mimetype": "text/x-python",
   "name": "python",
   "nbconvert_exporter": "python",
   "pygments_lexer": "ipython3",
   "version": "3.8.10"
  },
  "orig_nbformat": 4,
  "vscode": {
   "interpreter": {
    "hash": "df928c92915a6e295095bb07de7b84624befc7d196e01c26e318bdc14196d6a4"
   }
  }
 },
 "nbformat": 4,
 "nbformat_minor": 2
}
