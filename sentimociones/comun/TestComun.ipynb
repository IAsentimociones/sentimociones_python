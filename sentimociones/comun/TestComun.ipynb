{
 "cells": [
  {
   "cell_type": "code",
   "execution_count": null,
   "id": "f506d9eb",
   "metadata": {},
   "outputs": [],
   "source": [
    "# prueba métodos para base de datos en MongoDB\n",
    "import cadena\n",
    "\n",
    "simple = 'Rauw Alejandro'\n",
    "completa = 'RAUW ALEJANDRO / CHENCHO CORLEONE'\n",
    "\n",
    "print(cadena.contieneCadena(simple, completa))"
   ]
  },
  {
   "cell_type": "code",
   "execution_count": 2,
   "id": "8518922b",
   "metadata": {},
   "outputs": [
    {
     "name": "stdout",
     "output_type": "stream",
     "text": [
      "fecha y tiempo actual =  19/09/2022 19:14:58\n"
     ]
    }
   ],
   "source": [
    "import fecha\n",
    "\n",
    "print(\"fecha y tiempo actual = \", fecha.obtenerFechaTiempoActual())"
   ]
  }
 ],
 "metadata": {
  "kernelspec": {
   "display_name": "Python 3.8.10 ('entorno_prueba')",
   "language": "python",
   "name": "python3"
  },
  "language_info": {
   "codemirror_mode": {
    "name": "ipython",
    "version": 3
   },
   "file_extension": ".py",
   "mimetype": "text/x-python",
   "name": "python",
   "nbconvert_exporter": "python",
   "pygments_lexer": "ipython3",
   "version": "3.8.10"
  },
  "vscode": {
   "interpreter": {
    "hash": "df928c92915a6e295095bb07de7b84624befc7d196e01c26e318bdc14196d6a4"
   }
  }
 },
 "nbformat": 4,
 "nbformat_minor": 5
}
