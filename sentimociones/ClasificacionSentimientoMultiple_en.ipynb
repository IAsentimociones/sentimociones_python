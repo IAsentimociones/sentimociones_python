{
 "cells": [
  {
   "cell_type": "markdown",
   "metadata": {},
   "source": [
    "## Proceso 4: Clasificación de sentimientos múltiples, como: alegría, ira, culpa, etc."
   ]
  },
  {
   "cell_type": "code",
   "execution_count": 1,
   "metadata": {},
   "outputs": [],
   "source": [
    "from sklearn.model_selection import train_test_split\n",
    "from sklearn.svm import SVC\n",
    "from sklearn.svm import LinearSVC\n",
    "from sklearn.ensemble import RandomForestClassifier\n",
    "from sklearn.tree import DecisionTreeClassifier\n",
    "from sklearn.feature_extraction import DictVectorizer\n",
    "\n",
    "import sys\n",
    "sys.path.append(sys.path[0] + '/..')\n",
    "\n",
    "from comun import archivo, cadena\n",
    "from preprocesamiento import tokenizacion\n",
    "from aprendizajeAutomatico import entrenamiento, prediccion\n",
    "from sentimociones.sentimientos.sentimientoMultiple import JOY, FEAR, ANGER, SADNESS, DISGUST, SHAME, GUILT"
   ]
  },
  {
   "cell_type": "markdown",
   "metadata": {},
   "source": [
    "## Lee dataset con texto en español clasificado con sentimientos múltiples"
   ]
  },
  {
   "cell_type": "code",
   "execution_count": 2,
   "metadata": {},
   "outputs": [
    {
     "name": "stdout",
     "output_type": "stream",
     "text": [
      "Number of instances: 7480\n"
     ]
    }
   ],
   "source": [
    "dataset_sentimientos_es = \"sentimientoMultiple_en.txt\"\n",
    "data = archivo.leer_datos(dataset_sentimientos_es)\n",
    "print(\"Number of instances: {}\".format(len(data)))"
   ]
  },
  {
   "cell_type": "markdown",
   "metadata": {},
   "source": [
    "### Función para almacenar las etiquetas, que se basarán en emociones como Alegría, Miedo, Ira, etc.:"
   ]
  },
  {
   "cell_type": "code",
   "execution_count": 3,
   "metadata": {},
   "outputs": [],
   "source": [
    "emotions = [JOY, FEAR, ANGER, SADNESS, DISGUST, SHAME, GUILT]\n",
    "\n",
    "X_all = []\n",
    "y_all = []\n",
    "for label, text in data:\n",
    "    y_all.append(cadena.convertirEtiqueta(label, emotions))\n",
    "    X_all.append(tokenizacion.crear_caracteristica(text, nrange=(1, 4)))"
   ]
  },
  {
   "cell_type": "markdown",
   "metadata": {},
   "source": [
    "### Separación de datos en conjuntos de entrenamiento y prueba"
   ]
  },
  {
   "cell_type": "code",
   "execution_count": 4,
   "metadata": {},
   "outputs": [],
   "source": [
    "X_train, X_test, y_train, y_test = train_test_split(X_all, y_all, test_size = 0.2, random_state = 100)\n",
    "vectorizer = DictVectorizer(sparse = True)\n",
    "X_train = vectorizer.fit_transform(X_train)\n",
    "X_test = vectorizer.transform(X_test)"
   ]
  },
  {
   "cell_type": "markdown",
   "metadata": {},
   "source": [
    "### Entrenamiento con cuatro modelos de aprendizaje automático para la clasificación múltiple de sentimientos:\n",
    "1. Clasificación con vectores de Soporte \n",
    "2. Clasificación con vectores de soporte lineal\n",
    "3. Clasificación con randon forest\n",
    "4. Clasificación con árboles de decisión"
   ]
  },
  {
   "cell_type": "code",
   "execution_count": 5,
   "metadata": {},
   "outputs": [
    {
     "name": "stderr",
     "output_type": "stream",
     "text": [
      "c:\\tools\\ides\\anaconda\\envs\\entorno_prueba\\lib\\site-packages\\sklearn\\svm\\_base.py:985: ConvergenceWarning: Liblinear failed to converge, increase the number of iterations.\n",
      "  warnings.warn(\"Liblinear failed to converge, increase \"\n"
     ]
    }
   ],
   "source": [
    "svc = SVC()\n",
    "lsvc = LinearSVC(random_state=100)\n",
    "rforest = RandomForestClassifier(random_state=100)\n",
    "dtree = DecisionTreeClassifier()\n",
    "\n",
    "clifs = [svc, lsvc, rforest, dtree]\n",
    "\n",
    "modelos = {}\n",
    "for clf in clifs: \n",
    "    modelos[clf.__class__.__name__] = entrenamiento.entrenar_probar(clf, X_train, X_test, y_train, y_test)"
   ]
  },
  {
   "cell_type": "markdown",
   "metadata": {},
   "source": [
    "## Resultado de los modelos"
   ]
  },
  {
   "cell_type": "code",
   "execution_count": 6,
   "metadata": {},
   "outputs": [
    {
     "name": "stdout",
     "output_type": "stream",
     "text": [
      "SVC {'Precisión entrenamiento': 0.9114304812834224, 'Precisión pruebas': 0.47927807486631013}\n",
      "LinearSVC {'Precisión entrenamiento': 0.9989973262032086, 'Precisión pruebas': 0.5621657754010695}\n",
      "RandomForestClassifier {'Precisión entrenamiento': 0.9989973262032086, 'Precisión pruebas': 0.5508021390374331}\n",
      "DecisionTreeClassifier {'Precisión entrenamiento': 0.9989973262032086, 'Precisión pruebas': 0.44719251336898397}\n"
     ]
    }
   ],
   "source": [
    "for modelo in modelos:\n",
    "    print(modelo, modelos[modelo][1])"
   ]
  },
  {
   "cell_type": "markdown",
   "metadata": {},
   "source": [
    "## Definición de la etiqueta múltiple de sentimientos con su respectivo emoji"
   ]
  },
  {
   "cell_type": "code",
   "execution_count": 7,
   "metadata": {},
   "outputs": [
    {
     "name": "stdout",
     "output_type": "stream",
     "text": [
      "joy       (1. 0. 0. 0. 0. 0. 0.)  1084\n",
      "anger     (0. 0. 1. 0. 0. 0. 0.)  1080\n",
      "sadness   (0. 0. 0. 1. 0. 0. 0.)  1079\n",
      "fear      (0. 1. 0. 0. 0. 0. 0.)  1078\n",
      "disgust   (0. 0. 0. 0. 1. 0. 0.)  1057\n",
      "guilt     (0. 0. 0. 0. 0. 0. 1.)  1057\n",
      "shame     (0. 0. 0. 0. 0. 1. 0.)  1045\n"
     ]
    }
   ],
   "source": [
    "l = [JOY, FEAR, ANGER, SADNESS, DISGUST, SHAME, GUILT]\n",
    "l.sort()\n",
    "label_freq = {}\n",
    "for label, _ in data: \n",
    "    label_freq[label] = label_freq.get(label, 0) + 1\n",
    "\n",
    "# imprime las etiquetas ordenadas\n",
    "for l in sorted(label_freq, key=label_freq.get, reverse=True):\n",
    "    print(\"{:10}({})  {}\".format(cadena.convertirEtiqueta(l, emotions), l, label_freq[l]))\n",
    "\n",
    "emoji_dict = {JOY:\"😂\", FEAR:\"😱\", ANGER:\"😠\", SADNESS:\"😢\", DISGUST:\"😒\", SHAME:\"😳\", GUILT:\"😳\"}"
   ]
  },
  {
   "cell_type": "markdown",
   "metadata": {},
   "source": [
    "## Obtiene letra de canción preprocesada"
   ]
  },
  {
   "cell_type": "code",
   "execution_count": 20,
   "metadata": {},
   "outputs": [
    {
     "name": "stdout",
     "output_type": "stream",
     "text": [
      "blinding lights ingles ive tryna call ive long enough maybe show love maybe im going withdrawals dont even much turn touch baby chorus look around citys cold empty ones around judge cant see clearly youre gone chorus said im blinded lights cant sleep feel touch said im drowning night im like youre one trust im running time cause see sun light sky hit road overdrive baby chorus citys cold empty ones around judge cant see clearly youre gone chorus said im blinded lights cant sleep feel touch said im drowning night im like youre one trust bridge im calling back let know back let know could never say phone say phone never let go time chorus said im blinded lights cant sleep feel touch said im blinded lights cant sleep feel touch weeknd blinding lights \n"
     ]
    }
   ],
   "source": [
    "from bdd import mongoDB_cliente\n",
    "from aprendizajeAutomatico import prediccion\n",
    "\n",
    "cantante = 'The Weeknd'\n",
    "cancion = 'Blinding Lights'\n",
    "\n",
    "canciones = mongoDB_cliente.obtenerColeccion('CANCIONES', {'cantante': cantante, 'cancion': cancion})   \n",
    "letra_preprocesada = canciones[0]['letra_preprocesada']\n",
    "letra_cancion_pre = ''\n",
    "for letra in letra_preprocesada:\n",
    "    letra_cancion_pre = letra_cancion_pre + letra + \" \"\n",
    "print(letra_cancion_pre)"
   ]
  },
  {
   "cell_type": "markdown",
   "metadata": {},
   "source": [
    "## Predicción del modelo con vectores de soporte"
   ]
  },
  {
   "cell_type": "code",
   "execution_count": 21,
   "metadata": {},
   "outputs": [
    {
     "name": "stdout",
     "output_type": "stream",
     "text": [
      "Clasificación de sentimientos con vectores de soporte:  😠 anger\n"
     ]
    }
   ],
   "source": [
    "from aprendizajeAutomatico import entrenamiento, prediccion\n",
    "\n",
    "modelo = svc\n",
    "res_prediccion, modelos = prediccion.predecirTexto(modelo, letra_cancion_pre, vectorizer, modelos, cancion, cantante)\n",
    "print('Clasificación de sentimientos con vectores de soporte: ', emoji_dict[res_prediccion], res_prediccion)"
   ]
  },
  {
   "cell_type": "markdown",
   "metadata": {},
   "source": [
    "## Ejecución del modelo vectores de soporte lineal"
   ]
  },
  {
   "cell_type": "code",
   "execution_count": 22,
   "metadata": {},
   "outputs": [
    {
     "name": "stdout",
     "output_type": "stream",
     "text": [
      "Clasificación de sentimientos con vectores de soporte:  😱 fear\n"
     ]
    }
   ],
   "source": [
    "modelo = lsvc\n",
    "res_prediccion, modelos = prediccion.predecirTexto(modelo, letra_cancion_pre, vectorizer, modelos, cancion, cantante)\n",
    "print('Clasificación de sentimientos con vectores de soporte: ', emoji_dict[res_prediccion], res_prediccion)"
   ]
  },
  {
   "cell_type": "markdown",
   "metadata": {},
   "source": [
    "## Ejecución del modelo randon forest"
   ]
  },
  {
   "cell_type": "code",
   "execution_count": 23,
   "metadata": {},
   "outputs": [
    {
     "name": "stdout",
     "output_type": "stream",
     "text": [
      "Clasificación de sentimientos con vectores de soporte:  😱 fear\n"
     ]
    }
   ],
   "source": [
    "modelo = rforest\n",
    "res_prediccion, modelos = prediccion.predecirTexto(modelo, letra_cancion_pre, vectorizer, modelos, cancion, cantante)\n",
    "print('Clasificación de sentimientos con vectores de soporte: ', emoji_dict[res_prediccion], res_prediccion)"
   ]
  },
  {
   "cell_type": "markdown",
   "metadata": {},
   "source": [
    "# Ejecución del modelo con árboles de decisión"
   ]
  },
  {
   "cell_type": "code",
   "execution_count": 24,
   "metadata": {},
   "outputs": [
    {
     "name": "stdout",
     "output_type": "stream",
     "text": [
      "Clasificación de sentimientos con vectores de soporte:  😱 fear\n"
     ]
    }
   ],
   "source": [
    "modelo = dtree\n",
    "res_prediccion, modelos = prediccion.predecirTexto(modelo, letra_cancion_pre, vectorizer, modelos, cancion, cantante)\n",
    "print('Clasificación de sentimientos con vectores de soporte: ', emoji_dict[res_prediccion], res_prediccion)"
   ]
  },
  {
   "cell_type": "markdown",
   "metadata": {},
   "source": [
    "## Actualización del resultado en Base de datos"
   ]
  },
  {
   "cell_type": "code",
   "execution_count": 25,
   "metadata": {},
   "outputs": [
    {
     "data": {
      "text/plain": [
       "'documento actualizado correctamente'"
      ]
     },
     "execution_count": 25,
     "metadata": {},
     "output_type": "execute_result"
    }
   ],
   "source": [
    "from logica import cancion_logica\n",
    "from sentimientos import sentimientoMultiple\n",
    "\n",
    "cancion_logica.actualizarCancionSentimientoMultiple(canciones[0], sentimientoMultiple.obtenerResultadoPredicciones(modelos))"
   ]
  }
 ],
 "metadata": {
  "kernelspec": {
   "display_name": "Python 3.8.10 ('entorno_prueba')",
   "language": "python",
   "name": "python3"
  },
  "language_info": {
   "codemirror_mode": {
    "name": "ipython",
    "version": 3
   },
   "file_extension": ".py",
   "mimetype": "text/x-python",
   "name": "python",
   "nbconvert_exporter": "python",
   "pygments_lexer": "ipython3",
   "version": "3.8.10"
  },
  "orig_nbformat": 4,
  "vscode": {
   "interpreter": {
    "hash": "df928c92915a6e295095bb07de7b84624befc7d196e01c26e318bdc14196d6a4"
   }
  }
 },
 "nbformat": 4,
 "nbformat_minor": 2
}
