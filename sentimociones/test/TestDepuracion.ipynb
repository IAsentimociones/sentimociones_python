{
 "cells": [
  {
   "cell_type": "code",
   "execution_count": 1,
   "id": "559ec25a",
   "metadata": {},
   "outputs": [
    {
     "name": "stdout",
     "output_type": "stream",
     "text": [
      "\n",
      "Letra blinding lights Lyrics en Ingles\n",
      "******[intro]\n",
      "yeah\n",
      "\n",
      "[verse 1]\n",
      "ive been tryna call\n",
      "ive been on my own for long enough\n",
      "maybe you can show me how to love, maybe\n",
      "im going through withdrawals\n",
      "you dont even have to do too much\n",
      "you can turn me on with just a touch, baby\n",
      "\n",
      "[pre-chorus]\n",
      "i look around and\n",
      "sin citys cold and empty (oh)\n",
      "no ones around to judge me (oh)\n",
      "i cant see clearly when youre gone\n",
      "\n",
      "[chorus]\n",
      "i said, ooh, im blinded by the lights\n",
      "no, i cant sleep until i feel your touch\n",
      "i said, ooh, im drowning in the night\n",
      "oh, when im like this, youre the one i trust\n",
      "hey, hey, hey\n",
      "\n",
      "[verse 2]\n",
      "im running out of time\n",
      "cause i can see the sun light up the sky\n",
      "so i hit the road in overdrive, baby, oh\n",
      "\n",
      "[pre-chorus]\n",
      "the citys cold and empty (oh)\n",
      "no ones around to judge me (oh)\n",
      "i cant see clearly when youre gone\n",
      "\n",
      "[chorus]\n",
      "i said, ooh, im blinded by the lights\n",
      "no, i cant sleep until i feel your touch\n",
      "i said, ooh, im drowning in the night\n",
      "oh, when im like this, youre the one i trust\n",
      "\n",
      "[bridge]\n",
      "im just calling back to let you know (back to let you know)\n",
      "i could never say it on the phone (say it on the phone)\n",
      "will never let you go this time (ooh)\n",
      "\n",
      "[chorus]\n",
      "i said, ooh, im blinded by the lights\n",
      "no, i cant sleep until i feel your touch\n",
      "hey, hey, hey\n",
      "hey, hey, hey\n",
      "\n",
      "[outro]\n",
      "i said, ooh, im blinded by the lights\n",
      "no, i cant sleep until i feel your touch the weeknd blinding lights Lyrics Translate\n",
      "the weeknd traducción\n",
      "******[introducción]\n",
      "sí\n",
      "\n",
      "[verso 1]\n",
      "he estado intentando llamar\n",
      "he estado solo por el tiempo suficiente\n",
      "tal vez puedas mostrarme cómo amar, tal vez\n",
      "estoy pasando por retiros\n",
      "ni siquiera tienes que hacer demasiado\n",
      "puedes encenderme con solo un toque, bebé\n",
      "\n",
      "[pre coro]\n",
      "miro a mi alrededor y\n",
      "la ciudad del pecado está fría y vacía (oh)\n",
      "no hay nadie para juzgarme (oh)\n",
      "no puedo ver claramente cuando te vas\n",
      "\n",
      "[coro]\n",
      "dije, ooh, estoy cegado por las luces\n",
      "no, no puedo dormir hasta que sienta tu toque\n",
      "dije, ooh, me estoy ahogando en la noche\n",
      "oh, cuando estoy así, eres en quien confío\n",
      "hey hey hey\n",
      "\n",
      "[verso 2]\n",
      "se me acaba el tiempo\n",
      "porque puedo ver el sol iluminar el cielo\n",
      "así que salí a la carretera a toda marcha, bebé, oh\n",
      "\n",
      "[pre coro]\n",
      "la ciudad está fría y vacía (oh)\n",
      "no hay nadie para juzgarme (oh)\n",
      "no puedo ver claramente cuando te vas\n",
      "\n",
      "[coro]\n",
      "dije, ooh, estoy cegado por las luces\n",
      "no, no puedo dormir hasta que sienta tu toque\n",
      "dije, ooh, me estoy ahogando en la noche\n",
      "oh, cuando estoy así, eres en quien confío\n",
      "\n",
      "[puente]\n",
      "solo vuelvo a llamar para informarle (volver para informarle)\n",
      "nunca podría decirlo por teléfono (dilo por teléfono)\n",
      "nunca te dejaré ir esta vez (ooh)\n",
      "\n",
      "[coro]\n",
      "dije, ooh, estoy cegado por las luces\n",
      "no, no puedo dormir hasta que sienta tu toque\n",
      "hey hey hey\n",
      "hey hey hey\n",
      "\n",
      "[outro]\n",
      "dije, ooh, estoy cegado por las luces\n",
      "no, no puedo dormir hasta que sienta tu toque\n",
      " \n",
      "******[intro]the weeknd traducción\n",
      "******[introducción]\n",
      "\n",
      " Blackpink - Shut Down  letra\n",
      " \n",
      " Selena Gomez - Calm Down Ft Rema  letra\n",
      " \n",
      " John Legend - Nervous  letra\n",
      " \n",
      " Nicki Minaj - Super Freaky Girl (queen Mix) Ft Jt Y Bia  letra\n",
      " \n",
      " Elton John - Hold Me Closer Ft Britney Spears  letra\n",
      " \n",
      " Demi Lovato - Help Me (feat. Dead Sara)  letra\n",
      " \n",
      " Demi Lovato - Come Together  letra\n",
      " \n",
      " Demi Lovato - Bones  letra\n",
      " \n",
      " Demi Lovato - Feed  letra\n",
      " \n",
      " Demi Lovato - Holy Fvck  letra\n",
      "\n"
     ]
    }
   ],
   "source": [
    "import sys\n",
    "sys.path.append(sys.path[0] + '/..')\n",
    "from bdd import mongoDB_cliente\n",
    "\n",
    "# obtiene las canciones sin letras\n",
    "#canciones_con_letra = cancion_col.find({'estado': 'CON LETRA'}).limit(1) \n",
    "# obtiene un canción específica\n",
    "cantante = 'The Weeknd'\n",
    "cancion = 'Blinding Lights'\n",
    "\n",
    "canciones = mongoDB_cliente.obtenerColeccion('CANCIONES', {'cantante': cantante, 'cancion': cancion})   \n",
    "letra = canciones[0]['letra']\n",
    "print(letra)"
   ]
  },
  {
   "cell_type": "code",
   "execution_count": 2,
   "id": "3e5d5deb",
   "metadata": {},
   "outputs": [
    {
     "name": "stdout",
     "output_type": "stream",
     "text": [
      "['Letra', 'blinding', 'lights', 'Lyrics', 'en', 'Ingles', 'intro', 'yeah', 'verse', 'ive', 'been', 'tryna', 'call', 'ive', 'been', 'on', 'my', 'own', 'for', 'long', 'enough', 'maybe', 'you', 'can', 'show', 'me', 'how', 'to', 'love', 'maybe', 'im', 'going', 'through', 'withdrawals', 'you', 'dont', 'even', 'have', 'to', 'do', 'too', 'much', 'you', 'can', 'turn', 'me', 'on', 'with', 'just', 'touch', 'baby', 'pre', 'chorus', 'look', 'around', 'and', 'sin', 'citys', 'cold', 'and', 'empty', 'oh', 'no', 'ones', 'around', 'to', 'judge', 'me', 'oh', 'cant', 'see', 'clearly', 'when', 'youre', 'gone', 'chorus', 'said', 'ooh', 'im', 'blinded', 'by', 'the', 'lights', 'no', 'cant', 'sleep', 'until', 'feel', 'your', 'touch', 'said', 'ooh', 'im', 'drowning', 'in', 'the', 'night', 'oh', 'when', 'im', 'like', 'this', 'youre', 'the', 'one', 'trust', 'hey', 'hey', 'hey', 'verse', 'im', 'running', 'out', 'of', 'time', 'cause', 'can', 'see', 'the', 'sun', 'light', 'up', 'the', 'sky', 'so', 'hit', 'the', 'road', 'in', 'overdrive', 'baby', 'oh', 'pre', 'chorus', 'the', 'citys', 'cold', 'and', 'empty', 'oh', 'no', 'ones', 'around', 'to', 'judge', 'me', 'oh', 'cant', 'see', 'clearly', 'when', 'youre', 'gone', 'chorus', 'said', 'ooh', 'im', 'blinded', 'by', 'the', 'lights', 'no', 'cant', 'sleep', 'until', 'feel', 'your', 'touch', 'said', 'ooh', 'im', 'drowning', 'in', 'the', 'night', 'oh', 'when', 'im', 'like', 'this', 'youre', 'the', 'one', 'trust', 'bridge', 'im', 'just', 'calling', 'back', 'to', 'let', 'you', 'know', 'back', 'to', 'let', 'you', 'know', 'could', 'never', 'say', 'it', 'on', 'the', 'phone', 'say', 'it', 'on', 'the', 'phone', 'will', 'never', 'let', 'you', 'go', 'this', 'time', 'ooh', 'chorus', 'said', 'ooh', 'im', 'blinded', 'by', 'the', 'lights', 'no', 'cant', 'sleep', 'until', 'feel', 'your', 'touch', 'hey', 'hey', 'hey', 'hey', 'hey', 'hey', 'outro', 'said', 'ooh', 'im', 'blinded', 'by', 'the', 'lights', 'no', 'cant', 'sleep', 'until', 'feel', 'your', 'touch', 'the', 'weeknd', 'blinding', 'lights', 'Lyrics', 'Translate', 'the', 'weeknd', 'traducción', 'introducción', 'sí', 'verso', 'he', 'estado', 'intentando', 'llamar', 'he', 'estado', 'solo', 'por', 'el', 'tiempo', 'suficiente', 'tal', 'vez', 'puedas', 'mostrarme', 'cómo', 'amar', 'tal', 'vez', 'estoy', 'pasando', 'por', 'retiros', 'ni', 'siquiera', 'tienes', 'que', 'hacer', 'demasiado', 'puedes', 'encenderme', 'con', 'solo', 'un', 'toque', 'bebé', 'pre', 'coro', 'miro', 'mi', 'alrededor', 'la', 'ciudad', 'del', 'pecado', 'está', 'fría', 'vacía', 'oh', 'no', 'hay', 'nadie', 'para', 'juzgarme', 'oh', 'no', 'puedo', 'ver', 'claramente', 'cuando', 'te', 'vas', 'coro', 'dije', 'ooh', 'estoy', 'cegado', 'por', 'las', 'luces', 'no', 'no', 'puedo', 'dormir', 'hasta', 'que', 'sienta', 'tu', 'toque', 'dije', 'ooh', 'me', 'estoy', 'ahogando', 'en', 'la', 'noche', 'oh', 'cuando', 'estoy', 'así', 'eres', 'en', 'quien', 'confío', 'hey', 'hey', 'hey', 'verso', 'se', 'me', 'acaba', 'el', 'tiempo', 'porque', 'puedo', 'ver', 'el', 'sol', 'iluminar', 'el', 'cielo', 'así', 'que', 'salí', 'la', 'carretera', 'toda', 'marcha', 'bebé', 'oh', 'pre', 'coro', 'la', 'ciudad', 'está', 'fría', 'vacía', 'oh', 'no', 'hay', 'nadie', 'para', 'juzgarme', 'oh', 'no', 'puedo', 'ver', 'claramente', 'cuando', 'te', 'vas', 'coro', 'dije', 'ooh', 'estoy', 'cegado', 'por', 'las', 'luces', 'no', 'no', 'puedo', 'dormir', 'hasta', 'que', 'sienta', 'tu', 'toque', 'dije', 'ooh', 'me', 'estoy', 'ahogando', 'en', 'la', 'noche', 'oh', 'cuando', 'estoy', 'así', 'eres', 'en', 'quien', 'confío', 'puente', 'solo', 'vuelvo', 'llamar', 'para', 'informarle', 'volver', 'para', 'informarle', 'nunca', 'podría', 'decirlo', 'por', 'teléfono', 'dilo', 'por', 'teléfono', 'nunca', 'te', 'dejaré', 'ir', 'esta', 'vez', 'ooh', 'coro', 'dije', 'ooh', 'estoy', 'cegado', 'por', 'las', 'luces', 'no', 'no', 'puedo', 'dormir', 'hasta', 'que', 'sienta', 'tu', 'toque', 'hey', 'hey', 'hey', 'hey', 'hey', 'hey', 'outro', 'dije', 'ooh', 'estoy', 'cegado', 'por', 'las', 'luces', 'no', 'no', 'puedo', 'dormir', 'hasta', 'que', 'sienta', 'tu', 'toque', 'intro', 'the', 'weeknd', 'traducción', 'introducción', 'Blackpink', 'Shut', 'Down', 'letra', 'Selena', 'Gomez', 'Calm', 'Down', 'Ft', 'Rema', 'letra', 'John', 'Legend', 'Nervous', 'letra', 'Nicki', 'Minaj', 'Super', 'Freaky', 'Girl', 'queen', 'Mix', 'Ft', 'Jt', 'Bia', 'letra', 'Elton', 'John', 'Hold', 'Me', 'Closer', 'Ft', 'Britney', 'Spears', 'letra', 'Demi', 'Lovato', 'Help', 'Me', 'feat', 'Dead', 'Sara', 'letra', 'Demi', 'Lovato', 'Come', 'Together', 'letra', 'Demi', 'Lovato', 'Bones', 'letra', 'Demi', 'Lovato', 'Feed', 'letra', 'Demi', 'Lovato', 'Holy', 'Fvck', 'letra']\n"
     ]
    }
   ],
   "source": [
    "from preprocesamiento import tokenizacion\n",
    "\n",
    "contenido_tokenizado = tokenizacion.tokenizarConExpresionesRegulares(letra)\n",
    "print(contenido_tokenizado)"
   ]
  },
  {
   "cell_type": "code",
   "execution_count": 3,
   "id": "00766fe3",
   "metadata": {},
   "outputs": [
    {
     "name": "stdout",
     "output_type": "stream",
     "text": [
      "['blinding', 'lights', 'ingles', 'intro', 'verse', 'ive', 'tryna', 'call', 'ive', 'long', 'enough', 'maybe', 'show', 'love', 'maybe', 'im', 'going', 'withdrawals', 'dont', 'even', 'much', 'turn', 'touch', 'baby', 'chorus', 'look', 'around', 'citys', 'cold', 'empty', 'ones', 'around', 'judge', 'cant', 'see', 'clearly', 'youre', 'gone', 'chorus', 'said', 'im', 'blinded', 'lights', 'cant', 'sleep', 'feel', 'touch', 'said', 'im', 'drowning', 'night', 'im', 'like', 'youre', 'one', 'trust', 'verse', 'im', 'running', 'time', 'cause', 'see', 'sun', 'light', 'sky', 'hit', 'road', 'overdrive', 'baby', 'chorus', 'citys', 'cold', 'empty', 'ones', 'around', 'judge', 'cant', 'see', 'clearly', 'youre', 'gone', 'chorus', 'said', 'im', 'blinded', 'lights', 'cant', 'sleep', 'feel', 'touch', 'said', 'im', 'drowning', 'night', 'im', 'like', 'youre', 'one', 'trust', 'bridge', 'im', 'calling', 'back', 'let', 'know', 'back', 'let', 'know', 'could', 'never', 'say', 'phone', 'say', 'phone', 'never', 'let', 'go', 'time', 'chorus', 'said', 'im', 'blinded', 'lights', 'cant', 'sleep', 'feel', 'touch', 'said', 'im', 'blinded', 'lights', 'cant', 'sleep', 'feel', 'touch', 'weeknd', 'blinding', 'lights']\n"
     ]
    }
   ],
   "source": [
    "from preprocesamiento import depuracion\n",
    "\n",
    "#contenido = ['Hombre', 'no', 'te', 'sale', 'sale', 'Tr', 'Fact', 'Hombre', 'no', 'te', 'sale', 'sale', 'sale', 'sale', 'Morad', 'no', 'te', 'Morad', 'cómo', 'te', 'sales', \"sale'\", 'sale', 'sale', 'sale', 'Si', 'entras', 'aquí', 'no', 'ah', \"sale'\", 'sale', \"sale'\", \"sale'\", \"sale'\", 'Morad', 'cómo', 'te', 'sales', 'sales', 'si', 'entras', 'aquí', 'no', 'sales', 'sales', 'Sabes', 'que', 'tú', 'no', 'vales', \"vale'\", 'como', 'sueno', 'yo', 'en', 'instrumentales', \"ale'\", 'Hablando', 'de', 'los', \"mundo'\", 'de', \"ilegale'\", \"ale'\", 'Pegadizo', 'como', 'Dale', 'Don', 'Dale', 'ale', 'Yo', 'sonando', 'siempre', 'en', 'la', 'calle', 'tú', 'Principales', \"ale'\", 'Cuatro', \"guitarrista'\", \"ista'\", 'que', 'tienen', 'orquesta', 'orquesta', 'Para', 'hacer', 'un', 'tema', 'ala', 'que', 'no', 'suena', 'ni', 'en', 'la', 'fiesta', 'no', 'no', 'no', 'Yo', 'hago', 'mi', 'escritura', 'fumando', 'uno', 'de', 'verdura', 'ah', 'Tú', 'dos', 'meses', 'duras', 'tú', \"está'\", 'fuera', 'cobertura', 'jaja', 'La', 'calle', 'está', 'loca', 'loca', 'eso', \"e'\", 'lo', 'que', 'pica', 'pica', 'Pagamos', 'Toca', 'tú', 'pidiéndole', 'tu', 'chica', 'chica', 'El', 'capo', 'González', 'lez', 'puede', 'que', 'te', 'cale', 'cale', 'Tu', 'coche', 'se', 'cala', \"acaba'\", 'luego', 'en', 'la', 'tele', \"cuidao'\", 'Mira', 'que', 'ya', \"e'\", 'fácil', \"cuidao'\", 'en', 'cinco', \"minuto'\", \"cuidao'\", 'Lo', 'hago', 'ya', 'duro', 'rápido', 'también', 'impoluto', 'Más', 'duro', 'que', 'yeso', 'más', 'de', 'uno', 'lo', 'discuto', 'Yo', 'solo', 'no', 'no', 'no', 'no', 'no', 'no', 'no', 'no', 'Oye', 'oye', 'oye', 'para', 'para', 'para', 'para', 'para', 'Espera', 'espera', 'espera', 'espera', 'espera', 'que', 'lo', 'cambie', 'Dice', 'dice', 'Dime', 'dónde', \"para'\", 'para', 'ir', 'buscarte', 'cogerte', 'aparte', 'Dónde', \"está'\", \"escondí'o\", 'mí', 'no', 'interesa', 'Tener', 'que', 'grabarte', 'si', 'eres', 'un', 'desastre', 'Dónde', \"está'\", \"escondí'o\", 'quién', 'es', 'tu', 'colega', 'El', 'que', 'te', 'lo', 'brega', 'el', 'que', 'por', 'ti', 'se', 'pega', 'Dónde', \"está'\", \"escondí'o\", 'Dónde', \"e'\", 'tu', 'grupo', \"Pa'\", 'ver', 'cómo', 'lo', 'escupo', 'luego', 'ni', 'me', 'preocupo', 'Dónde', \"está'\", \"escondí'o\", 'Pa', 'pa', 'para', 'para', 'para', 'para', 'Tú', \"tiene'\", 'una', 'pistola', 'pero', 'no', \"dispara'\", \"para'\", \"para'\", \"para'\", 'Eladio', 'dijo', 'No', 'hay', 'chaleco', \"pa'\", 'la', 'cara', 'cara', 'cara', 'cara', \"Entonce'\", 'te', \"haremo'\", 'la', 'de', 'los', 'amara', 'la', 'de', 'los', 'amara', 'te', 'raja', 'Espera', 'espera', 'Ahora', 'veo', 'que', 'toy', 'haciendo', 'lo', 'que', 'quiera', 'lo', 'que', 'quiera', 'quiera', 'tú', 'apretado', 'con', 'interés', 'de', 'disquera', 'de', 'disquera', 'quera', 'yo', 'tranquilo', 'hasta', 'el', 'día', 'que', 'me', 'muera', 'Hasta', 'que', 'me', 'pe', 'oye', 'oye', 'oye', 'Pe', 'pe', 'pelele', 'Te', 'crees', 'que', 'es', 'muy', 'fácil', 'nombrar', 'la', 'Si', 'sabemos', 'que', 'tú', 'no', \"llega'\", 'los', \"nivele'\", 'nosotros', 'os', 'pusimos', \"vosotro'\", 'los', \"chele'\", 'los', \"primero'\", \"chele'\", 'Pe', 'pe', 'pelele', 'Te', 'crees', 'que', 'es', 'muy', 'fácil', 'nombrar', 'la', 'Si', 'sabemos', 'que', 'tú', 'no', \"llega'\", 'los', \"nivele'\", 'nosotros', 'os', \"pusimo'\", \"vosotro'\", 'los', \"chele'\", 'los', 'primeros', \"chele'\", 'Pa', 'pa', 'para', 'Cuando', 'me', 'ven', 'de', 'frente', 'ya', 'me', 'dicen', 'Para', 'para', 'para', 'para', 'Cuando', 'me', 'ven', 'de', 'frente', 'ya', 'me', 'dicen', 'Para', 'para', 'para', 'Cuando', 'me', 'ven', 'de', 'frente', 'ya', 'me', 'dicen', 'Para', 'para', 'para', 'para', 'Ya', 'me', 'dicen', 'Para', 'Pe', 'pe', 'pelele', 'Pelele', 'Pelele', 'Pelele', 'Pe', 'pe', 'pelele', 'Veo', 'veo', 'veo', 'tu', 'grupo', 'jaja', 'si', 'yo', 'los', 'veo', 'jaja', 'pe', 'pe', 'pelele', 'Grupo', 'Jaja', 'si', 'yo', 'los', 'veo', 'jaja', 'pelele', 'Grupo', 'Jaja', 'si', 'yo', 'los', 'veo', 'jaja', 'pelele', 'Veo', 'tu', 'grupo', 'solo', 'me', 'sale', 'Jajajaja', 'pelele', 'Veo', 'tu', 'grupo', 'solo', 'jajajaja', 'pe', 'pe', 'pelele', 'Veo', 'tu', 'grupo', 'solo', 'jajajaja', 'pelele', 'Jajaja', 'jajaja', 'pelele', 'Tu', 'mama', 'de', 'teta', 'jajajaja', 'pelele', 'Pe', 'pe', 'pelele']\n",
    "#print(contenido)\n",
    "\n",
    "contenido_depurado = depuracion.eliminarPalabrasVacias(contenido_tokenizado)\n",
    "print(contenido_depurado)"
   ]
  }
 ],
 "metadata": {
  "kernelspec": {
   "display_name": "Python 3.8.10 ('entorno_prueba')",
   "language": "python",
   "name": "python3"
  },
  "language_info": {
   "codemirror_mode": {
    "name": "ipython",
    "version": 3
   },
   "file_extension": ".py",
   "mimetype": "text/x-python",
   "name": "python",
   "nbconvert_exporter": "python",
   "pygments_lexer": "ipython3",
   "version": "3.8.10"
  },
  "vscode": {
   "interpreter": {
    "hash": "df928c92915a6e295095bb07de7b84624befc7d196e01c26e318bdc14196d6a4"
   }
  }
 },
 "nbformat": 4,
 "nbformat_minor": 5
}
