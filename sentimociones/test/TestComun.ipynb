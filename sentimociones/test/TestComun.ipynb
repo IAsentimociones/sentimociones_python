{
 "cells": [
  {
   "cell_type": "code",
   "execution_count": null,
   "id": "f506d9eb",
   "metadata": {},
   "outputs": [],
   "source": [
    "# prueba métodos para base de datos en MongoDB\n",
    "import cadena\n",
    "\n",
    "simple = 'Rauw Alejandro'\n",
    "completa = 'RAUW ALEJANDRO / CHENCHO CORLEONE'\n",
    "\n",
    "print(cadena.contieneCadena(simple, completa))"
   ]
  },
  {
   "cell_type": "code",
   "execution_count": null,
   "id": "8518922b",
   "metadata": {},
   "outputs": [],
   "source": [
    "import fecha\n",
    "\n",
    "print(\"fecha y tiempo actual = \", fecha.obtenerFechaTiempoActual())"
   ]
  },
  {
   "cell_type": "code",
   "execution_count": 1,
   "id": "c43d70f2",
   "metadata": {},
   "outputs": [
    {
     "name": "stdout",
     "output_type": "stream",
     "text": [
      "tiempo iniciio 1663637868.8641074\n",
      "tiempo_inicio 1663637868.8641074\n",
      "time.time() 1663637870.3749259\n",
      "1.5 segundos\n"
     ]
    }
   ],
   "source": [
    "import time\n",
    "import cadena\n",
    "\n",
    "tiempo_inicio = time.time()\n",
    "print('tiempo iniciio', tiempo_inicio)\n",
    "time.sleep(1.5) # Simula un proceso o delay\n",
    "print(cadena.obtenertiempoProcesado(tiempo_inicio))"
   ]
  }
 ],
 "metadata": {
  "kernelspec": {
   "display_name": "Python 3.8.10 ('entorno_prueba')",
   "language": "python",
   "name": "python3"
  },
  "language_info": {
   "codemirror_mode": {
    "name": "ipython",
    "version": 3
   },
   "file_extension": ".py",
   "mimetype": "text/x-python",
   "name": "python",
   "nbconvert_exporter": "python",
   "pygments_lexer": "ipython3",
   "version": "3.8.10"
  },
  "vscode": {
   "interpreter": {
    "hash": "df928c92915a6e295095bb07de7b84624befc7d196e01c26e318bdc14196d6a4"
   }
  }
 },
 "nbformat": 4,
 "nbformat_minor": 5
}
