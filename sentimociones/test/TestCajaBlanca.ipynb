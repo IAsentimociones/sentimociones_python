{
 "cells": [
  {
   "cell_type": "code",
   "execution_count": null,
   "id": "13df41ab",
   "metadata": {},
   "outputs": [],
   "source": [
    "import sys\n",
    "sys.path.append(sys.path[0] + '/..')\n",
    "from cajaBlanca import logger\n",
    "\n",
    "log = logger.configurar('log_prueba.log', 'TestCajaBlanca')\n",
    "log.debug('prueba log debug tíldes')\n",
    "log.info('prueba log info')\n",
    "log.warning('prueba warning ASDF')"
   ]
  },
  {
   "cell_type": "code",
   "execution_count": null,
   "id": "ab47303f",
   "metadata": {},
   "outputs": [],
   "source": [
    "import auditoria\n",
    "import time\n",
    "\n",
    "tiempo_inicio = time.time()\n",
    "\n",
    "# registra pistas de auditoría para procesos\n",
    "# proceso, tiempo_inicio, caracteristicas\n",
    "auditoria.registrarPistaProceso(['Extracción de letras Test', tiempo_inicio, ['satisfactorio', 'español', 'completado']])\n",
    "auditoria.registrarPistaProceso(['Preprocesamiento Test', tiempo_inicio, ['satisfactorio']])\n",
    "auditoria.registrarPistaProceso(['Clasificación de Sentimientos Test', tiempo_inicio, ['satisfactorio', 'BERT']])\n",
    "\n",
    "# registra pistas de auditoría para modelos de aprendizaje autormático\n",
    "# modelo, proceso, tiempo_inicio, parametros, resultados\n",
    "auditoria.registrarPistaModelosML(['Randon forest Test', 'Clasificación Sentimientos', tiempo_inicio, ['randon_state=44', 'max_feature=auto', 'text_size=3', 'duracion=5622'], ['accuracy=95.6', 'F1-Score=0.125']])\n",
    "auditoria.registrarPistaModelosML(['Bag of words  Test', 'Clasificación Sentimientos', tiempo_inicio, ['count=88', 'duracion=5663'], ['accuracy=95.6', 'F1-Score=0.125', 'Recall=Y']])\n",
    "auditoria.registrarPistaModelosML(['BERT', 'Predicción de sentimientos', tiempo_inicio, ['rn=1500', 'transformer=8', 'duracion=566'], ['accuracy=85.6', 'F1-Score=0.25', 'Recall=N', 'Precision=0.98']])\n"
   ]
  }
 ],
 "metadata": {
  "kernelspec": {
   "display_name": "Python 3.8.10 ('entorno_prueba')",
   "language": "python",
   "name": "python3"
  },
  "language_info": {
   "codemirror_mode": {
    "name": "ipython",
    "version": 3
   },
   "file_extension": ".py",
   "mimetype": "text/x-python",
   "name": "python",
   "nbconvert_exporter": "python",
   "pygments_lexer": "ipython3",
   "version": "3.8.10"
  },
  "vscode": {
   "interpreter": {
    "hash": "df928c92915a6e295095bb07de7b84624befc7d196e01c26e318bdc14196d6a4"
   }
  }
 },
 "nbformat": 4,
 "nbformat_minor": 5
}
