{
 "cells": [
  {
   "cell_type": "code",
   "execution_count": null,
   "id": "f506d9eb",
   "metadata": {},
   "outputs": [],
   "source": [
    "# prueba métodos para base de datos en MongoDB\n",
    "import mongoDB_cliente\n",
    "\n",
    "coleccion = 'coleccion prueba'\n",
    "\n",
    "# prueba insertar un documento a una colección de MongoDB\n",
    "documento = {\"name\": \"documento prueba 1\", \"age\": \"1\", \"city\": \"Quito\"}\n",
    "identificador = mongoDB_cliente.insertarDocumento(coleccion, documento)\n",
    "print('Identificador del documento insertado: ', identificador)\n",
    "\n",
    "# prueba insertar varios documentos en una colección de MongoDB\n",
    "documentos = [\n",
    "   {\"name\": \"documento prueba 2\", \"age\": \"2\", \"city\": \"Hyderabad\"},\n",
    "   {\"name\": \"documento prueba 3\", \"age\": \"3\", \"city\": \"Bangalore\"},\n",
    "   {\"name\": \"documento prueba 4\", \"age\": \"4\", \"city\": \"Mumbai\"}]\n",
    "identificadores = mongoDB_cliente.insertarDocumentos(coleccion, documentos)\n",
    "print('Identificadores de los documentos insertados: ', identificadores)"
   ]
  },
  {
   "cell_type": "code",
   "execution_count": 5,
   "id": "30693fff",
   "metadata": {},
   "outputs": [
    {
     "name": "stdout",
     "output_type": "stream",
     "text": [
      "{'_id': ObjectId('630a2ce69ffbb04a4088c611'), 'cancion': 'PELELE', 'cantante': 'MORAD', 'estado': 'SIN LETRA', 'letra': 'letra prueba 1'}\n",
      "PELELE\n",
      "registro actualizado\n"
     ]
    }
   ],
   "source": [
    "import mongoDB_cliente\n",
    "\n",
    "# prueba la obtención de canciones\n",
    "COLECCION_CANCIONES = \"CANCIONES\"\n",
    "canciones_sin_letra = mongoDB_cliente.obtenerColeccion(COLECCION_CANCIONES, {'estado': 'SIN LETRA'})\n",
    "\n",
    "for cancion_pendiente in canciones_sin_letra:\n",
    "    print(cancion_pendiente)\n",
    "    cancion = cancion_pendiente['cancion']\n",
    "    print (cancion)\n",
    "    mongoDB_cliente.actualizarColeccion(COLECCION_CANCIONES, cancion_pendiente, {\"$set\": {'letra': 'letra prueba 1', 'estado': 'SIN LETRA'}})\n",
    "    print(\"registro actualizado\")"
   ]
  }
 ],
 "metadata": {
  "kernelspec": {
   "display_name": "Python 3.8.10 ('entorno_prueba')",
   "language": "python",
   "name": "python3"
  },
  "language_info": {
   "codemirror_mode": {
    "name": "ipython",
    "version": 3
   },
   "file_extension": ".py",
   "mimetype": "text/x-python",
   "name": "python",
   "nbconvert_exporter": "python",
   "pygments_lexer": "ipython3",
   "version": "3.8.10"
  },
  "vscode": {
   "interpreter": {
    "hash": "df928c92915a6e295095bb07de7b84624befc7d196e01c26e318bdc14196d6a4"
   }
  }
 },
 "nbformat": 4,
 "nbformat_minor": 5
}
