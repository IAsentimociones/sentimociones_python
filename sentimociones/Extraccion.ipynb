{
 "cells": [
  {
   "cell_type": "markdown",
   "id": "140b5e3b",
   "metadata": {},
   "source": [
    "## Proceso 1: Extracción de canciones y cantantes"
   ]
  },
  {
   "cell_type": "code",
   "execution_count": 1,
   "id": "243b4884",
   "metadata": {},
   "outputs": [],
   "source": [
    "import numpy as np\n",
    "from extraccion import webscraping\n",
    "import sys\n",
    "sys.path.append(sys.path[0] + '/..')\n",
    "from logica import cancion_logica, sitio_logica\n",
    "\n",
    "import time\n",
    "from cajaBlanca import auditoria\n",
    "\n",
    "EXTRACCION_CANCION = 'Extracción Canción Cantante Sitio'\n",
    "tiempo_inicial = time.time()\n",
    "\n",
    "# obtener contenido de canciones más escuchadas de la página top 100 del mes de enero portaldemusica.es\n",
    "URL = 'https://www.elportaldemusica.es/lists/top-100-canciones/2022/1'\n",
    "contenedor = 'w1'\n",
    "divPrincipal = 'item'\n",
    "elementosHtml = np.array([\n",
    "   ['p', 'single-list-entry-rank-position'], \n",
    "   ['div', 'name'],\n",
    "   ['div', 'related'] \n",
    "])\n",
    "elementosExtraidos = webscraping.obtenerElementos(URL, contenedor, divPrincipal, elementosHtml)\n",
    "\n",
    "# registra canciones\n",
    "lista_canciones = cancion_logica.insertarCancionCantante(elementosExtraidos)\n",
    "\n",
    "# registra sitio web\n",
    "sitio_logica.insertarSitio(URL, lista_canciones)\n",
    "\n",
    "# registra pista del proceso de extracción\n",
    "auditoria.registrarPistaProceso([EXTRACCION_CANCION, tiempo_inicial, [auditoria.ESTADO_COMPLETADO, 'sitio:www.elportaldemusica.es', 'top:100', '2022-01']])"
   ]
  },
  {
   "cell_type": "markdown",
   "id": "ee60dfad",
   "metadata": {},
   "source": [
    "## Proceso 2: Extracción de Letras de canciones"
   ]
  },
  {
   "cell_type": "code",
   "execution_count": 2,
   "id": "99117540",
   "metadata": {},
   "outputs": [
    {
     "name": "stdout",
     "output_type": "stream",
     "text": [
      "fin de la extracción de letras\n"
     ]
    }
   ],
   "source": [
    "'''\n",
    "Obtiene letra de canciones\n",
    "'''\n",
    "from logica import cancion_logica, letras_logica\n",
    "\n",
    "import time\n",
    "from cajaBlanca import auditoria\n",
    "\n",
    "PROCESO_PRINCIPAL = 'Extracción Letras General'\n",
    "tiempo_inicial = time.time()\n",
    "\n",
    "# variables utilizados como contadores de exito y fracaso\n",
    "exito = 0\n",
    "fracaso = 0\n",
    "\n",
    "# obtener canciones pendientes si letras registradas\n",
    "canciones_pendientes = cancion_logica.obtenerCancionesPorEstado(cancion_logica.ESTADO_SIN_LETRA)\n",
    "\n",
    "for cancion_pendiente in canciones_pendientes:\n",
    "    # obtiene el nombre de la canción y del cantante de la base de datos que no tiene letras\n",
    "    nombre_cancion = cancion_pendiente['cancion']\n",
    "    nombre_cantante = cancion_pendiente['cantante']\n",
    "   \n",
    "    # obtiene letra de canción desde varios conetnidos web\n",
    "    tiempo_inicial_lyrics = time.time()\n",
    "    letra_cancion = letras_logica.obtenerLetraConLyrics(nombre_cancion, nombre_cantante)\n",
    "    if letra_cancion == '':\n",
    "        auditoria.registrarPistaProceso(['Extracción Letra Lyrics', tiempo_inicial_lyrics, [auditoria.RESULTADO_FRACASO]])\n",
    "        tiempo_inicial_letras4u = time.time()\n",
    "        letra_cancion = letras_logica.obtenerLetraConLetras4u(nombre_cancion, nombre_cantante)\n",
    "        if letra_cancion == '':\n",
    "            auditoria.registrarPistaProceso(['Extracción Letra Letras4u', tiempo_inicial_letras4u, [auditoria.RESULTADO_FRACASO]])\n",
    "            tiempo_inicial_yaletras = time.time()\n",
    "            letra_cancion = letras_logica.obtenerLetraConYaLetras(nombre_cancion, nombre_cantante)\n",
    "            if letra_cancion == '':\n",
    "                auditoria.registrarPistaProceso(['Extracción Letra Yaletras', tiempo_inicial_yaletras, [auditoria.RESULTADO_FRACASO]])\n",
    "                tiempo_inicial_cancioneros = time.time()\n",
    "                letra_cancion = letras_logica.obtenerLetraConCancioneros(nombre_cancion, nombre_cantante)\n",
    "                if letra_cancion == '':\n",
    "                    auditoria.registrarPistaProceso(['Extracción Letra Cancioneros', tiempo_inicial_cancioneros, [auditoria.RESULTADO_FRACASO]])\n",
    "                    tiempo_inicial_google = time.time()\n",
    "                    letra_cancion = letras_logica.obtenerLetraConGoogle(nombre_cancion, nombre_cantante)\n",
    "                    if letra_cancion == '':\n",
    "                        auditoria.registrarPistaProceso(['Extracción Letra Google', tiempo_inicial_google, [auditoria.RESULTADO_FRACASO]])\n",
    "                    else:\n",
    "                        auditoria.registrarPistaProceso(['Extracción Letra Google', tiempo_inicial_google, [auditoria.RESULTADO_EXITO]])\n",
    "                else:\n",
    "                    auditoria.registrarPistaProceso(['Extracción Letra Cancioneros', tiempo_inicial_cancioneros, [auditoria.RESULTADO_EXITO]])\n",
    "            else:\n",
    "                auditoria.registrarPistaProceso(['Extracción Letra Yaletras', tiempo_inicial_yaletras, [auditoria.RESULTADO_EXITO]])\n",
    "        else:\n",
    "            auditoria.registrarPistaProceso(['Extracción Letra Letras4u', tiempo_inicial_letras4u, [auditoria.RESULTADO_EXITO]])\n",
    "\n",
    "    else:\n",
    "        auditoria.registrarPistaProceso(['Extracción Letra Lyrics', tiempo_inicial_lyrics, [auditoria.RESULTADO_EXITO]])\n",
    "\n",
    "      \n",
    "    # actualiza la letra en la colección de la canción\n",
    "    if letra_cancion == '':\n",
    "        fracaso = fracaso + 1\n",
    "        cancion_logica.actualizarCancionNoEncontrado(cancion_pendiente)\n",
    "    else:\n",
    "        exito = exito + 1\n",
    "        cancion_logica.actualizarCancionPendiente(cancion_pendiente, letra_cancion)\n",
    "\n",
    "# registra pista del proceso de extracción\n",
    "total = exito + fracaso\n",
    "auditoria.registrarPistaProceso([PROCESO_PRINCIPAL, tiempo_inicial, [auditoria.ESTADO_COMPLETADO, 'total:' + str(total), 'exito:' + str(exito), 'fracaso:' + str(fracaso)]])\n",
    "\n",
    "print('fin de la extracción de letras')"
   ]
  },
  {
   "cell_type": "markdown",
   "id": "f767ccdc",
   "metadata": {},
   "source": [
    "## Proceso 3: Preprocesamiento de las letras extraidas con webscrapping"
   ]
  },
  {
   "cell_type": "code",
   "execution_count": 3,
   "id": "86fc7bae",
   "metadata": {},
   "outputs": [],
   "source": [
    "'''\n",
    "Preprocesamiento de letras de canciones\n",
    "'''\n",
    "from logica import cancion_logica\n",
    "from preprocesamiento import tokenizacion, depuracion\n",
    "import time\n",
    "from cajaBlanca import auditoria\n",
    "\n",
    "PROCESO_PRINCIPAL = 'Preprocesamiento General'\n",
    "\n",
    "tiempo_inicial = time.time()\n",
    "\n",
    "# obtiene canciones con letras para su preprocesamiento de texto\n",
    "canciones = cancion_logica.obtenerCancionesPorEstado(cancion_logica.ESTADO_CON_LETRA)\n",
    "total = 0\n",
    "for cancion in canciones:\n",
    "   total = total + 1\n",
    "   letra = cancion['letra']\n",
    "   letra_tokenizado = tokenizacion.tokenizarConExpresionesRegulares(letra)\n",
    "   letra_depurada = depuracion.eliminarPalabrasVacias(letra_tokenizado)\n",
    "   cancion_logica.actualizarCancionPreprocesado(cancion, letra_depurada)\n",
    "               \n",
    "auditoria.registrarPistaProceso([PROCESO_PRINCIPAL, tiempo_inicial, [auditoria.ESTADO_COMPLETADO, 'total letras procesadas: ' + str(total)]])\n",
    "  "
   ]
  }
 ],
 "metadata": {
  "kernelspec": {
   "display_name": "Python 3.8.10 ('entorno_prueba')",
   "language": "python",
   "name": "python3"
  },
  "language_info": {
   "codemirror_mode": {
    "name": "ipython",
    "version": 3
   },
   "file_extension": ".py",
   "mimetype": "text/x-python",
   "name": "python",
   "nbconvert_exporter": "python",
   "pygments_lexer": "ipython3",
   "version": "3.8.10"
  },
  "vscode": {
   "interpreter": {
    "hash": "df928c92915a6e295095bb07de7b84624befc7d196e01c26e318bdc14196d6a4"
   }
  }
 },
 "nbformat": 4,
 "nbformat_minor": 5
}
