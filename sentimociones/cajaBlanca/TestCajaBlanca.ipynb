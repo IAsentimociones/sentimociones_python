{
 "cells": [
  {
   "cell_type": "code",
   "execution_count": null,
   "id": "13df41ab",
   "metadata": {},
   "outputs": [],
   "source": [
    "import logger\n",
    "\n",
    "log = logger.configurar('log_prueba.log', 'TestCajaBlanca')\n",
    "log.debug('prueba log debug')\n",
    "log.info('prueba log info')\n",
    "log.warning('prueba warning')"
   ]
  },
  {
   "cell_type": "code",
   "execution_count": null,
   "id": "ab47303f",
   "metadata": {},
   "outputs": [],
   "source": [
    "import auditoria\n",
    "import sys\n",
    "sys.path.append(sys.path[0] + '/..')\n",
    "from comun import fecha\n",
    "\n",
    "fechaActual = fecha.obtenerFechaTiempoActual()\n",
    "\n",
    "# registra pistas de auditoría para procesos\n",
    "# proceso, fecha, duracion, caracteristicas\n",
    "pistaProceso1 = ['Extracción de letras Test', fechaActual, '500', ['satisfactorio', 'español', 'completado']]\n",
    "auditoria.registrarPistaProceso(pistaProceso1)\n",
    "pistaProceso2 = ['Preprocesamiento Test', fechaActual, '250', ['satisfactorio']]\n",
    "auditoria.registrarPistaProceso(pistaProceso2)\n",
    "pistaProceso2 = ['Clasificación de Sentimientos Test', fechaActual, '17250', ['satisfactorio', 'BERT']]\n",
    "auditoria.registrarPistaProceso(pistaProceso2)\n",
    "\n",
    "# registra pistas de auditoría para modelos de aprendizaje autormático\n",
    "# modelo, fecha, proceso, parametros, resultados\n",
    "pistaML1 = ['Randon forest Test', fechaActual, 'Clasificación Sentimientos', ['randon_state=44', 'max_feature=auto', 'text_size=3', 'duracion=5622'], ['accuracy=95.6', 'F1-Score=0.125']]\n",
    "auditoria.registrarPistaModelosML(pistaML1)\n",
    "pistaML2 = ['Bag of words  Test', fechaActual, 'Clasificación Sentimientos', ['count=88', 'duracion=5663'], ['accuracy=95.6', 'F1-Score=0.125', 'Recall=Y']]\n",
    "auditoria.registrarPistaModelosML(pistaML2)\n",
    "pistaML2 = ['BERT', fechaActual, 'Predicción de sentimientos', ['rn=1500', 'transformer=8', 'duracion=566'], ['accuracy=85.6', 'F1-Score=0.25', 'Recall=N', 'Precision=0.98']]\n",
    "auditoria.registrarPistaModelosML(pistaML2)\n"
   ]
  }
 ],
 "metadata": {
  "kernelspec": {
   "display_name": "Python 3.8.10 ('entorno_prueba')",
   "language": "python",
   "name": "python3"
  },
  "language_info": {
   "codemirror_mode": {
    "name": "ipython",
    "version": 3
   },
   "file_extension": ".py",
   "mimetype": "text/x-python",
   "name": "python",
   "nbconvert_exporter": "python",
   "pygments_lexer": "ipython3",
   "version": "3.8.10"
  },
  "vscode": {
   "interpreter": {
    "hash": "df928c92915a6e295095bb07de7b84624befc7d196e01c26e318bdc14196d6a4"
   }
  }
 },
 "nbformat": 4,
 "nbformat_minor": 5
}
