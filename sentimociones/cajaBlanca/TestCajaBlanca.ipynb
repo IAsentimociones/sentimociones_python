{
 "cells": [
  {
   "cell_type": "code",
   "execution_count": 2,
   "id": "13df41ab",
   "metadata": {},
   "outputs": [],
   "source": [
    "import logger\n",
    "\n",
    "log = logger.configurar('log_prueba.log', 'TestCajaBlanca')\n",
    "log.debug('prueba log debug')\n",
    "log.info('prueba log info')\n",
    "log.warning('prueba warning')"
   ]
  }
 ],
 "metadata": {
  "kernelspec": {
   "display_name": "Python 3.8.10 ('entorno_prueba')",
   "language": "python",
   "name": "python3"
  },
  "language_info": {
   "codemirror_mode": {
    "name": "ipython",
    "version": 3
   },
   "file_extension": ".py",
   "mimetype": "text/x-python",
   "name": "python",
   "nbconvert_exporter": "python",
   "pygments_lexer": "ipython3",
   "version": "3.8.10"
  },
  "vscode": {
   "interpreter": {
    "hash": "df928c92915a6e295095bb07de7b84624befc7d196e01c26e318bdc14196d6a4"
   }
  }
 },
 "nbformat": 4,
 "nbformat_minor": 5
}
