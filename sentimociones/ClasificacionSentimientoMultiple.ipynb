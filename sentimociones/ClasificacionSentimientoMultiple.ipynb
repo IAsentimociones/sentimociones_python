{
 "cells": [
  {
   "cell_type": "markdown",
   "metadata": {},
   "source": [
    "## Proceso 4: Clasificación de sentimientos múltiples, como: alegría, ira, culpa, etc."
   ]
  },
  {
   "cell_type": "code",
   "execution_count": 1,
   "metadata": {},
   "outputs": [],
   "source": [
    "#import re \n",
    "#from collections import Counter\n",
    "from sklearn.model_selection import train_test_split\n",
    "#from sklearn.metrics import accuracy_score\n",
    "from sklearn.svm import SVC\n",
    "from sklearn.svm import LinearSVC\n",
    "from sklearn.ensemble import RandomForestClassifier\n",
    "from sklearn.tree import DecisionTreeClassifier\n",
    "from sklearn.feature_extraction import DictVectorizer\n",
    "#import time\n",
    "\n",
    "import sys\n",
    "sys.path.append(sys.path[0] + '/..')\n",
    "\n",
    "#from cajaBlanca import auditoria\n",
    "from comun import archivo, cadena\n",
    "from preprocesamiento import tokenizacion\n",
    "from aprendizajeAutomatico import entrenamiento, prediccion\n",
    "from sentimociones.sentimientos.sentimientoMultiple import ALEGRIA, CULPA, DISGUSTO, IRA, MIEDO, TRISTEZA, VERGUENZA"
   ]
  },
  {
   "cell_type": "markdown",
   "metadata": {},
   "source": [
    "## Lee dataset con texto en español clasificado con sentimientos múltiples"
   ]
  },
  {
   "cell_type": "code",
   "execution_count": 2,
   "metadata": {},
   "outputs": [
    {
     "name": "stdout",
     "output_type": "stream",
     "text": [
      "Number of instances: 7480\n"
     ]
    }
   ],
   "source": [
    "dataset_sentimientos_es = \"sentimientoMultiple_es.txt\"\n",
    "data = archivo.leer_datos(dataset_sentimientos_es)\n",
    "print(\"Number of instances: {}\".format(len(data)))"
   ]
  },
  {
   "cell_type": "markdown",
   "metadata": {},
   "source": [
    "### Función para almacenar las etiquetas, que se basarán en emociones como Alegría, Miedo, Ira, etc.:"
   ]
  },
  {
   "cell_type": "code",
   "execution_count": 3,
   "metadata": {},
   "outputs": [],
   "source": [
    "emotions = [ALEGRIA, MIEDO, IRA, TRISTEZA, DISGUSTO, VERGUENZA, CULPA]\n",
    "\n",
    "X_all = []\n",
    "y_all = []\n",
    "for label, text in data:\n",
    "    y_all.append(cadena.convertirEtiqueta(label, emotions))\n",
    "    X_all.append(tokenizacion.crear_caracteristica(text, nrange=(1, 4)))"
   ]
  },
  {
   "cell_type": "markdown",
   "metadata": {},
   "source": [
    "### Separación de datos en conjuntos de entrenamiento y prueba"
   ]
  },
  {
   "cell_type": "code",
   "execution_count": 4,
   "metadata": {},
   "outputs": [],
   "source": [
    "X_train, X_test, y_train, y_test = train_test_split(X_all, y_all, test_size = 0.2, random_state = 100)\n",
    "vectorizer = DictVectorizer(sparse = True)\n",
    "X_train = vectorizer.fit_transform(X_train)\n",
    "X_test = vectorizer.transform(X_test)"
   ]
  },
  {
   "cell_type": "markdown",
   "metadata": {},
   "source": [
    "### Entrenamiento con cuatro modelos de aprendizaje automático para la clasificación múltiple de sentimientos:\n",
    "1. Clasificación con vectores de Soporte \n",
    "2. Clasificación con vectores de soporte lineal\n",
    "3. Clasificación con randon forest\n",
    "4. Clasificación con árboles de decisión"
   ]
  },
  {
   "cell_type": "code",
   "execution_count": 5,
   "metadata": {},
   "outputs": [
    {
     "name": "stderr",
     "output_type": "stream",
     "text": [
      "c:\\tools\\ides\\anaconda\\envs\\entorno_prueba\\lib\\site-packages\\sklearn\\svm\\_base.py:985: ConvergenceWarning: Liblinear failed to converge, increase the number of iterations.\n",
      "  warnings.warn(\"Liblinear failed to converge, increase \"\n"
     ]
    }
   ],
   "source": [
    "svc = SVC()\n",
    "lsvc = LinearSVC(random_state=100)\n",
    "rforest = RandomForestClassifier(random_state=100)\n",
    "dtree = DecisionTreeClassifier()\n",
    "\n",
    "clifs = [svc, lsvc, rforest, dtree]\n",
    "\n",
    "modelos = {}\n",
    "for clf in clifs: \n",
    "    modelos[clf.__class__.__name__] = entrenamiento.entrenar_probar(clf, X_train, X_test, y_train, y_test)"
   ]
  },
  {
   "cell_type": "markdown",
   "metadata": {},
   "source": [
    "## Resultado de los modelos"
   ]
  },
  {
   "cell_type": "code",
   "execution_count": 6,
   "metadata": {},
   "outputs": [
    {
     "name": "stdout",
     "output_type": "stream",
     "text": [
      "SVC {'Precisión entrenamiento': 0.911096256684492, 'Precisión pruebas': 0.4772727272727273}\n",
      "LinearSVC {'Precisión entrenamiento': 0.9991644385026738, 'Precisión pruebas': 0.5588235294117647}\n",
      "RandomForestClassifier {'Precisión entrenamiento': 0.9991644385026738, 'Precisión pruebas': 0.5294117647058824}\n",
      "DecisionTreeClassifier {'Precisión entrenamiento': 0.9991644385026738, 'Precisión pruebas': 0.43315508021390375}\n"
     ]
    }
   ],
   "source": [
    "for modelo in modelos:\n",
    "    print(modelo, modelos[modelo][1])"
   ]
  },
  {
   "cell_type": "markdown",
   "metadata": {},
   "source": [
    "## Definición de la etiqueta múltiple de sentimientos con su respectivo emoji"
   ]
  },
  {
   "cell_type": "code",
   "execution_count": 7,
   "metadata": {},
   "outputs": [
    {
     "name": "stdout",
     "output_type": "stream",
     "text": [
      "alegría   (1. 0. 0. 0. 0. 0. 0.)  1084\n",
      "ira       (0. 0. 1. 0. 0. 0. 0.)  1080\n",
      "tristeza  (0. 0. 0. 1. 0. 0. 0.)  1079\n",
      "miedo     (0. 1. 0. 0. 0. 0. 0.)  1078\n",
      "disgusto  (0. 0. 0. 0. 1. 0. 0.)  1057\n",
      "culpa     (0. 0. 0. 0. 0. 0. 1.)  1057\n",
      "vergüenza (0. 0. 0. 0. 0. 1. 0.)  1045\n"
     ]
    }
   ],
   "source": [
    "l = [ALEGRIA, MIEDO, IRA, TRISTEZA, DISGUSTO, VERGUENZA, CULPA]\n",
    "l.sort()\n",
    "label_freq = {}\n",
    "for label, _ in data: \n",
    "    label_freq[label] = label_freq.get(label, 0) + 1\n",
    "\n",
    "# imprime las etiquetas ordenadas\n",
    "for l in sorted(label_freq, key=label_freq.get, reverse=True):\n",
    "    print(\"{:10}({})  {}\".format(cadena.convertirEtiqueta(l, emotions), l, label_freq[l]))\n",
    "\n",
    "emoji_dict = {ALEGRIA:\"😂\", MIEDO:\"😱\", IRA:\"😠\", TRISTEZA:\"😢\", DISGUSTO:\"😒\", VERGUENZA:\"😳\", CULPA:\"😳\"}"
   ]
  },
  {
   "cell_type": "markdown",
   "metadata": {},
   "source": [
    "## Obtiene letra de canción preprocesada"
   ]
  },
  {
   "cell_type": "code",
   "execution_count": 18,
   "metadata": {},
   "outputs": [
    {
     "name": "stdout",
     "output_type": "stream",
     "text": [
      "dije sueltes quiero saber saber viví culpa toca vivirlo vivirlo importa tires voy bloquear whatsapp vacana dijiste voy hacer ver na' búscate soporte celos estupidez sentía murió dije ibas pagar crece ahora llamas contesto quiero peleas mensajes texto déjame tirarme buscando pretexto nueva vida moyeto contigo perdí tiempo reloj caiga mar fatal apreta'o vuelvo dar imagine iba' desafinar tal vez mire rió si miro mal shorty vete casa rompió pozuelo conmigo esta' tan caliente sol bloque hielo aprendí tener palabra dinero na' entonces vemos luego digo pues vemos luego digo pues vemos luego digo vemos luego digo farisea vemos luego búscate soporte celos estupidez sentía murió dije ibas pagar crece ahora llamas contesto quiero peleas mensajes texto déjame tirarme buscando pretexto nueva vida moyeto decía dolía importo sentía puedes rodar quiero vida ahora toca prender fuego vía progreso hooka par cervezas chapeo cabeza quisiste bajarle veo ahora pesa burlado par mami fresa amor mierda metí pamper todas traiciones sucias metí hamper quiero empante allá acá viene malo espero aguantes digo digo digo vemos luego digo vemos luego digo vemos luego digo farisea vemos luego búscate soporte celos estupidez sentía murió dije ibas pagar crece ahora llamas contesto quiero peleas mensajes texto déjame tirarme buscando pretexto nueva vida moyeto \n"
     ]
    }
   ],
   "source": [
    "from bdd import mongoDB_cliente\n",
    "\n",
    "# Maluma                HAWÁI\n",
    "# EL BOBE / ALPEDUE     ELLA\n",
    "# JC LA NEVULA / ATOMIC OTRO WAY        BUSCATE OTRO\n",
    "cantante = 'JC LA NEVULA / ATOMIC OTRO WAY'\n",
    "cancion = 'BUSCATE OTRO'\n",
    "canciones = mongoDB_cliente.obtenerColeccion('CANCIONES', {'cantante': cantante, 'cancion': cancion})   \n",
    "letra_preprocesada = canciones[0]['letra_preprocesada']\n",
    "letra_cancion_pre = ''\n",
    "for letra in letra_preprocesada:\n",
    "    letra_cancion_pre = letra_cancion_pre + letra + \" \"\n",
    "print(letra_cancion_pre)"
   ]
  },
  {
   "cell_type": "markdown",
   "metadata": {},
   "source": [
    "## Predicción del modelo con vectores de soporte"
   ]
  },
  {
   "cell_type": "code",
   "execution_count": 19,
   "metadata": {},
   "outputs": [
    {
     "name": "stdout",
     "output_type": "stream",
     "text": [
      "Clasificación de sentimientos con vectores de soporte:  😠 ira\n"
     ]
    }
   ],
   "source": [
    "modelo = svc\n",
    "res_prediccion, modelos = prediccion.predecirTexto(modelo, letra_cancion_pre, vectorizer, modelos, cancion, cantante)\n",
    "print('Clasificación de sentimientos con vectores de soporte: ', emoji_dict[res_prediccion], res_prediccion)"
   ]
  },
  {
   "cell_type": "markdown",
   "metadata": {},
   "source": [
    "## Ejecución del modelo vectores de soporte lineal"
   ]
  },
  {
   "cell_type": "code",
   "execution_count": 20,
   "metadata": {},
   "outputs": [
    {
     "name": "stdout",
     "output_type": "stream",
     "text": [
      "vergüenza\n",
      "Clasificación de sentimientos con vectores de soporte:  😳 vergüenza\n"
     ]
    }
   ],
   "source": [
    "modelo = lsvc\n",
    "res_prediccion, modelos = prediccion.predecirTexto(modelo, letra_cancion_pre, vectorizer, modelos, cancion, cantante)\n",
    "print(res_prediccion)\n",
    "print('Clasificación de sentimientos con vectores de soporte: ', emoji_dict[res_prediccion], res_prediccion)"
   ]
  },
  {
   "cell_type": "markdown",
   "metadata": {},
   "source": [
    "## Ejecución del modelo randon forest"
   ]
  },
  {
   "cell_type": "code",
   "execution_count": 21,
   "metadata": {},
   "outputs": [
    {
     "name": "stdout",
     "output_type": "stream",
     "text": [
      "Clasificación de sentimientos con vectores de soporte:  😢 tristeza\n"
     ]
    }
   ],
   "source": [
    "modelo = rforest\n",
    "res_prediccion, modelos = prediccion.predecirTexto(modelo, letra_cancion_pre, vectorizer, modelos, cancion, cantante)\n",
    "print('Clasificación de sentimientos con vectores de soporte: ', emoji_dict[res_prediccion], res_prediccion)"
   ]
  },
  {
   "cell_type": "markdown",
   "metadata": {},
   "source": [
    "# Ejecución del modelo con árboles de decisión"
   ]
  },
  {
   "cell_type": "code",
   "execution_count": 22,
   "metadata": {},
   "outputs": [
    {
     "name": "stdout",
     "output_type": "stream",
     "text": [
      "Clasificación de sentimientos con vectores de soporte:  😢 tristeza\n"
     ]
    }
   ],
   "source": [
    "modelo = dtree\n",
    "res_prediccion, modelos = prediccion.predecirTexto(modelo, letra_cancion_pre, vectorizer, modelos, cancion, cantante)\n",
    "print('Clasificación de sentimientos con vectores de soporte: ', emoji_dict[res_prediccion], res_prediccion)"
   ]
  }
 ],
 "metadata": {
  "kernelspec": {
   "display_name": "Python 3.8.10 ('entorno_prueba')",
   "language": "python",
   "name": "python3"
  },
  "language_info": {
   "codemirror_mode": {
    "name": "ipython",
    "version": 3
   },
   "file_extension": ".py",
   "mimetype": "text/x-python",
   "name": "python",
   "nbconvert_exporter": "python",
   "pygments_lexer": "ipython3",
   "version": "3.8.10"
  },
  "orig_nbformat": 4,
  "vscode": {
   "interpreter": {
    "hash": "df928c92915a6e295095bb07de7b84624befc7d196e01c26e318bdc14196d6a4"
   }
  }
 },
 "nbformat": 4,
 "nbformat_minor": 2
}
