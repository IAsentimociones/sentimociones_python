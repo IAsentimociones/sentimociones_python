{
 "cells": [
  {
   "cell_type": "markdown",
   "metadata": {},
   "source": [
    "## Proceso 4: Clasificación de sentimientos múltiples, como: alegría, ira, culpa, etc."
   ]
  },
  {
   "cell_type": "code",
   "execution_count": 1,
   "metadata": {},
   "outputs": [],
   "source": [
    "import re \n",
    "from collections import Counter\n",
    "from sklearn.model_selection import train_test_split\n",
    "from sklearn.metrics import accuracy_score\n",
    "from sklearn.svm import SVC\n",
    "from sklearn.svm import LinearSVC\n",
    "from sklearn.ensemble import RandomForestClassifier\n",
    "from sklearn.tree import DecisionTreeClassifier\n",
    "import time\n",
    "\n",
    "import sys\n",
    "sys.path.append(sys.path[0] + '/..')\n",
    "\n",
    "from cajaBlanca import auditoria"
   ]
  },
  {
   "cell_type": "code",
   "execution_count": 2,
   "metadata": {},
   "outputs": [],
   "source": [
    "def read_data(file):\n",
    "    data = []\n",
    "    with open(file, 'r')as f:\n",
    "        for line in f:\n",
    "            line = line.strip()\n",
    "            label = ' '.join(line[1:line.find(\"]\")].strip().split())\n",
    "            text = line[line.find(\"]\")+1:].strip()\n",
    "            data.append([label, text])\n",
    "    return data"
   ]
  },
  {
   "cell_type": "code",
   "execution_count": 3,
   "metadata": {},
   "outputs": [
    {
     "name": "stdout",
     "output_type": "stream",
     "text": [
      "Number of instances: 7480\n"
     ]
    }
   ],
   "source": [
    "file = 'sentimientoMultiple_es.txt'\n",
    "data = read_data(file)\n",
    "print(\"Number of instances: {}\".format(len(data)))"
   ]
  },
  {
   "cell_type": "markdown",
   "metadata": {},
   "source": [
    "### tokenización y la generación de las características de una oración "
   ]
  },
  {
   "cell_type": "code",
   "execution_count": 4,
   "metadata": {},
   "outputs": [],
   "source": [
    "def ngram(token, n): \n",
    "    output = []\n",
    "    for i in range(n-1, len(token)): \n",
    "        ngram = ' '.join(token[i-n+1:i+1])\n",
    "        output.append(ngram) \n",
    "    return output\n",
    "\n",
    "def create_feature(text, nrange=(1, 1)):\n",
    "    text_features = [] \n",
    "    text = text.lower() \n",
    "    text_alphanum = re.sub('[^a-z0-9#]', ' ', text)\n",
    "    for n in range(nrange[0], nrange[1]+1): \n",
    "        text_features += ngram(text_alphanum.split(), n)    \n",
    "    text_punc = re.sub('[a-z0-9]', ' ', text)\n",
    "    text_features += ngram(text_punc.split(), 1)\n",
    "    return Counter(text_features)"
   ]
  },
  {
   "cell_type": "markdown",
   "metadata": {},
   "source": [
    "### Función para almacenar las etiquetas, que se basarán en emociones como Alegría, Miedo, Ira, etc.:"
   ]
  },
  {
   "cell_type": "code",
   "execution_count": 5,
   "metadata": {},
   "outputs": [],
   "source": [
    "def convert_label(item, name): \n",
    "    #print('item: ', item)\n",
    "    #print('name: ', name)\n",
    "    items = list(map(float, item.split()))\n",
    "    label = \"\"\n",
    "    for idx in range(len(items)): \n",
    "        if items[idx] == 1: \n",
    "            label += name[idx] + \" \"\n",
    "    \n",
    "    return label.strip()\n",
    "\n",
    "emotions = [\"alegría\", 'miedo', \"ira\", \"tristeza\", \"disgusto\", \"vergüenza\", \"culpa\"]\n",
    "\n",
    "X_all = []\n",
    "y_all = []\n",
    "for label, text in data:\n",
    "    y_all.append(convert_label(label, emotions))\n",
    "    X_all.append(create_feature(text, nrange=(1, 4)))"
   ]
  },
  {
   "cell_type": "markdown",
   "metadata": {},
   "source": [
    "### Separación de datos en conjuntos de entrenamiento y prueba"
   ]
  },
  {
   "cell_type": "code",
   "execution_count": 6,
   "metadata": {},
   "outputs": [],
   "source": [
    "X_train, X_test, y_train, y_test = train_test_split(X_all, y_all, test_size = 0.2, random_state = 123)\n",
    "\n",
    "def train_test(clf, X_train, X_test, y_train, y_test):\n",
    "    clf.fit(X_train, y_train)\n",
    "    train_acc = accuracy_score(y_train, clf.predict(X_train))\n",
    "    test_acc = accuracy_score(y_test, clf.predict(X_test))\n",
    "    return train_acc, test_acc\n",
    "\n",
    "from sklearn.feature_extraction import DictVectorizer\n",
    "vectorizer = DictVectorizer(sparse = True)\n",
    "X_train = vectorizer.fit_transform(X_train)\n",
    "X_test = vectorizer.transform(X_test)"
   ]
  },
  {
   "cell_type": "markdown",
   "metadata": {},
   "source": [
    "### Entrenamiento con cuatro modelos de aprendizaje automático para la clasificación múltiple de sentimientos:\n",
    "1. Clasificación con vectores de Soporte \n",
    "2. Clasificación con vectores de soporte lineal\n",
    "3. Clasificación con randon forest\n",
    "4. Clasificación con árboles de decisión"
   ]
  },
  {
   "cell_type": "code",
   "execution_count": 7,
   "metadata": {},
   "outputs": [
    {
     "name": "stdout",
     "output_type": "stream",
     "text": [
      "tiempo inicio:  1664038253.4389513\n",
      "tiempo final:  75.76993370056152\n"
     ]
    },
    {
     "name": "stderr",
     "output_type": "stream",
     "text": [
      "c:\\tools\\ides\\anaconda\\envs\\entorno_prueba\\lib\\site-packages\\sklearn\\svm\\_base.py:985: ConvergenceWarning: Liblinear failed to converge, increase the number of iterations.\n",
      "  warnings.warn(\"Liblinear failed to converge, increase \"\n"
     ]
    },
    {
     "name": "stdout",
     "output_type": "stream",
     "text": [
      "tiempo inicio:  1664038329.2692733\n",
      "tiempo final:  11.6302969455719\n",
      "tiempo inicio:  1664038340.906551\n",
      "tiempo final:  78.42996120452881\n",
      "tiempo inicio:  1664038419.3549953\n",
      "tiempo final:  19.64985752105713\n"
     ]
    }
   ],
   "source": [
    "svc = SVC()\n",
    "lsvc = LinearSVC(random_state=100)\n",
    "rforest = RandomForestClassifier(random_state=100)\n",
    "dtree = DecisionTreeClassifier()\n",
    "\n",
    "clifs = [svc, lsvc, rforest, dtree]\n",
    "\n",
    "evaluacion = {}\n",
    "modelos = {}\n",
    "for clf in clifs: \n",
    "    tiempo_inicio = time.time()\n",
    "    clf_name = clf.__class__.__name__\n",
    "    train_acc, test_acc = train_test(clf, X_train, X_test, y_train, y_test)\n",
    "    evaluacion['Training Accuracy'] = train_acc\n",
    "    evaluacion['Test Accuracy'] = test_acc\n",
    "    modelos[clf_name] = [clf.get_params(), evaluacion]\n",
    "    auditoria.registrarPistaSentimientosMultiples([tiempo_inicio, \"\", \"\", clf_name, modelos[clf_name]])\n"
   ]
  },
  {
   "cell_type": "markdown",
   "metadata": {},
   "source": [
    "## Resultado de los modelos"
   ]
  },
  {
   "cell_type": "code",
   "execution_count": 8,
   "metadata": {},
   "outputs": [
    {
     "name": "stdout",
     "output_type": "stream",
     "text": [
      "SVC {'Training Accuracy': 0.9988302139037433, 'Test Accuracy': 0.4177807486631016}\n",
      "LinearSVC {'Training Accuracy': 0.9988302139037433, 'Test Accuracy': 0.4177807486631016}\n",
      "RandomForestClassifier {'Training Accuracy': 0.9988302139037433, 'Test Accuracy': 0.4177807486631016}\n",
      "DecisionTreeClassifier {'Training Accuracy': 0.9988302139037433, 'Test Accuracy': 0.4177807486631016}\n"
     ]
    }
   ],
   "source": [
    "for modelo in modelos:\n",
    "    print(modelo, modelos[modelo][1])"
   ]
  },
  {
   "cell_type": "markdown",
   "metadata": {},
   "source": [
    "## Definición de la etiqueta múltiple de sentimientos con su respectivo emoji"
   ]
  },
  {
   "cell_type": "code",
   "execution_count": 9,
   "metadata": {},
   "outputs": [
    {
     "name": "stdout",
     "output_type": "stream",
     "text": [
      "alegría   (1. 0. 0. 0. 0. 0. 0.)  1084\n",
      "ira       (0. 0. 1. 0. 0. 0. 0.)  1080\n",
      "tristeza  (0. 0. 0. 1. 0. 0. 0.)  1079\n",
      "miedo     (0. 1. 0. 0. 0. 0. 0.)  1078\n",
      "disgusto  (0. 0. 0. 0. 1. 0. 0.)  1057\n",
      "culpa     (0. 0. 0. 0. 0. 0. 1.)  1057\n",
      "vergüenza (0. 0. 0. 0. 0. 1. 0.)  1045\n"
     ]
    }
   ],
   "source": [
    "l = [\"alegría\", 'miedo', \"ira\", \"tristeza\", \"disgusto\", \"vergüenza\", \"culpa\"]\n",
    "l.sort()\n",
    "label_freq = {}\n",
    "for label, _ in data: \n",
    "    label_freq[label] = label_freq.get(label, 0) + 1\n",
    "\n",
    "# print the labels and their counts in sorted order \n",
    "for l in sorted(label_freq, key=label_freq.get, reverse=True):\n",
    "    print(\"{:10}({})  {}\".format(convert_label(l, emotions), l, label_freq[l]))\n",
    "\n",
    "emoji_dict = {\"alegría\":\"😂\", \"miedo\":\"😱\", \"ira\":\"😠\", \"tristeza\":\"😢\", \"disgusto\":\"😒\", \"vergüenza\":\"😳\", \"culpa\":\"😳\"}"
   ]
  },
  {
   "cell_type": "markdown",
   "metadata": {},
   "source": [
    "## Obtiene letra de canción preprocesada"
   ]
  },
  {
   "cell_type": "code",
   "execution_count": 10,
   "metadata": {},
   "outputs": [
    {
     "name": "stdout",
     "output_type": "stream",
     "text": [
      "dije sueltes quiero saber saber viví culpa toca vivirlo vivirlo importa tires voy bloquear whatsapp vacana dijiste voy hacer ver na' búscate soporte celos estupidez sentía murió dije ibas pagar crece ahora llamas contesto quiero peleas mensajes texto déjame tirarme buscando pretexto nueva vida moyeto contigo perdí tiempo reloj caiga mar fatal apreta'o vuelvo dar imagine iba' desafinar tal vez mire rió si miro mal shorty vete casa rompió pozuelo conmigo esta' tan caliente sol bloque hielo aprendí tener palabra dinero na' entonces vemos luego digo pues vemos luego digo pues vemos luego digo vemos luego digo farisea vemos luego búscate soporte celos estupidez sentía murió dije ibas pagar crece ahora llamas contesto quiero peleas mensajes texto déjame tirarme buscando pretexto nueva vida moyeto decía dolía importo sentía puedes rodar quiero vida ahora toca prender fuego vía progreso hooka par cervezas chapeo cabeza quisiste bajarle veo ahora pesa burlado par mami fresa amor mierda metí pamper todas traiciones sucias metí hamper quiero empante allá acá viene malo espero aguantes digo digo digo vemos luego digo vemos luego digo vemos luego digo farisea vemos luego búscate soporte celos estupidez sentía murió dije ibas pagar crece ahora llamas contesto quiero peleas mensajes texto déjame tirarme buscando pretexto nueva vida moyeto \n"
     ]
    }
   ],
   "source": [
    "from bdd import mongoDB_cliente\n",
    "\n",
    "# Maluma                HAWÁI\n",
    "# EL BOBE / ALPEDUE     ELLA\n",
    "# JC LA NEVULA / ATOMIC OTRO WAY        BUSCATE OTRO\n",
    "cantante = 'JC LA NEVULA / ATOMIC OTRO WAY'\n",
    "cancion = 'BUSCATE OTRO'\n",
    "canciones = mongoDB_cliente.obtenerColeccion('CANCIONES', {'cantante': cantante, 'cancion': cancion})   \n",
    "letra_preprocesada = canciones[0]['letra_preprocesada']\n",
    "letra_cancion_pre = ''\n",
    "for letra in letra_preprocesada:\n",
    "    letra_cancion_pre = letra_cancion_pre + letra + \" \"\n",
    "print(letra_cancion_pre)"
   ]
  },
  {
   "cell_type": "markdown",
   "metadata": {},
   "source": [
    "## Ejecución del modelo con vectores de soporte"
   ]
  },
  {
   "cell_type": "code",
   "execution_count": 11,
   "metadata": {},
   "outputs": [
    {
     "name": "stdout",
     "output_type": "stream",
     "text": [
      "Clasificación de sentimientos con vectores de soporte:  😠 {'prediccion': 'ira'}\n",
      "tiempo inicio:  1664038439.171931\n",
      "tiempo final:  0.021956443786621094\n"
     ]
    }
   ],
   "source": [
    "tiempo_inicio = time.time()\n",
    "\n",
    "features = create_feature(letra_cancion_pre, nrange=(1, 4))\n",
    "features = vectorizer.transform(features)\n",
    "prediction = svc.predict(features)[0]\n",
    "\n",
    "resultado = {}\n",
    "resultado['prediccion'] = prediction\n",
    "modelos['SVC'].append(resultado)\n",
    "print('Clasificación de sentimientos con vectores de soporte: ', emoji_dict[prediction], modelos['SVC'][2])\n",
    "auditoria.registrarPistaSentimientosMultiples([tiempo_inicio, cancion, cantante, 'SVC', modelos['SVC']])\n"
   ]
  },
  {
   "cell_type": "markdown",
   "metadata": {},
   "source": [
    "## Ejecución del modelo vectores de soporte lineal"
   ]
  },
  {
   "cell_type": "code",
   "execution_count": 15,
   "metadata": {},
   "outputs": [
    {
     "name": "stdout",
     "output_type": "stream",
     "text": [
      "Clasificación de sentimientos con vectores de soporte lineal (LinearSVC):  😢 {'prediccion': 'tristeza'}\n",
      "tiempo inicio:  1664039095.0251489\n",
      "tiempo final:  0.005983829498291016\n"
     ]
    }
   ],
   "source": [
    "tiempo_inicio = time.time()\n",
    "\n",
    "features = create_feature(letra_cancion_pre, nrange=(1, 4))\n",
    "features = vectorizer.transform(features)\n",
    "prediction = lsvc.predict(features)[0]\n",
    "\n",
    "resultado = {}\n",
    "resultado['prediccion'] = prediction\n",
    "modelos['LinearSVC'].append(resultado)\n",
    "print('Clasificación de sentimientos con vectores de soporte lineal (LinearSVC): ', emoji_dict[prediction], modelos['LinearSVC'][2])\n",
    "auditoria.registrarPistaSentimientosMultiples([tiempo_inicio, cancion, cantante, 'LinearSVC', modelos['LinearSVC']])"
   ]
  },
  {
   "cell_type": "markdown",
   "metadata": {},
   "source": [
    "## Ejecución del modelo randon forest"
   ]
  },
  {
   "cell_type": "code",
   "execution_count": 16,
   "metadata": {},
   "outputs": [
    {
     "name": "stdout",
     "output_type": "stream",
     "text": [
      ":  😳 culpa\n",
      "Clasificación de sentimientos con randon forest (RandomForestClassifier):  😳 {'prediccion': 'culpa'}\n",
      "tiempo inicio:  1664039215.6402233\n",
      "tiempo final:  0.09977126121520996\n"
     ]
    }
   ],
   "source": [
    "tiempo_inicio = time.time()\n",
    "\n",
    "features = create_feature(letra_cancion_pre, nrange=(1, 4))\n",
    "features = vectorizer.transform(features)\n",
    "prediction = rforest.predict(features)[0]\n",
    "print(': ', emoji_dict[prediction], prediction)\n",
    "\n",
    "resultado = {}\n",
    "resultado['prediccion'] = prediction\n",
    "modelos['RandomForestClassifier'].append(resultado)\n",
    "print('Clasificación de sentimientos con randon forest (RandomForestClassifier): ', emoji_dict[prediction], modelos['RandomForestClassifier'][2])\n",
    "auditoria.registrarPistaSentimientosMultiples([tiempo_inicio, cancion, cantante, 'RandomForestClassifier', modelos['RandomForestClassifier']])"
   ]
  },
  {
   "cell_type": "markdown",
   "metadata": {},
   "source": [
    "# Ejecución del modelo con árboles de decisión"
   ]
  },
  {
   "cell_type": "code",
   "execution_count": 17,
   "metadata": {},
   "outputs": [
    {
     "name": "stdout",
     "output_type": "stream",
     "text": [
      "Clasificación de sentimientos con árboles de decisión (DecisionTreeClassifier):  😢 {'prediccion': 'tristeza'}\n",
      "tiempo inicio:  1664039301.3923256\n",
      "tiempo final:  0.003988742828369141\n"
     ]
    }
   ],
   "source": [
    "tiempo_inicio = time.time()\n",
    "\n",
    "features = create_feature(letra_cancion_pre, nrange=(1, 4))\n",
    "features = vectorizer.transform(features)\n",
    "prediction = dtree.predict(features)[0]\n",
    "\n",
    "resultado = {}\n",
    "resultado['prediccion'] = prediction\n",
    "modelos['DecisionTreeClassifier'].append(resultado)\n",
    "print('Clasificación de sentimientos con árboles de decisión (DecisionTreeClassifier): ', emoji_dict[prediction], modelos['DecisionTreeClassifier'][2])\n",
    "auditoria.registrarPistaSentimientosMultiples([tiempo_inicio, cancion, cantante, 'DecisionTreeClassifier', modelos['DecisionTreeClassifier']])"
   ]
  }
 ],
 "metadata": {
  "kernelspec": {
   "display_name": "Python 3.8.10 ('entorno_prueba')",
   "language": "python",
   "name": "python3"
  },
  "language_info": {
   "codemirror_mode": {
    "name": "ipython",
    "version": 3
   },
   "file_extension": ".py",
   "mimetype": "text/x-python",
   "name": "python",
   "nbconvert_exporter": "python",
   "pygments_lexer": "ipython3",
   "version": "3.8.10"
  },
  "orig_nbformat": 4,
  "vscode": {
   "interpreter": {
    "hash": "df928c92915a6e295095bb07de7b84624befc7d196e01c26e318bdc14196d6a4"
   }
  }
 },
 "nbformat": 4,
 "nbformat_minor": 2
}
