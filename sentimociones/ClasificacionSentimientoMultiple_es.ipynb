{
 "cells": [
  {
   "cell_type": "markdown",
   "metadata": {},
   "source": [
    "## Proceso 4: Clasificación de sentimientos múltiples, como: alegría, ira, culpa, etc."
   ]
  },
  {
   "cell_type": "code",
   "execution_count": 1,
   "metadata": {},
   "outputs": [],
   "source": [
    "from sklearn.model_selection import train_test_split\n",
    "from sklearn.svm import SVC\n",
    "from sklearn.svm import LinearSVC\n",
    "from sklearn.ensemble import RandomForestClassifier\n",
    "from sklearn.tree import DecisionTreeClassifier\n",
    "from sklearn.feature_extraction import DictVectorizer\n",
    "\n",
    "import sys\n",
    "sys.path.append(sys.path[0] + '/..')\n",
    "\n",
    "from comun import archivo, cadena\n",
    "from preprocesamiento import tokenizacion\n",
    "from aprendizajeAutomatico import entrenamiento, prediccion\n",
    "from sentimociones.sentimientos.sentimientoMultiple import ALEGRIA, CULPA, DISGUSTO, IRA, MIEDO, TRISTEZA, VERGUENZA"
   ]
  },
  {
   "cell_type": "markdown",
   "metadata": {},
   "source": [
    "## Lee dataset con texto en español clasificado con sentimientos múltiples"
   ]
  },
  {
   "cell_type": "code",
   "execution_count": 2,
   "metadata": {},
   "outputs": [
    {
     "name": "stdout",
     "output_type": "stream",
     "text": [
      "Number of instances: 7480\n"
     ]
    }
   ],
   "source": [
    "dataset_sentimientos_es = \"sentimientoMultiple_es.txt\"\n",
    "data = archivo.leer_datos(dataset_sentimientos_es)\n",
    "print(\"Number of instances: {}\".format(len(data)))"
   ]
  },
  {
   "cell_type": "markdown",
   "metadata": {},
   "source": [
    "### Función para almacenar las etiquetas, que se basarán en emociones como Alegría, Miedo, Ira, etc.:"
   ]
  },
  {
   "cell_type": "code",
   "execution_count": 3,
   "metadata": {},
   "outputs": [],
   "source": [
    "emotions = [ALEGRIA, MIEDO, IRA, TRISTEZA, DISGUSTO, VERGUENZA, CULPA]\n",
    "\n",
    "X_all = []\n",
    "y_all = []\n",
    "for label, text in data:\n",
    "    y_all.append(cadena.convertirEtiqueta(label, emotions))\n",
    "    X_all.append(tokenizacion.crear_caracteristica(text, nrange=(1, 4)))"
   ]
  },
  {
   "cell_type": "markdown",
   "metadata": {},
   "source": [
    "### Separación de datos en conjuntos de entrenamiento y prueba"
   ]
  },
  {
   "cell_type": "code",
   "execution_count": 4,
   "metadata": {},
   "outputs": [],
   "source": [
    "X_train, X_test, y_train, y_test = train_test_split(X_all, y_all, test_size = 0.2, random_state = 100)\n",
    "vectorizer = DictVectorizer(sparse = True)\n",
    "X_train = vectorizer.fit_transform(X_train)\n",
    "X_test = vectorizer.transform(X_test)"
   ]
  },
  {
   "cell_type": "markdown",
   "metadata": {},
   "source": [
    "### Entrenamiento con cuatro modelos de aprendizaje automático para la clasificación múltiple de sentimientos:\n",
    "1. Clasificación con vectores de Soporte \n",
    "2. Clasificación con vectores de soporte lineal\n",
    "3. Clasificación con randon forest\n",
    "4. Clasificación con árboles de decisión"
   ]
  },
  {
   "cell_type": "code",
   "execution_count": 5,
   "metadata": {},
   "outputs": [
    {
     "name": "stderr",
     "output_type": "stream",
     "text": [
      "c:\\tools\\ides\\anaconda\\envs\\entorno_prueba\\lib\\site-packages\\sklearn\\svm\\_base.py:985: ConvergenceWarning: Liblinear failed to converge, increase the number of iterations.\n",
      "  warnings.warn(\"Liblinear failed to converge, increase \"\n"
     ]
    }
   ],
   "source": [
    "svc = SVC()\n",
    "lsvc = LinearSVC(random_state=100)\n",
    "rforest = RandomForestClassifier(random_state=100)\n",
    "dtree = DecisionTreeClassifier()\n",
    "\n",
    "clifs = [svc, lsvc, rforest, dtree]\n",
    "\n",
    "modelos = {}\n",
    "for clf in clifs: \n",
    "    modelos[clf.__class__.__name__] = entrenamiento.entrenar_probar(clf, X_train, X_test, y_train, y_test)"
   ]
  },
  {
   "cell_type": "markdown",
   "metadata": {},
   "source": [
    "## Resultado de los modelos"
   ]
  },
  {
   "cell_type": "code",
   "execution_count": 6,
   "metadata": {},
   "outputs": [
    {
     "name": "stdout",
     "output_type": "stream",
     "text": [
      "SVC {'Precisión entrenamiento': 0.911096256684492, 'Precisión pruebas': 0.4772727272727273}\n",
      "LinearSVC {'Precisión entrenamiento': 0.9991644385026738, 'Precisión pruebas': 0.5588235294117647}\n",
      "RandomForestClassifier {'Precisión entrenamiento': 0.9991644385026738, 'Precisión pruebas': 0.5294117647058824}\n",
      "DecisionTreeClassifier {'Precisión entrenamiento': 0.9991644385026738, 'Precisión pruebas': 0.43315508021390375}\n"
     ]
    }
   ],
   "source": [
    "for modelo in modelos:\n",
    "    print(modelo, modelos[modelo][1])"
   ]
  },
  {
   "cell_type": "markdown",
   "metadata": {},
   "source": [
    "## Definición de la etiqueta múltiple de sentimientos con su respectivo emoji"
   ]
  },
  {
   "cell_type": "code",
   "execution_count": 7,
   "metadata": {},
   "outputs": [
    {
     "name": "stdout",
     "output_type": "stream",
     "text": [
      "alegría   (1. 0. 0. 0. 0. 0. 0.)  1084\n",
      "ira       (0. 0. 1. 0. 0. 0. 0.)  1080\n",
      "tristeza  (0. 0. 0. 1. 0. 0. 0.)  1079\n",
      "miedo     (0. 1. 0. 0. 0. 0. 0.)  1078\n",
      "disgusto  (0. 0. 0. 0. 1. 0. 0.)  1057\n",
      "culpa     (0. 0. 0. 0. 0. 0. 1.)  1057\n",
      "vergüenza (0. 0. 0. 0. 0. 1. 0.)  1045\n"
     ]
    }
   ],
   "source": [
    "l = [ALEGRIA, MIEDO, IRA, TRISTEZA, DISGUSTO, VERGUENZA, CULPA]\n",
    "l.sort()\n",
    "label_freq = {}\n",
    "for label, _ in data: \n",
    "    label_freq[label] = label_freq.get(label, 0) + 1\n",
    "\n",
    "# imprime las etiquetas ordenadas\n",
    "for l in sorted(label_freq, key=label_freq.get, reverse=True):\n",
    "    print(\"{:10}({})  {}\".format(cadena.convertirEtiqueta(l, emotions), l, label_freq[l]))\n",
    "\n",
    "emoji_dict = {ALEGRIA:\"😂\", MIEDO:\"😱\", IRA:\"😠\", TRISTEZA:\"😢\", DISGUSTO:\"😒\", VERGUENZA:\"😳\", CULPA:\"😳\"}"
   ]
  },
  {
   "cell_type": "markdown",
   "metadata": {},
   "source": [
    "## Obtiene letra de canción preprocesada"
   ]
  },
  {
   "cell_type": "code",
   "execution_count": 27,
   "metadata": {},
   "outputs": [
    {
     "name": "stdout",
     "output_type": "stream",
     "text": [
      "letra hawai ingles deja mentirte foto subiste diciendo cielo conozco tan bien darme celos llorando vieron vieron jame decirte trata bien caballero cambiarã lleguã primero va ir bien quiere quiero puede haga falta aparentemente hawã vacaciones felicitaciones lindo instagram posteas vea va vea puede haga falta aparentemente hawã vacaciones felicitaciones lindo instagram posteas vea va bien haces mal amor compra miã ntele seguidore dile tiempo ahora mejore creo llame ignores si despuã habrã amores fuimo hacã amo ayuna desayuno fumã bamo hookah pasaba humo ahora guerra gana ninguno si preguntas nadie culpa vece problemas juntan jame hablar porfa interrumpas si hice malo entonces discãºlpame gente va creer bien papel baby feliz puede haga falta aparentemente hawã vacaciones felicitaciones lindo instagram posteas vea va vea puede haga falta aparentemente hawã vacaciones felicitaciones lindo instagram posteas vea va bien haces mal amor compra deja mentirte foto subiste diciendo cielo mamacita conozco tan bien darme celos maluma baby llorando vieron vieron papi juancho maluma hawai translate maluma traducciã³n stop lying photo uploaded saying heaven baby know well know make jealous wont tell crying saw saw let tell seen treats well gentleman wont change got first know fine doesnt love way love may need apparently hawaii vacation congratulations cute instagram post see goes see may need apparently hawaii vacation congratulations cute instagram post see well wrong love bought lie followers tell weather better dont think call ignore loves one empty stomach breakfast smoked hookah smoke passed war none win ask nobody blame sometimes problems come let speak please dont interrupt something wrong excuse people believe play role well baby youre happy may need apparently hawaii vacation congratulations cute instagram post see goes see may need apparently hawaii vacation congratulations cute instagram post see well wrong love bought stop lying photo uploaded saying heaven mamacita baby know well know make jealous maluma baby wont tell crying saw lol saw daddy juancho deja mentirte maluma traducciã³n stop lying blackpink shut letra selena gomez calm rema letra john legend nervous letra nicki minaj super freaky girl queen mix bia letra elton john hold closer britney spears letra demi lovato help feat dead sara letra demi lovato come together letra demi lovato bones letra demi lovato feed letra demi lovato holy letra \n"
     ]
    }
   ],
   "source": [
    "from bdd import mongoDB_cliente\n",
    "\n",
    "cantante = 'Maluma'\n",
    "cancion = 'HAWÁI'\n",
    "\n",
    "canciones = mongoDB_cliente.obtenerColeccion('CANCIONES', {'cantante': cantante, 'cancion': cancion})   \n",
    "letra_preprocesada = canciones[0]['letra_preprocesada']\n",
    "letra_cancion_pre = ''\n",
    "for letra in letra_preprocesada:\n",
    "    letra_cancion_pre = letra_cancion_pre + letra + \" \"\n",
    "print(letra_cancion_pre)"
   ]
  },
  {
   "cell_type": "markdown",
   "metadata": {},
   "source": [
    "## Predicción del modelo con vectores de soporte"
   ]
  },
  {
   "cell_type": "code",
   "execution_count": 28,
   "metadata": {},
   "outputs": [
    {
     "name": "stdout",
     "output_type": "stream",
     "text": [
      "Clasificación de sentimientos con vectores de soporte:  😠 ira\n"
     ]
    }
   ],
   "source": [
    "modelo = svc\n",
    "res_prediccion, modelos = prediccion.predecirTexto(modelo, letra_cancion_pre, vectorizer, modelos, cancion, cantante)\n",
    "print('Clasificación de sentimientos con vectores de soporte: ', emoji_dict[res_prediccion], res_prediccion)"
   ]
  },
  {
   "cell_type": "markdown",
   "metadata": {},
   "source": [
    "## Ejecución del modelo vectores de soporte lineal"
   ]
  },
  {
   "cell_type": "code",
   "execution_count": 29,
   "metadata": {},
   "outputs": [
    {
     "name": "stdout",
     "output_type": "stream",
     "text": [
      "Clasificación de sentimientos con vectores de soporte:  😂 alegría\n"
     ]
    }
   ],
   "source": [
    "modelo = lsvc\n",
    "res_prediccion, modelos = prediccion.predecirTexto(modelo, letra_cancion_pre, vectorizer, modelos, cancion, cantante)\n",
    "print('Clasificación de sentimientos con vectores de soporte: ', emoji_dict[res_prediccion], res_prediccion)"
   ]
  },
  {
   "cell_type": "markdown",
   "metadata": {},
   "source": [
    "## Ejecución del modelo randon forest"
   ]
  },
  {
   "cell_type": "code",
   "execution_count": 30,
   "metadata": {},
   "outputs": [
    {
     "name": "stdout",
     "output_type": "stream",
     "text": [
      "Clasificación de sentimientos con vectores de soporte:  😂 alegría\n"
     ]
    }
   ],
   "source": [
    "modelo = rforest\n",
    "res_prediccion, modelos = prediccion.predecirTexto(modelo, letra_cancion_pre, vectorizer, modelos, cancion, cantante)\n",
    "print('Clasificación de sentimientos con vectores de soporte: ', emoji_dict[res_prediccion], res_prediccion)"
   ]
  },
  {
   "cell_type": "markdown",
   "metadata": {},
   "source": [
    "# Ejecución del modelo con árboles de decisión"
   ]
  },
  {
   "cell_type": "code",
   "execution_count": 31,
   "metadata": {},
   "outputs": [
    {
     "name": "stdout",
     "output_type": "stream",
     "text": [
      "Clasificación de sentimientos con vectores de soporte:  😂 alegría\n"
     ]
    }
   ],
   "source": [
    "modelo = dtree\n",
    "res_prediccion, modelos = prediccion.predecirTexto(modelo, letra_cancion_pre, vectorizer, modelos, cancion, cantante)\n",
    "print('Clasificación de sentimientos con vectores de soporte: ', emoji_dict[res_prediccion], res_prediccion)"
   ]
  },
  {
   "cell_type": "markdown",
   "metadata": {},
   "source": [
    "## Actualización del resultado en Base de datos"
   ]
  },
  {
   "cell_type": "code",
   "execution_count": 32,
   "metadata": {},
   "outputs": [
    {
     "data": {
      "text/plain": [
       "'documento actualizado correctamente'"
      ]
     },
     "execution_count": 32,
     "metadata": {},
     "output_type": "execute_result"
    }
   ],
   "source": [
    "from logica import cancion_logica\n",
    "from sentimientos import sentimientoMultiple\n",
    "\n",
    "cancion_logica.actualizarCancionSentimientoMultiple(canciones[0], sentimientoMultiple.obtenerResultadoPredicciones(modelos))"
   ]
  }
 ],
 "metadata": {
  "kernelspec": {
   "display_name": "Python 3.8.10 ('entorno_prueba')",
   "language": "python",
   "name": "python3"
  },
  "language_info": {
   "codemirror_mode": {
    "name": "ipython",
    "version": 3
   },
   "file_extension": ".py",
   "mimetype": "text/x-python",
   "name": "python",
   "nbconvert_exporter": "python",
   "pygments_lexer": "ipython3",
   "version": "3.8.10"
  },
  "orig_nbformat": 4,
  "vscode": {
   "interpreter": {
    "hash": "df928c92915a6e295095bb07de7b84624befc7d196e01c26e318bdc14196d6a4"
   }
  }
 },
 "nbformat": 4,
 "nbformat_minor": 2
}
