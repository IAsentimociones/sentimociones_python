{
 "cells": [
  {
   "cell_type": "code",
   "execution_count": null,
   "id": "8234753e",
   "metadata": {},
   "outputs": [],
   "source": [
    "'''\n",
    "Obtiene de una página web el listado de canciones con su autor\n",
    "'''\n",
    "\n",
    "import numpy as np\n",
    "from extraccion import webscraping\n",
    "import cancion_logica, sitio_logica\n",
    "\n",
    "import time\n",
    "from cajaBlanca import auditoria\n",
    "\n",
    "PROCESO_PRINCIPAL = 'Extracción Canción Cantante Sitio'\n",
    "tiempo_inicial = time.time()\n",
    "\n",
    "# obtener contenido de canciones más escuchadas de la página top 100 del mes de enero portaldemusica.es\n",
    "URL = 'https://www.elportaldemusica.es/lists/top-100-canciones/2022/1'\n",
    "contenedor = 'w1'\n",
    "divPrincipal = 'item'\n",
    "elementosHtml = np.array([\n",
    "   ['p', 'single-list-entry-rank-position'], \n",
    "   ['div', 'name'],\n",
    "   ['div', 'related'] \n",
    "])\n",
    "elementosExtraidos = webscraping.obtenerElementos(URL, contenedor, divPrincipal, elementosHtml)\n",
    "\n",
    "# registra canciones\n",
    "lista_canciones = cancion_logica.insertarCancionCantante(elementosExtraidos)\n",
    "\n",
    "# registra sitio web\n",
    "sitio_logica.insertarSitio(URL, lista_canciones)\n",
    "\n",
    "# registra pista del proceso de extracción\n",
    "auditoria.registrarPistaProceso([PROCESO_PRINCIPAL, tiempo_inicial, ['EXITO', 'sitio:www.elportaldemusica.es', 'top:100', '2022-01']])\n"
   ]
  }
 ],
 "metadata": {
  "kernelspec": {
   "display_name": "Python 3.8.10 ('entorno_prueba')",
   "language": "python",
   "name": "python3"
  },
  "language_info": {
   "codemirror_mode": {
    "name": "ipython",
    "version": 3
   },
   "file_extension": ".py",
   "mimetype": "text/x-python",
   "name": "python",
   "nbconvert_exporter": "python",
   "pygments_lexer": "ipython3",
   "version": "3.8.10"
  },
  "vscode": {
   "interpreter": {
    "hash": "df928c92915a6e295095bb07de7b84624befc7d196e01c26e318bdc14196d6a4"
   }
  }
 },
 "nbformat": 4,
 "nbformat_minor": 5
}
