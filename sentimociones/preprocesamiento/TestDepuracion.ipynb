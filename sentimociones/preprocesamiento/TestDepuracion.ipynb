{
 "cells": [
  {
   "cell_type": "code",
   "execution_count": 1,
   "id": "559ec25a",
   "metadata": {},
   "outputs": [
    {
     "name": "stdout",
     "output_type": "stream",
     "text": [
      "\n",
      "Letra tiago pzk: bzrp music sessions vol. 48 Lyrics en Ingles\n",
      "******vámono a un lugar donde no nos puedan ver (ver)\n",
      "elige el destino que yo pago el hotel (-tel)\n",
      "tengo más verde en la billetera que ayer (-yer)\n",
      "sé que hay más de un bobo que te quiere tener\n",
      "\n",
      "y no, tú te fuiste conmigo\n",
      "y yo ahora estoy perdido\n",
      "amor, si me llamas, sabes que estoy-oy-oy-oy\n",
      "\n",
      "bombona, todos quieren contigo, pero tú estás conmigo\n",
      "y no es casualidad, me clavó la mirá y nos fuimo\n",
      "bombona, todos quiеren contigo, pero tú estás conmigo\n",
      "y no еs casualidad, me clavó la mirá y nos fuimo\n",
      "\n",
      "el biza la soltó pero el gotti la agarró\n",
      "y a la pista la partió en do, en do (el biza la sol)\n",
      "cuando piensan que sí, cuando digo que no\n",
      "soy la bestia del lápiz, como kendo\n",
      "\n",
      "va-vamo a pegarno, como mis cancione\n",
      "porque si ese flow es droga, mami, yo soy al capone\n",
      "muchas dicen que no siguen esa moda que ella impone\n",
      "pero to lo que le queda bien, las nena se lo ponen\n",
      "\n",
      "escucha anuel aa y se pone pila (brr)\n",
      "cuando sale por miami en la casa de argentina\n",
      "esa cintura slip pero ese c*lo está killah\n",
      "cuando ella ve cerrado el club, prende maría\n",
      "\n",
      "si no lo tiene natural, yo le pago el plastic\n",
      "me tatuaría su body, shorty, porque soy fanatic\n",
      "la llaman pa un vídeo y no tiene que hacer el casting\n",
      "\n",
      "loca, tirá locación solo pa darte castigo-go\n",
      "tengo lo que quieren todo\n",
      "entramo al party, lo baja slow cuando suena el dembow\n",
      "en la calle no soy Ñengo, pero saben de mi flow\n",
      "\n",
      "a ella le gusta calle y yo no soy un real g\n",
      "pero sabe que conmigo va directo al v.i.p\n",
      "sabe que estoy pa hacer money pa gastarlo por ahí\n",
      "lo nuestro e un secreto, biza session twenty three\n",
      "\n",
      "¿cómo era la otra parte, biza?\n",
      "ah\n",
      "\n",
      "y no, tú te fuiste conmigo\n",
      "y yo ahora estoy perdido\n",
      "amor, si me llamas, sabes que estoy-oy-oy-oy\n",
      "\n",
      "bombona, todos quieren contigo, pero tú estás conmigo\n",
      "y no es casualidad, me clavó la mirá y nos fuimo\n",
      "bombona, todos quieren contigo, pero tú estás conmigo\n",
      "y no es casualidad, me clavó la mirá y nos fuimo bizarrap tiago pzk: bzrp music sessions vol. 48 Lyrics Translate\n",
      "bizarrap traducción\n",
      "******lets go to a place where they cant see us (see)\n",
      "choose the destination that i pay for the hotel (-tel)\n",
      "i have more green in my wallet than yesterday (-yer)\n",
      "i know there is more than one fool who wants to have you\n",
      "\n",
      "and no , you left with me\n",
      "and now im lost\n",
      "love, if you call me, you know that im-oy-oy-oy\n",
      "\n",
      "bombona, everyone wants with you, but youre with me\n",
      "and its no coincidence, she nailed me and we left\n",
      "bombona , you all quiеren, but you are with me\n",
      "and not еs chance, i nailed the mira and we fuimo\n",
      "\n",
      "the biza let go but gotti grabbed her\n",
      "and to track the split in c in c (the biza sunshine -)\n",
      "when they think yes, when i say no\n",
      "i am the beast of the pencil, like kendo\n",
      "\n",
      "va-vamo a pegarno, like my songs\n",
      "because if that flow is drug, mommy, i am al capone\n",
      "many say that they do not follow that fashion that she imposes\n",
      "but all that remains well, the girls put it on\n",
      "\n",
      "listen to anuel aa and he gets on (brr)\n",
      "when he goes out in miami at the house in argentina\n",
      "that waist slip but that c * lo is killah\n",
      "when she sees the club closed, turn on maria\n",
      "\n",
      "if she doesnt have it natural, i pay her the plastic\n",
      "i would tattoo her body, shorty, because i am a fan\n",
      "they call her for a video and she does not have to do the casting\n",
      "\n",
      "crazy, she will throw location just to give you punishment-go\n",
      "i have what they want everything \n",
      "we enter the party, he lowers it slowly when the dembow sounds\n",
      "in the street i am not Ñengo, but they know about my flow\n",
      "\n",
      "she likes the street and i am not a real g\n",
      "but she knows that with me it goes straight to the vip she\n",
      "knows that i am to do money to spend it there\n",
      ". ours is a secret, biza session twenty three\n",
      "\n",
      "what was the other party like, biza?\n",
      "ah\n",
      "\n",
      "and no, you left with me\n",
      "and now im lost\n",
      "love, if you call me, you know im-oy-oy-oy\n",
      "\n",
      "bombona, everyone wants with you, but youre with\n",
      "me we went \n",
      "bombona, everyone wants you, but you are with me\n",
      "and it is not by chance, she nailed me and we left  \n",
      " \n",
      "******vámono a un lugar donde no nos puedan ver (ver)bizarrap traducción\n",
      "******lets go to a place where they cant see us (see)\n",
      "\n",
      " Nicki Minaj - Super Freaky Girl (queen Mix) Ft Jt Y Bia  letra\n",
      " \n",
      " Elton John - Hold Me Closer Ft Britney Spears  letra\n",
      " \n",
      " Demi Lovato - Help Me (feat. Dead Sara)  letra\n",
      " \n",
      " Demi Lovato - Come Together  letra\n",
      " \n",
      " Demi Lovato - Bones  letra\n",
      " \n",
      " Demi Lovato - Feed  letra\n",
      " \n",
      " Demi Lovato - Holy Fvck  letra\n",
      " \n",
      " Demi Lovato - 4 Ever 4 Me  letra\n",
      " \n",
      " Demi Lovato - Happy Ending  letra\n",
      " \n",
      " Demi Lovato - Heaven  letra\n",
      "\n"
     ]
    }
   ],
   "source": [
    " # obtener autor-canción de la base de datos\n",
    "import pymongo\n",
    "    \n",
    "myclient = pymongo.MongoClient('localhost', 27017)\n",
    "mydb = myclient[\"test\"]\n",
    "cancion_col = mydb[\"CANCIONES\"]\n",
    "\n",
    "# obtiene las canciones sin letras\n",
    "canciones_con_letra = cancion_col.find({'estado': 'CON LETRA'}).limit(1) # quitar el limite para obtener todas las canciones sin letras\n",
    "\n",
    "cancion = canciones_con_letra[0]\n",
    "letra = cancion['letra']\n",
    "print(letra)"
   ]
  },
  {
   "cell_type": "code",
   "execution_count": 2,
   "id": "3e5d5deb",
   "metadata": {},
   "outputs": [
    {
     "name": "stdout",
     "output_type": "stream",
     "text": [
      "['Letra', 'tiago', 'pzk', 'bzrp', 'music', 'sessions', 'vol', 'Lyrics', 'en', 'Ingles', 'vámono', 'un', 'lugar', 'donde', 'no', 'nos', 'puedan', 'ver', 'ver', 'elige', 'el', 'destino', 'que', 'yo', 'pago', 'el', 'hotel', 'tel', 'tengo', 'más', 'verde', 'en', 'la', 'billetera', 'que', 'ayer', 'yer', 'sé', 'que', 'hay', 'más', 'de', 'un', 'bobo', 'que', 'te', 'quiere', 'tener', 'no', 'tú', 'te', 'fuiste', 'conmigo', 'yo', 'ahora', 'estoy', 'perdido', 'amor', 'si', 'me', 'llamas', 'sabes', 'que', 'estoy', 'oy', 'oy', 'oy', 'bombona', 'todos', 'quieren', 'contigo', 'pero', 'tú', 'estás', 'conmigo', 'no', 'es', 'casualidad', 'me', 'clavó', 'la', 'mirá', 'nos', 'fuimo', 'bombona', 'todos', 'quiеren', 'contigo', 'pero', 'tú', 'estás', 'conmigo', 'no', 'casualidad', 'me', 'clavó', 'la', 'mirá', 'nos', 'fuimo', 'el', 'biza', 'la', 'soltó', 'pero', 'el', 'gotti', 'la', 'agarró', 'la', 'pista', 'la', 'partió', 'en', 'do', 'en', 'do', 'el', 'biza', 'la', 'sol', 'cuando', 'piensan', 'que', 'sí', 'cuando', 'digo', 'que', 'no', 'soy', 'la', 'bestia', 'del', 'lápiz', 'como', 'kendo', 'va', 'vamo', 'pegarno', 'como', 'mis', 'cancione', 'porque', 'si', 'ese', 'flow', 'es', 'droga', 'mami', 'yo', 'soy', 'al', 'capone', 'muchas', 'dicen', 'que', 'no', 'siguen', 'esa', 'moda', 'que', 'ella', 'impone', 'pero', 'to', 'lo', 'que', 'le', 'queda', 'bien', 'las', 'nena', 'se', 'lo', 'ponen', 'escucha', 'anuel', 'aa', 'se', 'pone', 'pila', 'brr', 'cuando', 'sale', 'por', 'miami', 'en', 'la', 'casa', 'de', 'argentina', 'esa', 'cintura', 'slip', 'pero', 'ese', 'lo', 'está', 'killah', 'cuando', 'ella', 've', 'cerrado', 'el', 'club', 'prende', 'maría', 'si', 'no', 'lo', 'tiene', 'natural', 'yo', 'le', 'pago', 'el', 'plastic', 'me', 'tatuaría', 'su', 'body', 'shorty', 'porque', 'soy', 'fanatic', 'la', 'llaman', 'pa', 'un', 'vídeo', 'no', 'tiene', 'que', 'hacer', 'el', 'casting', 'loca', 'tirá', 'locación', 'solo', 'pa', 'darte', 'castigo', 'go', 'tengo', 'lo', 'que', 'quieren', 'todo', 'entramo', 'al', 'party', 'lo', 'baja', 'slow', 'cuando', 'suena', 'el', 'dembow', 'en', 'la', 'calle', 'no', 'soy', 'engo', 'pero', 'saben', 'de', 'mi', 'flow', 'ella', 'le', 'gusta', 'calle', 'yo', 'no', 'soy', 'un', 'real', 'pero', 'sabe', 'que', 'conmigo', 'va', 'directo', 'al', 'sabe', 'que', 'estoy', 'pa', 'hacer', 'money', 'pa', 'gastarlo', 'por', 'ahí', 'lo', 'nuestro', 'un', 'secreto', 'biza', 'session', 'twenty', 'three', 'cómo', 'era', 'la', 'otra', 'parte', 'biza', 'ah', 'no', 'tú', 'te', 'fuiste', 'conmigo', 'yo', 'ahora', 'estoy', 'perdido', 'amor', 'si', 'me', 'llamas', 'sabes', 'que', 'estoy', 'oy', 'oy', 'oy', 'bombona', 'todos', 'quieren', 'contigo', 'pero', 'tú', 'estás', 'conmigo', 'no', 'es', 'casualidad', 'me', 'clavó', 'la', 'mirá', 'nos', 'fuimo', 'bombona', 'todos', 'quieren', 'contigo', 'pero', 'tú', 'estás', 'conmigo', 'no', 'es', 'casualidad', 'me', 'clavó', 'la', 'mirá', 'nos', 'fuimo', 'bizarrap', 'tiago', 'pzk', 'bzrp', 'music', 'sessions', 'vol', 'Lyrics', 'Translate', 'bizarrap', 'traducción', 'lets', 'go', 'to', 'place', 'where', 'they', 'cant', 'see', 'us', 'see', 'choose', 'the', 'destination', 'that', 'pay', 'for', 'the', 'hotel', 'tel', 'have', 'more', 'green', 'in', 'my', 'wallet', 'than', 'yesterday', 'yer', 'know', 'there', 'is', 'more', 'than', 'one', 'fool', 'who', 'wants', 'to', 'have', 'you', 'and', 'no', 'you', 'left', 'with', 'me', 'and', 'now', 'im', 'lost', 'love', 'if', 'you', 'call', 'me', 'you', 'know', 'that', 'im', 'oy', 'oy', 'oy', 'bombona', 'everyone', 'wants', 'with', 'you', 'but', 'youre', 'with', 'me', 'and', 'its', 'no', 'coincidence', 'she', 'nailed', 'me', 'and', 'we', 'left', 'bombona', 'you', 'all', 'quiеren', 'but', 'you', 'are', 'with', 'me', 'and', 'not', 'chance', 'nailed', 'the', 'mira', 'and', 'we', 'fuimo', 'the', 'biza', 'let', 'go', 'but', 'gotti', 'grabbed', 'her', 'and', 'to', 'track', 'the', 'split', 'in', 'in', 'the', 'biza', 'sunshine', 'when', 'they', 'think', 'yes', 'when', 'say', 'no', 'am', 'the', 'beast', 'of', 'the', 'pencil', 'like', 'kendo', 'va', 'vamo', 'pegarno', 'like', 'my', 'songs', 'because', 'if', 'that', 'flow', 'is', 'drug', 'mommy', 'am', 'al', 'capone', 'many', 'say', 'that', 'they', 'do', 'not', 'follow', 'that', 'fashion', 'that', 'she', 'imposes', 'but', 'all', 'that', 'remains', 'well', 'the', 'girls', 'put', 'it', 'on', 'listen', 'to', 'anuel', 'aa', 'and', 'he', 'gets', 'on', 'brr', 'when', 'he', 'goes', 'out', 'in', 'miami', 'at', 'the', 'house', 'in', 'argentina', 'that', 'waist', 'slip', 'but', 'that', 'lo', 'is', 'killah', 'when', 'she', 'sees', 'the', 'club', 'closed', 'turn', 'on', 'maria', 'if', 'she', 'doesnt', 'have', 'it', 'natural', 'pay', 'her', 'the', 'plastic', 'would', 'tattoo', 'her', 'body', 'shorty', 'because', 'am', 'fan', 'they', 'call', 'her', 'for', 'video', 'and', 'she', 'does', 'not', 'have', 'to', 'do', 'the', 'casting', 'crazy', 'she', 'will', 'throw', 'location', 'just', 'to', 'give', 'you', 'punishment', 'go', 'have', 'what', 'they', 'want', 'everything', 'we', 'enter', 'the', 'party', 'he', 'lowers', 'it', 'slowly', 'when', 'the', 'dembow', 'sounds', 'in', 'the', 'street', 'am', 'not', 'engo', 'but', 'they', 'know', 'about', 'my', 'flow', 'she', 'likes', 'the', 'street', 'and', 'am', 'not', 'real', 'but', 'she', 'knows', 'that', 'with', 'me', 'it', 'goes', 'straight', 'to', 'the', 'vip', 'she', 'knows', 'that', 'am', 'to', 'do', 'money', 'to', 'spend', 'it', 'there', 'ours', 'is', 'secret', 'biza', 'session', 'twenty', 'three', 'what', 'was', 'the', 'other', 'party', 'like', 'biza', 'ah', 'and', 'no', 'you', 'left', 'with', 'me', 'and', 'now', 'im', 'lost', 'love', 'if', 'you', 'call', 'me', 'you', 'know', 'im', 'oy', 'oy', 'oy', 'bombona', 'everyone', 'wants', 'with', 'you', 'but', 'youre', 'with', 'me', 'we', 'went', 'bombona', 'everyone', 'wants', 'you', 'but', 'you', 'are', 'with', 'me', 'and', 'it', 'is', 'not', 'by', 'chance', 'she', 'nailed', 'me', 'and', 'we', 'left', 'vámono', 'un', 'lugar', 'donde', 'no', 'nos', 'puedan', 'ver', 'ver', 'bizarrap', 'traducción', 'lets', 'go', 'to', 'place', 'where', 'they', 'cant', 'see', 'us', 'see', 'Nicki', 'Minaj', 'Super', 'Freaky', 'Girl', 'queen', 'Mix', 'Ft', 'Jt', 'Bia', 'letra', 'Elton', 'John', 'Hold', 'Me', 'Closer', 'Ft', 'Britney', 'Spears', 'letra', 'Demi', 'Lovato', 'Help', 'Me', 'feat', 'Dead', 'Sara', 'letra', 'Demi', 'Lovato', 'Come', 'Together', 'letra', 'Demi', 'Lovato', 'Bones', 'letra', 'Demi', 'Lovato', 'Feed', 'letra', 'Demi', 'Lovato', 'Holy', 'Fvck', 'letra', 'Demi', 'Lovato', 'Ever', 'Me', 'letra', 'Demi', 'Lovato', 'Happy', 'Ending', 'letra', 'Demi', 'Lovato', 'Heaven', 'letra']\n"
     ]
    }
   ],
   "source": [
    "import tokenizacion\n",
    "\n",
    "contenido_tokenizado = tokenizacion.tokenizarConExpresionesRegulares(letra)\n",
    "print(contenido_tokenizado)"
   ]
  },
  {
   "cell_type": "code",
   "execution_count": 3,
   "id": "00766fe3",
   "metadata": {},
   "outputs": [
    {
     "name": "stdout",
     "output_type": "stream",
     "text": [
      "['LETRA', 'TIAGO', 'PZK', 'BZRP', 'MUSIC', 'SESSIONS', 'VOL', 'LYRICS', 'EN', 'INGLES', 'VÁMONO', 'UN', 'LUGAR', 'DONDE', 'NO', 'NOS', 'PUEDAN', 'VER', 'VER', 'ELIGE', 'EL', 'DESTINO', 'QUE', 'YO', 'PAGO', 'EL', 'HOTEL', 'TEL', 'TENGO', 'MÁS', 'VERDE', 'EN', 'LA', 'BILLETERA', 'QUE', 'AYER', 'YER', 'SÉ', 'QUE', 'HAY', 'MÁS', 'DE', 'UN', 'BOBO', 'QUE', 'TE', 'QUIERE', 'TENER', 'NO', 'TÚ', 'TE', 'FUISTE', 'CONMIGO', 'YO', 'AHORA', 'ESTOY', 'PERDIDO', 'AMOR', 'SI', 'ME', 'LLAMAS', 'SABES', 'QUE', 'ESTOY', 'OY', 'OY', 'OY', 'BOMBONA', 'TODOS', 'QUIEREN', 'CONTIGO', 'PERO', 'TÚ', 'ESTÁS', 'CONMIGO', 'NO', 'ES', 'CASUALIDAD', 'ME', 'CLAVÓ', 'LA', 'MIRÁ', 'NOS', 'FUIMO', 'BOMBONA', 'TODOS', 'QUIЕREN', 'CONTIGO', 'PERO', 'TÚ', 'ESTÁS', 'CONMIGO', 'NO', 'CASUALIDAD', 'ME', 'CLAVÓ', 'LA', 'MIRÁ', 'NOS', 'FUIMO', 'EL', 'BIZA', 'LA', 'SOLTÓ', 'PERO', 'EL', 'GOTTI', 'LA', 'AGARRÓ', 'LA', 'PISTA', 'LA', 'PARTIÓ', 'EN', 'DO', 'EN', 'DO', 'EL', 'BIZA', 'LA', 'SOL', 'CUANDO', 'PIENSAN', 'QUE', 'SÍ', 'CUANDO', 'DIGO', 'QUE', 'NO', 'SOY', 'LA', 'BESTIA', 'DEL', 'LÁPIZ', 'COMO', 'KENDO', 'VA', 'VAMO', 'PEGARNO', 'COMO', 'MIS', 'CANCIONE', 'PORQUE', 'SI', 'ESE', 'FLOW', 'ES', 'DROGA', 'MAMI', 'YO', 'SOY', 'AL', 'CAPONE', 'MUCHAS', 'DICEN', 'QUE', 'NO', 'SIGUEN', 'ESA', 'MODA', 'QUE', 'ELLA', 'IMPONE', 'PERO', 'TO', 'LO', 'QUE', 'LE', 'QUEDA', 'BIEN', 'LAS', 'NENA', 'SE', 'LO', 'PONEN', 'ESCUCHA', 'ANUEL', 'AA', 'SE', 'PONE', 'PILA', 'BRR', 'CUANDO', 'SALE', 'POR', 'MIAMI', 'EN', 'LA', 'CASA', 'DE', 'ARGENTINA', 'ESA', 'CINTURA', 'SLIP', 'PERO', 'ESE', 'LO', 'ESTÁ', 'KILLAH', 'CUANDO', 'ELLA', 'VE', 'CERRADO', 'EL', 'CLUB', 'PRENDE', 'MARÍA', 'SI', 'NO', 'LO', 'TIENE', 'NATURAL', 'YO', 'LE', 'PAGO', 'EL', 'PLASTIC', 'ME', 'TATUARÍA', 'SU', 'BODY', 'SHORTY', 'PORQUE', 'SOY', 'FANATIC', 'LA', 'LLAMAN', 'PA', 'UN', 'VÍDEO', 'NO', 'TIENE', 'QUE', 'HACER', 'EL', 'CASTING', 'LOCA', 'TIRÁ', 'LOCACIÓN', 'SOLO', 'PA', 'DARTE', 'CASTIGO', 'GO', 'TENGO', 'LO', 'QUE', 'QUIEREN', 'TODO', 'ENTRAMO', 'AL', 'PARTY', 'LO', 'BAJA', 'SLOW', 'CUANDO', 'SUENA', 'EL', 'DEMBOW', 'EN', 'LA', 'CALLE', 'NO', 'SOY', 'ENGO', 'PERO', 'SABEN', 'DE', 'MI', 'FLOW', 'ELLA', 'LE', 'GUSTA', 'CALLE', 'YO', 'NO', 'SOY', 'UN', 'REAL', 'PERO', 'SABE', 'QUE', 'CONMIGO', 'VA', 'DIRECTO', 'AL', 'SABE', 'QUE', 'ESTOY', 'PA', 'HACER', 'MONEY', 'PA', 'GASTARLO', 'POR', 'AHÍ', 'LO', 'NUESTRO', 'UN', 'SECRETO', 'BIZA', 'SESSION', 'TWENTY', 'THREE', 'CÓMO', 'ERA', 'LA', 'OTRA', 'PARTE', 'BIZA', 'AH', 'NO', 'TÚ', 'TE', 'FUISTE', 'CONMIGO', 'YO', 'AHORA', 'ESTOY', 'PERDIDO', 'AMOR', 'SI', 'ME', 'LLAMAS', 'SABES', 'QUE', 'ESTOY', 'OY', 'OY', 'OY', 'BOMBONA', 'TODOS', 'QUIEREN', 'CONTIGO', 'PERO', 'TÚ', 'ESTÁS', 'CONMIGO', 'NO', 'ES', 'CASUALIDAD', 'ME', 'CLAVÓ', 'LA', 'MIRÁ', 'NOS', 'FUIMO', 'BOMBONA', 'TODOS', 'QUIEREN', 'CONTIGO', 'PERO', 'TÚ', 'ESTÁS', 'CONMIGO', 'NO', 'ES', 'CASUALIDAD', 'ME', 'CLAVÓ', 'LA', 'MIRÁ', 'NOS', 'FUIMO', 'BIZARRAP', 'TIAGO', 'PZK', 'BZRP', 'MUSIC', 'SESSIONS', 'VOL', 'LYRICS', 'TRANSLATE', 'BIZARRAP', 'TRADUCCIÓN', 'LETS', 'GO', 'TO', 'PLACE', 'WHERE', 'THEY', 'CANT', 'SEE', 'US', 'SEE', 'CHOOSE', 'THE', 'DESTINATION', 'THAT', 'PAY', 'FOR', 'THE', 'HOTEL', 'TEL', 'HAVE', 'MORE', 'GREEN', 'IN', 'MY', 'WALLET', 'THAN', 'YESTERDAY', 'YER', 'KNOW', 'THERE', 'IS', 'MORE', 'THAN', 'ONE', 'FOOL', 'WHO', 'WANTS', 'TO', 'HAVE', 'YOU', 'AND', 'NO', 'YOU', 'LEFT', 'WITH', 'ME', 'AND', 'NOW', 'IM', 'LOST', 'LOVE', 'IF', 'YOU', 'CALL', 'ME', 'YOU', 'KNOW', 'THAT', 'IM', 'OY', 'OY', 'OY', 'BOMBONA', 'EVERYONE', 'WANTS', 'WITH', 'YOU', 'BUT', 'YOURE', 'WITH', 'ME', 'AND', 'ITS', 'NO', 'COINCIDENCE', 'SHE', 'NAILED', 'ME', 'AND', 'WE', 'LEFT', 'BOMBONA', 'YOU', 'ALL', 'QUIЕREN', 'BUT', 'YOU', 'ARE', 'WITH', 'ME', 'AND', 'NOT', 'CHANCE', 'NAILED', 'THE', 'MIRA', 'AND', 'WE', 'FUIMO', 'THE', 'BIZA', 'LET', 'GO', 'BUT', 'GOTTI', 'GRABBED', 'HER', 'AND', 'TO', 'TRACK', 'THE', 'SPLIT', 'IN', 'IN', 'THE', 'BIZA', 'SUNSHINE', 'WHEN', 'THEY', 'THINK', 'YES', 'WHEN', 'SAY', 'NO', 'AM', 'THE', 'BEAST', 'OF', 'THE', 'PENCIL', 'LIKE', 'KENDO', 'VA', 'VAMO', 'PEGARNO', 'LIKE', 'MY', 'SONGS', 'BECAUSE', 'IF', 'THAT', 'FLOW', 'IS', 'DRUG', 'MOMMY', 'AM', 'AL', 'CAPONE', 'MANY', 'SAY', 'THAT', 'THEY', 'DO', 'NOT', 'FOLLOW', 'THAT', 'FASHION', 'THAT', 'SHE', 'IMPOSES', 'BUT', 'ALL', 'THAT', 'REMAINS', 'WELL', 'THE', 'GIRLS', 'PUT', 'IT', 'ON', 'LISTEN', 'TO', 'ANUEL', 'AA', 'AND', 'HE', 'GETS', 'ON', 'BRR', 'WHEN', 'HE', 'GOES', 'OUT', 'IN', 'MIAMI', 'AT', 'THE', 'HOUSE', 'IN', 'ARGENTINA', 'THAT', 'WAIST', 'SLIP', 'BUT', 'THAT', 'LO', 'IS', 'KILLAH', 'WHEN', 'SHE', 'SEES', 'THE', 'CLUB', 'CLOSED', 'TURN', 'ON', 'MARIA', 'IF', 'SHE', 'DOESNT', 'HAVE', 'IT', 'NATURAL', 'PAY', 'HER', 'THE', 'PLASTIC', 'WOULD', 'TATTOO', 'HER', 'BODY', 'SHORTY', 'BECAUSE', 'AM', 'FAN', 'THEY', 'CALL', 'HER', 'FOR', 'VIDEO', 'AND', 'SHE', 'DOES', 'NOT', 'HAVE', 'TO', 'DO', 'THE', 'CASTING', 'CRAZY', 'SHE', 'WILL', 'THROW', 'LOCATION', 'JUST', 'TO', 'GIVE', 'YOU', 'PUNISHMENT', 'GO', 'HAVE', 'WHAT', 'THEY', 'WANT', 'EVERYTHING', 'WE', 'ENTER', 'THE', 'PARTY', 'HE', 'LOWERS', 'IT', 'SLOWLY', 'WHEN', 'THE', 'DEMBOW', 'SOUNDS', 'IN', 'THE', 'STREET', 'AM', 'NOT', 'ENGO', 'BUT', 'THEY', 'KNOW', 'ABOUT', 'MY', 'FLOW', 'SHE', 'LIKES', 'THE', 'STREET', 'AND', 'AM', 'NOT', 'REAL', 'BUT', 'SHE', 'KNOWS', 'THAT', 'WITH', 'ME', 'IT', 'GOES', 'STRAIGHT', 'TO', 'THE', 'VIP', 'SHE', 'KNOWS', 'THAT', 'AM', 'TO', 'DO', 'MONEY', 'TO', 'SPEND', 'IT', 'THERE', 'OURS', 'IS', 'SECRET', 'BIZA', 'SESSION', 'TWENTY', 'THREE', 'WHAT', 'WAS', 'THE', 'OTHER', 'PARTY', 'LIKE', 'BIZA', 'AH', 'AND', 'NO', 'YOU', 'LEFT', 'WITH', 'ME', 'AND', 'NOW', 'IM', 'LOST', 'LOVE', 'IF', 'YOU', 'CALL', 'ME', 'YOU', 'KNOW', 'IM', 'OY', 'OY', 'OY', 'BOMBONA', 'EVERYONE', 'WANTS', 'WITH', 'YOU', 'BUT', 'YOURE', 'WITH', 'ME', 'WE', 'WENT', 'BOMBONA', 'EVERYONE', 'WANTS', 'YOU', 'BUT', 'YOU', 'ARE', 'WITH', 'ME', 'AND', 'IT', 'IS', 'NOT', 'BY', 'CHANCE', 'SHE', 'NAILED', 'ME', 'AND', 'WE', 'LEFT', 'VÁMONO', 'UN', 'LUGAR', 'DONDE', 'NO', 'NOS', 'PUEDAN', 'VER', 'VER', 'BIZARRAP', 'TRADUCCIÓN', 'LETS', 'GO', 'TO', 'PLACE', 'WHERE', 'THEY', 'CANT', 'SEE', 'US', 'SEE', 'NICKI', 'MINAJ', 'SUPER', 'FREAKY', 'GIRL', 'QUEEN', 'MIX', 'FT', 'JT', 'BIA', 'LETRA', 'ELTON', 'JOHN', 'HOLD', 'ME', 'CLOSER', 'FT', 'BRITNEY', 'SPEARS', 'LETRA', 'DEMI', 'LOVATO', 'HELP', 'ME', 'FEAT', 'DEAD', 'SARA', 'LETRA', 'DEMI', 'LOVATO', 'COME', 'TOGETHER', 'LETRA', 'DEMI', 'LOVATO', 'BONES', 'LETRA', 'DEMI', 'LOVATO', 'FEED', 'LETRA', 'DEMI', 'LOVATO', 'HOLY', 'FVCK', 'LETRA', 'DEMI', 'LOVATO', 'EVER', 'ME', 'LETRA', 'DEMI', 'LOVATO', 'HAPPY', 'ENDING', 'LETRA', 'DEMI', 'LOVATO', 'HEAVEN', 'LETRA']\n"
     ]
    }
   ],
   "source": [
    "import depuracion\n",
    "\n",
    "#contenido = ['Hombre', 'no', 'te', 'sale', 'sale', 'Tr', 'Fact', 'Hombre', 'no', 'te', 'sale', 'sale', 'sale', 'sale', 'Morad', 'no', 'te', 'Morad', 'cómo', 'te', 'sales', \"sale'\", 'sale', 'sale', 'sale', 'Si', 'entras', 'aquí', 'no', 'ah', \"sale'\", 'sale', \"sale'\", \"sale'\", \"sale'\", 'Morad', 'cómo', 'te', 'sales', 'sales', 'si', 'entras', 'aquí', 'no', 'sales', 'sales', 'Sabes', 'que', 'tú', 'no', 'vales', \"vale'\", 'como', 'sueno', 'yo', 'en', 'instrumentales', \"ale'\", 'Hablando', 'de', 'los', \"mundo'\", 'de', \"ilegale'\", \"ale'\", 'Pegadizo', 'como', 'Dale', 'Don', 'Dale', 'ale', 'Yo', 'sonando', 'siempre', 'en', 'la', 'calle', 'tú', 'Principales', \"ale'\", 'Cuatro', \"guitarrista'\", \"ista'\", 'que', 'tienen', 'orquesta', 'orquesta', 'Para', 'hacer', 'un', 'tema', 'ala', 'que', 'no', 'suena', 'ni', 'en', 'la', 'fiesta', 'no', 'no', 'no', 'Yo', 'hago', 'mi', 'escritura', 'fumando', 'uno', 'de', 'verdura', 'ah', 'Tú', 'dos', 'meses', 'duras', 'tú', \"está'\", 'fuera', 'cobertura', 'jaja', 'La', 'calle', 'está', 'loca', 'loca', 'eso', \"e'\", 'lo', 'que', 'pica', 'pica', 'Pagamos', 'Toca', 'tú', 'pidiéndole', 'tu', 'chica', 'chica', 'El', 'capo', 'González', 'lez', 'puede', 'que', 'te', 'cale', 'cale', 'Tu', 'coche', 'se', 'cala', \"acaba'\", 'luego', 'en', 'la', 'tele', \"cuidao'\", 'Mira', 'que', 'ya', \"e'\", 'fácil', \"cuidao'\", 'en', 'cinco', \"minuto'\", \"cuidao'\", 'Lo', 'hago', 'ya', 'duro', 'rápido', 'también', 'impoluto', 'Más', 'duro', 'que', 'yeso', 'más', 'de', 'uno', 'lo', 'discuto', 'Yo', 'solo', 'no', 'no', 'no', 'no', 'no', 'no', 'no', 'no', 'Oye', 'oye', 'oye', 'para', 'para', 'para', 'para', 'para', 'Espera', 'espera', 'espera', 'espera', 'espera', 'que', 'lo', 'cambie', 'Dice', 'dice', 'Dime', 'dónde', \"para'\", 'para', 'ir', 'buscarte', 'cogerte', 'aparte', 'Dónde', \"está'\", \"escondí'o\", 'mí', 'no', 'interesa', 'Tener', 'que', 'grabarte', 'si', 'eres', 'un', 'desastre', 'Dónde', \"está'\", \"escondí'o\", 'quién', 'es', 'tu', 'colega', 'El', 'que', 'te', 'lo', 'brega', 'el', 'que', 'por', 'ti', 'se', 'pega', 'Dónde', \"está'\", \"escondí'o\", 'Dónde', \"e'\", 'tu', 'grupo', \"Pa'\", 'ver', 'cómo', 'lo', 'escupo', 'luego', 'ni', 'me', 'preocupo', 'Dónde', \"está'\", \"escondí'o\", 'Pa', 'pa', 'para', 'para', 'para', 'para', 'Tú', \"tiene'\", 'una', 'pistola', 'pero', 'no', \"dispara'\", \"para'\", \"para'\", \"para'\", 'Eladio', 'dijo', 'No', 'hay', 'chaleco', \"pa'\", 'la', 'cara', 'cara', 'cara', 'cara', \"Entonce'\", 'te', \"haremo'\", 'la', 'de', 'los', 'amara', 'la', 'de', 'los', 'amara', 'te', 'raja', 'Espera', 'espera', 'Ahora', 'veo', 'que', 'toy', 'haciendo', 'lo', 'que', 'quiera', 'lo', 'que', 'quiera', 'quiera', 'tú', 'apretado', 'con', 'interés', 'de', 'disquera', 'de', 'disquera', 'quera', 'yo', 'tranquilo', 'hasta', 'el', 'día', 'que', 'me', 'muera', 'Hasta', 'que', 'me', 'pe', 'oye', 'oye', 'oye', 'Pe', 'pe', 'pelele', 'Te', 'crees', 'que', 'es', 'muy', 'fácil', 'nombrar', 'la', 'Si', 'sabemos', 'que', 'tú', 'no', \"llega'\", 'los', \"nivele'\", 'nosotros', 'os', 'pusimos', \"vosotro'\", 'los', \"chele'\", 'los', \"primero'\", \"chele'\", 'Pe', 'pe', 'pelele', 'Te', 'crees', 'que', 'es', 'muy', 'fácil', 'nombrar', 'la', 'Si', 'sabemos', 'que', 'tú', 'no', \"llega'\", 'los', \"nivele'\", 'nosotros', 'os', \"pusimo'\", \"vosotro'\", 'los', \"chele'\", 'los', 'primeros', \"chele'\", 'Pa', 'pa', 'para', 'Cuando', 'me', 'ven', 'de', 'frente', 'ya', 'me', 'dicen', 'Para', 'para', 'para', 'para', 'Cuando', 'me', 'ven', 'de', 'frente', 'ya', 'me', 'dicen', 'Para', 'para', 'para', 'Cuando', 'me', 'ven', 'de', 'frente', 'ya', 'me', 'dicen', 'Para', 'para', 'para', 'para', 'Ya', 'me', 'dicen', 'Para', 'Pe', 'pe', 'pelele', 'Pelele', 'Pelele', 'Pelele', 'Pe', 'pe', 'pelele', 'Veo', 'veo', 'veo', 'tu', 'grupo', 'jaja', 'si', 'yo', 'los', 'veo', 'jaja', 'pe', 'pe', 'pelele', 'Grupo', 'Jaja', 'si', 'yo', 'los', 'veo', 'jaja', 'pelele', 'Grupo', 'Jaja', 'si', 'yo', 'los', 'veo', 'jaja', 'pelele', 'Veo', 'tu', 'grupo', 'solo', 'me', 'sale', 'Jajajaja', 'pelele', 'Veo', 'tu', 'grupo', 'solo', 'jajajaja', 'pe', 'pe', 'pelele', 'Veo', 'tu', 'grupo', 'solo', 'jajajaja', 'pelele', 'Jajaja', 'jajaja', 'pelele', 'Tu', 'mama', 'de', 'teta', 'jajajaja', 'pelele', 'Pe', 'pe', 'pelele']\n",
    "#print(contenido)\n",
    "\n",
    "contenido_depurado = depuracion.eliminarPalabrasVacias(contenido_tokenizado)\n",
    "print(contenido_depurado)"
   ]
  }
 ],
 "metadata": {
  "kernelspec": {
   "display_name": "Python 3.8.10 ('entorno_prueba')",
   "language": "python",
   "name": "python3"
  },
  "language_info": {
   "codemirror_mode": {
    "name": "ipython",
    "version": 3
   },
   "file_extension": ".py",
   "mimetype": "text/x-python",
   "name": "python",
   "nbconvert_exporter": "python",
   "pygments_lexer": "ipython3",
   "version": "3.8.10"
  },
  "vscode": {
   "interpreter": {
    "hash": "df928c92915a6e295095bb07de7b84624befc7d196e01c26e318bdc14196d6a4"
   }
  }
 },
 "nbformat": 4,
 "nbformat_minor": 5
}
