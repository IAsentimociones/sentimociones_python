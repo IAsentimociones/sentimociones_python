{
 "cells": [
  {
   "cell_type": "code",
   "execution_count": null,
   "id": "8234753e",
   "metadata": {},
   "outputs": [],
   "source": [
    "# letra de una canción estado original\n",
    "letra = 'Hombre, no te sale (sale) (Tr. Fact)\\n'  \n",
    "letra += 'Hombre, no te sale (sale, sale, sale)\\n' \n",
    "letra += 'Morad, no te, Morad cómo te sales (sale\\', sale, sale, sale)\\n\\n'\n",
    "letra += 'Si entras aquí no, ah (sale\\', sale, sale\\', sale\\', sale\\')\\n'\n",
    "letra += 'Sabes que tú no vales (vale\\'), como sueno yo en instrumentales (-ale\\')'\n",
    "\n",
    "print(letra)"
   ]
  },
  {
   "cell_type": "code",
   "execution_count": null,
   "id": "559ec25a",
   "metadata": {},
   "outputs": [],
   "source": [
    " # obtener autor-canción de la base de datos\n",
    "import pymongo\n",
    "    \n",
    "myclient = pymongo.MongoClient('localhost', 27017)\n",
    "mydb = myclient[\"test\"]\n",
    "cancion_col = mydb[\"CANCIONES\"]\n",
    "\n",
    "# obtiene las canciones sin letras\n",
    "canciones_con_letra = cancion_col.find({'estado': 'CON LETRA'}).limit(1) # quitar el limite para obtener todas las canciones sin letras\n",
    "\n",
    "cancion = canciones_con_letra[0]\n",
    "letra = cancion['letra']\n",
    "print(letra)"
   ]
  },
  {
   "cell_type": "code",
   "execution_count": null,
   "id": "3e5d5deb",
   "metadata": {},
   "outputs": [],
   "source": [
    "import tokenizacion\n",
    "\n",
    "tokenizacion.tokenizarConExpresionesRegulares(letra)"
   ]
  },
  {
   "cell_type": "code",
   "execution_count": 1,
   "id": "00766fe3",
   "metadata": {},
   "outputs": [
    {
     "name": "stdout",
     "output_type": "stream",
     "text": [
      "['Hombre', 'no', 'te', 'sale', 'sale', 'Tr', 'Fact', 'Hombre', 'no', 'te', 'sale', 'sale', 'sale', 'sale', 'Morad', 'no', 'te', 'Morad', 'cómo', 'te', 'sales', \"sale'\", 'sale', 'sale', 'sale', 'Si', 'entras', 'aquí', 'no', 'ah', \"sale'\", 'sale', \"sale'\", \"sale'\", \"sale'\", 'Morad', 'cómo', 'te', 'sales', 'sales', 'si', 'entras', 'aquí', 'no', 'sales', 'sales', 'Sabes', 'que', 'tú', 'no', 'vales', \"vale'\", 'como', 'sueno', 'yo', 'en', 'instrumentales', \"ale'\", 'Hablando', 'de', 'los', \"mundo'\", 'de', \"ilegale'\", \"ale'\", 'Pegadizo', 'como', 'Dale', 'Don', 'Dale', 'ale', 'Yo', 'sonando', 'siempre', 'en', 'la', 'calle', 'tú', 'Principales', \"ale'\", 'Cuatro', \"guitarrista'\", \"ista'\", 'que', 'tienen', 'orquesta', 'orquesta', 'Para', 'hacer', 'un', 'tema', 'ala', 'que', 'no', 'suena', 'ni', 'en', 'la', 'fiesta', 'no', 'no', 'no', 'Yo', 'hago', 'mi', 'escritura', 'fumando', 'uno', 'de', 'verdura', 'ah', 'Tú', 'dos', 'meses', 'duras', 'tú', \"está'\", 'fuera', 'cobertura', 'jaja', 'La', 'calle', 'está', 'loca', 'loca', 'eso', \"e'\", 'lo', 'que', 'pica', 'pica', 'Pagamos', 'Toca', 'tú', 'pidiéndole', 'tu', 'chica', 'chica', 'El', 'capo', 'González', 'lez', 'puede', 'que', 'te', 'cale', 'cale', 'Tu', 'coche', 'se', 'cala', \"acaba'\", 'luego', 'en', 'la', 'tele', \"cuidao'\", 'Mira', 'que', 'ya', \"e'\", 'fácil', \"cuidao'\", 'en', 'cinco', \"minuto'\", \"cuidao'\", 'Lo', 'hago', 'ya', 'duro', 'rápido', 'también', 'impoluto', 'Más', 'duro', 'que', 'yeso', 'más', 'de', 'uno', 'lo', 'discuto', 'Yo', 'solo', 'no', 'no', 'no', 'no', 'no', 'no', 'no', 'no', 'Oye', 'oye', 'oye', 'para', 'para', 'para', 'para', 'para', 'Espera', 'espera', 'espera', 'espera', 'espera', 'que', 'lo', 'cambie', 'Dice', 'dice', 'Dime', 'dónde', \"para'\", 'para', 'ir', 'buscarte', 'cogerte', 'aparte', 'Dónde', \"está'\", \"escondí'o\", 'mí', 'no', 'interesa', 'Tener', 'que', 'grabarte', 'si', 'eres', 'un', 'desastre', 'Dónde', \"está'\", \"escondí'o\", 'quién', 'es', 'tu', 'colega', 'El', 'que', 'te', 'lo', 'brega', 'el', 'que', 'por', 'ti', 'se', 'pega', 'Dónde', \"está'\", \"escondí'o\", 'Dónde', \"e'\", 'tu', 'grupo', \"Pa'\", 'ver', 'cómo', 'lo', 'escupo', 'luego', 'ni', 'me', 'preocupo', 'Dónde', \"está'\", \"escondí'o\", 'Pa', 'pa', 'para', 'para', 'para', 'para', 'Tú', \"tiene'\", 'una', 'pistola', 'pero', 'no', \"dispara'\", \"para'\", \"para'\", \"para'\", 'Eladio', 'dijo', 'No', 'hay', 'chaleco', \"pa'\", 'la', 'cara', 'cara', 'cara', 'cara', \"Entonce'\", 'te', \"haremo'\", 'la', 'de', 'los', 'amara', 'la', 'de', 'los', 'amara', 'te', 'raja', 'Espera', 'espera', 'Ahora', 'veo', 'que', 'toy', 'haciendo', 'lo', 'que', 'quiera', 'lo', 'que', 'quiera', 'quiera', 'tú', 'apretado', 'con', 'interés', 'de', 'disquera', 'de', 'disquera', 'quera', 'yo', 'tranquilo', 'hasta', 'el', 'día', 'que', 'me', 'muera', 'Hasta', 'que', 'me', 'pe', 'oye', 'oye', 'oye', 'Pe', 'pe', 'pelele', 'Te', 'crees', 'que', 'es', 'muy', 'fácil', 'nombrar', 'la', 'Si', 'sabemos', 'que', 'tú', 'no', \"llega'\", 'los', \"nivele'\", 'nosotros', 'os', 'pusimos', \"vosotro'\", 'los', \"chele'\", 'los', \"primero'\", \"chele'\", 'Pe', 'pe', 'pelele', 'Te', 'crees', 'que', 'es', 'muy', 'fácil', 'nombrar', 'la', 'Si', 'sabemos', 'que', 'tú', 'no', \"llega'\", 'los', \"nivele'\", 'nosotros', 'os', \"pusimo'\", \"vosotro'\", 'los', \"chele'\", 'los', 'primeros', \"chele'\", 'Pa', 'pa', 'para', 'Cuando', 'me', 'ven', 'de', 'frente', 'ya', 'me', 'dicen', 'Para', 'para', 'para', 'para', 'Cuando', 'me', 'ven', 'de', 'frente', 'ya', 'me', 'dicen', 'Para', 'para', 'para', 'Cuando', 'me', 'ven', 'de', 'frente', 'ya', 'me', 'dicen', 'Para', 'para', 'para', 'para', 'Ya', 'me', 'dicen', 'Para', 'Pe', 'pe', 'pelele', 'Pelele', 'Pelele', 'Pelele', 'Pe', 'pe', 'pelele', 'Veo', 'veo', 'veo', 'tu', 'grupo', 'jaja', 'si', 'yo', 'los', 'veo', 'jaja', 'pe', 'pe', 'pelele', 'Grupo', 'Jaja', 'si', 'yo', 'los', 'veo', 'jaja', 'pelele', 'Grupo', 'Jaja', 'si', 'yo', 'los', 'veo', 'jaja', 'pelele', 'Veo', 'tu', 'grupo', 'solo', 'me', 'sale', 'Jajajaja', 'pelele', 'Veo', 'tu', 'grupo', 'solo', 'jajajaja', 'pe', 'pe', 'pelele', 'Veo', 'tu', 'grupo', 'solo', 'jajajaja', 'pelele', 'Jajaja', 'jajaja', 'pelele', 'Tu', 'mama', 'de', 'teta', 'jajajaja', 'pelele', 'Pe', 'pe', 'pelele']\n",
      "['hombre', 'sale', 'sale', 'hombre', 'sale', 'sale', 'sale', 'sale', 'cómo', 'sales', \"sale'\", 'sale', 'sale', 'sale', 'si', 'entras', 'aquí', \"sale'\", 'sale', \"sale'\", \"sale'\", \"sale'\", 'cómo', 'sales', 'sales', 'si', 'entras', 'aquí', 'sales', 'sales', 'sabes', 'vales', \"vale'\", 'sueno', 'instrumentales', 'hablando', \"mundo'\", 'pegadizo', 'dale', 'dale', 'sonando', 'siempre', 'calle', 'principales', 'cuatro', \"guitarrista'\", 'orquesta', 'orquesta', 'hacer', 'tema', 'ala', 'suena', 'fiesta', 'hago', 'escritura', 'fumando', 'verdura', 'dos', 'meses', 'duras', \"está'\", 'cobertura', 'calle', 'loca', 'loca', 'pica', 'pica', 'pagamos', 'toca', 'pidiéndole', 'chica', 'chica', 'capo', 'gonzález', 'puede', 'cale', 'cale', 'coche', 'cala', \"acaba'\", 'luego', 'tele', \"cuidao'\", 'mira', 'fácil', \"cuidao'\", 'cinco', \"minuto'\", \"cuidao'\", 'hago', 'duro', 'rápido', 'impoluto', 'duro', 'yeso', 'discuto', 'solo', 'oye', 'oye', 'oye', 'espera', 'espera', 'espera', 'espera', 'espera', 'cambie', 'dice', 'dice', 'dime', 'dónde', \"para'\", 'ir', 'buscarte', 'cogerte', 'aparte', 'dónde', \"está'\", \"escondí'o\", 'interesa', 'tener', 'grabarte', 'si', 'desastre', 'dónde', \"está'\", \"escondí'o\", 'quién', 'colega', 'brega', 'pega', 'dónde', \"está'\", \"escondí'o\", 'dónde', 'grupo', 'ver', 'cómo', 'escupo', 'luego', 'preocupo', 'dónde', \"está'\", \"escondí'o\", \"tiene'\", 'pistola', \"dispara'\", \"para'\", \"para'\", \"para'\", 'eladio', 'dijo', 'chaleco', 'cara', 'cara', 'cara', 'cara', \"entonce'\", \"haremo'\", 'amara', 'amara', 'raja', 'espera', 'espera', 'ahora', 'veo', 'toy', 'haciendo', 'quiera', 'quiera', 'quiera', 'apretado', 'interés', 'disquera', 'disquera', 'quera', 'tranquilo', 'día', 'muera', 'oye', 'oye', 'oye', 'pelele', 'crees', 'fácil', 'nombrar', 'si', 'sabemos', \"llega'\", \"nivele'\", 'pusimos', \"vosotro'\", \"chele'\", \"primero'\", \"chele'\", 'pelele', 'crees', 'fácil', 'nombrar', 'si', 'sabemos', \"llega'\", \"nivele'\", \"pusimo'\", \"vosotro'\", \"chele'\", 'primeros', \"chele'\", 'ven', 'frente', 'dicen', 'ven', 'frente', 'dicen', 'ven', 'frente', 'dicen', 'dicen', 'pelele', 'pelele', 'pelele', 'pelele', 'pelele', 'veo', 'veo', 'veo', 'grupo', 'si', 'veo', 'pelele', 'grupo', 'si', 'veo', 'pelele', 'grupo', 'si', 'veo', 'pelele', 'veo', 'grupo', 'solo', 'sale', 'pelele', 'veo', 'grupo', 'solo', 'pelele', 'veo', 'grupo', 'solo', 'pelele', 'pelele', 'mama', 'teta', 'pelele', 'pelele']\n"
     ]
    }
   ],
   "source": [
    "import depuracion\n",
    "\n",
    "contenido = ['Hombre', 'no', 'te', 'sale', 'sale', 'Tr', 'Fact', 'Hombre', 'no', 'te', 'sale', 'sale', 'sale', 'sale', 'Morad', 'no', 'te', 'Morad', 'cómo', 'te', 'sales', \"sale'\", 'sale', 'sale', 'sale', 'Si', 'entras', 'aquí', 'no', 'ah', \"sale'\", 'sale', \"sale'\", \"sale'\", \"sale'\", 'Morad', 'cómo', 'te', 'sales', 'sales', 'si', 'entras', 'aquí', 'no', 'sales', 'sales', 'Sabes', 'que', 'tú', 'no', 'vales', \"vale'\", 'como', 'sueno', 'yo', 'en', 'instrumentales', \"ale'\", 'Hablando', 'de', 'los', \"mundo'\", 'de', \"ilegale'\", \"ale'\", 'Pegadizo', 'como', 'Dale', 'Don', 'Dale', 'ale', 'Yo', 'sonando', 'siempre', 'en', 'la', 'calle', 'tú', 'Principales', \"ale'\", 'Cuatro', \"guitarrista'\", \"ista'\", 'que', 'tienen', 'orquesta', 'orquesta', 'Para', 'hacer', 'un', 'tema', 'ala', 'que', 'no', 'suena', 'ni', 'en', 'la', 'fiesta', 'no', 'no', 'no', 'Yo', 'hago', 'mi', 'escritura', 'fumando', 'uno', 'de', 'verdura', 'ah', 'Tú', 'dos', 'meses', 'duras', 'tú', \"está'\", 'fuera', 'cobertura', 'jaja', 'La', 'calle', 'está', 'loca', 'loca', 'eso', \"e'\", 'lo', 'que', 'pica', 'pica', 'Pagamos', 'Toca', 'tú', 'pidiéndole', 'tu', 'chica', 'chica', 'El', 'capo', 'González', 'lez', 'puede', 'que', 'te', 'cale', 'cale', 'Tu', 'coche', 'se', 'cala', \"acaba'\", 'luego', 'en', 'la', 'tele', \"cuidao'\", 'Mira', 'que', 'ya', \"e'\", 'fácil', \"cuidao'\", 'en', 'cinco', \"minuto'\", \"cuidao'\", 'Lo', 'hago', 'ya', 'duro', 'rápido', 'también', 'impoluto', 'Más', 'duro', 'que', 'yeso', 'más', 'de', 'uno', 'lo', 'discuto', 'Yo', 'solo', 'no', 'no', 'no', 'no', 'no', 'no', 'no', 'no', 'Oye', 'oye', 'oye', 'para', 'para', 'para', 'para', 'para', 'Espera', 'espera', 'espera', 'espera', 'espera', 'que', 'lo', 'cambie', 'Dice', 'dice', 'Dime', 'dónde', \"para'\", 'para', 'ir', 'buscarte', 'cogerte', 'aparte', 'Dónde', \"está'\", \"escondí'o\", 'mí', 'no', 'interesa', 'Tener', 'que', 'grabarte', 'si', 'eres', 'un', 'desastre', 'Dónde', \"está'\", \"escondí'o\", 'quién', 'es', 'tu', 'colega', 'El', 'que', 'te', 'lo', 'brega', 'el', 'que', 'por', 'ti', 'se', 'pega', 'Dónde', \"está'\", \"escondí'o\", 'Dónde', \"e'\", 'tu', 'grupo', \"Pa'\", 'ver', 'cómo', 'lo', 'escupo', 'luego', 'ni', 'me', 'preocupo', 'Dónde', \"está'\", \"escondí'o\", 'Pa', 'pa', 'para', 'para', 'para', 'para', 'Tú', \"tiene'\", 'una', 'pistola', 'pero', 'no', \"dispara'\", \"para'\", \"para'\", \"para'\", 'Eladio', 'dijo', 'No', 'hay', 'chaleco', \"pa'\", 'la', 'cara', 'cara', 'cara', 'cara', \"Entonce'\", 'te', \"haremo'\", 'la', 'de', 'los', 'amara', 'la', 'de', 'los', 'amara', 'te', 'raja', 'Espera', 'espera', 'Ahora', 'veo', 'que', 'toy', 'haciendo', 'lo', 'que', 'quiera', 'lo', 'que', 'quiera', 'quiera', 'tú', 'apretado', 'con', 'interés', 'de', 'disquera', 'de', 'disquera', 'quera', 'yo', 'tranquilo', 'hasta', 'el', 'día', 'que', 'me', 'muera', 'Hasta', 'que', 'me', 'pe', 'oye', 'oye', 'oye', 'Pe', 'pe', 'pelele', 'Te', 'crees', 'que', 'es', 'muy', 'fácil', 'nombrar', 'la', 'Si', 'sabemos', 'que', 'tú', 'no', \"llega'\", 'los', \"nivele'\", 'nosotros', 'os', 'pusimos', \"vosotro'\", 'los', \"chele'\", 'los', \"primero'\", \"chele'\", 'Pe', 'pe', 'pelele', 'Te', 'crees', 'que', 'es', 'muy', 'fácil', 'nombrar', 'la', 'Si', 'sabemos', 'que', 'tú', 'no', \"llega'\", 'los', \"nivele'\", 'nosotros', 'os', \"pusimo'\", \"vosotro'\", 'los', \"chele'\", 'los', 'primeros', \"chele'\", 'Pa', 'pa', 'para', 'Cuando', 'me', 'ven', 'de', 'frente', 'ya', 'me', 'dicen', 'Para', 'para', 'para', 'para', 'Cuando', 'me', 'ven', 'de', 'frente', 'ya', 'me', 'dicen', 'Para', 'para', 'para', 'Cuando', 'me', 'ven', 'de', 'frente', 'ya', 'me', 'dicen', 'Para', 'para', 'para', 'para', 'Ya', 'me', 'dicen', 'Para', 'Pe', 'pe', 'pelele', 'Pelele', 'Pelele', 'Pelele', 'Pe', 'pe', 'pelele', 'Veo', 'veo', 'veo', 'tu', 'grupo', 'jaja', 'si', 'yo', 'los', 'veo', 'jaja', 'pe', 'pe', 'pelele', 'Grupo', 'Jaja', 'si', 'yo', 'los', 'veo', 'jaja', 'pelele', 'Grupo', 'Jaja', 'si', 'yo', 'los', 'veo', 'jaja', 'pelele', 'Veo', 'tu', 'grupo', 'solo', 'me', 'sale', 'Jajajaja', 'pelele', 'Veo', 'tu', 'grupo', 'solo', 'jajajaja', 'pe', 'pe', 'pelele', 'Veo', 'tu', 'grupo', 'solo', 'jajajaja', 'pelele', 'Jajaja', 'jajaja', 'pelele', 'Tu', 'mama', 'de', 'teta', 'jajajaja', 'pelele', 'Pe', 'pe', 'pelele']\n",
    "print(contenido)\n",
    "\n",
    "print(depuracion.eliminarPalabrasVacias(contenido))"
   ]
  }
 ],
 "metadata": {
  "kernelspec": {
   "display_name": "Python 3.8.10 ('entorno_prueba')",
   "language": "python",
   "name": "python3"
  },
  "language_info": {
   "codemirror_mode": {
    "name": "ipython",
    "version": 3
   },
   "file_extension": ".py",
   "mimetype": "text/x-python",
   "name": "python",
   "nbconvert_exporter": "python",
   "pygments_lexer": "ipython3",
   "version": "3.8.10"
  },
  "vscode": {
   "interpreter": {
    "hash": "df928c92915a6e295095bb07de7b84624befc7d196e01c26e318bdc14196d6a4"
   }
  }
 },
 "nbformat": 4,
 "nbformat_minor": 5
}
