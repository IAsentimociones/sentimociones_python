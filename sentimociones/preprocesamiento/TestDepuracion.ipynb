{
 "cells": [
  {
   "cell_type": "code",
   "execution_count": 1,
   "id": "559ec25a",
   "metadata": {},
   "outputs": [
    {
     "name": "stdout",
     "output_type": "stream",
     "text": [
      "¿Qué me hizo usted?\n",
      "Que la quiero volver a ver\n",
      "Y volverla a besar\n",
      "Yo te paso a buscar, buscar\n",
      "Es que la bellaquera contigo\n",
      "Con nadie más la consigo\n",
      "De tus grito' hoy no me olvido\n",
      "\n",
      "Te-te-tengo reservao' el hotel\n",
      "Pero con estas gana' no vamo' a llegar\n",
      "Somo' do' desesperado', por eso nos tuvimo' que parquear\n",
      "Atrá' nos espera el asiento\n",
      "Tú ere' una aventura cuando te desnuda'\n",
      "Te-te-tengo reservao' el hotel\n",
      "Pero con estas gana' no vamo' a llegar\n",
      "Somo' do' desesperado', por eso nos tuvimo' que parquear\n",
      "Atrá' nos espera el asiento\n",
      "Tú ere' una aventura cuando te desnuda'\n",
      "\n",
      "La' gana' de tenerla, yo no pude, tuve\n",
      "Que hacértelo cuando me detuve, sudé\n",
      "En la parte 'e atrá', aunque falta comodidad\n",
      "Tus grito' confirmaron que viste la' nube'\n",
      "La bellaquera nos domina siempre que tú y yo no' vemo'\n",
      "No importa el ambiente, donde sea no' comemo'\n",
      "No hay planificación porque a ti la situación\n",
      "Te descontrola y no hay forma de evitar la situación\n",
      "Donde siempre terminamos sin ropa\n",
      "No te conformas con un beso en la boca\n",
      "Según tú dice', yo soy el que te provoca\n",
      "Pero me busca' aunque sabe' que tengo a otra\n",
      "\n",
      "Te-te-tengo reservado el hotel\n",
      "Pero con estas gana' no vamo' a llegar\n",
      "Somo' do' desesperados, por eso nos tuvimos que marchar\n",
      "Atrás nos espera el asiento\n",
      "Tú ere' una aventura cuando te desnuda'\n",
      "\n",
      "La primera vez que perreamos\n",
      "No pudimo' evitarlo y nos besamos (ey)\n",
      "Que el momento no acabara no dejamo'\n",
      "En vano no fue, la toqué como un piano\n",
      "Tu mirada me dijo que esto hoy gano (yah)\n",
      "Ah\n",
      "Mami, ¿tú quiere' más\n",
      "Tú quiere' más, tú quiere' más? (Uh-wh)\n",
      "Bebé, pues no se hable más (y-yih)\n",
      "No me suelte' y vámono' de una ve' (yah)\n",
      "Bendeci'o por ser el que ve tu desnudez (amén)\n",
      "Lo más que me gusta 'e ti e' tu sencillez\n",
      "Le gusta agresivo, pero que entre con delicadez\n",
      "De la Metro a Mayagüez (Ra-Rauw)\n",
      "\n",
      "¿Qué me dice usted?\n",
      "Que la quiero volver a ver\n",
      "Y volverla a besar\n",
      "Yo te paso a buscar, buscar\n",
      "Es que la bellaquera contigo\n",
      "Con nadie más la consigo\n",
      "De tus grito' no me olvido\n",
      "\n",
      "Te-te-tengo reservao' el hotel\n",
      "Pero con estas gana' no vamo' a llegar\n",
      "Somo' do' desesperado', por eso nos tuvimo' que parquear\n",
      "Atrá' nos espera el asiento\n",
      "Tú ere' una aventura cuando te desnuda'\n",
      "\n",
      "Ra-Rauw\n",
      "Rauw Alejandro\n",
      "Con Chencho\n",
      "Corleone\n",
      "Desbloqueando un nuevo nivel del perreo\n",
      "Dímelo, Nino\n",
      "Dulce Como Candy\n",
      "VICE VERSA, pa' to' las nena' perversa\n",
      "Ey\n",
      "Ra-Rauw\n",
      "Con los fuckin' Sensei\n",
      "Duars Entertainment\n",
      "Gang\n"
     ]
    }
   ],
   "source": [
    " # obtener autor-canción de la base de datos\n",
    "import pymongo\n",
    "    \n",
    "myclient = pymongo.MongoClient('localhost', 27017)\n",
    "mydb = myclient[\"test\"]\n",
    "cancion_col = mydb[\"CANCIONES\"]\n",
    "\n",
    "# obtiene las canciones sin letras\n",
    "canciones_con_letra = cancion_col.find({'estado': 'CON LETRA'}).limit(1) # quitar el limite para obtener todas las canciones sin letras\n",
    "\n",
    "cancion = canciones_con_letra[0]\n",
    "letra = cancion['letra']\n",
    "print(letra)"
   ]
  },
  {
   "cell_type": "code",
   "execution_count": 2,
   "id": "3e5d5deb",
   "metadata": {},
   "outputs": [
    {
     "name": "stdout",
     "output_type": "stream",
     "text": [
      "['Qué', 'me', 'hizo', 'usted', 'Que', 'la', 'quiero', 'volver', 'ver', 'volverla', 'besar', 'Yo', 'te', 'paso', 'buscar', 'buscar', 'Es', 'que', 'la', 'bellaquera', 'contigo', 'Con', 'nadie', 'más', 'la', 'consigo', 'De', 'tus', \"grito'\", 'hoy', 'no', 'me', 'olvido', 'Te', 'te', 'tengo', \"reservao'\", 'el', 'hotel', 'Pero', 'con', 'estas', \"gana'\", 'no', \"vamo'\", 'llegar', \"Somo'\", \"do'\", \"desesperado'\", 'por', 'eso', 'nos', \"tuvimo'\", 'que', 'parquear', \"Atrá'\", 'nos', 'espera', 'el', 'asiento', 'Tú', \"ere'\", 'una', 'aventura', 'cuando', 'te', \"desnuda'\", 'Te', 'te', 'tengo', \"reservao'\", 'el', 'hotel', 'Pero', 'con', 'estas', \"gana'\", 'no', \"vamo'\", 'llegar', \"Somo'\", \"do'\", \"desesperado'\", 'por', 'eso', 'nos', \"tuvimo'\", 'que', 'parquear', \"Atrá'\", 'nos', 'espera', 'el', 'asiento', 'Tú', \"ere'\", 'una', 'aventura', 'cuando', 'te', \"desnuda'\", \"La'\", \"gana'\", 'de', 'tenerla', 'yo', 'no', 'pude', 'tuve', 'Que', 'hacértelo', 'cuando', 'me', 'detuve', 'sudé', 'En', 'la', 'parte', \"atrá'\", 'aunque', 'falta', 'comodidad', 'Tus', \"grito'\", 'confirmaron', 'que', 'viste', \"la'\", \"nube'\", 'La', 'bellaquera', 'nos', 'domina', 'siempre', 'que', 'tú', 'yo', \"no'\", \"vemo'\", 'No', 'importa', 'el', 'ambiente', 'donde', 'sea', \"no'\", \"comemo'\", 'No', 'hay', 'planificación', 'porque', 'ti', 'la', 'situación', 'Te', 'descontrola', 'no', 'hay', 'forma', 'de', 'evitar', 'la', 'situación', 'Donde', 'siempre', 'terminamos', 'sin', 'ropa', 'No', 'te', 'conformas', 'con', 'un', 'beso', 'en', 'la', 'boca', 'Según', 'tú', \"dice'\", 'yo', 'soy', 'el', 'que', 'te', 'provoca', 'Pero', 'me', \"busca'\", 'aunque', \"sabe'\", 'que', 'tengo', 'otra', 'Te', 'te', 'tengo', 'reservado', 'el', 'hotel', 'Pero', 'con', 'estas', \"gana'\", 'no', \"vamo'\", 'llegar', \"Somo'\", \"do'\", 'desesperados', 'por', 'eso', 'nos', 'tuvimos', 'que', 'marchar', 'Atrás', 'nos', 'espera', 'el', 'asiento', 'Tú', \"ere'\", 'una', 'aventura', 'cuando', 'te', \"desnuda'\", 'La', 'primera', 'vez', 'que', 'perreamos', 'No', \"pudimo'\", 'evitarlo', 'nos', 'besamos', 'ey', 'Que', 'el', 'momento', 'no', 'acabara', 'no', \"dejamo'\", 'En', 'vano', 'no', 'fue', 'la', 'toqué', 'como', 'un', 'piano', 'Tu', 'mirada', 'me', 'dijo', 'que', 'esto', 'hoy', 'gano', 'yah', 'Ah', 'Mami', 'tú', \"quiere'\", 'más', 'Tú', \"quiere'\", 'más', 'tú', \"quiere'\", 'más', 'Uh', 'wh', 'Bebé', 'pues', 'no', 'se', 'hable', 'más', 'yih', 'No', 'me', \"suelte'\", \"vámono'\", 'de', 'una', \"ve'\", 'yah', \"Bendeci'o\", 'por', 'ser', 'el', 'que', 've', 'tu', 'desnudez', 'amén', 'Lo', 'más', 'que', 'me', 'gusta', 'ti', \"e'\", 'tu', 'sencillez', 'Le', 'gusta', 'agresivo', 'pero', 'que', 'entre', 'con', 'delicadez', 'De', 'la', 'Metro', 'Mayagüez', 'Ra', 'Rauw', 'Qué', 'me', 'dice', 'usted', 'Que', 'la', 'quiero', 'volver', 'ver', 'volverla', 'besar', 'Yo', 'te', 'paso', 'buscar', 'buscar', 'Es', 'que', 'la', 'bellaquera', 'contigo', 'Con', 'nadie', 'más', 'la', 'consigo', 'De', 'tus', \"grito'\", 'no', 'me', 'olvido', 'Te', 'te', 'tengo', \"reservao'\", 'el', 'hotel', 'Pero', 'con', 'estas', \"gana'\", 'no', \"vamo'\", 'llegar', \"Somo'\", \"do'\", \"desesperado'\", 'por', 'eso', 'nos', \"tuvimo'\", 'que', 'parquear', \"Atrá'\", 'nos', 'espera', 'el', 'asiento', 'Tú', \"ere'\", 'una', 'aventura', 'cuando', 'te', \"desnuda'\", 'Ra', 'Rauw', 'Rauw', 'Alejandro', 'Con', 'Chencho', 'Corleone', 'Desbloqueando', 'un', 'nuevo', 'nivel', 'del', 'perreo', 'Dímelo', 'Nino', 'Dulce', 'Como', 'Candy', 'VICE', 'VERSA', \"pa'\", \"to'\", 'las', \"nena'\", 'perversa', 'Ey', 'Ra', 'Rauw', 'Con', 'los', \"fuckin'\", 'Sensei', 'Duars', 'Entertainment', 'Gang']\n"
     ]
    }
   ],
   "source": [
    "import tokenizacion\n",
    "\n",
    "contenido_tokenizado = tokenizacion.tokenizarConExpresionesRegulares(letra)\n",
    "print(contenido_tokenizado)"
   ]
  },
  {
   "cell_type": "code",
   "execution_count": 3,
   "id": "00766fe3",
   "metadata": {},
   "outputs": [
    {
     "name": "stdout",
     "output_type": "stream",
     "text": [
      "['hizo', 'usted', 'quiero', 'volver', 'ver', 'volverla', 'besar', 'paso', 'buscar', 'buscar', 'bellaquera', 'contigo', 'nadie', 'consigo', \"grito'\", 'hoy', 'olvido', \"reservao'\", 'hotel', \"gana'\", \"vamo'\", 'llegar', \"somo'\", \"do'\", \"desesperado'\", \"tuvimo'\", 'parquear', 'espera', 'asiento', 'aventura', \"desnuda'\", \"reservao'\", 'hotel', \"gana'\", \"vamo'\", 'llegar', \"somo'\", \"do'\", \"desesperado'\", \"tuvimo'\", 'parquear', 'espera', 'asiento', 'aventura', \"desnuda'\", \"la'\", \"gana'\", 'tenerla', 'pude', 'hacértelo', 'detuve', 'sudé', 'parte', 'aunque', 'falta', 'comodidad', \"grito'\", 'confirmaron', 'viste', \"la'\", \"nube'\", 'bellaquera', 'domina', 'siempre', \"no'\", \"vemo'\", 'importa', 'ambiente', \"no'\", \"comemo'\", 'planificación', 'situación', 'descontrola', 'forma', 'evitar', 'situación', 'siempre', 'terminamos', 'ropa', 'conformas', 'beso', 'boca', 'según', \"dice'\", 'provoca', \"busca'\", 'aunque', \"sabe'\", 'reservado', 'hotel', \"gana'\", \"vamo'\", 'llegar', \"somo'\", \"do'\", 'desesperados', 'marchar', 'atrás', 'espera', 'asiento', 'aventura', \"desnuda'\", 'primera', 'vez', 'perreamos', \"pudimo'\", 'evitarlo', 'besamos', 'momento', 'acabara', \"dejamo'\", 'vano', 'toqué', 'piano', 'mirada', 'dijo', 'hoy', 'gano', 'mami', \"quiere'\", \"quiere'\", \"quiere'\", 'bebé', 'pues', 'hable', \"suelte'\", \"vámono'\", \"bendeci'o\", 'ser', 'desnudez', 'amén', 'gusta', 'sencillez', 'gusta', 'agresivo', 'delicadez', 'metro', 'mayagüez', 'dice', 'usted', 'quiero', 'volver', 'ver', 'volverla', 'besar', 'paso', 'buscar', 'buscar', 'bellaquera', 'contigo', 'nadie', 'consigo', \"grito'\", 'olvido', \"reservao'\", 'hotel', \"gana'\", \"vamo'\", 'llegar', \"somo'\", \"do'\", \"desesperado'\", \"tuvimo'\", 'parquear', 'espera', 'asiento', 'aventura', \"desnuda'\", 'alejandro', 'chencho', 'corleone', 'desbloqueando', 'nuevo', 'nivel', 'perreo', 'dímelo', 'nino', 'dulce', 'candy', 'vice', 'versa', \"to'\", \"nena'\", 'perversa', \"fuckin'\", 'sensei', 'duars', 'entertainment', 'gang']\n"
     ]
    }
   ],
   "source": [
    "import depuracion\n",
    "\n",
    "#contenido = ['Hombre', 'no', 'te', 'sale', 'sale', 'Tr', 'Fact', 'Hombre', 'no', 'te', 'sale', 'sale', 'sale', 'sale', 'Morad', 'no', 'te', 'Morad', 'cómo', 'te', 'sales', \"sale'\", 'sale', 'sale', 'sale', 'Si', 'entras', 'aquí', 'no', 'ah', \"sale'\", 'sale', \"sale'\", \"sale'\", \"sale'\", 'Morad', 'cómo', 'te', 'sales', 'sales', 'si', 'entras', 'aquí', 'no', 'sales', 'sales', 'Sabes', 'que', 'tú', 'no', 'vales', \"vale'\", 'como', 'sueno', 'yo', 'en', 'instrumentales', \"ale'\", 'Hablando', 'de', 'los', \"mundo'\", 'de', \"ilegale'\", \"ale'\", 'Pegadizo', 'como', 'Dale', 'Don', 'Dale', 'ale', 'Yo', 'sonando', 'siempre', 'en', 'la', 'calle', 'tú', 'Principales', \"ale'\", 'Cuatro', \"guitarrista'\", \"ista'\", 'que', 'tienen', 'orquesta', 'orquesta', 'Para', 'hacer', 'un', 'tema', 'ala', 'que', 'no', 'suena', 'ni', 'en', 'la', 'fiesta', 'no', 'no', 'no', 'Yo', 'hago', 'mi', 'escritura', 'fumando', 'uno', 'de', 'verdura', 'ah', 'Tú', 'dos', 'meses', 'duras', 'tú', \"está'\", 'fuera', 'cobertura', 'jaja', 'La', 'calle', 'está', 'loca', 'loca', 'eso', \"e'\", 'lo', 'que', 'pica', 'pica', 'Pagamos', 'Toca', 'tú', 'pidiéndole', 'tu', 'chica', 'chica', 'El', 'capo', 'González', 'lez', 'puede', 'que', 'te', 'cale', 'cale', 'Tu', 'coche', 'se', 'cala', \"acaba'\", 'luego', 'en', 'la', 'tele', \"cuidao'\", 'Mira', 'que', 'ya', \"e'\", 'fácil', \"cuidao'\", 'en', 'cinco', \"minuto'\", \"cuidao'\", 'Lo', 'hago', 'ya', 'duro', 'rápido', 'también', 'impoluto', 'Más', 'duro', 'que', 'yeso', 'más', 'de', 'uno', 'lo', 'discuto', 'Yo', 'solo', 'no', 'no', 'no', 'no', 'no', 'no', 'no', 'no', 'Oye', 'oye', 'oye', 'para', 'para', 'para', 'para', 'para', 'Espera', 'espera', 'espera', 'espera', 'espera', 'que', 'lo', 'cambie', 'Dice', 'dice', 'Dime', 'dónde', \"para'\", 'para', 'ir', 'buscarte', 'cogerte', 'aparte', 'Dónde', \"está'\", \"escondí'o\", 'mí', 'no', 'interesa', 'Tener', 'que', 'grabarte', 'si', 'eres', 'un', 'desastre', 'Dónde', \"está'\", \"escondí'o\", 'quién', 'es', 'tu', 'colega', 'El', 'que', 'te', 'lo', 'brega', 'el', 'que', 'por', 'ti', 'se', 'pega', 'Dónde', \"está'\", \"escondí'o\", 'Dónde', \"e'\", 'tu', 'grupo', \"Pa'\", 'ver', 'cómo', 'lo', 'escupo', 'luego', 'ni', 'me', 'preocupo', 'Dónde', \"está'\", \"escondí'o\", 'Pa', 'pa', 'para', 'para', 'para', 'para', 'Tú', \"tiene'\", 'una', 'pistola', 'pero', 'no', \"dispara'\", \"para'\", \"para'\", \"para'\", 'Eladio', 'dijo', 'No', 'hay', 'chaleco', \"pa'\", 'la', 'cara', 'cara', 'cara', 'cara', \"Entonce'\", 'te', \"haremo'\", 'la', 'de', 'los', 'amara', 'la', 'de', 'los', 'amara', 'te', 'raja', 'Espera', 'espera', 'Ahora', 'veo', 'que', 'toy', 'haciendo', 'lo', 'que', 'quiera', 'lo', 'que', 'quiera', 'quiera', 'tú', 'apretado', 'con', 'interés', 'de', 'disquera', 'de', 'disquera', 'quera', 'yo', 'tranquilo', 'hasta', 'el', 'día', 'que', 'me', 'muera', 'Hasta', 'que', 'me', 'pe', 'oye', 'oye', 'oye', 'Pe', 'pe', 'pelele', 'Te', 'crees', 'que', 'es', 'muy', 'fácil', 'nombrar', 'la', 'Si', 'sabemos', 'que', 'tú', 'no', \"llega'\", 'los', \"nivele'\", 'nosotros', 'os', 'pusimos', \"vosotro'\", 'los', \"chele'\", 'los', \"primero'\", \"chele'\", 'Pe', 'pe', 'pelele', 'Te', 'crees', 'que', 'es', 'muy', 'fácil', 'nombrar', 'la', 'Si', 'sabemos', 'que', 'tú', 'no', \"llega'\", 'los', \"nivele'\", 'nosotros', 'os', \"pusimo'\", \"vosotro'\", 'los', \"chele'\", 'los', 'primeros', \"chele'\", 'Pa', 'pa', 'para', 'Cuando', 'me', 'ven', 'de', 'frente', 'ya', 'me', 'dicen', 'Para', 'para', 'para', 'para', 'Cuando', 'me', 'ven', 'de', 'frente', 'ya', 'me', 'dicen', 'Para', 'para', 'para', 'Cuando', 'me', 'ven', 'de', 'frente', 'ya', 'me', 'dicen', 'Para', 'para', 'para', 'para', 'Ya', 'me', 'dicen', 'Para', 'Pe', 'pe', 'pelele', 'Pelele', 'Pelele', 'Pelele', 'Pe', 'pe', 'pelele', 'Veo', 'veo', 'veo', 'tu', 'grupo', 'jaja', 'si', 'yo', 'los', 'veo', 'jaja', 'pe', 'pe', 'pelele', 'Grupo', 'Jaja', 'si', 'yo', 'los', 'veo', 'jaja', 'pelele', 'Grupo', 'Jaja', 'si', 'yo', 'los', 'veo', 'jaja', 'pelele', 'Veo', 'tu', 'grupo', 'solo', 'me', 'sale', 'Jajajaja', 'pelele', 'Veo', 'tu', 'grupo', 'solo', 'jajajaja', 'pe', 'pe', 'pelele', 'Veo', 'tu', 'grupo', 'solo', 'jajajaja', 'pelele', 'Jajaja', 'jajaja', 'pelele', 'Tu', 'mama', 'de', 'teta', 'jajajaja', 'pelele', 'Pe', 'pe', 'pelele']\n",
    "#print(contenido)\n",
    "\n",
    "contenido_depurado = depuracion.eliminarPalabrasVacias(contenido_tokenizado)\n",
    "print(contenido_depurado)"
   ]
  }
 ],
 "metadata": {
  "kernelspec": {
   "display_name": "Python 3.8.10 ('entorno_prueba')",
   "language": "python",
   "name": "python3"
  },
  "language_info": {
   "codemirror_mode": {
    "name": "ipython",
    "version": 3
   },
   "file_extension": ".py",
   "mimetype": "text/x-python",
   "name": "python",
   "nbconvert_exporter": "python",
   "pygments_lexer": "ipython3",
   "version": "3.8.10"
  },
  "vscode": {
   "interpreter": {
    "hash": "df928c92915a6e295095bb07de7b84624befc7d196e01c26e318bdc14196d6a4"
   }
  }
 },
 "nbformat": 4,
 "nbformat_minor": 5
}
