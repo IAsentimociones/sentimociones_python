{
 "cells": [
  {
   "cell_type": "code",
   "execution_count": 1,
   "id": "8234753e",
   "metadata": {},
   "outputs": [
    {
     "name": "stdout",
     "output_type": "stream",
     "text": [
      "Hombre, no te sale (sale) (Tr. Fact)\n",
      "Hombre, no te sale (sale, sale, sale)\n",
      "Morad, no te, Morad cómo te sales (sale', sale, sale, sale)\n",
      "\n",
      "Si entras aquí no, ah (sale', sale, sale', sale', sale')\n",
      "Sabes que tú no vales (vale'), como sueno yo en instrumentales (-ale')\n"
     ]
    }
   ],
   "source": [
    "# letra de una canción estado original\n",
    "letra = 'Hombre, no te sale (sale) (Tr. Fact)\\n'  \n",
    "letra += 'Hombre, no te sale (sale, sale, sale)\\n' \n",
    "letra += 'Morad, no te, Morad cómo te sales (sale\\', sale, sale, sale)\\n\\n'\n",
    "letra += 'Si entras aquí no, ah (sale\\', sale, sale\\', sale\\', sale\\')\\n'\n",
    "letra += 'Sabes que tú no vales (vale\\'), como sueno yo en instrumentales (-ale\\')'\n",
    "\n",
    "print(letra)"
   ]
  },
  {
   "cell_type": "code",
   "execution_count": 2,
   "id": "3e5d5deb",
   "metadata": {},
   "outputs": [
    {
     "data": {
      "text/plain": [
       "['Hombre',\n",
       " 'no',\n",
       " 'te',\n",
       " 'sale',\n",
       " 'sale',\n",
       " 'Tr',\n",
       " 'Fact',\n",
       " 'Hombre',\n",
       " 'no',\n",
       " 'te',\n",
       " 'sale',\n",
       " 'sale',\n",
       " 'sale',\n",
       " 'sale',\n",
       " 'Morad',\n",
       " 'no',\n",
       " 'te',\n",
       " 'Morad',\n",
       " 'cómo',\n",
       " 'te',\n",
       " 'sales',\n",
       " \"sale'\",\n",
       " 'sale',\n",
       " 'sale',\n",
       " 'sale',\n",
       " 'Si',\n",
       " 'entras',\n",
       " 'aquí',\n",
       " 'no',\n",
       " 'ah',\n",
       " \"sale'\",\n",
       " 'sale',\n",
       " \"sale'\",\n",
       " \"sale'\",\n",
       " \"sale'\",\n",
       " 'Sabes',\n",
       " 'que',\n",
       " 'tú',\n",
       " 'no',\n",
       " 'vales',\n",
       " \"vale'\",\n",
       " 'como',\n",
       " 'sueno',\n",
       " 'yo',\n",
       " 'en',\n",
       " 'instrumentales',\n",
       " \"ale'\"]"
      ]
     },
     "execution_count": 2,
     "metadata": {},
     "output_type": "execute_result"
    }
   ],
   "source": [
    "import tokenizacion\n",
    "\n",
    "tokenizacion.tokenizarConExpresionesRegulares(letra)"
   ]
  }
 ],
 "metadata": {
  "kernelspec": {
   "display_name": "Python 3.8.10 ('entorno_prueba')",
   "language": "python",
   "name": "python3"
  },
  "language_info": {
   "codemirror_mode": {
    "name": "ipython",
    "version": 3
   },
   "file_extension": ".py",
   "mimetype": "text/x-python",
   "name": "python",
   "nbconvert_exporter": "python",
   "pygments_lexer": "ipython3",
   "version": "3.8.10"
  },
  "vscode": {
   "interpreter": {
    "hash": "df928c92915a6e295095bb07de7b84624befc7d196e01c26e318bdc14196d6a4"
   }
  }
 },
 "nbformat": 4,
 "nbformat_minor": 5
}
