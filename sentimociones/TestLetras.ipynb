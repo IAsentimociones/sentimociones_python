{
 "cells": [
  {
   "cell_type": "code",
   "execution_count": 6,
   "id": "fcbdcf72",
   "metadata": {},
   "outputs": [
    {
     "name": "stdout",
     "output_type": "stream",
     "text": [
      "nombre de la canción:  Stay\n",
      "nombre del cantante:  The Kid LAROI & Justin Bieber\n",
      "arreglo de la canción desde la bdd:  {'_id': ObjectId('630a2ce69ffbb04a4088c66b'), 'cancion': 'Stay', 'cantante': 'The Kid LAROI & Justin Bieber', 'estado': 'SIN LETRA'}\n",
      "------------------\n",
      "cancion:  stay\n",
      "cantante:  the+kid+laroi+&+justin+bieber\n",
      "URL búsqueda en cancioneros.com:  https://www.google.com/search?q=letra+stay+the+kid+laroi+&+justin+bieber\n",
      "------------------\n",
      "coinciden autor y cancion. Url de letra:  https://www.letras.com/the-kid-laroi/stay/&sa=U&ved=2ahUKEwil9J7xt436AhVCM94KHRxSCOsQFnoECAMQAg&usg=AOvVaw1ryVEBffLnBq2UPg3wfNNY\n",
      "url letra canción:  https://www.letras.com/the-kid-laroi/stay/\n",
      "-----------------\n",
      "I do the same thing I told you that I never wouldI told you I'd change, even when I knew I never couldI know that I can’t find nobody else as good as youI need you to stay, need you to stay, hey (oh) I get drunk, wake up, I'm wasted stillI realize the time that I wasted hereI feel like you can't feel the way I feelOh, I’ll be fucked up if you can't be right here Oh, ooh-woah (oh, ooh-woah)Oh, ooh-woah (oh, ooh-woah)Oh, ooh-woah (oh, ooh-woah)Oh, I'll be fucked up if you can't be right here I do the same thing I told you that I never wouldI told you I'd change, even when I knew I never couldI know that I can't find nobody else as good as youI need you to stay, need you to stay, hey I do the same thing I told you that I never wouldI told you I'd change, even when I knew I never couldI know that I can't find nobody else as good as youI need you to stay, need you to stay, hey When I'm away from you, I miss your touch (oh)You’re the reason I believe in loveIt's been difficult for me to trust (oh)And I'm afraid that I'ma fuck it up Ain't no way that I can leave you stranded'Cause you ain’t ever left me empty-handedAnd you know that I know that I can't live without youSo, baby, stay Oh, ooh-woah (oh, ooh-woah)Oh, ooh-woah (oh, ooh-woah)Oh, ooh-woah (oh, ooh-woah)I'll be fucked up if you can't be right here I do the same thing I told you that I never wouldI told you I'd change, even when I knew I never couldI know that I can't find nobody else as good as youI need you to stay, need you to stay, hey I do the same thing I told you that I never wouldI told you I'd change, even when I knew I never couldI know that I can't find nobody else as good as youI need you to stay, need you to stay, hey Woah-ohI need you to stay, need you to stay, hey  Música comienza con letras © 2003 - 2022, 3.2 millones de canciones, 63.5 millones de visitas en Agosto  Hecho con amor en Belo Horizonte - Brasil  Asociados:  \n"
     ]
    }
   ],
   "source": [
    "# prueba de lógica de negocio para obtener letras de canciones \n",
    "import letras_logica, cancion_logica\n",
    "\n",
    "# obtener canciones pendientes si letras registradas\n",
    "canciones_pendientes = cancion_logica.obtenerCancionesPorEstado(cancion_logica.ESTADO_SIN_LETRA)\n",
    "\n",
    "# por cada canción extrae la letra de un contendio Web\n",
    "for cancion_pendiente in canciones_pendientes:\n",
    "   nombre_cancion = cancion_pendiente['cancion']\n",
    "   nombre_cantante = cancion_pendiente['cantante']\n",
    "\n",
    "   print('nombre de la canción: ', nombre_cancion)\n",
    "   print('nombre del cantante: ', nombre_cantante)\n",
    "   print('arreglo de la canción desde la bdd: ', cancion_pendiente)\n",
    "\n",
    "   #letra_cancion = letras_logica.obtenerLetraConLyrics(nombre_cancion, nombre_cantante)\n",
    "   #letra_cancion = letras_logica.obtenerLetraConLetras4u(nombre_cancion, nombre_cantante)\n",
    "   #letra_cancion = letras_logica.obtenerLetraConYaLetras(nombre_cancion, nombre_cantante)\n",
    "   #letra_cancion = letras_logica.obtenerLetraConCancioneros(nombre_cancion, nombre_cantante)\n",
    "   letra_cancion = letras_logica.obtenerLetraConGoogle(nombre_cancion, nombre_cantante)\n",
    "   print(letra_cancion)"
   ]
  }
 ],
 "metadata": {
  "kernelspec": {
   "display_name": "Python 3.8.10 ('entorno_prueba')",
   "language": "python",
   "name": "python3"
  },
  "language_info": {
   "codemirror_mode": {
    "name": "ipython",
    "version": 3
   },
   "file_extension": ".py",
   "mimetype": "text/x-python",
   "name": "python",
   "nbconvert_exporter": "python",
   "pygments_lexer": "ipython3",
   "version": "3.8.10"
  },
  "vscode": {
   "interpreter": {
    "hash": "df928c92915a6e295095bb07de7b84624befc7d196e01c26e318bdc14196d6a4"
   }
  }
 },
 "nbformat": 4,
 "nbformat_minor": 5
}
