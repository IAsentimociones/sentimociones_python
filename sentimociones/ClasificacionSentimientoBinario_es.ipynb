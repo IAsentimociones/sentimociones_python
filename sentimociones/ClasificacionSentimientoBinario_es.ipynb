{
 "cells": [
  {
   "cell_type": "code",
   "execution_count": 1,
   "metadata": {},
   "outputs": [],
   "source": [
    "import nltk, random\n",
    "import pandas as pd\n",
    "import matplotlib.pyplot as plt\n",
    "import numpy as np\n",
    "from sklearn.model_selection import train_test_split\n",
    "from sklearn.feature_extraction import DictVectorizer\n",
    "\n",
    "from sklearn import svm\n",
    "from sklearn.tree import DecisionTreeClassifier\n",
    "from sklearn.naive_bayes import GaussianNB\n",
    "from sklearn.linear_model import LogisticRegression\n",
    "\n",
    "import sys\n",
    "sys.path.append(sys.path[0] + '/..')\n",
    "\n",
    "from aprendizajeAutomatico import entrenamiento, prediccion\n",
    "from comun import archivo, cadena\n",
    "from preprocesamiento import tokenizacion"
   ]
  },
  {
   "cell_type": "markdown",
   "metadata": {},
   "source": [
    "# Cargando datos"
   ]
  },
  {
   "cell_type": "code",
   "execution_count": 2,
   "metadata": {},
   "outputs": [],
   "source": [
    "import csv\n",
    "\n",
    "file = open(\"sentimiento_ternario_es.csv\", \"r\")\n",
    "data = list(csv.reader(file, delimiter=\";\"))\n",
    "file.close()\n",
    "#print(data)"
   ]
  },
  {
   "cell_type": "markdown",
   "metadata": {},
   "source": [
    "Organización de los datos del corpus como una lista de tuplas, donde el primer elemento son los tokens de palabras de los documentos y el segundo es la etiqueta (pos --> positivo, neg --> negativo)"
   ]
  },
  {
   "cell_type": "code",
   "execution_count": 3,
   "metadata": {},
   "outputs": [],
   "source": [
    "X_all = []\n",
    "y_all = []\n",
    "cont = 0\n",
    "for texto, etiqueta in data:\n",
    "    if cont > 2:\n",
    "        y_all.append(etiqueta)\n",
    "        X_all.append(tokenizacion.crear_caracteristica(texto, nrange=(1, 4)))\n",
    "    cont += 1"
   ]
  },
  {
   "cell_type": "markdown",
   "metadata": {},
   "source": [
    "### Separación de datos en conjuntos de entrenamiento y prueba"
   ]
  },
  {
   "cell_type": "code",
   "execution_count": 4,
   "metadata": {},
   "outputs": [],
   "source": [
    "from sklearn.feature_extraction.text import CountVectorizer, TfidfVectorizer\n",
    "\n",
    "X_train, X_test, y_train, y_test = train_test_split(X_all, y_all, test_size = 0.2, random_state = 100)\n",
    "vectorizer = DictVectorizer(sparse = True)\n",
    "X_train = vectorizer.fit_transform(X_train)\n",
    "X_test = vectorizer.transform(X_test)\n"
   ]
  },
  {
   "cell_type": "markdown",
   "metadata": {},
   "source": [
    "Selección de modelos y validación cruzada. Se prueban algunos algoritmos de clasificación comunes:\n",
    "- Máquinas de vectores soporte\n",
    "- Árbol de decisión\n",
    "- Naive Bayes\n",
    "- Regresión logística"
   ]
  },
  {
   "cell_type": "code",
   "execution_count": 5,
   "metadata": {},
   "outputs": [],
   "source": [
    "from sklearn.svm import LinearSVC\n",
    "from sklearn.ensemble import RandomForestClassifier\n",
    "\n",
    "svc = svm.SVC()\n",
    "lsvc = LinearSVC(random_state=123)\n",
    "rforest = RandomForestClassifier(random_state=123)\n",
    "dtree = DecisionTreeClassifier(max_depth=10, random_state=123)\n",
    "gnb = GaussianNB()\n",
    "lg = LogisticRegression()\n",
    "\n",
    "#clifs = [svc, lsvc, rforest, dtree, gnb, lg]\n",
    "clifs = [svc, lsvc, rforest, dtree]\n",
    "\n",
    "modelos = {}\n",
    "for clf in clifs:\n",
    "    #modelos[clf.__class__.__name__] = entrenamiento.entrenar_cross_score(modelo=clf, X_train=X_train_bow, y_train=y_train, esBinario=True)\n",
    "    modelos[clf.__class__.__name__] = entrenamiento.entrenar_probar_accu_score(clf, X_train, X_test, y_train, y_test, True)"
   ]
  },
  {
   "cell_type": "code",
   "execution_count": 6,
   "metadata": {},
   "outputs": [
    {
     "name": "stdout",
     "output_type": "stream",
     "text": [
      "SVC {'Precisión entrenamiento': 0.8635794743429287, 'Precisión pruebas': 0.425}\n",
      "LinearSVC {'Precisión entrenamiento': 1.0, 'Precisión pruebas': 0.475}\n",
      "RandomForestClassifier {'Precisión entrenamiento': 1.0, 'Precisión pruebas': 0.415}\n",
      "DecisionTreeClassifier {'Precisión entrenamiento': 0.6533166458072591, 'Precisión pruebas': 0.445}\n"
     ]
    }
   ],
   "source": [
    "for modelo in modelos:\n",
    "    print(modelo, modelos[modelo][1])"
   ]
  },
  {
   "cell_type": "markdown",
   "metadata": {},
   "source": [
    "## Evaluación\n",
    "Para evaluar el rendimiento de cada modelo, se utilizan varias métricas comunes:\n",
    "- Precision\n",
    "- Recall\n",
    "- F-score\n",
    "- Accuracy\n",
    "- Confusion Matrix"
   ]
  },
  {
   "cell_type": "code",
   "execution_count": 7,
   "metadata": {},
   "outputs": [
    {
     "name": "stdout",
     "output_type": "stream",
     "text": [
      "Modelo                    Prección            \n",
      "----------------          ----------------    \n",
      "SVC                       0.425               \n",
      "LinearSVC                 0.475               \n",
      "RandomForestClassifier    0.415               \n",
      "DecisionTreeClassifier    0.445               \n"
     ]
    }
   ],
   "source": [
    "print (\"{:<25} {:<20}\".format('Modelo', 'Prección'))\n",
    "print (\"{:<25} {:<20}\".format('----------------', '----------------'))\n",
    "for clf in clifs:\n",
    "    nombre_modelo = clf.__class__.__name__\n",
    "    print (\"{:<25} {:<20}\".format(nombre_modelo, clf.score(X_test, y_test)))"
   ]
  },
  {
   "cell_type": "code",
   "execution_count": 8,
   "metadata": {},
   "outputs": [
    {
     "name": "stderr",
     "output_type": "stream",
     "text": [
      "c:\\tools\\ides\\anaconda\\envs\\entorno_prueba\\lib\\site-packages\\sklearn\\metrics\\_classification.py:1495: UndefinedMetricWarning: F-score is ill-defined and being set to 0.0 in labels with no true nor predicted samples. Use `zero_division` parameter to control this behavior.\n",
      "  _warn_prf(\n"
     ]
    },
    {
     "data": {
      "text/plain": [
       "array([0.09195402, 0.09195402, 0.09195402, 0.05      , 0.09195402,\n",
       "       0.58608059, 0.05      , 0.09195402, 0.58608059, 0.05      ,\n",
       "       0.05      , 0.58608059, 0.05      , 0.05      , 0.05      ,\n",
       "       0.09195402, 0.05      , 0.09195402, 0.09195402, 0.05      ,\n",
       "       0.09195402, 0.05      , 0.09195402, 0.05      , 0.05      ,\n",
       "       0.05      , 0.58608059, 0.58608059, 0.09195402, 0.58608059,\n",
       "       0.58608059, 0.09195402, 0.58608059, 0.05      , 0.09195402,\n",
       "       0.58608059, 0.58608059, 0.58608059, 0.09195402, 0.58608059,\n",
       "       0.58608059, 0.58608059, 0.09195402, 0.09195402, 0.05      ,\n",
       "       0.58608059, 0.58608059, 0.05      , 0.09195402, 0.05      ,\n",
       "       0.05      , 0.05      , 0.09195402, 0.05      , 0.58608059,\n",
       "       0.09195402, 0.09195402, 0.58608059, 0.58608059, 0.58608059,\n",
       "       0.58608059, 0.09195402, 0.58608059, 0.58608059, 0.58608059,\n",
       "       0.58608059, 0.05      , 0.58608059, 0.05      , 0.58608059,\n",
       "       0.05      , 0.09195402, 0.58608059, 0.58608059, 0.58608059,\n",
       "       0.58608059, 0.09195402, 0.09195402, 0.09195402, 0.58608059,\n",
       "       0.05      , 0.09195402, 0.58608059, 0.58608059, 0.09195402,\n",
       "       0.58608059, 0.05      , 0.05      , 0.58608059, 0.58608059,\n",
       "       0.58608059, 0.05      , 0.09195402, 0.58608059, 0.58608059,\n",
       "       0.09195402, 0.09195402, 0.09195402, 0.05      , 0.05      ,\n",
       "       0.05      , 0.09195402, 0.58608059, 0.58608059, 0.09195402,\n",
       "       0.09195402, 0.58608059, 0.09195402, 0.05      , 0.05      ,\n",
       "       0.58608059, 0.58608059, 0.58608059, 0.58608059, 0.05      ,\n",
       "       0.09195402, 0.09195402, 0.58608059, 0.05      , 0.58608059,\n",
       "       0.09195402, 0.58608059, 0.05      , 0.58608059, 0.58608059,\n",
       "       0.58608059, 0.58608059, 0.09195402, 0.09195402, 0.58608059,\n",
       "       0.58608059, 0.09195402, 0.09195402, 0.05      , 0.09195402,\n",
       "       0.09195402, 0.05      , 0.09195402, 0.05      , 0.58608059,\n",
       "       0.58608059, 0.58608059, 0.05      , 0.58608059, 0.58608059,\n",
       "       0.58608059, 0.58608059, 0.09195402, 0.58608059, 0.58608059,\n",
       "       0.05      , 0.58608059, 0.05      , 0.09195402, 0.58608059,\n",
       "       0.58608059, 0.58608059, 0.09195402, 0.09195402, 0.58608059,\n",
       "       0.58608059, 0.09195402, 0.09195402, 0.09195402, 0.58608059,\n",
       "       0.58608059, 0.58608059, 0.58608059, 0.58608059, 0.05      ,\n",
       "       0.58608059, 0.09195402, 0.58608059, 0.09195402, 0.58608059,\n",
       "       0.58608059, 0.05      , 0.05      , 0.58608059, 0.58608059,\n",
       "       0.58608059, 0.58608059, 0.09195402, 0.58608059, 0.09195402,\n",
       "       0.58608059, 0.58608059, 0.58608059, 0.58608059, 0.58608059,\n",
       "       0.58608059, 0.05      , 0.58608059, 0.09195402, 0.09195402,\n",
       "       0.09195402, 0.09195402, 0.09195402, 0.05      , 0.58608059,\n",
       "       0.09195402, 0.58608059, 0.09195402, 0.09195402, 0.09195402,\n",
       "       0.58608059, 0.05      , 0.58608059, 0.09195402, 0.05      ,\n",
       "       0.09195402, 0.09195402, 0.58608059, 0.58608059, 0.09195402,\n",
       "       0.09195402, 0.09195402, 0.09195402, 0.58608059, 0.05      ,\n",
       "       0.09195402, 0.05      , 0.09195402, 0.09195402, 0.09195402,\n",
       "       0.58608059, 0.09195402, 0.09195402, 0.58608059, 0.05      ,\n",
       "       0.58608059, 0.58608059, 0.05      , 0.58608059, 0.05      ,\n",
       "       0.58608059, 0.05      , 0.05      , 0.58608059, 0.09195402,\n",
       "       0.09195402, 0.05      , 0.09195402, 0.09195402, 0.58608059,\n",
       "       0.58608059, 0.58608059, 0.09195402, 0.09195402, 0.58608059,\n",
       "       0.58608059, 0.09195402, 0.05      , 0.58608059, 0.05      ,\n",
       "       0.58608059, 0.09195402, 0.05      , 0.05      , 0.09195402,\n",
       "       0.09195402, 0.05      , 0.09195402, 0.58608059, 0.58608059,\n",
       "       0.58608059, 0.05      , 0.58608059, 0.58608059, 0.05      ,\n",
       "       0.58608059, 0.09195402, 0.09195402, 0.05      , 0.09195402,\n",
       "       0.05      , 0.58608059, 0.58608059, 0.09195402, 0.58608059,\n",
       "       0.09195402, 0.09195402, 0.58608059, 0.09195402, 0.58608059,\n",
       "       0.09195402, 0.05      , 0.05      , 0.09195402, 0.09195402,\n",
       "       0.05      , 0.09195402, 0.58608059, 0.09195402, 0.58608059,\n",
       "       0.09195402, 0.05      , 0.05      , 0.05      , 0.05      ,\n",
       "       0.58608059, 0.58608059, 0.58608059, 0.58608059, 0.58608059,\n",
       "       0.05      , 0.09195402, 0.09195402, 0.58608059, 0.58608059,\n",
       "       0.05      , 0.09195402, 0.58608059, 0.09195402, 0.05      ,\n",
       "       0.58608059, 0.09195402, 0.58608059, 0.05      , 0.09195402,\n",
       "       0.58608059, 0.58608059, 0.09195402, 0.05      , 0.05      ,\n",
       "       0.09195402, 0.05      , 0.09195402, 0.09195402, 0.09195402,\n",
       "       0.05      , 0.58608059, 0.58608059, 0.09195402, 0.58608059,\n",
       "       0.09195402, 0.09195402, 0.05      , 0.09195402, 0.09195402,\n",
       "       0.09195402, 0.58608059, 0.09195402, 0.05      , 0.58608059,\n",
       "       0.58608059, 0.58608059, 0.05      , 0.09195402, 0.58608059,\n",
       "       0.09195402, 0.58608059, 0.58608059, 0.58608059, 0.05      ,\n",
       "       0.09195402, 0.09195402, 0.09195402, 0.09195402, 0.09195402,\n",
       "       0.58608059, 0.58608059, 0.09195402, 0.58608059, 0.58608059,\n",
       "       0.58608059, 0.05      , 0.09195402, 0.09195402, 0.58608059,\n",
       "       0.58608059, 0.58608059, 0.09195402, 0.58608059, 0.58608059,\n",
       "       0.58608059, 0.58608059, 0.09195402, 0.58608059, 0.58608059,\n",
       "       0.05      , 0.58608059, 0.58608059, 0.09195402, 0.58608059,\n",
       "       0.58608059, 0.05      , 0.58608059, 0.09195402, 0.09195402,\n",
       "       0.58608059, 0.09195402, 0.09195402, 0.09195402, 0.05      ,\n",
       "       0.09195402, 0.09195402, 0.05      , 0.09195402, 0.58608059,\n",
       "       0.09195402, 0.58608059, 0.05      , 0.05      , 0.05      ,\n",
       "       0.05      , 0.58608059, 0.05      , 0.09195402, 0.05      ,\n",
       "       0.58608059, 0.58608059, 0.58608059, 0.09195402, 0.09195402,\n",
       "       0.58608059, 0.09195402, 0.58608059, 0.09195402, 0.09195402,\n",
       "       0.05      , 0.09195402, 0.05      , 0.09195402, 0.05      ,\n",
       "       0.09195402, 0.58608059, 0.05      , 0.09195402, 0.09195402,\n",
       "       0.05      , 0.09195402, 0.09195402, 0.09195402, 0.58608059,\n",
       "       0.05      , 0.09195402, 0.58608059, 0.09195402, 0.58608059,\n",
       "       0.05      , 0.58608059, 0.05      , 0.09195402, 0.05      ,\n",
       "       0.09195402, 0.05      , 0.05      , 0.05      , 0.05      ,\n",
       "       0.05      , 0.09195402, 0.09195402, 0.09195402, 0.09195402,\n",
       "       0.09195402, 0.05      , 0.05      , 0.09195402, 0.05      ,\n",
       "       0.09195402, 0.05      , 0.09195402, 0.05      , 0.09195402,\n",
       "       0.09195402, 0.58608059, 0.09195402, 0.09195402, 0.09195402,\n",
       "       0.09195402, 0.58608059, 0.09195402, 0.09195402, 0.58608059,\n",
       "       0.58608059, 0.09195402, 0.58608059, 0.58608059, 0.58608059,\n",
       "       0.05      , 0.58608059, 0.58608059, 0.58608059, 0.58608059,\n",
       "       0.09195402, 0.09195402, 0.09195402, 0.09195402, 0.05      ,\n",
       "       0.05      , 0.05      , 0.05      , 0.09195402, 0.05      ,\n",
       "       0.58608059, 0.05      , 0.05      , 0.09195402, 0.09195402,\n",
       "       0.58608059, 0.09195402, 0.58608059, 0.58608059, 0.05      ,\n",
       "       0.09195402, 0.05      , 0.09195402, 0.09195402, 0.09195402,\n",
       "       0.05      , 0.05      , 0.09195402, 0.09195402, 0.09195402,\n",
       "       0.58608059, 0.09195402, 0.09195402, 0.05      , 0.58608059,\n",
       "       0.58608059, 0.58608059, 0.05      , 0.58608059, 0.09195402,\n",
       "       0.05      , 0.05      , 0.09195402, 0.58608059, 0.09195402,\n",
       "       0.05      , 0.05      , 0.09195402, 0.09195402, 0.05      ,\n",
       "       0.58608059, 0.05      , 0.05      , 0.58608059, 0.09195402,\n",
       "       0.05      , 0.05      , 0.58608059, 0.05      , 0.05      ,\n",
       "       0.05      , 0.05      , 0.05      , 0.58608059, 0.05      ,\n",
       "       0.09195402, 0.58608059, 0.09195402, 0.58608059, 0.05      ,\n",
       "       0.09195402, 0.58608059, 0.09195402, 0.58608059, 0.05      ,\n",
       "       0.09195402, 0.09195402, 0.05      , 0.58608059, 0.58608059,\n",
       "       0.58608059, 0.09195402, 0.05      , 0.09195402, 0.09195402,\n",
       "       0.05      , 0.05      , 0.05      , 0.05      , 0.09195402,\n",
       "       0.05      , 0.58608059, 0.05      , 0.05      , 0.09195402,\n",
       "       0.09195402, 0.05      , 0.58608059, 0.09195402, 0.58608059,\n",
       "       0.58608059, 0.58608059, 0.05      , 0.05      , 0.58608059,\n",
       "       0.58608059, 0.58608059, 0.09195402, 0.09195402, 0.58608059,\n",
       "       0.58608059, 0.09195402, 0.09195402, 0.05      , 0.09195402,\n",
       "       0.58608059, 0.58608059, 0.58608059, 0.09195402, 0.05      ,\n",
       "       0.58608059, 0.05      , 0.09195402, 0.58608059, 0.09195402,\n",
       "       0.05      , 0.05      , 0.58608059, 0.05      , 0.09195402,\n",
       "       0.05      , 0.05      , 0.09195402, 0.05      , 0.09195402,\n",
       "       0.09195402, 0.05      , 0.58608059, 0.58608059, 0.09195402,\n",
       "       0.09195402, 0.09195402, 0.58608059, 0.58608059, 0.09195402,\n",
       "       0.09195402, 0.58608059, 0.09195402, 0.05      , 0.58608059,\n",
       "       0.05      , 0.09195402, 0.05      , 0.09195402, 0.58608059,\n",
       "       0.09195402, 0.09195402, 0.09195402, 0.58608059, 0.05      ,\n",
       "       0.58608059, 0.58608059, 0.09195402, 0.09195402, 0.09195402,\n",
       "       0.09195402, 0.09195402, 0.58608059, 0.58608059, 0.58608059,\n",
       "       0.05      , 0.09195402, 0.05      , 0.58608059, 0.09195402,\n",
       "       0.09195402, 0.05      , 0.05      , 0.05      , 0.09195402,\n",
       "       0.58608059, 0.58608059, 0.58608059, 0.05      , 0.09195402,\n",
       "       0.09195402, 0.05      , 0.58608059, 0.09195402, 0.09195402,\n",
       "       0.58608059, 0.09195402, 0.58608059, 0.09195402, 0.58608059,\n",
       "       0.09195402, 0.05      , 0.09195402, 0.58608059, 0.58608059,\n",
       "       0.09195402, 0.09195402, 0.05      , 0.09195402, 0.09195402,\n",
       "       0.09195402, 0.58608059, 0.05      , 0.09195402, 0.58608059,\n",
       "       0.58608059, 0.58608059, 0.09195402, 0.09195402, 0.58608059,\n",
       "       0.05      , 0.58608059, 0.58608059, 0.09195402, 0.09195402,\n",
       "       0.09195402, 0.58608059, 0.58608059, 0.58608059, 0.09195402,\n",
       "       0.58608059, 0.58608059, 0.58608059, 0.58608059, 0.09195402,\n",
       "       0.58608059, 0.58608059, 0.58608059, 0.09195402, 0.58608059,\n",
       "       0.58608059, 0.09195402, 0.58608059, 0.58608059, 0.58608059,\n",
       "       0.09195402, 0.09195402, 0.58608059, 0.58608059, 0.58608059,\n",
       "       0.09195402, 0.09195402, 0.58608059, 0.58608059, 0.58608059,\n",
       "       0.58608059, 0.58608059, 0.58608059, 0.58608059, 0.09195402,\n",
       "       0.58608059, 0.58608059, 0.58608059, 0.58608059, 0.58608059,\n",
       "       0.09195402, 0.09195402, 0.09195402, 0.05      , 0.58608059,\n",
       "       0.58608059, 0.09195402, 0.05      , 0.58608059, 0.58608059,\n",
       "       0.58608059, 0.58608059, 0.58608059, 0.09195402, 0.09195402,\n",
       "       0.58608059, 0.09195402, 0.09195402, 0.09195402, 0.58608059,\n",
       "       0.58608059, 0.58608059, 0.09195402, 0.58608059, 0.58608059,\n",
       "       0.58608059, 0.58608059, 0.05      , 0.05      , 0.09195402,\n",
       "       0.58608059, 0.09195402, 0.58608059, 0.58608059, 0.58608059,\n",
       "       0.58608059, 0.09195402, 0.58608059, 0.58608059, 0.58608059,\n",
       "       0.58608059, 0.58608059, 0.58608059, 0.05      , 0.05      ,\n",
       "       0.09195402, 0.58608059, 0.58608059, 0.09195402, 0.09195402,\n",
       "       0.58608059, 0.09195402, 0.58608059, 0.58608059, 0.58608059,\n",
       "       0.09195402, 0.58608059, 0.58608059, 0.05      , 0.09195402,\n",
       "       0.        , 0.05      , 0.58608059, 0.09195402, 0.05      ,\n",
       "       0.09195402, 0.58608059, 0.05      , 0.58608059, 0.05      ,\n",
       "       0.09195402, 0.05      , 0.09195402, 0.58608059, 0.58608059,\n",
       "       0.58608059, 0.58608059, 0.09195402, 0.09195402, 0.58608059,\n",
       "       0.09195402, 0.09195402, 0.58608059, 0.58608059, 0.09195402,\n",
       "       0.09195402, 0.05      , 0.09195402, 0.58608059, 0.58608059,\n",
       "       0.58608059, 0.58608059, 0.58608059, 0.09195402, 0.09195402,\n",
       "       0.09195402, 0.09195402, 0.58608059, 0.58608059, 0.58608059,\n",
       "       0.58608059, 0.09195402, 0.58608059, 0.58608059, 0.58608059,\n",
       "       0.58608059, 0.09195402, 0.58608059, 0.05      , 0.58608059,\n",
       "       0.09195402, 0.09195402, 0.09195402, 0.09195402, 0.09195402,\n",
       "       0.58608059, 0.58608059, 0.58608059, 0.09195402, 0.09195402,\n",
       "       0.05      , 0.05      , 0.58608059, 0.58608059, 0.09195402,\n",
       "       0.05      , 0.09195402, 0.58608059, 0.58608059, 0.58608059,\n",
       "       0.09195402, 0.58608059, 0.09195402, 0.05      , 0.58608059,\n",
       "       0.58608059, 0.09195402, 0.58608059, 0.09195402, 0.09195402,\n",
       "       0.58608059, 0.58608059, 0.05      , 0.09195402, 0.58608059,\n",
       "       0.58608059, 0.58608059, 0.09195402, 0.58608059, 0.58608059,\n",
       "       0.05      , 0.09195402, 0.09195402, 0.09195402, 0.09195402,\n",
       "       0.58608059, 0.09195402, 0.58608059, 0.58608059, 0.05      ,\n",
       "       0.58608059, 0.09195402, 0.09195402, 0.58608059, 0.58608059,\n",
       "       0.09195402, 0.09195402, 0.09195402, 0.58608059, 0.58608059,\n",
       "       0.58608059, 0.58608059, 0.58608059, 0.58608059, 0.58608059,\n",
       "       0.05      , 0.58608059, 0.58608059, 0.58608059, 0.58608059,\n",
       "       0.58608059, 0.58608059, 0.58608059, 0.09195402, 0.58608059,\n",
       "       0.58608059, 0.09195402, 0.09195402, 0.09195402, 0.05      ,\n",
       "       0.09195402, 0.09195402, 0.58608059, 0.58608059, 0.58608059,\n",
       "       0.58608059, 0.58608059, 0.58608059, 0.58608059, 0.58608059,\n",
       "       0.58608059, 0.58608059, 0.58608059, 0.05      , 0.09195402,\n",
       "       0.09195402, 0.58608059, 0.58608059, 0.58608059, 0.58608059,\n",
       "       0.58608059, 0.09195402, 0.09195402, 0.58608059, 0.58608059,\n",
       "       0.58608059, 0.09195402, 0.58608059, 0.09195402, 0.58608059,\n",
       "       0.58608059, 0.58608059, 0.58608059, 0.09195402, 0.05      ,\n",
       "       0.58608059, 0.58608059, 0.58608059, 0.09195402, 0.58608059,\n",
       "       0.09195402, 0.58608059, 0.58608059, 0.58608059, 0.09195402,\n",
       "       0.58608059, 0.05      , 0.05      , 0.58608059, 0.58608059,\n",
       "       0.09195402, 0.09195402, 0.58608059, 0.09195402, 0.58608059,\n",
       "       0.58608059, 0.58608059, 0.09195402, 0.09195402, 0.05      ,\n",
       "       0.58608059, 0.09195402, 0.58608059, 0.09195402])"
      ]
     },
     "execution_count": 8,
     "metadata": {},
     "output_type": "execute_result"
    }
   ],
   "source": [
    "# F1 Score del modelo que mejor predicción tiene: SVC\n",
    "from sklearn.metrics import f1_score\n",
    "\n",
    "y_pred = svc.predict(X_test)\n",
    "f1_score(y_test, y_pred, \n",
    "         average=None, \n",
    "         labels = y_all)"
   ]
  },
  {
   "cell_type": "markdown",
   "metadata": {},
   "source": [
    "Buscar la mejor parametrización para el modelo SVC utilizando GridSerarchCV"
   ]
  },
  {
   "cell_type": "code",
   "execution_count": 9,
   "metadata": {},
   "outputs": [
    {
     "name": "stderr",
     "output_type": "stream",
     "text": [
      "c:\\tools\\ides\\anaconda\\envs\\entorno_prueba\\lib\\site-packages\\sklearn\\model_selection\\_split.py:666: UserWarning: The least populated class in y has only 1 members, which is less than n_splits=10.\n",
      "  warnings.warn((\"The least populated class in y has only %d\"\n"
     ]
    },
    {
     "name": "stdout",
     "output_type": "stream",
     "text": [
      "CPU times: total: 859 ms\n",
      "Wall time: 17.4 s\n"
     ]
    },
    {
     "data": {
      "text/plain": [
       "GridSearchCV(cv=10, estimator=SVC(), n_jobs=-1,\n",
       "             param_grid={'C': (1, 4, 8, 16, 32), 'kernel': ('linear', 'rbf')})"
      ]
     },
     "execution_count": 9,
     "metadata": {},
     "output_type": "execute_result"
    }
   ],
   "source": [
    "%%time\n",
    "\n",
    "from sklearn.model_selection import GridSearchCV\n",
    "\n",
    "parameters = {'kernel': ('linear', 'rbf'), 'C': (1,4,8,16,32)}\n",
    "\n",
    "svc_nuevo = svm.SVC()\n",
    "clf = GridSearchCV(svc_nuevo, parameters, cv=10, n_jobs=-1)\n",
    "clf.fit(X_train, y_train)"
   ]
  },
  {
   "cell_type": "code",
   "execution_count": 10,
   "metadata": {},
   "outputs": [
    {
     "name": "stdout",
     "output_type": "stream",
     "text": [
      "{'C': 8, 'kernel': 'rbf'}\n",
      "0.435\n"
     ]
    }
   ],
   "source": [
    "#print(sorted(clf.cv_results_.keys()))\n",
    "print(clf.best_params_)\n",
    "print(clf.score(X_test, y_test))"
   ]
  },
  {
   "cell_type": "markdown",
   "metadata": {},
   "source": [
    "## Predicción de la letra de canción"
   ]
  },
  {
   "cell_type": "markdown",
   "metadata": {},
   "source": [
    "Verificación de los mejores parámetros identificados en el modelo SVC"
   ]
  },
  {
   "cell_type": "code",
   "execution_count": 11,
   "metadata": {},
   "outputs": [
    {
     "name": "stderr",
     "output_type": "stream",
     "text": [
      "c:\\tools\\ides\\anaconda\\envs\\entorno_prueba\\lib\\site-packages\\sklearn\\model_selection\\_split.py:666: UserWarning: The least populated class in y has only 1 members, which is less than n_splits=5.\n",
      "  warnings.warn((\"The least populated class in y has only %d\"\n"
     ]
    },
    {
     "name": "stdout",
     "output_type": "stream",
     "text": [
      "Predicción 1         Predicción 2         Predicción 3         Predicción 4         Predicción 5        \n",
      "----------------     ----------------     ----------------     ----------------     ----------------    \n",
      "0.44375              0.4625               0.5                  0.475                0.4528301886792453  \n"
     ]
    }
   ],
   "source": [
    "svc = svm.SVC(C=8, kernel='rbf')\n",
    "m = svc.__class__.__name__\n",
    "modelos[m] = entrenamiento.entrenar_cross_score(svc, X_train, y_train, True)\n",
    "\n",
    "print (\"{:<20} {:<20} {:<20} {:<20} {:<20}\".format('Predicción 1', 'Predicción 2', 'Predicción 3', 'Predicción 4', 'Predicción 5'))\n",
    "print (\"{:<20} {:<20} {:<20} {:<20} {:<20}\".format('----------------', '----------------', '----------------', '----------------', '----------------'))\n",
    "print (\"{:<20} {:<20} {:<20} {:<20} {:<20}\".format(modelos[m][1]['prediccion 0'], modelos[m][1]['prediccion 1'], modelos[m][1]['prediccion 2'], modelos[m][1]['prediccion 3'], modelos[m][1]['prediccion 4']))"
   ]
  },
  {
   "cell_type": "markdown",
   "metadata": {},
   "source": [
    "Obtiene letra de canción preprocesada"
   ]
  },
  {
   "cell_type": "code",
   "execution_count": 23,
   "metadata": {},
   "outputs": [],
   "source": [
    "from bdd import mongoDB_cliente\n",
    "from aprendizajeAutomatico import prediccion\n",
    "\n",
    "cantante = 'Coldplay, BTS'\n",
    "cancion = 'My Universe'\n",
    "\n",
    "canciones = mongoDB_cliente.obtenerColeccion('CANCIONES', {'cantante': cantante, 'cancion': cancion})   \n",
    "letra_preprocesada = canciones[0]['letra_preprocesada']\n",
    "letra_original = canciones[0]['letra']\n",
    "array_letra = {}\n",
    "letra_cancion_pre = ''\n",
    "for letra in letra_preprocesada:\n",
    "        letra_cancion_pre = letra_cancion_pre + letra + \" \"\n",
    "array_letra = [letra_cancion_pre]\n",
    "array_letra_o = [letra_original]\n"
   ]
  },
  {
   "cell_type": "code",
   "execution_count": 24,
   "metadata": {},
   "outputs": [
    {
     "name": "stdout",
     "output_type": "stream",
     "text": [
      "POSITIVO\n"
     ]
    }
   ],
   "source": [
    "array = array_letra_o\n",
    "\n",
    "#letra_bow = tfidf_vec.transform(array)\n",
    "#prediccion = svc.predict(letra_cancion_pre)\n",
    "modelo = rforest\n",
    "res_prediccion, modelos = prediccion.predecirTexto(modelo, letra_cancion_pre, vectorizer, modelos, cancion, cantante)\n",
    "print(res_prediccion)\n",
    "     "
   ]
  },
  {
   "cell_type": "code",
   "execution_count": 14,
   "metadata": {},
   "outputs": [
    {
     "data": {
      "text/plain": [
       "'documento actualizado correctamente'"
      ]
     },
     "execution_count": 14,
     "metadata": {},
     "output_type": "execute_result"
    }
   ],
   "source": [
    "from logica import cancion_logica\n",
    "from sentimientos import sentimientoMultiple\n",
    "\n",
    "cancion_logica.actualizarCancionSentimientoBinario(canciones[0], res_prediccion)"
   ]
  },
  {
   "cell_type": "markdown",
   "metadata": {},
   "source": [
    "## Procesamiento de todas las letras"
   ]
  },
  {
   "cell_type": "code",
   "execution_count": 27,
   "metadata": {},
   "outputs": [
    {
     "name": "stdout",
     "output_type": "stream",
     "text": [
      "98\n"
     ]
    }
   ],
   "source": [
    "canciones = mongoDB_cliente.obtenerColeccion('CANCIONES', {'estado': 'LETRA PREPROCESADO'})\n",
    "\n",
    "cont = 0\n",
    "for c in canciones:\n",
    "    cont += 1\n",
    "    letra_preprocesada = c['letra_preprocesada']\n",
    "    letra_original = c['letra']\n",
    "    array_letra = {}\n",
    "    letra_cancion_pre = ''\n",
    "    for letra in letra_preprocesada:\n",
    "            letra_cancion_pre = letra_cancion_pre + letra + \" \"\n",
    "    modelo = rforest\n",
    "    res_prediccion, modelos = prediccion.predecirTexto(modelo, letra_cancion_pre, vectorizer, modelos, cancion, cantante)\n",
    "    cancion_logica.actualizarCancionSentimientoBinario(c, res_prediccion)\n",
    "print(cont)\n",
    "    "
   ]
  }
 ],
 "metadata": {
  "kernelspec": {
   "display_name": "Python 3.8.10 ('entorno_prueba')",
   "language": "python",
   "name": "python3"
  },
  "language_info": {
   "codemirror_mode": {
    "name": "ipython",
    "version": 3
   },
   "file_extension": ".py",
   "mimetype": "text/x-python",
   "name": "python",
   "nbconvert_exporter": "python",
   "pygments_lexer": "ipython3",
   "version": "3.8.10"
  },
  "orig_nbformat": 4,
  "vscode": {
   "interpreter": {
    "hash": "df928c92915a6e295095bb07de7b84624befc7d196e01c26e318bdc14196d6a4"
   }
  }
 },
 "nbformat": 4,
 "nbformat_minor": 2
}
