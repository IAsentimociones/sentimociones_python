{
 "cells": [
  {
   "cell_type": "code",
   "execution_count": null,
   "id": "54bd5b9e",
   "metadata": {},
   "outputs": [],
   "source": [
    "from comun import cadena\n",
    "\n",
    "cancion_lyrics = 'Mon Amour [Remix]'\n",
    "autor_lyrics = 'Aitana'\n",
    "cancion_bdd = 'Mon Amour (remix)'\n",
    "autor_bdd = 'zzoilo, Aitana'\n",
    "\n",
    "# valida autor y canción para obtener el enlace a la letra de la canción\n",
    "if ((cadena.contieneCadena(cancion_lyrics, cancion_bdd) and cadena.contieneCadena(autor_lyrics, autor_bdd)) \n",
    "    or (cadena.contieneCadena(cancion_bdd, cancion_lyrics) and cadena.contieneCadena(autor_bdd, autor_lyrics))):\n",
    "    print('si contiene')\n",
    "else:\n",
    "    print('no contiene')\n"
   ]
  },
  {
   "cell_type": "code",
   "execution_count": 1,
   "id": "fcbdcf72",
   "metadata": {},
   "outputs": [
    {
     "name": "stdout",
     "output_type": "stream",
     "text": [
      "nombre de la canción:  TIAGO PZK: BZRP MUSIC SESSIONS, VOL. 48\n",
      "nombre del cantante:  BIZARRAP / TIAGO PZK\n",
      "arreglo de la canción desde la bdd:  {'_id': ObjectId('630a2ce69ffbb04a4088c615'), 'cancion': 'TIAGO PZK: BZRP MUSIC SESSIONS, VOL. 48', 'cantante': 'BIZARRAP / TIAGO PZK', 'estado': 'SIN LETRA'}\n",
      "------------------\n",
      "URL búsqueda en Lyrics:  https://www.lyrics.com/lyrics/tiago%2520pzk%2520bzrp%2520music%2520sessions%2520vol%252048%20bizarrap%2520%2520tiago%2520pzk\n",
      "------------------\n",
      "No se pudo determinar la URL de la canción\n",
      "-----------------\n",
      "\n"
     ]
    }
   ],
   "source": [
    "# prueba de lógica de negocio para obtener letras de canciones \n",
    "import letras_logica, cancion_logica\n",
    "\n",
    "# obtener canciones pendientes si letras registradas\n",
    "canciones_pendientes = cancion_logica.obtenerCancionesPendientes()\n",
    "\n",
    "# por cada canción extrae la letra de un contendio Web\n",
    "for cancion_pendiente in canciones_pendientes:\n",
    "   nombre_cancion = cancion_pendiente['cancion']\n",
    "   nombre_cantante = cancion_pendiente['cantante']\n",
    "\n",
    "   print('nombre de la canción: ', nombre_cancion)\n",
    "   print('nombre del cantante: ', nombre_cantante)\n",
    "   print('arreglo de la canción desde la bdd: ', cancion_pendiente)\n",
    "\n",
    "   letra_cancion = letras_logica.obtenerLetraConLyrics(nombre_cancion, nombre_cantante)\n",
    "   print(letra_cancion)"
   ]
  }
 ],
 "metadata": {
  "kernelspec": {
   "display_name": "Python 3.8.10 ('entorno_prueba')",
   "language": "python",
   "name": "python3"
  },
  "language_info": {
   "codemirror_mode": {
    "name": "ipython",
    "version": 3
   },
   "file_extension": ".py",
   "mimetype": "text/x-python",
   "name": "python",
   "nbconvert_exporter": "python",
   "pygments_lexer": "ipython3",
   "version": "3.8.10"
  },
  "vscode": {
   "interpreter": {
    "hash": "df928c92915a6e295095bb07de7b84624befc7d196e01c26e318bdc14196d6a4"
   }
  }
 },
 "nbformat": 4,
 "nbformat_minor": 5
}
