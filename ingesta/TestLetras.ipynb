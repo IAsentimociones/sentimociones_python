{
 "cells": [
  {
   "cell_type": "code",
   "execution_count": 1,
   "id": "54bd5b9e",
   "metadata": {},
   "outputs": [
    {
     "name": "stdout",
     "output_type": "stream",
     "text": [
      "si contiene\n"
     ]
    }
   ],
   "source": [
    "from comun import cadena\n",
    "\n",
    "cancion =  'TIAGO PZK: BZRP MUSIC SESSIONS, VOL. 48'\n",
    "cantante =  'BIZARRAP / TIAGO PZK'\n",
    "cancion_autor = 'Bizarrap - Tiago Pzk: Bzrp Music Sessions Vol. 48'\n",
    "\n",
    "# valida autor y canción para obtener el enlace a la letra de la canción\n",
    "if cadena.contieneCadena(cancion, cancion_autor) and cadena.contieneCadena(cantante, cancion_autor):\n",
    "    print('si contiene')\n",
    "else:\n",
    "    print('no contiene')\n"
   ]
  },
  {
   "cell_type": "code",
   "execution_count": 2,
   "id": "fcbdcf72",
   "metadata": {},
   "outputs": [
    {
     "name": "stdout",
     "output_type": "stream",
     "text": [
      "nombre de la canción:  Tacones Rojos\n",
      "nombre del cantante:  Sebastián Yatra\n",
      "arreglo de la canción desde la bdd:  {'_id': ObjectId('630a2ce69ffbb04a4088c619'), 'cancion': 'Tacones Rojos', 'cantante': 'Sebastián Yatra', 'estado': 'SIN LETRA'}\n",
      "------------------\n",
      "cancion:  tacones%20rojos\n",
      "cantante:  sebastian%20yatra\n",
      "URL búsqueda en Lyrics:  https://www.lyrics.com/lyrics/tacones%2520rojos%20sebastian%2520yatra\n",
      "------------------\n",
      "No se pudo determinar la URL de la canción\n",
      "-----------------\n",
      "------------------\n",
      "cancion:  tacones+rojos\n",
      "cantante:  sebastian+yatra\n",
      "URL búsqueda en Letras4u:  https://www.letras4u.com/buscar.php?letrade=tacones+rojos+sebastian+yatra&Submit=Buscar\n",
      "------------------\n",
      "No se pudo determinar la URL de la canción\n",
      "-----------------\n",
      "\n"
     ]
    }
   ],
   "source": [
    "# prueba de lógica de negocio para obtener letras de canciones \n",
    "import letras_logica, cancion_logica\n",
    "\n",
    "# obtener canciones pendientes si letras registradas\n",
    "canciones_pendientes = cancion_logica.obtenerCancionesPendientes()\n",
    "\n",
    "# por cada canción extrae la letra de un contendio Web\n",
    "for cancion_pendiente in canciones_pendientes:\n",
    "   nombre_cancion = cancion_pendiente['cancion']\n",
    "   nombre_cantante = cancion_pendiente['cantante']\n",
    "\n",
    "   print('nombre de la canción: ', nombre_cancion)\n",
    "   print('nombre del cantante: ', nombre_cantante)\n",
    "   print('arreglo de la canción desde la bdd: ', cancion_pendiente)\n",
    "\n",
    "   letra_cancion = letras_logica.obtenerLetraConLyrics(nombre_cancion, nombre_cantante)\n",
    "   if letra_cancion == '':\n",
    "      letra_cancion = letras_logica.obtenerLetraConLetras4u(nombre_cancion, nombre_cantante)\n",
    "   print(letra_cancion)"
   ]
  }
 ],
 "metadata": {
  "kernelspec": {
   "display_name": "Python 3.8.10 ('entorno_prueba')",
   "language": "python",
   "name": "python3"
  },
  "language_info": {
   "codemirror_mode": {
    "name": "ipython",
    "version": 3
   },
   "file_extension": ".py",
   "mimetype": "text/x-python",
   "name": "python",
   "nbconvert_exporter": "python",
   "pygments_lexer": "ipython3",
   "version": "3.8.10"
  },
  "vscode": {
   "interpreter": {
    "hash": "df928c92915a6e295095bb07de7b84624befc7d196e01c26e318bdc14196d6a4"
   }
  }
 },
 "nbformat": 4,
 "nbformat_minor": 5
}
