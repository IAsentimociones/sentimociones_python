{
 "cells": [
  {
   "cell_type": "code",
   "execution_count": null,
   "id": "54bd5b9e",
   "metadata": {},
   "outputs": [],
   "source": [
    "from comun import cadena\n",
    "\n",
    "simple = 'morad bzrp music sessions vol 47'\n",
    "completa = 'morad bzrp music sessions vol 47bizarrap bzrp'\n",
    "\n",
    "# valida autor y canción para obtener el enlace a la letra de la canción\n",
    "if cadena.contieneCadena(simple, completa) or cadena.contieneCadena(completa, simple):\n",
    "    print('si contiene')\n",
    "else:\n",
    "    print('no contiene')\n",
    "\n",
    "url_letra_simple = 'https://www.letraseningles.es/letrascanciones/traduccionesDF/EltonJohnDuaLipa-ColdHeart-Traducida.html'\n",
    "es_letrassingle_es = cadena.contieneCadena('www.letraseningles.es', url_letra_simple)\n",
    "es_letras_com = cadena.contieneCadena('www.letras.com', url_letra_simple)\n",
    "print('es letrassingle: ', es_letrassingle_es)\n",
    "print('es letras con: ', es_letras_com)\n"
   ]
  },
  {
   "cell_type": "code",
   "execution_count": null,
   "id": "604ebe42",
   "metadata": {},
   "outputs": [],
   "source": [
    "cantante = 'ROSALÍA feat The Weeknd'\n",
    "cantante_corto = cantante.split(' ')\n",
    "print(cantante_corto[0])"
   ]
  },
  {
   "cell_type": "code",
   "execution_count": 1,
   "id": "fcbdcf72",
   "metadata": {},
   "outputs": [
    {
     "name": "stdout",
     "output_type": "stream",
     "text": [
      "nombre de la canción:  Nueva York (Tot*)\n",
      "nombre del cantante:  BAD GYAL\n",
      "arreglo de la canción desde la bdd:  {'_id': ObjectId('630a2ce69ffbb04a4088c633'), 'cancion': 'Nueva York (Tot*)', 'cantante': 'BAD GYAL', 'estado': 'SIN LETRA'}\n",
      "------------------\n",
      "cancion:  nueva+york+tot\n",
      "cantante:  bad+gyal\n",
      "URL búsqueda en cancioneros.com:  https://www.google.com/search?q=letra+nueva+york+tot+bad+gyal\n",
      "------------------\n",
      "coinciden autor y cancion. Url de letra:  https://www.letrasboom.com/letra/nueva-york-tot-bad-gyal&sa=U&ved=2ahUKEwjdlujipo36AhWNqpUCHRfbAZUQFnoECAoQAg&usg=AOvVaw0-Wajwbwnz7WPRd_1iwD9M\n",
      "url letra canción:  https://www.letrasboom.com/letra/nueva-york-tot-bad-gyal\n",
      "-----------------\n",
      "Bad Gyal De Barcelona a Nueva York, la que vende todo De Barcelona a Nueva York, no queda na' Fumamo' adentro, nos da igual, quemándolo del hai Ya sabes cómo es conmigo (Pussy que mana) Tú sales en la tele mientra' yo doy shows Tu cara en el Spotify y yo de bolo en Japón No venden ni un ticket porque son del montón Cuando voy pa' USA vendo todo en Nueva York Cuando voy pa' USA vendo todo en Nueva York (¿Cómo?) Cuando voy pa' USA vendo todo en Nueva York (Nueva York, en Nueva York) Cuando voy pa' USA vendo todo en Nueva York En la discoteca se ponen loco' (Loco') Todo' los nene' quieren invitarme a porros (Ey, pásame el porro, tía) En la discoteca se ponen loco' (Loco') No me hace falta, llevo tres gramo' en el toto (Yo los llevo guarda'os en el toto) Toto, toto, toto, toto (Yo los llevo guarda'os en el toto) Toto, toto, toto, toto (Ra-ta-ta-ta-ta-ta; yo los llevo guarda'os en el toto) Toto, toto, toto, toto (Yo los llevo guarda'os en el toto) Toto, toto, toto, toto Las hora' se me pasaban, se me hizo la mañana (Arrebatao') Llena la sala aunque no e' fin de semana (El champán) Piquete nuevo: Versace, Dolce & Gabanna (Dolce & Gabanna) Y las envidiosas me miran con mala gana Las hora' se me pasaban, se me hizo la mañana (Arrebatao') Llena la sala aunque no e' fin de semana Piquete nuevo: Versace, Dolce & Gabanna (Dolce & Gabanna) Y las envidiosas me miran con mala gana En la discoteca se ponen loco' (Loco') Todo' los nene' quieren invitarme a porros (A porros) En la discoteca se ponen loco' (Loco') No me hace falta, llevo tres gramo' en el toto (Yo los llevo guarda'os en el toto) Toto, toto, toto, toto (Yo los llevo guarda'os en el toto) Toto, toto, toto, toto (Yo los llevo guarda'os en el toto) Toto, toto, toto, toto (Yo los llevo guarda'os en el toto) Toto, toto, toto, toto Tú sales en la tele mientra' yo doy shows Tu cara en el Spotify y yo de bolo en Japón No venden ni un ticket porque son del montón Cuando voy pa' USA vendo todo en Nueva York (Bad Gyal) Cuando voy pa' USA vendo todo en Nueva York (Bad Gyal) Cuando voy pa' USA vendo todo en Nueva York (Nueva York, en Nueva York) Cuando voy pa' USA vendo todo en Nueva York Barcelona, ya sabe' Bad Gyal, el pussy que mana De Barcelona a Nueva York Con los porros en el toto Tranquila \n"
     ]
    }
   ],
   "source": [
    "# prueba de lógica de negocio para obtener letras de canciones \n",
    "import letras_logica, cancion_logica\n",
    "\n",
    "# obtener canciones pendientes si letras registradas\n",
    "canciones_pendientes = cancion_logica.obtenerCancionesPendientes()\n",
    "\n",
    "# por cada canción extrae la letra de un contendio Web\n",
    "for cancion_pendiente in canciones_pendientes:\n",
    "   nombre_cancion = cancion_pendiente['cancion']\n",
    "   nombre_cantante = cancion_pendiente['cantante']\n",
    "\n",
    "   print('nombre de la canción: ', nombre_cancion)\n",
    "   print('nombre del cantante: ', nombre_cantante)\n",
    "   print('arreglo de la canción desde la bdd: ', cancion_pendiente)\n",
    "\n",
    "   #letra_cancion = letras_logica.obtenerLetraConLyrics(nombre_cancion, nombre_cantante)\n",
    "   #letra_cancion = letras_logica.obtenerLetraConLetras4u(nombre_cancion, nombre_cantante)\n",
    "   #letra_cancion = letras_logica.obtenerLetraConYaLetras(nombre_cancion, nombre_cantante)\n",
    "   #letra_cancion = letras_logica.obtenerLetraConCancioneros(nombre_cancion, nombre_cantante)\n",
    "   letra_cancion = letras_logica.obtenerLetraConGoogle(nombre_cancion, nombre_cantante)\n",
    "   print(letra_cancion)"
   ]
  }
 ],
 "metadata": {
  "kernelspec": {
   "display_name": "Python 3.8.10 ('entorno_prueba')",
   "language": "python",
   "name": "python3"
  },
  "language_info": {
   "codemirror_mode": {
    "name": "ipython",
    "version": 3
   },
   "file_extension": ".py",
   "mimetype": "text/x-python",
   "name": "python",
   "nbconvert_exporter": "python",
   "pygments_lexer": "ipython3",
   "version": "3.8.10"
  },
  "vscode": {
   "interpreter": {
    "hash": "df928c92915a6e295095bb07de7b84624befc7d196e01c26e318bdc14196d6a4"
   }
  }
 },
 "nbformat": 4,
 "nbformat_minor": 5
}
