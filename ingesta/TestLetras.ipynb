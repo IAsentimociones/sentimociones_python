{
 "cells": [
  {
   "cell_type": "code",
   "execution_count": null,
   "id": "54bd5b9e",
   "metadata": {},
   "outputs": [],
   "source": [
    "from comun import cadena\n",
    "\n",
    "simple = 'morad bzrp music sessions vol 47'\n",
    "completa = 'morad bzrp music sessions vol 47bizarrap bzrp'\n",
    "\n",
    "# valida autor y canción para obtener el enlace a la letra de la canción\n",
    "if cadena.contieneCadena(simple, completa) or cadena.contieneCadena(completa, simple):\n",
    "    print('si contiene')\n",
    "else:\n",
    "    print('no contiene')\n",
    "\n",
    "url_letra_simple = 'https://www.letraseningles.es/letrascanciones/traduccionesDF/EltonJohnDuaLipa-ColdHeart-Traducida.html'\n",
    "es_letrassingle_es = cadena.contieneCadena('www.letraseningles.es', url_letra_simple)\n",
    "es_letras_com = cadena.contieneCadena('www.letras.com', url_letra_simple)\n",
    "print('es letrassingle: ', es_letrassingle_es)\n",
    "print('es letras con: ', es_letras_com)\n"
   ]
  },
  {
   "cell_type": "code",
   "execution_count": null,
   "id": "604ebe42",
   "metadata": {},
   "outputs": [],
   "source": [
    "cantante = 'ROSALÍA feat The Weeknd'\n",
    "cantante_corto = cantante.split(' ')\n",
    "print(cantante_corto[0])"
   ]
  },
  {
   "cell_type": "code",
   "execution_count": 1,
   "id": "fcbdcf72",
   "metadata": {},
   "outputs": [
    {
     "name": "stdout",
     "output_type": "stream",
     "text": [
      "nombre de la canción:  DILE (HOMENAJE)\n",
      "nombre del cantante:  JHAY CORTEZ\n",
      "arreglo de la canción desde la bdd:  {'_id': ObjectId('630a2ce69ffbb04a4088c645'), 'cancion': 'DILE (HOMENAJE)', 'cantante': 'JHAY CORTEZ', 'estado': 'SIN LETRA'}\n",
      "------------------\n",
      "cancion:  dile+homenaje\n",
      "cantante:  jhay+cortez\n",
      "URL búsqueda en cancioneros.com:  https://www.google.com/search?q=letra+dile+homenaje+jhay+cortez\n",
      "------------------\n",
      "coinciden autor y cancion. Url de letra:  https://www.letras.com/jhay-cortez/dile-homenaje/&sa=U&ved=2ahUKEwjh2Y-2ro36AhVSqJUCHUn8BoIQFnoECAkQAg&usg=AOvVaw3dgLUgQed_F-mcW786o_Br\n",
      "url letra canción:  https://www.letras.com/jhay-cortez/dile-homenaje/\n",
      "-----------------\n",
      "Dile que no te has decididoQue no sabe' lo de tener maridoDile que no' vemo' a seguido Qué tú me escribe' aunque no me ha' seguidoY cuando están a sola'Él te trata mal, no te valoraLlega a la casa a saber la hora Dile que bailando te conocí-í, cuéntaleDile que esta noche me quieres ve-er, cuéntaleDile que solo quiero otra noche Cuéntale lo que hicimo' anocheMi piel huele a tu perfume DolceBaby, él no te conoce yDile que bailando te conocí-í, cuéntale Tú siempre encima de mí-í, cuéntaleDile que solo quiero otra nocheCuéntale lo que hicimo' anoche Mi piel huele a tu perfume DolceBaby, él no te conoce(No te conoce, ¿me sigue'?), yeh Dime, baby, lo que está' haciendoCon él siempre peleando, conmigo bebiendoSe comenta por ahí que se está enterandoYo no sé por qué carajo' tú' no' está' escondiendo No seas una pobre diabla (diabla)Cuando está contigo ni te habla (habla)Tú te siente' sola y eso te endiablaLleva tiempo que no te da tabla Y olvídate de la genteLo comenta' bien diferenteBaby, a vece' te acalora, te besa, te abraza, pero no te siente Conmigo es algo diferenteTú lo que quiere' es que te entrePorque a vece' él no te acalora, te besa, por eso cuando tú me siente' Dile que bailando te conocí-í, cuéntaleDile que esta noche me quieres ve-er, cuéntaleDile que solo quiero otra nocheCuéntale lo que hicimo' anoche Mi piel huele a tu perfume DolceBaby, él no te conoce yDile que bailando te conocí-í, cuéntaleTú siempre encima de mí-í, cuéntale Dile que solo quiero otra nocheCuéntale lo que hicimo' anocheMi piel huele a tu perfume DolceBaby, él no te conoce, yeh(La Presión) Otra, otra noche, otra(Ay, que yo no te boté)Otra, otra noche, otra (Aunque tú vuelva' con él)Otra, otra noche, otra(Ay, que yo-yo no te boté)Otra, otra noche, otra Y olvídate de la genteLo comenta' bien diferenteBaby, a vece' te acalora, te besa, te abraza, pero no te siente Conmigo es algo diferenteTú lo que quiere' es que te entrePorque a vece' no te acalora, te besa, por eso cuando tú me siente' Dile que bailando te conocí-í, cuéntaleDile que esta noche me quieres ve-er, cuéntaleDile que solo quiero otra noche Cuéntale lo que hicimo' anocheMi piel huele a tu perfume DolceBaby, él no te conoce  Música comienza con letras © 2003 - 2022, 3.2 millones de canciones  Hecho con amor en Belo Horizonte - Brasil  Asociados:  \n"
     ]
    }
   ],
   "source": [
    "# prueba de lógica de negocio para obtener letras de canciones \n",
    "import letras_logica, cancion_logica\n",
    "\n",
    "# obtener canciones pendientes si letras registradas\n",
    "canciones_pendientes = cancion_logica.obtenerCancionesPendientes()\n",
    "\n",
    "# por cada canción extrae la letra de un contendio Web\n",
    "for cancion_pendiente in canciones_pendientes:\n",
    "   nombre_cancion = cancion_pendiente['cancion']\n",
    "   nombre_cantante = cancion_pendiente['cantante']\n",
    "\n",
    "   print('nombre de la canción: ', nombre_cancion)\n",
    "   print('nombre del cantante: ', nombre_cantante)\n",
    "   print('arreglo de la canción desde la bdd: ', cancion_pendiente)\n",
    "\n",
    "   #letra_cancion = letras_logica.obtenerLetraConLyrics(nombre_cancion, nombre_cantante)\n",
    "   #letra_cancion = letras_logica.obtenerLetraConLetras4u(nombre_cancion, nombre_cantante)\n",
    "   #letra_cancion = letras_logica.obtenerLetraConYaLetras(nombre_cancion, nombre_cantante)\n",
    "   #letra_cancion = letras_logica.obtenerLetraConCancioneros(nombre_cancion, nombre_cantante)\n",
    "   letra_cancion = letras_logica.obtenerLetraConGoogle(nombre_cancion, nombre_cantante)\n",
    "   print(letra_cancion)"
   ]
  }
 ],
 "metadata": {
  "kernelspec": {
   "display_name": "Python 3.8.10 ('entorno_prueba')",
   "language": "python",
   "name": "python3"
  },
  "language_info": {
   "codemirror_mode": {
    "name": "ipython",
    "version": 3
   },
   "file_extension": ".py",
   "mimetype": "text/x-python",
   "name": "python",
   "nbconvert_exporter": "python",
   "pygments_lexer": "ipython3",
   "version": "3.8.10"
  },
  "vscode": {
   "interpreter": {
    "hash": "df928c92915a6e295095bb07de7b84624befc7d196e01c26e318bdc14196d6a4"
   }
  }
 },
 "nbformat": 4,
 "nbformat_minor": 5
}
