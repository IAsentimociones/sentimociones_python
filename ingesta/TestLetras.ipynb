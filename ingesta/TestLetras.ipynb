{
 "cells": [
  {
   "cell_type": "code",
   "execution_count": null,
   "id": "54bd5b9e",
   "metadata": {},
   "outputs": [],
   "source": [
    "from comun import cadena\n",
    "\n",
    "simple = 'morad bzrp music sessions vol 47'\n",
    "completa = 'morad bzrp music sessions vol 47bizarrap bzrp'\n",
    "\n",
    "# valida autor y canción para obtener el enlace a la letra de la canción\n",
    "if cadena.contieneCadena(simple, completa) or cadena.contieneCadena(completa, simple):\n",
    "    print('si contiene')\n",
    "else:\n",
    "    print('no contiene')\n"
   ]
  },
  {
   "cell_type": "code",
   "execution_count": null,
   "id": "604ebe42",
   "metadata": {},
   "outputs": [],
   "source": [
    "cantante = 'ROSALÍA feat The Weeknd'\n",
    "cantante_corto = cantante.split(' ')\n",
    "print(cantante_corto[0])"
   ]
  },
  {
   "cell_type": "code",
   "execution_count": 1,
   "id": "fcbdcf72",
   "metadata": {},
   "outputs": [
    {
     "name": "stdout",
     "output_type": "stream",
     "text": [
      "nombre de la canción:  LA FAMA\n",
      "nombre del cantante:  ROSALÍA feat. The Weeknd\n",
      "arreglo de la canción desde la bdd:  {'_id': ObjectId('630a2ce69ffbb04a4088c61d'), 'cancion': 'LA FAMA', 'cantante': 'ROSALÍA feat. The Weeknd', 'estado': 'SIN LETRA'}\n",
      "------------------\n",
      "cancion:  la+fama\n",
      "cantante:  ROSALÍA\n",
      "URL búsqueda en yaletras.com:  https://www.yaletras.com/search?q=la+fama+ROSALÍA\n",
      "------------------\n",
      "cancion autor:  Letra Rosalía Ft. The Weeknd - La Fama\n",
      "link letra:  https://www.yaletras.com/2021/11/letra-rosalia-ft-weeknd-la-fama.html\n",
      "simple = la fama\n",
      "completa = letra rosalia ft the weeknd  la fama\n",
      "simple = rosalia\n",
      "completa = letra rosalia ft the weeknd  la fama\n",
      "cancion autor:  Letra Rosalía - Chicken Teriyaki\n",
      "link letra:  https://www.yaletras.com/2022/02/letra-rosalia-chicken-teriyaki.html\n",
      "simple = la fama\n",
      "completa = letra rosalia  chicken teriyaki\n",
      "autor y canción no coinciden\n",
      "-----------------\n",
      "url letra canción:  https://www.yaletras.com/2021/11/letra-rosalia-ft-weeknd-la-fama.html\n",
      "-----------------\n",
      "Lo que pasó a ti te lo cuento, no creas que no dolió O que me lo invento, así es que se dio Yo tenía mi bebé, era algo bien especial Pero me obsesioné con algo que a él le hacía mal  Miles de cancione' en mi mente y él me lo notaba Y él tanta’ vece' que me lo decía y yo como si nada  Es mala amante la fama, no va a quererte de verdad Es demasia'o traicionera, y como ella viene, se te va Sabe que será celosa, yo nunca le confiaré Si quiere’ duerme con ella, pero nunca la vayas a casar  Lo que pasó me ha dejado en vela, ya no puedo ni pensar La sangre le hierve, siempre quiere más Puñalaítas' da su ambición En el pecho afilada, es lo peor  Es mala amante la fama y no va a quererme de verdad Es demasia'o traicionera, y como ella viene, se me va Yo sé que será celosa, yo nunca le confiaré Si quiero duermo con ella, pero nunca me la voy a casar  No hay manera De que esta obsesión se me fuera Se me fuera, ya desaparezca Yo aún no he aprendío' la manera No hay manera que desaparezca  Es mala amante la fama, no va a quererte de verdad Es demasia'o traicionera, y como ella viene, se te va Yo sé que será celosa, yo nunca le confiaré Si quiero duermo con ella, pero nunca me la voy a casar \n"
     ]
    }
   ],
   "source": [
    "# prueba de lógica de negocio para obtener letras de canciones \n",
    "import letras_logica, cancion_logica\n",
    "\n",
    "# obtener canciones pendientes si letras registradas\n",
    "canciones_pendientes = cancion_logica.obtenerCancionesPendientes()\n",
    "\n",
    "# por cada canción extrae la letra de un contendio Web\n",
    "for cancion_pendiente in canciones_pendientes:\n",
    "   nombre_cancion = cancion_pendiente['cancion']\n",
    "   nombre_cantante = cancion_pendiente['cantante']\n",
    "\n",
    "   print('nombre de la canción: ', nombre_cancion)\n",
    "   print('nombre del cantante: ', nombre_cantante)\n",
    "   print('arreglo de la canción desde la bdd: ', cancion_pendiente)\n",
    "\n",
    "   #letra_cancion = letras_logica.obtenerLetraConLyrics(nombre_cancion, nombre_cantante)\n",
    "   #letra_cancion = letras_logica.obtenerLetraConLetras4u(nombre_cancion, nombre_cantante)\n",
    "   letra_cancion = letras_logica.obtenerLetraConYaLetras(nombre_cancion, nombre_cantante)\n",
    "   #letra_cancion = letras_logica.obtenerLetraConCancioneros(nombre_cancion, nombre_cantante)\n",
    "   print(letra_cancion)"
   ]
  }
 ],
 "metadata": {
  "kernelspec": {
   "display_name": "Python 3.8.10 ('entorno_prueba')",
   "language": "python",
   "name": "python3"
  },
  "language_info": {
   "codemirror_mode": {
    "name": "ipython",
    "version": 3
   },
   "file_extension": ".py",
   "mimetype": "text/x-python",
   "name": "python",
   "nbconvert_exporter": "python",
   "pygments_lexer": "ipython3",
   "version": "3.8.10"
  },
  "vscode": {
   "interpreter": {
    "hash": "df928c92915a6e295095bb07de7b84624befc7d196e01c26e318bdc14196d6a4"
   }
  }
 },
 "nbformat": 4,
 "nbformat_minor": 5
}
