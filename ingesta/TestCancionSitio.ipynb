{
 "cells": [
  {
   "cell_type": "code",
   "execution_count": null,
   "id": "8234753e",
   "metadata": {},
   "outputs": [],
   "source": [
    "# prueba de lógica de negocio para la gesión de canciones\n",
    "import cancion_logica, sitio_logica\n",
    "\n",
    "# registra canciones y cantantes en base a un arreglo de valores (ranking, canción y cantante)\n",
    "elementosExtraidos = [\n",
    "   ['1', 'PELELE', 'MORAD'], \n",
    "   ['2', 'Desesperados', 'RAUW ALEJANDRO / CHENCHO CORLEONE'], \n",
    "   ['3', 'TIAGO PZK: BZRP MUSIC SESSIONS, VOL. 48', 'BIZARRAP / TIAGO PZK']\n",
    "]\n",
    "lista_canciones = cancion_logica.insertarCancionCantante(elementosExtraidos)\n",
    "print(lista_canciones)\n",
    "\n",
    "# registra sitio web en base a un arreglo de canciones obtenidas previamente\n",
    "url = 'https://www.elportaldemusica.es/lists/top-100-canciones/2022/1'\n",
    "sitio_logica.insertarSitio(url, lista_canciones)"
   ]
  },
  {
   "cell_type": "code",
   "execution_count": 2,
   "id": "f4ca1e91",
   "metadata": {},
   "outputs": [
    {
     "name": "stdout",
     "output_type": "stream",
     "text": [
      "{'_id': ObjectId('630a2ce69ffbb04a4088c613'), 'cancion': 'Desesperados', 'cantante': 'RAUW ALEJANDRO / CHENCHO CORLEONE', 'estado': 'SIN LETRA', 'letra': 'letra prueba'}\n",
      "documento actualizado correctamente\n"
     ]
    }
   ],
   "source": [
    "# prueba para obtener canciones que no registran sus letras\n",
    "import cancion_logica\n",
    "\n",
    "canciones_pendientes = cancion_logica.obtenerCancionesPendientes()\n",
    "for cancion_pendiente in canciones_pendientes:\n",
    "    print(cancion_pendiente)\n",
    "\n",
    "    resultado = cancion_logica.actualizarCancionPendiente(cancion_pendiente, 'letra prueba 3')\n",
    "    print(resultado)"
   ]
  }
 ],
 "metadata": {
  "kernelspec": {
   "display_name": "Python 3.8.10 ('entorno_prueba')",
   "language": "python",
   "name": "python3"
  },
  "language_info": {
   "codemirror_mode": {
    "name": "ipython",
    "version": 3
   },
   "file_extension": ".py",
   "mimetype": "text/x-python",
   "name": "python",
   "nbconvert_exporter": "python",
   "pygments_lexer": "ipython3",
   "version": "3.8.10"
  },
  "vscode": {
   "interpreter": {
    "hash": "df928c92915a6e295095bb07de7b84624befc7d196e01c26e318bdc14196d6a4"
   }
  }
 },
 "nbformat": 4,
 "nbformat_minor": 5
}
