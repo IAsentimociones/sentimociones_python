{
 "cells": [
  {
   "cell_type": "code",
   "execution_count": 1,
   "id": "8234753e",
   "metadata": {},
   "outputs": [
    {
     "name": "stdout",
     "output_type": "stream",
     "text": [
      "[{'ranking': '1', 'cancion_id': ObjectId('63013899cec626bc79fb991c')}, {'ranking': '2', 'cancion_id': ObjectId('63013899cec626bc79fb991e')}, {'ranking': '3', 'cancion_id': ObjectId('63013899cec626bc79fb9920')}]\n"
     ]
    },
    {
     "data": {
      "text/plain": [
       "ObjectId('63013899cec626bc79fb9922')"
      ]
     },
     "execution_count": 1,
     "metadata": {},
     "output_type": "execute_result"
    }
   ],
   "source": [
    "# prueba de lógica de negocio para la gesión de canciones\n",
    "import cancion, sitio\n",
    "\n",
    "# registra canciones y cantantes en base a un arreglo de valores (ranking, canción y cantante)\n",
    "elementosExtraidos = [\n",
    "   ['1', 'PELELE', 'MORAD'], \n",
    "   ['2', 'Desesperados', 'RAUW ALEJANDRO / CHENCHO CORLEONE'], \n",
    "   ['3', 'TIAGO PZK: BZRP MUSIC SESSIONS, VOL. 48', 'BIZARRAP / TIAGO PZK']\n",
    "]\n",
    "lista_canciones = cancion.insertarCancionCantante(elementosExtraidos)\n",
    "print(lista_canciones)\n",
    "\n",
    "# registra sitio web en base a un arreglo de canciones obtenidas previamente\n",
    "url = 'https://www.elportaldemusica.es/lists/top-100-canciones/2022/1'\n",
    "sitio.insertarSitio(url, lista_canciones)"
   ]
  }
 ],
 "metadata": {
  "kernelspec": {
   "display_name": "Python 3.8.10 ('entorno_prueba')",
   "language": "python",
   "name": "python3"
  },
  "language_info": {
   "codemirror_mode": {
    "name": "ipython",
    "version": 3
   },
   "file_extension": ".py",
   "mimetype": "text/x-python",
   "name": "python",
   "nbconvert_exporter": "python",
   "pygments_lexer": "ipython3",
   "version": "3.8.10"
  },
  "vscode": {
   "interpreter": {
    "hash": "df928c92915a6e295095bb07de7b84624befc7d196e01c26e318bdc14196d6a4"
   }
  }
 },
 "nbformat": 4,
 "nbformat_minor": 5
}
