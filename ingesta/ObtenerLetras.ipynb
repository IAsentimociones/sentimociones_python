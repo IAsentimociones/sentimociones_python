{
 "cells": [
  {
   "cell_type": "code",
   "execution_count": 1,
   "id": "8234753e",
   "metadata": {},
   "outputs": [
    {
     "name": "stdout",
     "output_type": "stream",
     "text": [
      "------------------\n",
      "cancion:  morad%20bzrp%20music%20sessions%20vol%2047\n",
      "cantante:  bizarrap%20%20morad\n",
      "URL búsqueda en Lyrics:  https://www.lyrics.com/lyrics/morad%2520bzrp%2520music%2520sessions%2520vol%252047%20bizarrap%2520%2520morad\n",
      "------------------\n",
      "No se pudo determinar la URL de la canción\n",
      "-----------------\n",
      "------------------\n",
      "cancion:  morad+bzrp+music+sessions+vol+47\n",
      "cantante:  bizarrap+morad\n",
      "URL búsqueda en Letras4u:  https://www.letras4u.com/buscar.php?letrade=morad+bzrp+music+sessions+vol+47+bizarrap+morad&Submit=Buscar\n",
      "------------------\n",
      "No se pudo determinar la URL de la canción\n",
      "-----------------\n",
      "------------------\n",
      "cancion:  morad+bzrp+music+sessions+vol+47\n",
      "cantante:  bizarrap+morad\n",
      "URL búsqueda en yaletras.com:  https://www.yaletras.com/search?q=morad+bzrp+music+sessions+vol+47+bizarrap+morad\n",
      "------------------\n",
      "No se pudo determinar la URL de la canción\n",
      "-----------------\n",
      "------------------\n",
      "cancion:  morad+bzrp+music+sessions+vol+47\n",
      "cantante:  bizarrap+morad\n",
      "URL búsqueda en cancioneros.com:  https://www.cancioneros.com/letras/buscar.php?CT=morad+bzrp+music+sessions+vol+47+bizarrap+morad\n",
      "------------------\n",
      "nombre_cancion  MORAD: BZRP MUSIC SESSIONS, VOL. 47\n",
      "cancion_a.text  Morad: Bzrp Music Sessions, Vol. 47Bizarrap (BZRP)\n",
      "simple = morad bzrp music sessions vol 47\n",
      "completa = morad bzrp music sessions vol 47bizarrap bzrp\n",
      "url letra canción:  cancion/2697954/morad-bzrp-music-sessions-vol-47-bizarrap-bzrp\n",
      "-----------------\n",
      "documento actualizado correctamente\n"
     ]
    }
   ],
   "source": [
    "'''\n",
    "Obtiene letra de canciones\n",
    "'''\n",
    "import cancion_logica, letras_logica\n",
    "\n",
    "# obtener canciones pendientes si letras registradas\n",
    "canciones_pendientes = cancion_logica.obtenerCancionesPendientes()\n",
    "\n",
    "for cancion_pendiente in canciones_pendientes:\n",
    "   # obtiene el nombre de la canción y del cantante de la base de datos que no tiene letras\n",
    "   nombre_cancion = cancion_pendiente['cancion']\n",
    "   nombre_cantante = cancion_pendiente['cantante']\n",
    "   \n",
    "   # obtiene letra de canción desde Lyrics\n",
    "   letra_cancion = letras_logica.obtenerLetraConLyrics(nombre_cancion, nombre_cantante)\n",
    "   if letra_cancion == '':\n",
    "      letra_cancion = letras_logica.obtenerLetraConLetras4u(nombre_cancion, nombre_cantante)\n",
    "      if letra_cancion == '':\n",
    "         letra_cancion = letras_logica.obtenerLetraConYaLetras(nombre_cancion, nombre_cantante)\n",
    "         if letra_cancion == '':\n",
    "            letra_cancion = letras_logica.obtenerLetraConCancioneros(nombre_cancion, nombre_cantante)\n",
    "   \n",
    "   # actualiza la letra en la colección de la canción\n",
    "   resultado_final = cancion_logica.actualizarCancionPendiente(cancion_pendiente, letra_cancion)\n",
    "   print(resultado_final)"
   ]
  }
 ],
 "metadata": {
  "kernelspec": {
   "display_name": "Python 3.8.10 ('entorno_prueba')",
   "language": "python",
   "name": "python3"
  },
  "language_info": {
   "codemirror_mode": {
    "name": "ipython",
    "version": 3
   },
   "file_extension": ".py",
   "mimetype": "text/x-python",
   "name": "python",
   "nbconvert_exporter": "python",
   "pygments_lexer": "ipython3",
   "version": "3.8.10"
  },
  "vscode": {
   "interpreter": {
    "hash": "df928c92915a6e295095bb07de7b84624befc7d196e01c26e318bdc14196d6a4"
   }
  }
 },
 "nbformat": 4,
 "nbformat_minor": 5
}
