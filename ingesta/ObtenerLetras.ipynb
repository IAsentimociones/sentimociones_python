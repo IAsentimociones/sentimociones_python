{
 "cells": [
  {
   "cell_type": "code",
   "execution_count": 1,
   "id": "8234753e",
   "metadata": {},
   "outputs": [
    {
     "name": "stdout",
     "output_type": "stream",
     "text": [
      "cancion: PELELE\n",
      "cantante: MORAD\n",
      "{'_id': ObjectId('630a2ce69ffbb04a4088c611'), 'cancion': 'PELELE', 'cantante': 'MORAD', 'estado': 'SIN LETRA', 'letra': 'letra prueba 6'}\n",
      "cancion codificado para url: PELELE\n",
      "cantante codificado para url: MORAD\n"
     ]
    }
   ],
   "source": [
    "'''\n",
    "Obtiene letra de canciones\n",
    "'''\n",
    "import urllib.parse\n",
    "import cancion_logica\n",
    "\n",
    "# obtener canciones pendientes si letras registradas\n",
    "canciones_pendientes = cancion_logica.obtenerCancionesPendientes()\n",
    "\n",
    "for cancion_pendiente in canciones_pendientes:\n",
    "   # obtiene la cancion y autor\n",
    "   cancion = cancion_pendiente['cancion']\n",
    "   cantante = cancion_pendiente['cantante'] \n",
    "   print('cancion: ' + cancion)\n",
    "   print('cantante: ' + cantante)\n",
    "   print(cancion_pendiente)\n",
    "   \n",
    "   # formatear canción y cantante como parámetro de URL\n",
    "   cancion_code_url = urllib.parse.quote(cancion)\n",
    "   cantante_code_url = urllib.parse.quote(cantante)\n",
    "   print('cancion codificado para url: ' + cancion_code_url)\n",
    "   print('cantante codificado para url: ' + cantante_code_url)"
   ]
  },
  {
   "cell_type": "code",
   "execution_count": 2,
   "id": "476c07a9",
   "metadata": {},
   "outputs": [
    {
     "name": "stdout",
     "output_type": "stream",
     "text": [
      "https://www.lyrics.com/lyrics/PELELE%20MORAD\n"
     ]
    }
   ],
   "source": [
    "# prepara URL de Lyrics para buscar letras por cancion y autor\n",
    "\n",
    "\n",
    "WEB_LYRICS = \"https://www.lyrics.com/lyrics/\"\n",
    "cancion_autor_code_url = urllib.parse.quote(cancion_code_url + ' ' + cantante_code_url)\n",
    "url_busqueda_lyrics = '%s%s' % (WEB_LYRICS, cancion_autor_code_url) \n",
    "print(url_busqueda_lyrics)"
   ]
  },
  {
   "cell_type": "code",
   "execution_count": 3,
   "id": "afb4ee5f",
   "metadata": {},
   "outputs": [
    {
     "name": "stdout",
     "output_type": "stream",
     "text": [
      "cancion lyrics:  Y.N.M.S.\n",
      "autor lyrics:  \n",
      "url letra lyrics:  location.href='https://www.lyrics.com/lyric-lf/7637049/7aared/Y.N.M.S.';\n",
      "cancion bdd: PELELE\n",
      "autor bdd: MORAD\n",
      "-----------------\n",
      "cancion lyrics:  Pelele\n",
      "autor lyrics:  Morad\n",
      "url letra lyrics:  location.href='https://www.lyrics.com/lyric-lf/6852059/Morad/Pelele';\n",
      "cancion bdd: PELELE\n",
      "autor bdd: MORAD\n",
      "-----------------\n",
      "location.href='https://www.lyrics.com/lyric-lf/6852059/Morad/Pelele';\n",
      "cancion lyrics:  2x1\n",
      "autor lyrics:  Morad\n",
      "url letra lyrics:  location.href='https://www.lyrics.com/lyric-lf/2251955/Morad/2x1';\n",
      "cancion bdd: PELELE\n",
      "autor bdd: MORAD\n",
      "-----------------\n",
      "https://www.lyrics.com/lyric-lf/6852059/Morad/Pelele;\n"
     ]
    }
   ],
   "source": [
    "import requests\n",
    "from bs4 import BeautifulSoup\n",
    "\n",
    "# Obtiene del contenido web la letra de la canción\n",
    "page = requests.get(url_busqueda_lyrics)\n",
    "soup = BeautifulSoup(page.content, \"html.parser\")\n",
    "results = soup.find(id=\"content-body\")\n",
    "job_elements = results.find_all(\"div\", class_=\"sec-lyric clearfix\")\n",
    "# obtiene elementos del autor, cancion y enlace donde está la letra de la canción\n",
    "url_letra_cancion = ''\n",
    "for job_element in job_elements:\n",
    "    cancion_elem = job_element.find(\"p\", class_=\"lyric-meta-title\")\n",
    "    autor_elem = job_element.find(\"p\", class_=\"lyric-meta-album-artist\")\n",
    "    \n",
    "    if autor_elem == None:\n",
    "        autor_lyrics = ''\n",
    "    else:\n",
    "        autor_lyrics = autor_elem.text\n",
    "\n",
    "    cancion_lyrics = cancion_elem.text\n",
    "    ref = job_element.find(\"pre\", class_=\"lyric-body\")\n",
    "\n",
    "    print(\"cancion lyrics: \", cancion_lyrics)\n",
    "    print(\"autor lyrics: \", autor_lyrics)\n",
    "    print(\"url letra lyrics: \", ref.attrs['onclick'])\n",
    "    print(\"cancion bdd: \" + cancion)\n",
    "    print(\"autor bdd: \" + cantante)\n",
    "    print('-----------------')\n",
    "\n",
    "    # valida autor y canción para obtener el enlace a la letra de la canción\n",
    "    if cancion_lyrics.casefold() == cancion.casefold() and autor_lyrics.casefold() == cantante.casefold():\n",
    "        url_letra_cancion =  ref.attrs['onclick']\n",
    "        print (url_letra_cancion)\n",
    "       \n",
    "\n",
    "if url_letra_cancion == '':\n",
    "    print ('NO ENCONTRO LETRA')\n",
    "else:\n",
    "    url_letra_cancion = url_letra_cancion.split('=')[1].replace('\\'','')\n",
    "    print(url_letra_cancion)\n"
   ]
  },
  {
   "cell_type": "code",
   "execution_count": 5,
   "id": "fe7bbf57",
   "metadata": {},
   "outputs": [
    {
     "name": "stdout",
     "output_type": "stream",
     "text": [
      "Hombre, no te sale (sale) (Tr. Fact)\n",
      "Hombre, no te sale (sale, sale, sale)\n",
      "Morad, no te, Morad cómo te sales (sale', sale, sale, sale)\n",
      "Si entras aquí no, ah (sale', sale, sale', sale', sale')\n",
      "\n",
      "Morad cómo te sales (sales), si entras aquí no sales (sales)\n",
      "Sabes que tú no vales (vale'), como sueno yo en instrumentales (-ale')\n",
      "Hablando de los mundo' de ilegale' (-ale')\n",
      "Pegadizo como Dale Don Dale (-ale)\n",
      "Yo sonando siempre en la calle, tú 40 Principales (-ale')\n",
      "\n",
      "Cuatro guitarrista' (-ista'), 17 que tienen orquesta (orquesta)\n",
      "Para hacer un tema (ala) que no suena ni en la fiesta (no, no, no)\n",
      "Yo hago mi escritura fumando uno de verdura (¿ah?)\n",
      "Tú dos meses duras, tú está' fuera 'e cobertura (jaja)\n",
      "\n",
      "La calle está loca (loca), eso e' lo que pica (pica)\n",
      "Pagamos a Toca y tú pidiéndole a tu chica (chica)\n",
      "El capo González (-ález) puede que te cale (cale)\n",
      "Tu coche se cala, y acaba' luego en la tele (cuidao')\n",
      "\n",
      "Mira que ya e' fácil (cuidao'), en cinco minuto' (cuidao')\n",
      "Lo hago ya duro, rápido y también impoluto\n",
      "Más duro que yeso, más de uno lo discuto\n",
      "Yo solo no-no-no-no-no-no-no-no\n",
      "Oye, oye, oye, para, para, para, para, para\n",
      "Espera, espera, espera, espera, espera que lo cambie\n",
      "Dice, dice\n",
      "\n",
      "Dime dónde para', para ir a buscarte y cogerte aparte\n",
      "¿Dónde está' escondí'o? A mí no interesa\n",
      "Tener que grabarte, si eres un desastre\n",
      "¿Dónde está' escondí'o? ¿Y quién es tu colega?\n",
      "\n",
      "El que te lo brega o el que por ti se pega\n",
      "¿Dónde está' escondí'o? ¿Dónde e' tu grupo?\n",
      "Pa' ver cómo lo escupo y luego ni me preocupo\n",
      "¿Dónde está' escondí'o?\n",
      "\n",
      "Pa-pa-, para (para, para, para)\n",
      "Tú tiene' una pistola pero no dispara' (-para', -para', -para')\n",
      "Eladio dijo \"No hay chaleco pa' la cara\" (cara, cara, cara)\n",
      "Entonce' te haremo' la de los 9amara, la de los 9amara (te raja)\n",
      "\n",
      "Espera (espera)\n",
      "Ahora veo que 'toy haciendo lo que quiera (lo que quiera, quiera)\n",
      "Y tú apretado con interés de disquera (de disquera-quera)\n",
      "Y yo tranquilo hasta el día que me muera\n",
      "Hasta que me pe-, oye, oye, oye\n",
      "\n",
      "Pe-pe-, pelele\n",
      "Te crees que es muy fácil nombrar a la L\n",
      "Si sabemos que tú no llega' a los nivele'\n",
      "Y nosotros os pusimos a vosotro' los chele', los primero' chele'\n",
      "\n",
      "Pe-pe-, pelele\n",
      "Te crees que es muy fácil nombrar a la L\n",
      "Si sabemos que tú no llega' a los nivele'\n",
      "Y nosotros os pusimo' a vosotro' los chele', los primeros chele'\n",
      "\n",
      "Pa-pa-para\n",
      "Cuando me ven de frente ya me dicen \"Para\" (para, para, para)\n",
      "Cuando me ven de frente ya me dicen \"Para\" (para, para)\n",
      "Cuando me ven de frente ya me dicen \"Para\" (para, para, para)\n",
      "Ya me dicen \"Para\"\n",
      "\n",
      "Pe-pe-pelele\n",
      "Pelele\n",
      "Pelele\n",
      "Pelele\n",
      "Pe-pe-pelele\n",
      "\n",
      "Veo-veo-veo a tu grupo, jaja, si yo los veo, jaja (pe-pe-pelele)\n",
      "¿Grupo? Jaja, si yo los veo, jaja (pelele)\n",
      "¿Grupo? Jaja, si yo los veo, jaja (pelele)\n",
      "Veo a tu grupo y solo me sale \"Jajajaja\" (pelele)\n",
      "\n",
      "Veo a tu grupo y solo jajajaja (pe-pe-pelele)\n",
      "Veo a tu grupo y solo jajajaja (pelele)\n",
      "Jajaja, jajaja (pelele)\n",
      "Tu mama de teta, jajajaja (pelele)\n",
      "Pe-pe-pelele\n"
     ]
    }
   ],
   "source": [
    "# obtiene contenido de la página web de la letra de la canción\n",
    "page_letra_cancion = requests.get(url_letra_cancion)\n",
    "soup_letra_cancion = BeautifulSoup(page_letra_cancion.content, \"html.parser\")\n",
    "# obtiene el cuerpo del contenido web de la letra de la canción\n",
    "results_letra_cancion = soup_letra_cancion.find(id=\"content-body\")\n",
    "job_elements_letra = results_letra_cancion.find_all(\"div\", class_=\"lyric clearfix\")\n",
    "for job_element in job_elements_letra:\n",
    "    letra = job_element.find(\"pre\", id=\"lyric-body-text\")\n",
    "print(letra.text)"
   ]
  },
  {
   "cell_type": "code",
   "execution_count": 6,
   "id": "b19da23c",
   "metadata": {},
   "outputs": [
    {
     "name": "stdout",
     "output_type": "stream",
     "text": [
      "documento actualizado correctamente\n"
     ]
    }
   ],
   "source": [
    "# actualiza la letra en la colección de la canción\n",
    "resultado_final = cancion_logica.actualizarCancionPendiente(cancion_pendiente, letra.text)\n",
    "print(resultado_final)"
   ]
  }
 ],
 "metadata": {
  "kernelspec": {
   "display_name": "Python 3.8.10 ('entorno_prueba')",
   "language": "python",
   "name": "python3"
  },
  "language_info": {
   "codemirror_mode": {
    "name": "ipython",
    "version": 3
   },
   "file_extension": ".py",
   "mimetype": "text/x-python",
   "name": "python",
   "nbconvert_exporter": "python",
   "pygments_lexer": "ipython3",
   "version": "3.8.10"
  },
  "vscode": {
   "interpreter": {
    "hash": "df928c92915a6e295095bb07de7b84624befc7d196e01c26e318bdc14196d6a4"
   }
  }
 },
 "nbformat": 4,
 "nbformat_minor": 5
}
