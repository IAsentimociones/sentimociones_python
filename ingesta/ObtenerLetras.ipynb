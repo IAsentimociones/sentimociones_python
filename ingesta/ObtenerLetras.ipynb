{
 "cells": [
  {
   "cell_type": "code",
   "execution_count": 1,
   "id": "8234753e",
   "metadata": {},
   "outputs": [
    {
     "name": "stdout",
     "output_type": "stream",
     "text": [
      "URL búsqueda en Lyrics:  https://www.lyrics.com/lyrics/PELELE%20MORAD\n",
      "cancion lyrics:  Y.N.M.S.\n",
      "autor lyrics:  \n",
      "url letra lyrics:  location.href='https://www.lyrics.com/lyric-lf/7637049/7aared/Y.N.M.S.';\n",
      "cancion bdd: PELELE\n",
      "autor bdd: MORAD\n",
      "-----------------\n",
      "cancion lyrics:  Pelele\n",
      "autor lyrics:  Morad\n",
      "url letra lyrics:  location.href='https://www.lyrics.com/lyric-lf/6852059/Morad/Pelele';\n",
      "cancion bdd: PELELE\n",
      "autor bdd: MORAD\n",
      "-----------------\n",
      "location.href='https://www.lyrics.com/lyric-lf/6852059/Morad/Pelele';\n",
      "cancion lyrics:  2x1\n",
      "autor lyrics:  Morad\n",
      "url letra lyrics:  location.href='https://www.lyrics.com/lyric-lf/2251955/Morad/2x1';\n",
      "cancion bdd: PELELE\n",
      "autor bdd: MORAD\n",
      "-----------------\n",
      "referencia url letra canción:  location.href='https://www.lyrics.com/lyric-lf/6852059/Morad/Pelele';\n",
      "url letra canción:  https://www.lyrics.com/lyric-lf/6852059/Morad/Pelele;\n",
      "documento actualizado correctamente\n"
     ]
    }
   ],
   "source": [
    "'''\n",
    "Obtiene letra de canciones\n",
    "'''\n",
    "import cancion_logica, letras_logica\n",
    "\n",
    "# obtener canciones pendientes si letras registradas\n",
    "canciones_pendientes = cancion_logica.obtenerCancionesPendientes()\n",
    "\n",
    "for cancion_pendiente in canciones_pendientes:\n",
    "   # obtiene el nombre de la canción y del cantante de la base de datos que no tiene letras\n",
    "   nombre_cancion = cancion_pendiente['cancion']\n",
    "   nombre_cantante = cancion_pendiente['cantante']\n",
    "   \n",
    "   # obtiene letra de canción desde Lyrics\n",
    "   letra_cancion = letras_logica.obtenerLetraConLyrics(nombre_cancion, nombre_cantante)\n",
    "   \n",
    "   # actualiza la letra en la colección de la canción\n",
    "   resultado_final = cancion_logica.actualizarCancionPendiente(cancion_pendiente, letra_cancion)\n",
    "   print(resultado_final)"
   ]
  }
 ],
 "metadata": {
  "kernelspec": {
   "display_name": "Python 3.8.10 ('entorno_prueba')",
   "language": "python",
   "name": "python3"
  },
  "language_info": {
   "codemirror_mode": {
    "name": "ipython",
    "version": 3
   },
   "file_extension": ".py",
   "mimetype": "text/x-python",
   "name": "python",
   "nbconvert_exporter": "python",
   "pygments_lexer": "ipython3",
   "version": "3.8.10"
  },
  "vscode": {
   "interpreter": {
    "hash": "df928c92915a6e295095bb07de7b84624befc7d196e01c26e318bdc14196d6a4"
   }
  }
 },
 "nbformat": 4,
 "nbformat_minor": 5
}
