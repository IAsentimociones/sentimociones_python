{
 "cells": [
  {
   "cell_type": "code",
   "execution_count": 1,
   "id": "8234753e",
   "metadata": {},
   "outputs": [
    {
     "name": "stdout",
     "output_type": "stream",
     "text": [
      "------------------\n",
      "cancion:  la%20fama\n",
      "cantante:  rosalia%20feat%20the%20weeknd\n",
      "URL búsqueda en Lyrics:  https://www.lyrics.com/lyrics/la%2520fama%20rosalia%2520feat%2520the%2520weeknd\n",
      "------------------\n",
      "No se pudo determinar la URL de la canción\n",
      "-----------------\n",
      "------------------\n",
      "cancion:  la+fama\n",
      "cantante:  rosalia+feat+the+weeknd\n",
      "URL búsqueda en Letras4u:  https://www.letras4u.com/buscar.php?letrade=la+fama+rosalia+feat+the+weeknd&Submit=Buscar\n",
      "------------------\n",
      "No se pudo determinar la URL de la canción\n",
      "-----------------\n",
      "------------------\n",
      "cancion:  la+fama\n",
      "cantante:  ROSALÍA\n",
      "URL búsqueda en yaletras.com:  https://www.yaletras.com/search?q=la+fama+ROSALÍA\n",
      "------------------\n",
      "cancion autor:  Letra Rosalía Ft. The Weeknd - La Fama\n",
      "link letra:  https://www.yaletras.com/2021/11/letra-rosalia-ft-weeknd-la-fama.html\n",
      "simple = la fama\n",
      "completa = letra rosalia ft the weeknd  la fama\n",
      "simple = rosalia\n",
      "completa = letra rosalia ft the weeknd  la fama\n",
      "cancion autor:  Letra Rosalía - Chicken Teriyaki\n",
      "link letra:  https://www.yaletras.com/2022/02/letra-rosalia-chicken-teriyaki.html\n",
      "simple = la fama\n",
      "completa = letra rosalia  chicken teriyaki\n",
      "autor y canción no coinciden\n",
      "-----------------\n",
      "url letra canción:  https://www.yaletras.com/2021/11/letra-rosalia-ft-weeknd-la-fama.html\n",
      "-----------------\n",
      "documento actualizado correctamente\n"
     ]
    }
   ],
   "source": [
    "'''\n",
    "Obtiene letra de canciones\n",
    "'''\n",
    "import cancion_logica, letras_logica\n",
    "\n",
    "# obtener canciones pendientes si letras registradas\n",
    "canciones_pendientes = cancion_logica.obtenerCancionesPendientes()\n",
    "\n",
    "for cancion_pendiente in canciones_pendientes:\n",
    "   # obtiene el nombre de la canción y del cantante de la base de datos que no tiene letras\n",
    "   nombre_cancion = cancion_pendiente['cancion']\n",
    "   nombre_cantante = cancion_pendiente['cantante']\n",
    "   \n",
    "   # obtiene letra de canción desde Lyrics\n",
    "   letra_cancion = letras_logica.obtenerLetraConLyrics(nombre_cancion, nombre_cantante)\n",
    "   if letra_cancion == '':\n",
    "      letra_cancion = letras_logica.obtenerLetraConLetras4u(nombre_cancion, nombre_cantante)\n",
    "      if letra_cancion == '':\n",
    "         letra_cancion = letras_logica.obtenerLetraConYaLetras(nombre_cancion, nombre_cantante)\n",
    "         if letra_cancion == '':\n",
    "            letra_cancion = letras_logica.obtenerLetraConCancioneros(nombre_cancion, nombre_cantante)\n",
    "   \n",
    "   # actualiza la letra en la colección de la canción\n",
    "   resultado_final = cancion_logica.actualizarCancionPendiente(cancion_pendiente, letra_cancion)\n",
    "   print(resultado_final)"
   ]
  }
 ],
 "metadata": {
  "kernelspec": {
   "display_name": "Python 3.8.10 ('entorno_prueba')",
   "language": "python",
   "name": "python3"
  },
  "language_info": {
   "codemirror_mode": {
    "name": "ipython",
    "version": 3
   },
   "file_extension": ".py",
   "mimetype": "text/x-python",
   "name": "python",
   "nbconvert_exporter": "python",
   "pygments_lexer": "ipython3",
   "version": "3.8.10"
  },
  "vscode": {
   "interpreter": {
    "hash": "df928c92915a6e295095bb07de7b84624befc7d196e01c26e318bdc14196d6a4"
   }
  }
 },
 "nbformat": 4,
 "nbformat_minor": 5
}
