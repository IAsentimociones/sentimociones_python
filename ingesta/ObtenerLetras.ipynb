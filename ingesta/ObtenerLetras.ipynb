{
 "cells": [
  {
   "cell_type": "code",
   "execution_count": 1,
   "id": "8234753e",
   "metadata": {},
   "outputs": [
    {
     "name": "stdout",
     "output_type": "stream",
     "text": [
      "------------------\n",
      "URL búsqueda en Lyrics:  https://www.lyrics.com/lyrics/TIAGO%2520PZK%253A%2520BZRP%2520MUSIC%2520SESSIONS%252C%2520VOL.%252048%20BIZARRAP%2520/%2520TIAGO%2520PZK\n",
      "------------------\n",
      "No se pudo determinar la URL de la canción\n",
      "-----------------\n",
      "La letra de canción es requerida\n",
      "------------------\n",
      "URL búsqueda en Lyrics:  https://www.lyrics.com/lyrics/Mon%2520Amour%2520%2528remix%2529%20zzoilo%252C%2520Aitana\n",
      "------------------\n",
      "cancion lyrics:  Mon Amour\n",
      "autor lyrics:  Reggaeton Urbano\n",
      "url letra lyrics:  location.href='https://www.lyrics.com/lyric-lf/8004302/Reggaeton+Urbano/Mon+Amour';\n",
      "cancion bdd: Mon Amour (remix)\n",
      "autor bdd: zzoilo, Aitana\n",
      "autor y canción no coinciden\n",
      "-----------------\n",
      "cancion lyrics:  Mon Amour [Remix]\n",
      "autor lyrics:  Aitana\n",
      "url letra lyrics:  location.href='https://www.lyrics.com/lyric-lf/6056275/Aitana/Mon+Amour+%5BRemix%5D';\n",
      "cancion bdd: Mon Amour (remix)\n",
      "autor bdd: zzoilo, Aitana\n",
      "location.href='https://www.lyrics.com/lyric-lf/6056275/Aitana/Mon+Amour+%5BRemix%5D';\n",
      "referencia url letra canción:  location.href='https://www.lyrics.com/lyric-lf/6056275/Aitana/Mon+Amour+%5BRemix%5D';\n",
      "url letra canción:  https://www.lyrics.com/lyric-lf/6056275/Aitana/Mon+Amour+%5BRemix%5D;\n",
      "-----------------\n",
      "documento actualizado correctamente\n"
     ]
    }
   ],
   "source": [
    "'''\n",
    "Obtiene letra de canciones\n",
    "'''\n",
    "import cancion_logica, letras_logica\n",
    "\n",
    "# obtener canciones pendientes si letras registradas\n",
    "canciones_pendientes = cancion_logica.obtenerCancionesPendientes()\n",
    "\n",
    "for cancion_pendiente in canciones_pendientes:\n",
    "   # obtiene el nombre de la canción y del cantante de la base de datos que no tiene letras\n",
    "   nombre_cancion = cancion_pendiente['cancion']\n",
    "   nombre_cantante = cancion_pendiente['cantante']\n",
    "   \n",
    "   # obtiene letra de canción desde Lyrics\n",
    "   letra_cancion = letras_logica.obtenerLetraConLyrics(nombre_cancion, nombre_cantante)\n",
    "\n",
    "   # si la letra de canción está vacío por no encontrar el lyrics utilizar otro buscador de letras como letras.com\n",
    "   \n",
    "   # actualiza la letra en la colección de la canción\n",
    "   resultado_final = cancion_logica.actualizarCancionPendiente(cancion_pendiente, letra_cancion)\n",
    "   print(resultado_final)"
   ]
  }
 ],
 "metadata": {
  "kernelspec": {
   "display_name": "Python 3.8.10 ('entorno_prueba')",
   "language": "python",
   "name": "python3"
  },
  "language_info": {
   "codemirror_mode": {
    "name": "ipython",
    "version": 3
   },
   "file_extension": ".py",
   "mimetype": "text/x-python",
   "name": "python",
   "nbconvert_exporter": "python",
   "pygments_lexer": "ipython3",
   "version": "3.8.10"
  },
  "vscode": {
   "interpreter": {
    "hash": "df928c92915a6e295095bb07de7b84624befc7d196e01c26e318bdc14196d6a4"
   }
  }
 },
 "nbformat": 4,
 "nbformat_minor": 5
}
