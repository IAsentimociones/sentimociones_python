{
 "cells": [
  {
   "cell_type": "code",
   "execution_count": 1,
   "id": "8234753e",
   "metadata": {},
   "outputs": [
    {
     "name": "stdout",
     "output_type": "stream",
     "text": [
      "------------------\n",
      "cancion:  tiago%20pzk%20bzrp%20music%20sessions%20vol%2048\n",
      "cantante:  bizarrap%20%20tiago%20pzk\n",
      "URL búsqueda en Lyrics:  https://www.lyrics.com/lyrics/tiago%2520pzk%2520bzrp%2520music%2520sessions%2520vol%252048%20bizarrap%2520%2520tiago%2520pzk\n",
      "------------------\n",
      "No se pudo determinar la URL de la canción\n",
      "-----------------\n",
      "------------------\n",
      "cancion:  tiago+pzk+bzrp+music+sessions+vol+48\n",
      "cantante:  bizarrap+tiago+pzk\n",
      "URL búsqueda en Letras4u:  https://www.letras4u.com/buscar.php?letrade=tiago+pzk+bzrp+music+sessions+vol+48+bizarrap+tiago+pzk&Submit=Buscar\n",
      "------------------\n",
      "cancion autor:  Bizarrap - Tiago Pzk: Bzrp Music Sessions Vol. 48\n",
      "link letra:  https://www.letras4u.com/bizarrap/tiago_pzk:_bzrp_music_sessions_vol_48.htm\n",
      "url letra canción:  https://www.letras4u.com/bizarrap/tiago_pzk:_bzrp_music_sessions_vol_48.htm\n",
      "-----------------\n",
      "documento actualizado correctamente\n"
     ]
    }
   ],
   "source": [
    "'''\n",
    "Obtiene letra de canciones\n",
    "'''\n",
    "import cancion_logica, letras_logica\n",
    "\n",
    "# obtener canciones pendientes si letras registradas\n",
    "canciones_pendientes = cancion_logica.obtenerCancionesPendientes()\n",
    "\n",
    "for cancion_pendiente in canciones_pendientes:\n",
    "   # obtiene el nombre de la canción y del cantante de la base de datos que no tiene letras\n",
    "   nombre_cancion = cancion_pendiente['cancion']\n",
    "   nombre_cantante = cancion_pendiente['cantante']\n",
    "   \n",
    "   # obtiene letra de canción desde Lyrics\n",
    "   letra_cancion = letras_logica.obtenerLetraConLyrics(nombre_cancion, nombre_cantante)\n",
    "   if letra_cancion == '':\n",
    "      letra_cancion = letras_logica.obtenerLetraConLetras4u(nombre_cancion, nombre_cantante)\n",
    "   \n",
    "   # actualiza la letra en la colección de la canción\n",
    "   resultado_final = cancion_logica.actualizarCancionPendiente(cancion_pendiente, letra_cancion)\n",
    "   print(resultado_final)"
   ]
  }
 ],
 "metadata": {
  "kernelspec": {
   "display_name": "Python 3.8.10 ('entorno_prueba')",
   "language": "python",
   "name": "python3"
  },
  "language_info": {
   "codemirror_mode": {
    "name": "ipython",
    "version": 3
   },
   "file_extension": ".py",
   "mimetype": "text/x-python",
   "name": "python",
   "nbconvert_exporter": "python",
   "pygments_lexer": "ipython3",
   "version": "3.8.10"
  },
  "vscode": {
   "interpreter": {
    "hash": "df928c92915a6e295095bb07de7b84624befc7d196e01c26e318bdc14196d6a4"
   }
  }
 },
 "nbformat": 4,
 "nbformat_minor": 5
}
