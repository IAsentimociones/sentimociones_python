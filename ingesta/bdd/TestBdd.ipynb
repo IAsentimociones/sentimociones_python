{
 "cells": [
  {
   "cell_type": "code",
   "execution_count": 1,
   "id": "8234753e",
   "metadata": {},
   "outputs": [
    {
     "name": "stdout",
     "output_type": "stream",
     "text": [
      "Identificador del documento insertado:  630137994b602ce99f00c0f9\n",
      "Identificadores de los documentos insertados:  [ObjectId('630137994b602ce99f00c0fb'), ObjectId('630137994b602ce99f00c0fc'), ObjectId('630137994b602ce99f00c0fd')]\n"
     ]
    }
   ],
   "source": [
    "# prueba métodos para base de datos en MongoDB\n",
    "import mongoDB_cliente\n",
    "\n",
    "coleccion = 'coleccion prueba'\n",
    "\n",
    "# prueba insertar un documento a una colección de MongoDB\n",
    "documento = {\"name\": \"documento prueba 1\", \"age\": \"1\", \"city\": \"Quito\"}\n",
    "identificador = mongoDB_cliente.insertarDocumento(coleccion, documento)\n",
    "print('Identificador del documento insertado: ', identificador)\n",
    "\n",
    "# prueba insertar varios documentos en una colección de MongoDB\n",
    "documentos = [\n",
    "   {\"name\": \"documento prueba 2\", \"age\": \"2\", \"city\": \"Hyderabad\"},\n",
    "   {\"name\": \"documento prueba 3\", \"age\": \"3\", \"city\": \"Bangalore\"},\n",
    "   {\"name\": \"documento prueba 4\", \"age\": \"4\", \"city\": \"Mumbai\"}]\n",
    "identificadores = mongoDB_cliente.insertarDocumentos(coleccion, documentos)\n",
    "print('Identificadores de los documentos insertados: ', identificadores)"
   ]
  }
 ],
 "metadata": {
  "kernelspec": {
   "display_name": "Python 3.8.10 ('entorno_prueba')",
   "language": "python",
   "name": "python3"
  },
  "language_info": {
   "codemirror_mode": {
    "name": "ipython",
    "version": 3
   },
   "file_extension": ".py",
   "mimetype": "text/x-python",
   "name": "python",
   "nbconvert_exporter": "python",
   "pygments_lexer": "ipython3",
   "version": "3.8.10"
  },
  "vscode": {
   "interpreter": {
    "hash": "df928c92915a6e295095bb07de7b84624befc7d196e01c26e318bdc14196d6a4"
   }
  }
 },
 "nbformat": 4,
 "nbformat_minor": 5
}
